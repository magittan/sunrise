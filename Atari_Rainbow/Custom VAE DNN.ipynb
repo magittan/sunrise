{
 "cells": [
  {
   "cell_type": "code",
   "execution_count": 3,
   "metadata": {},
   "outputs": [],
   "source": [
    "# -*- coding: utf-8 -*-\n",
    "from __future__ import division\n",
    "import argparse\n",
    "import bz2\n",
    "from datetime import datetime\n",
    "import os\n",
    "import pickle\n",
    "from logger import Logger\n",
    "\n",
    "import atari_py\n",
    "import numpy as np\n",
    "import torch\n",
    "from tqdm import trange\n",
    "\n",
    "from agent import Agent\n",
    "from env import Env\n",
    "from sunrise_memory import ReplayMemory\n",
    "from test import ensemble_test\n",
    "from tqdm import tqdm"
   ]
  },
  {
   "cell_type": "code",
   "execution_count": 4,
   "metadata": {},
   "outputs": [],
   "source": [
    "class DataObject:\n",
    "    def __init__(self):\n",
    "        self.seed = 123\n",
    "        self.game = 'boxing'\n",
    "        self.T_max = 100000\n",
    "        self.num_ensemble = 5\n",
    "        self.beta_mean = 0.5\n",
    "        self.memory_capacity = 500000\n",
    "        self.id = 'vae_sunrise'\n",
    "        self.temperature = 10\n",
    "        self.learn_start = 1600\n",
    "        self.target_update = 2000\n",
    "        self.replay_frequency = 1\n",
    "        self.multi_step = 20\n",
    "        self.discount = 0.99\n",
    "        self.architecture = 'data-efficient'\n",
    "        self.max_episode_length = int(108e3)\n",
    "        self.history_length = 4\n",
    "        self.atoms = 51\n",
    "        self.V_min = -10\n",
    "        self.V_max = 10\n",
    "        self.batch_size = 32\n",
    "        self.model = None\n",
    "        self.hidden_size = 256\n",
    "        self.noisy_std = 0.1\n",
    "        self.evaluation_size = 12000\n",
    "        self.learning_rate = 0.0001\n",
    "        self.adam_eps = 1.5e-4\n",
    "        self.priority_weight = 0.4\n",
    "        self.priority_exponent = 0.5\n",
    "        \n",
    "        if torch.cuda.is_available():\n",
    "            self.device = torch.device('cuda')\n",
    "            torch.cuda.manual_seed(np.random.randint(1, 10000))\n",
    "            torch.backends.cudnn.enabled = True\n",
    "            torch.set_default_tensor_type('torch.FloatTensor')"
   ]
  },
  {
   "cell_type": "code",
   "execution_count": 36,
   "metadata": {},
   "outputs": [
    {
     "name": "stderr",
     "output_type": "stream",
     "text": [
      "100%|██████████| 12000/12000 [00:23<00:00, 514.01it/s]\n"
     ]
    }
   ],
   "source": [
    "# Environment\n",
    "args = DataObject()\n",
    "env = Env(args)\n",
    "env.train()\n",
    "action_space = env.action_space()\n",
    "\n",
    "# Agent\n",
    "dqn_list = []\n",
    "for _ in range(args.num_ensemble):\n",
    "    dqn = Agent(args, env)\n",
    "    dqn_list.append(dqn)\n",
    "\n",
    "# If a model is provided, and evaluate is fale, presumably we want to resume, so try to load memory\n",
    "if args.model is not None and not args.evaluate:\n",
    "    if not args.memory:\n",
    "        raise ValueError('Cannot resume training without memory save path. Aborting...')\n",
    "    elif not os.path.exists(args.memory):\n",
    "        raise ValueError('Could not find memory file at {path}. Aborting...'.format(path=args.memory))\n",
    "    mem = load_memory(args.memory, args.disable_bzip_memory)\n",
    "\n",
    "else:\n",
    "    mem = ReplayMemory(args, args.memory_capacity, args.beta_mean, args.num_ensemble)\n",
    "\n",
    "priority_weight_increase = (1 - args.priority_weight) / (args.T_max - args.learn_start)\n",
    "\n",
    "# Construct validation memory\n",
    "val_mem = ReplayMemory(args, args.evaluation_size, args.beta_mean, args.num_ensemble)\n",
    "T, done = 0, True\n",
    "state_list = []\n",
    "for i in tqdm(range(args.evaluation_size)):\n",
    "    if done:\n",
    "        state, done = env.reset(), False\n",
    "    if i>5:\n",
    "        next_state, _, done = env.step(np.random.randint(0, action_space))\n",
    "        val_mem.append(state, 0, 0, done)\n",
    "        state = next_state\n",
    "        state_list.append(state)\n",
    "        T += 1"
   ]
  },
  {
   "cell_type": "code",
   "execution_count": null,
   "metadata": {},
   "outputs": [],
   "source": [
    "import torch\n",
    "from torch.autograd import Variable\n",
    "import numpy as np\n",
    "import torch.nn.functional as F\n",
    "import torchvision\n",
    "from torchvision import transforms\n",
    "import torch.optim as optim\n",
    "from torch import nn\n",
    "import matplotlib.pyplot as plt\n",
    "\n",
    "\n",
    "class Normal(object):\n",
    "    def __init__(self, mu, sigma, log_sigma, v=None, r=None):\n",
    "        self.mu = mu\n",
    "        self.sigma = sigma  # either stdev diagonal itself, or stdev diagonal from decomposition\n",
    "        self.logsigma = log_sigma\n",
    "        dim = mu.get_shape()\n",
    "        if v is None:\n",
    "            v = torch.FloatTensor(*dim)\n",
    "            if r is None:\n",
    "                r = torch.FloatTensor(*dim)\n",
    "                self.v = v\n",
    "                self.r = r\n",
    "                \n",
    "                \n",
    "class Encoder(torch.nn.Module):\n",
    "    def __init__(self, H, D_out):\n",
    "        super(Encoder, self).__init__()\n",
    "        self.conv1 = torch.nn.Conv2dv(6, 6, 2, stride=1)\n",
    "        self.linear1 = torch.nn.Linear(100, H)\n",
    "        self.linear2 = torch.nn.Linear(H, D_out)\n",
    "\n",
    "    def forward(self, x):\n",
    "        x = F.relu(self.conv1(x))\n",
    "        x = F.relu(self.linear1(x))\n",
    "        return F.relu(self.linear2(x))\n",
    "    \n",
    "    \n",
    "class Decoder(torch.nn.Module):\n",
    "    def __init__(self, D_in, H, D_out):\n",
    "        super(Decoder, self).__init__()\n",
    "        self.conv1 = torch.nn.Conv2dv(6, 6, 2, stride=1)\n",
    "        self.linear1 = torch.nn.Linear(D_in, H)\n",
    "        self.linear2 = torch.nn.Linear(H, 100)\n",
    "    \n",
    "    def forward(self, x):\n",
    "        x = F.relu(self.linear1(x))\n",
    "        x = F.relu(self.linear2(x))\n",
    "        x = \n",
    "        return \n",
    "    \n",
    "class VAE(torch.nn.Module):\n",
    "    def __init__(self, encoder, decoder):\n",
    "        super(VAE, self).__init__()\n",
    "        self.latent_dim = 64\n",
    "        self.encoder = encoder\n",
    "        self.decoder = decoder\n",
    "        self._enc_mu = torch.nn.Linear(1000, self.latent_dim)\n",
    "        self._enc_log_sigma = torch.nn.Linear(1000, self.latent_dim)\n",
    "    \n",
    "    def _sample_latent(self, h_enc):\n",
    "        \"\"\"\n",
    "        Return the latent normal sample z ~ N(mu, sigma^2)\n",
    "        \"\"\"\n",
    "        mu = self._enc_mu(h_enc)\n",
    "        log_sigma = self._enc_log_sigma(h_enc)\n",
    "        sigma = torch.exp(log_sigma)\n",
    "        std_z = torch.from_numpy(np.random.normal(0, 1, size=sigma.size())).float()\n",
    "        \n",
    "        self.z_mean = mu\n",
    "        self.z_sigma = sigma\n",
    "        return mu + sigma * Variable(std_z, requires_grad=False)  # Reparameterization trick\n",
    "    \n",
    "    def forward(self, state):\n",
    "        h_enc = self.encoder(state)\n",
    "        z = self._sample_latent(h_enc)\n",
    "        return self.decoder(z)\n",
    "    \n",
    "def latent_loss(z_mean, z_stddev):\n",
    "    mean_sq = z_mean * z_mean\n",
    "    stddev_sq = z_stddev * z_stddev\n",
    "    return 0.5 * torch.mean(mean_sq + stddev_sq - torch.log(stddev_sq) - 1)\n",
    "\n",
    "input_dim = 57 * 50\n",
    "batch_size = 32\n",
    "encoder = Encoder(input_dim, 1000, 1000)\n",
    "decoder = Decoder(64, 1000, input_dim)\n",
    "vae = VAE(encoder, decoder)\n",
    "criterion = nn.MSELoss()\n",
    "\n",
    "optimizer = optim.Adam(vae.parameters(), lr=0.001)\n",
    "l = None\n",
    "for epoch in tqdm(range(6000)):\n",
    "    idxs, states, actions, returns, next_states, nonterminals, weights, masks = val_mem.sample(32)\n",
    "    inputs =  Variable(states[:,:,14:-13,17:-17].reshape((32*4,57*50)).cpu())\n",
    "    optimizer.zero_grad()\n",
    "    dec = vae(inputs)\n",
    "    ll = latent_loss(vae.z_mean, vae.z_sigma)\n",
    "    loss = criterion(dec, inputs) + ll\n",
    "    loss.backward()\n",
    "    optimizer.step()\n",
    "    l = loss.item()\n",
    "    \n",
    "    print(epoch, l)\n",
    "    \n",
    "plt.imshow(vae(inputs).data[0].numpy().reshape(57, 50), cmap='gray')\n",
    "plt.show(block=True)"
   ]
  },
  {
   "cell_type": "code",
   "execution_count": 5,
   "metadata": {},
   "outputs": [],
   "source": [
    "args = DataObject()"
   ]
  },
  {
   "cell_type": "code",
   "execution_count": 6,
   "metadata": {},
   "outputs": [
    {
     "name": "stderr",
     "output_type": "stream",
     "text": [
      "100%|██████████| 12000/12000 [00:23<00:00, 514.21it/s]\n"
     ]
    }
   ],
   "source": [
    "# Environment\n",
    "env = Env(args)\n",
    "env.train()\n",
    "action_space = env.action_space()\n",
    "\n",
    "# Agent\n",
    "dqn_list = []\n",
    "for _ in range(args.num_ensemble):\n",
    "    dqn = Agent(args, env)\n",
    "    dqn_list.append(dqn)\n",
    "\n",
    "# If a model is provided, and evaluate is fale, presumably we want to resume, so try to load memory\n",
    "if args.model is not None and not args.evaluate:\n",
    "    if not args.memory:\n",
    "        raise ValueError('Cannot resume training without memory save path. Aborting...')\n",
    "    elif not os.path.exists(args.memory):\n",
    "        raise ValueError('Could not find memory file at {path}. Aborting...'.format(path=args.memory))\n",
    "    mem = load_memory(args.memory, args.disable_bzip_memory)\n",
    "\n",
    "else:\n",
    "    mem = ReplayMemory(args, args.memory_capacity, args.beta_mean, args.num_ensemble)\n",
    "\n",
    "priority_weight_increase = (1 - args.priority_weight) / (args.T_max - args.learn_start)\n",
    "\n",
    "# Construct validation memory\n",
    "val_mem = ReplayMemory(args, args.evaluation_size, args.beta_mean, args.num_ensemble)\n",
    "T, done = 0, True\n",
    "states = []\n",
    "for i in tqdm(range(args.evaluation_size)):\n",
    "    if done:\n",
    "        state, done = env.reset(), False\n",
    "    next_state, _, done = env.step(np.random.randint(0, action_space))\n",
    "    val_mem.append(state, 0, 0, done)\n",
    "    state = next_state\n",
    "    states.append(state)\n",
    "    T += 1"
   ]
  },
  {
   "cell_type": "code",
   "execution_count": 31,
   "metadata": {},
   "outputs": [
    {
     "name": "stderr",
     "output_type": "stream",
     "text": [
      "  0%|          | 4/3000 [00:00<02:57, 16.85it/s]"
     ]
    },
    {
     "name": "stdout",
     "output_type": "stream",
     "text": [
      "0 0.21294157207012177\n",
      "1 0.22276343405246735\n",
      "2 0.1987752616405487\n",
      "3 0.1886959671974182\n"
     ]
    },
    {
     "name": "stderr",
     "output_type": "stream",
     "text": [
      "  0%|          | 8/3000 [00:00<03:04, 16.18it/s]"
     ]
    },
    {
     "name": "stdout",
     "output_type": "stream",
     "text": [
      "4 0.17485110461711884\n",
      "5 0.1645558923482895\n",
      "6 0.15608647465705872\n",
      "7 0.14655043184757233\n"
     ]
    },
    {
     "name": "stderr",
     "output_type": "stream",
     "text": [
      "\r",
      "  0%|          | 10/3000 [00:00<03:28, 14.33it/s]"
     ]
    },
    {
     "name": "stdout",
     "output_type": "stream",
     "text": [
      "8 0.1375862956047058\n",
      "9 0.12837402522563934\n"
     ]
    },
    {
     "name": "stderr",
     "output_type": "stream",
     "text": [
      "\r",
      "  0%|          | 12/3000 [00:00<03:42, 13.43it/s]"
     ]
    },
    {
     "name": "stdout",
     "output_type": "stream",
     "text": [
      "10 0.11928742378950119\n",
      "11 0.11179405450820923\n",
      "12 0.1048021987080574\n"
     ]
    },
    {
     "name": "stderr",
     "output_type": "stream",
     "text": [
      "  1%|          | 16/3000 [00:01<03:42, 13.40it/s]"
     ]
    },
    {
     "name": "stdout",
     "output_type": "stream",
     "text": [
      "13 0.09865403175354004\n",
      "14 0.09194208681583405\n",
      "15 0.08612060546875\n",
      "16 0.0821482315659523\n"
     ]
    },
    {
     "name": "stderr",
     "output_type": "stream",
     "text": [
      "\r",
      "  1%|          | 18/3000 [00:01<03:34, 13.90it/s]"
     ]
    },
    {
     "name": "stdout",
     "output_type": "stream",
     "text": [
      "17 0.07730784267187119\n",
      "18 0.07394558191299438\n"
     ]
    },
    {
     "name": "stderr",
     "output_type": "stream",
     "text": [
      "  1%|          | 22/3000 [00:01<04:19, 11.46it/s]"
     ]
    },
    {
     "name": "stdout",
     "output_type": "stream",
     "text": [
      "19 0.06980126351118088\n",
      "20 0.0683274120092392\n",
      "21 0.06464604288339615\n"
     ]
    },
    {
     "name": "stderr",
     "output_type": "stream",
     "text": [
      "  1%|          | 26/3000 [00:01<03:47, 13.08it/s]"
     ]
    },
    {
     "name": "stdout",
     "output_type": "stream",
     "text": [
      "22 0.06289076060056686\n",
      "23 0.06073656305670738\n",
      "24 0.0662052258849144\n",
      "25 0.055605869740247726\n"
     ]
    },
    {
     "name": "stderr",
     "output_type": "stream",
     "text": [
      "  1%|          | 30/3000 [00:02<03:30, 14.13it/s]"
     ]
    },
    {
     "name": "stdout",
     "output_type": "stream",
     "text": [
      "26 0.05630122870206833\n",
      "27 0.05409405380487442\n",
      "28 0.052276961505413055\n",
      "29 0.04840480163693428\n"
     ]
    },
    {
     "name": "stderr",
     "output_type": "stream",
     "text": [
      "\r",
      "  1%|          | 32/3000 [00:02<03:15, 15.15it/s]"
     ]
    },
    {
     "name": "stdout",
     "output_type": "stream",
     "text": [
      "30 0.04891243949532509\n",
      "31 0.0466265007853508\n",
      "32 0.04693210497498512\n"
     ]
    },
    {
     "name": "stderr",
     "output_type": "stream",
     "text": [
      "  1%|          | 36/3000 [00:02<04:09, 11.88it/s]"
     ]
    },
    {
     "name": "stdout",
     "output_type": "stream",
     "text": [
      "33 0.04550096392631531\n",
      "34 0.04355340451002121\n",
      "35 0.04306257516145706\n"
     ]
    },
    {
     "name": "stderr",
     "output_type": "stream",
     "text": [
      "\r",
      "  1%|▏         | 38/3000 [00:02<04:17, 11.52it/s]"
     ]
    },
    {
     "name": "stdout",
     "output_type": "stream",
     "text": [
      "36 0.0427597314119339\n",
      "37 0.04174903407692909\n",
      "38 0.04235590249300003\n"
     ]
    },
    {
     "name": "stderr",
     "output_type": "stream",
     "text": [
      "  1%|▏         | 42/3000 [00:03<04:16, 11.52it/s]"
     ]
    },
    {
     "name": "stdout",
     "output_type": "stream",
     "text": [
      "39 0.04114971682429314\n",
      "40 0.039765242487192154\n",
      "41 0.03993115946650505\n"
     ]
    },
    {
     "name": "stderr",
     "output_type": "stream",
     "text": [
      "  2%|▏         | 46/3000 [00:03<03:51, 12.78it/s]"
     ]
    },
    {
     "name": "stdout",
     "output_type": "stream",
     "text": [
      "42 0.039099372923374176\n",
      "43 0.0383121594786644\n",
      "44 0.03803037852048874\n",
      "45 0.03804563358426094\n"
     ]
    },
    {
     "name": "stderr",
     "output_type": "stream",
     "text": [
      "\r",
      "  2%|▏         | 48/3000 [00:03<03:37, 13.58it/s]"
     ]
    },
    {
     "name": "stdout",
     "output_type": "stream",
     "text": [
      "46 0.03586915135383606\n",
      "47 0.034893181174993515\n",
      "48 0.040971044450998306\n"
     ]
    },
    {
     "name": "stderr",
     "output_type": "stream",
     "text": [
      "  2%|▏         | 53/3000 [00:04<03:39, 13.41it/s]"
     ]
    },
    {
     "name": "stdout",
     "output_type": "stream",
     "text": [
      "49 0.033652156591415405\n",
      "50 0.03469574451446533\n",
      "51 0.03338437154889107\n",
      "52 0.03285239636898041\n"
     ]
    },
    {
     "name": "stderr",
     "output_type": "stream",
     "text": [
      "\r",
      "  2%|▏         | 55/3000 [00:04<03:45, 13.07it/s]"
     ]
    },
    {
     "name": "stdout",
     "output_type": "stream",
     "text": [
      "53 0.03253602236509323\n",
      "54 0.032416313886642456\n",
      "55 0.031355634331703186\n"
     ]
    },
    {
     "name": "stderr",
     "output_type": "stream",
     "text": [
      "  2%|▏         | 59/3000 [00:04<03:15, 15.01it/s]"
     ]
    },
    {
     "name": "stdout",
     "output_type": "stream",
     "text": [
      "56 0.030618226155638695\n",
      "57 0.030363302677869797\n",
      "58 0.02921478822827339\n",
      "59 0.030220555141568184\n"
     ]
    },
    {
     "name": "stderr",
     "output_type": "stream",
     "text": [
      "\r",
      "  2%|▏         | 61/3000 [00:04<03:02, 16.06it/s]"
     ]
    },
    {
     "name": "stdout",
     "output_type": "stream",
     "text": [
      "60 0.029636675491929054\n",
      "61 0.029242850840091705\n"
     ]
    },
    {
     "name": "stderr",
     "output_type": "stream",
     "text": [
      "  2%|▏         | 65/3000 [00:04<03:21, 14.55it/s]"
     ]
    },
    {
     "name": "stdout",
     "output_type": "stream",
     "text": [
      "62 0.029836608096957207\n",
      "63 0.028467904776334763\n",
      "64 0.02736537903547287\n",
      "65 0.02797410450875759\n"
     ]
    },
    {
     "name": "stderr",
     "output_type": "stream",
     "text": [
      "\r",
      "  2%|▏         | 67/3000 [00:05<03:27, 14.16it/s]"
     ]
    },
    {
     "name": "stdout",
     "output_type": "stream",
     "text": [
      "66 0.027904745191335678\n",
      "67 0.02639526128768921\n"
     ]
    },
    {
     "name": "stderr",
     "output_type": "stream",
     "text": [
      "  2%|▏         | 71/3000 [00:05<04:07, 11.83it/s]"
     ]
    },
    {
     "name": "stdout",
     "output_type": "stream",
     "text": [
      "68 0.026786383241415024\n",
      "69 0.025950882583856583\n",
      "70 0.026638615876436234\n"
     ]
    },
    {
     "name": "stderr",
     "output_type": "stream",
     "text": [
      "\r",
      "  2%|▏         | 74/3000 [00:05<03:39, 13.35it/s]"
     ]
    },
    {
     "name": "stdout",
     "output_type": "stream",
     "text": [
      "71 0.02909735217690468\n",
      "72 0.025234300643205643\n",
      "73 0.02644447423517704\n",
      "74 0.029994003474712372\n"
     ]
    },
    {
     "name": "stderr",
     "output_type": "stream",
     "text": [
      "\r",
      "  3%|▎         | 76/3000 [00:05<03:39, 13.29it/s]"
     ]
    },
    {
     "name": "stdout",
     "output_type": "stream",
     "text": [
      "75 0.0245424285531044\n",
      "76 0.024364683777093887\n"
     ]
    },
    {
     "name": "stderr",
     "output_type": "stream",
     "text": [
      "  3%|▎         | 80/3000 [00:06<04:18, 11.31it/s]"
     ]
    },
    {
     "name": "stdout",
     "output_type": "stream",
     "text": [
      "77 0.024419760331511497\n",
      "78 0.02456071227788925\n",
      "79 0.02392737753689289\n"
     ]
    },
    {
     "name": "stderr",
     "output_type": "stream",
     "text": [
      "\r",
      "  3%|▎         | 82/3000 [00:06<04:27, 10.90it/s]"
     ]
    },
    {
     "name": "stdout",
     "output_type": "stream",
     "text": [
      "80 0.02379610575735569\n",
      "81 0.023573236539959908\n",
      "82 0.023499518632888794\n"
     ]
    },
    {
     "name": "stderr",
     "output_type": "stream",
     "text": [
      "  3%|▎         | 87/3000 [00:06<03:40, 13.19it/s]"
     ]
    },
    {
     "name": "stdout",
     "output_type": "stream",
     "text": [
      "83 0.022715026512742043\n",
      "84 0.02849261462688446\n",
      "85 0.022878453135490417\n",
      "86 0.022833364084362984\n"
     ]
    },
    {
     "name": "stderr",
     "output_type": "stream",
     "text": [
      "\r",
      "  3%|▎         | 89/3000 [00:06<03:39, 13.23it/s]"
     ]
    },
    {
     "name": "stdout",
     "output_type": "stream",
     "text": [
      "87 0.022677291184663773\n",
      "88 0.0225615743547678\n",
      "89 0.022772684693336487\n"
     ]
    },
    {
     "name": "stderr",
     "output_type": "stream",
     "text": [
      "\r",
      "  3%|▎         | 91/3000 [00:06<03:39, 13.25it/s]"
     ]
    },
    {
     "name": "stdout",
     "output_type": "stream",
     "text": [
      "90 0.022348439320921898\n",
      "91 0.020950231701135635\n"
     ]
    },
    {
     "name": "stderr",
     "output_type": "stream",
     "text": [
      "  3%|▎         | 95/3000 [00:07<04:13, 11.47it/s]"
     ]
    },
    {
     "name": "stdout",
     "output_type": "stream",
     "text": [
      "92 0.02164456620812416\n",
      "93 0.02113484777510166\n",
      "94 0.022086255252361298\n"
     ]
    },
    {
     "name": "stderr",
     "output_type": "stream",
     "text": [
      "\r",
      "  3%|▎         | 97/3000 [00:07<04:25, 10.94it/s]"
     ]
    },
    {
     "name": "stdout",
     "output_type": "stream",
     "text": [
      "95 0.02158346027135849\n",
      "96 0.02090202458202839\n",
      "97 0.020992621779441833\n"
     ]
    },
    {
     "name": "stderr",
     "output_type": "stream",
     "text": [
      "  3%|▎         | 101/3000 [00:07<03:41, 13.08it/s]"
     ]
    },
    {
     "name": "stdout",
     "output_type": "stream",
     "text": [
      "98 0.02125605382025242\n",
      "99 0.020907392725348473\n",
      "100 0.01967727765440941\n",
      "101 0.02031971514225006\n"
     ]
    },
    {
     "name": "stderr",
     "output_type": "stream",
     "text": [
      "  4%|▎         | 105/3000 [00:08<03:29, 13.81it/s]"
     ]
    },
    {
     "name": "stdout",
     "output_type": "stream",
     "text": [
      "102 0.019862757995724678\n",
      "103 0.019951168447732925\n",
      "104 0.020164143294095993\n"
     ]
    },
    {
     "name": "stderr",
     "output_type": "stream",
     "text": [
      "\r",
      "  4%|▎         | 107/3000 [00:08<03:38, 13.24it/s]"
     ]
    },
    {
     "name": "stdout",
     "output_type": "stream",
     "text": [
      "105 0.019283216446638107\n",
      "106 0.024193352088332176\n",
      "107 0.019744494929909706\n"
     ]
    },
    {
     "name": "stderr",
     "output_type": "stream",
     "text": [
      "  4%|▎         | 111/3000 [00:08<04:18, 11.19it/s]"
     ]
    },
    {
     "name": "stdout",
     "output_type": "stream",
     "text": [
      "108 0.019179826602339745\n",
      "109 0.019172361120581627\n",
      "110 0.019496791064739227\n"
     ]
    },
    {
     "name": "stderr",
     "output_type": "stream",
     "text": [
      "  4%|▍         | 115/3000 [00:09<04:03, 11.86it/s]"
     ]
    },
    {
     "name": "stdout",
     "output_type": "stream",
     "text": [
      "111 0.01922077126801014\n",
      "112 0.01930306851863861\n",
      "113 0.018772518262267113\n",
      "114 0.01900298334658146\n"
     ]
    },
    {
     "name": "stderr",
     "output_type": "stream",
     "text": [
      "\r",
      "  4%|▍         | 117/3000 [00:09<04:11, 11.45it/s]"
     ]
    },
    {
     "name": "stdout",
     "output_type": "stream",
     "text": [
      "115 0.018453607335686684\n",
      "116 0.01841500587761402\n",
      "117 0.01849468983709812\n"
     ]
    },
    {
     "name": "stderr",
     "output_type": "stream",
     "text": [
      "  4%|▍         | 121/3000 [00:09<03:50, 12.50it/s]"
     ]
    },
    {
     "name": "stdout",
     "output_type": "stream",
     "text": [
      "118 0.018058381974697113\n",
      "119 0.017871176823973656\n",
      "120 0.01791473478078842\n",
      "121 0.018448038026690483\n"
     ]
    },
    {
     "name": "stderr",
     "output_type": "stream",
     "text": [
      "  4%|▍         | 125/3000 [00:09<03:13, 14.85it/s]"
     ]
    },
    {
     "name": "stdout",
     "output_type": "stream",
     "text": [
      "122 0.018367337062954903\n",
      "123 0.017868326976895332\n",
      "124 0.018513988703489304\n"
     ]
    },
    {
     "name": "stderr",
     "output_type": "stream",
     "text": [
      "  4%|▍         | 129/3000 [00:10<03:17, 14.55it/s]"
     ]
    },
    {
     "name": "stdout",
     "output_type": "stream",
     "text": [
      "125 0.01816023327410221\n",
      "126 0.01715587079524994\n",
      "127 0.017696823924779892\n",
      "128 0.01789676584303379\n"
     ]
    },
    {
     "name": "stderr",
     "output_type": "stream",
     "text": [
      "\r",
      "  4%|▍         | 131/3000 [00:10<03:43, 12.84it/s]"
     ]
    },
    {
     "name": "stdout",
     "output_type": "stream",
     "text": [
      "129 0.017502939328551292\n",
      "130 0.01811261475086212\n"
     ]
    },
    {
     "name": "stderr",
     "output_type": "stream",
     "text": [
      "\r",
      "  4%|▍         | 133/3000 [00:10<04:06, 11.62it/s]"
     ]
    },
    {
     "name": "stdout",
     "output_type": "stream",
     "text": [
      "131 0.017488034442067146\n",
      "132 0.017621995881199837\n"
     ]
    },
    {
     "name": "stderr",
     "output_type": "stream",
     "text": [
      "\r",
      "  4%|▍         | 135/3000 [00:10<04:23, 10.88it/s]"
     ]
    },
    {
     "name": "stdout",
     "output_type": "stream",
     "text": [
      "133 0.01703423075377941\n",
      "134 0.017163656651973724\n",
      "135 0.017093073576688766\n"
     ]
    },
    {
     "name": "stderr",
     "output_type": "stream",
     "text": [
      "  5%|▍         | 139/3000 [00:10<03:51, 12.35it/s]"
     ]
    },
    {
     "name": "stdout",
     "output_type": "stream",
     "text": [
      "136 0.01667686551809311\n",
      "137 0.017111876979470253\n",
      "138 0.016786573454737663\n"
     ]
    },
    {
     "name": "stderr",
     "output_type": "stream",
     "text": [
      "\r",
      "  5%|▍         | 141/3000 [00:11<04:06, 11.62it/s]"
     ]
    },
    {
     "name": "stdout",
     "output_type": "stream",
     "text": [
      "139 0.01643487438559532\n",
      "140 0.01694556511938572\n",
      "141 0.01807013340294361\n"
     ]
    },
    {
     "name": "stderr",
     "output_type": "stream",
     "text": [
      "  5%|▍         | 145/3000 [00:11<04:08, 11.47it/s]"
     ]
    },
    {
     "name": "stdout",
     "output_type": "stream",
     "text": [
      "142 0.01658708229660988\n",
      "143 0.016687896102666855\n",
      "144 0.01606878824532032\n"
     ]
    },
    {
     "name": "stderr",
     "output_type": "stream",
     "text": [
      "\r",
      "  5%|▍         | 147/3000 [00:11<03:59, 11.90it/s]"
     ]
    },
    {
     "name": "stdout",
     "output_type": "stream",
     "text": [
      "145 0.01637350767850876\n",
      "146 0.01638721488416195\n",
      "147 0.016354408115148544\n"
     ]
    },
    {
     "name": "stderr",
     "output_type": "stream",
     "text": [
      "  5%|▌         | 151/3000 [00:11<04:01, 11.79it/s]"
     ]
    },
    {
     "name": "stdout",
     "output_type": "stream",
     "text": [
      "148 0.015358086675405502\n",
      "149 0.015741407871246338\n",
      "150 0.021517163142561913\n"
     ]
    },
    {
     "name": "stderr",
     "output_type": "stream",
     "text": [
      "\r",
      "  5%|▌         | 153/3000 [00:12<04:10, 11.37it/s]"
     ]
    },
    {
     "name": "stdout",
     "output_type": "stream",
     "text": [
      "151 0.020761029794812202\n",
      "152 0.01593412086367607\n"
     ]
    },
    {
     "name": "stderr",
     "output_type": "stream",
     "text": [
      "\r",
      "  5%|▌         | 155/3000 [00:12<04:08, 11.46it/s]"
     ]
    },
    {
     "name": "stdout",
     "output_type": "stream",
     "text": [
      "153 0.01601436734199524\n",
      "154 0.015764394775032997\n",
      "155 0.015247775241732597\n"
     ]
    },
    {
     "name": "stderr",
     "output_type": "stream",
     "text": [
      "  5%|▌         | 159/3000 [00:12<04:13, 11.21it/s]"
     ]
    },
    {
     "name": "stdout",
     "output_type": "stream",
     "text": [
      "156 0.015839310362935066\n",
      "157 0.016230816021561623\n",
      "158 0.014871330931782722\n"
     ]
    },
    {
     "name": "stderr",
     "output_type": "stream",
     "text": [
      "\r",
      "  5%|▌         | 161/3000 [00:12<04:22, 10.83it/s]"
     ]
    },
    {
     "name": "stdout",
     "output_type": "stream",
     "text": [
      "159 0.01579425297677517\n",
      "160 0.015235519036650658\n"
     ]
    },
    {
     "name": "stderr",
     "output_type": "stream",
     "text": [
      "\r",
      "  5%|▌         | 163/3000 [00:13<04:28, 10.55it/s]"
     ]
    },
    {
     "name": "stdout",
     "output_type": "stream",
     "text": [
      "161 0.015519953332841396\n",
      "162 0.015179917216300964\n",
      "163 0.014871236868202686\n"
     ]
    },
    {
     "name": "stderr",
     "output_type": "stream",
     "text": [
      "\r",
      "  6%|▌         | 165/3000 [00:13<04:38, 10.18it/s]"
     ]
    },
    {
     "name": "stdout",
     "output_type": "stream",
     "text": [
      "164 0.014752175658941269\n",
      "165 0.01553948875516653\n"
     ]
    },
    {
     "name": "stderr",
     "output_type": "stream",
     "text": [
      "  6%|▌         | 169/3000 [00:13<04:33, 10.33it/s]"
     ]
    },
    {
     "name": "stdout",
     "output_type": "stream",
     "text": [
      "166 0.014359447173774242\n",
      "167 0.015335716307163239\n",
      "168 0.015154168009757996\n"
     ]
    },
    {
     "name": "stderr",
     "output_type": "stream",
     "text": [
      "\r",
      "  6%|▌         | 171/3000 [00:13<03:58, 11.86it/s]"
     ]
    },
    {
     "name": "stdout",
     "output_type": "stream",
     "text": [
      "169 0.014685606583952904\n",
      "170 0.015012353658676147\n",
      "171 0.016378214582800865\n"
     ]
    },
    {
     "name": "stderr",
     "output_type": "stream",
     "text": [
      "\r",
      "  6%|▌         | 173/3000 [00:14<04:12, 11.21it/s]"
     ]
    },
    {
     "name": "stdout",
     "output_type": "stream",
     "text": [
      "172 0.014645416289567947\n",
      "173 0.014859220013022423\n"
     ]
    },
    {
     "name": "stderr",
     "output_type": "stream",
     "text": [
      "  6%|▌         | 177/3000 [00:14<04:15, 11.07it/s]"
     ]
    },
    {
     "name": "stdout",
     "output_type": "stream",
     "text": [
      "174 0.015418884344398975\n",
      "175 0.014911857433617115\n",
      "176 0.015290437266230583\n",
      "177 0.014709865674376488\n"
     ]
    },
    {
     "name": "stderr",
     "output_type": "stream",
     "text": [
      "  6%|▌         | 181/3000 [00:14<03:30, 13.40it/s]"
     ]
    },
    {
     "name": "stdout",
     "output_type": "stream",
     "text": [
      "178 0.014415892772376537\n",
      "179 0.014604081399738789\n",
      "180 0.014404699206352234\n",
      "181 0.014064720831811428\n"
     ]
    },
    {
     "name": "stderr",
     "output_type": "stream",
     "text": [
      "  6%|▌         | 185/3000 [00:14<03:20, 14.05it/s]"
     ]
    },
    {
     "name": "stdout",
     "output_type": "stream",
     "text": [
      "182 0.014650978147983551\n",
      "183 0.01503388024866581\n",
      "184 0.014203673228621483\n"
     ]
    },
    {
     "name": "stderr",
     "output_type": "stream",
     "text": [
      "\r",
      "  6%|▌         | 187/3000 [00:15<03:28, 13.50it/s]"
     ]
    },
    {
     "name": "stdout",
     "output_type": "stream",
     "text": [
      "185 0.01499954704195261\n",
      "186 0.01450778916478157\n",
      "187 0.01385579165071249\n"
     ]
    },
    {
     "name": "stderr",
     "output_type": "stream",
     "text": [
      "  6%|▋         | 191/3000 [00:15<03:17, 14.21it/s]"
     ]
    },
    {
     "name": "stdout",
     "output_type": "stream",
     "text": [
      "188 0.014959794469177723\n",
      "189 0.014009141363203526\n",
      "190 0.013418636284768581\n",
      "191 0.014101848006248474\n"
     ]
    },
    {
     "name": "stderr",
     "output_type": "stream",
     "text": [
      "  6%|▋         | 195/3000 [00:15<03:23, 13.75it/s]"
     ]
    },
    {
     "name": "stdout",
     "output_type": "stream",
     "text": [
      "192 0.013645816594362259\n",
      "193 0.013778523541986942\n",
      "194 0.01458880677819252\n"
     ]
    },
    {
     "name": "stderr",
     "output_type": "stream",
     "text": [
      "\r",
      "  7%|▋         | 197/3000 [00:15<03:35, 13.03it/s]"
     ]
    },
    {
     "name": "stdout",
     "output_type": "stream",
     "text": [
      "195 0.014369730837643147\n",
      "196 0.013812471181154251\n"
     ]
    },
    {
     "name": "stderr",
     "output_type": "stream",
     "text": [
      "\r",
      "  7%|▋         | 199/3000 [00:16<04:05, 11.39it/s]"
     ]
    },
    {
     "name": "stdout",
     "output_type": "stream",
     "text": [
      "197 0.014163781888782978\n",
      "198 0.013263015076518059\n",
      "199 0.014019012451171875\n"
     ]
    },
    {
     "name": "stderr",
     "output_type": "stream",
     "text": [
      "  7%|▋         | 203/3000 [00:16<03:48, 12.24it/s]"
     ]
    },
    {
     "name": "stdout",
     "output_type": "stream",
     "text": [
      "200 0.01370006613433361\n",
      "201 0.013705743476748466\n",
      "202 0.013242480345070362\n"
     ]
    },
    {
     "name": "stderr",
     "output_type": "stream",
     "text": [
      "  7%|▋         | 207/3000 [00:16<03:23, 13.71it/s]"
     ]
    },
    {
     "name": "stdout",
     "output_type": "stream",
     "text": [
      "203 0.012935944832861423\n",
      "204 0.014207165688276291\n",
      "205 0.013172972947359085\n",
      "206 0.013280401937663555\n"
     ]
    },
    {
     "name": "stderr",
     "output_type": "stream",
     "text": [
      "\r",
      "  7%|▋         | 209/3000 [00:16<03:09, 14.74it/s]"
     ]
    },
    {
     "name": "stdout",
     "output_type": "stream",
     "text": [
      "207 0.013152793981134892\n",
      "208 0.013923303224146366\n",
      "209 0.01647849753499031\n"
     ]
    },
    {
     "name": "stderr",
     "output_type": "stream",
     "text": [
      "  7%|▋         | 213/3000 [00:17<03:39, 12.69it/s]"
     ]
    },
    {
     "name": "stdout",
     "output_type": "stream",
     "text": [
      "210 0.013269636780023575\n",
      "211 0.01333458349108696\n",
      "212 0.013178722932934761\n"
     ]
    },
    {
     "name": "stderr",
     "output_type": "stream",
     "text": [
      "\r",
      "  7%|▋         | 215/3000 [00:17<03:31, 13.16it/s]"
     ]
    },
    {
     "name": "stdout",
     "output_type": "stream",
     "text": [
      "213 0.013612436130642891\n",
      "214 0.012819022871553898\n",
      "215 0.012687567621469498\n",
      "216 0.013521584682166576\n"
     ]
    },
    {
     "name": "stderr",
     "output_type": "stream",
     "text": [
      "  7%|▋         | 221/3000 [00:17<02:50, 16.32it/s]"
     ]
    },
    {
     "name": "stdout",
     "output_type": "stream",
     "text": [
      "217 0.013228625059127808\n",
      "218 0.01325113046914339\n",
      "219 0.012720951810479164\n",
      "220 0.013088525272905827\n",
      "221 0.013040485791862011\n"
     ]
    },
    {
     "name": "stderr",
     "output_type": "stream",
     "text": [
      "  8%|▊         | 227/3000 [00:17<02:31, 18.27it/s]"
     ]
    },
    {
     "name": "stdout",
     "output_type": "stream",
     "text": [
      "222 0.012847226113080978\n",
      "223 0.012940225191414356\n",
      "224 0.01294753048568964\n",
      "225 0.012714666314423084\n",
      "226 0.012702844105660915\n"
     ]
    },
    {
     "name": "stderr",
     "output_type": "stream",
     "text": [
      "\r",
      "  8%|▊         | 229/3000 [00:17<02:50, 16.28it/s]"
     ]
    },
    {
     "name": "stdout",
     "output_type": "stream",
     "text": [
      "227 0.012504218146204948\n",
      "228 0.012667408213019371\n"
     ]
    },
    {
     "name": "stderr",
     "output_type": "stream",
     "text": [
      "\r",
      "  8%|▊         | 231/3000 [00:18<03:19, 13.90it/s]"
     ]
    },
    {
     "name": "stdout",
     "output_type": "stream",
     "text": [
      "229 0.012663098983466625\n",
      "230 0.012664621695876122\n",
      "231 0.0125832948833704\n",
      "232 0.012993344105780125\n"
     ]
    },
    {
     "name": "stderr",
     "output_type": "stream",
     "text": [
      "  8%|▊         | 236/3000 [00:18<03:31, 13.08it/s]"
     ]
    },
    {
     "name": "stdout",
     "output_type": "stream",
     "text": [
      "233 0.0130159305408597\n",
      "234 0.01305222138762474\n",
      "235 0.013057762756943703\n"
     ]
    },
    {
     "name": "stderr",
     "output_type": "stream",
     "text": [
      "  8%|▊         | 240/3000 [00:18<03:04, 14.98it/s]"
     ]
    },
    {
     "name": "stdout",
     "output_type": "stream",
     "text": [
      "236 0.01246966514736414\n",
      "237 0.012354324571788311\n",
      "238 0.012362935580313206\n",
      "239 0.01282848697155714\n"
     ]
    },
    {
     "name": "stderr",
     "output_type": "stream",
     "text": [
      "  8%|▊         | 245/3000 [00:18<02:36, 17.61it/s]"
     ]
    },
    {
     "name": "stdout",
     "output_type": "stream",
     "text": [
      "240 0.013241785578429699\n",
      "241 0.012437790632247925\n",
      "242 0.012320413254201412\n",
      "243 0.012741263024508953\n",
      "244 0.012243339791893959\n"
     ]
    },
    {
     "name": "stderr",
     "output_type": "stream",
     "text": [
      "\r",
      "  8%|▊         | 248/3000 [00:19<02:29, 18.37it/s]"
     ]
    },
    {
     "name": "stdout",
     "output_type": "stream",
     "text": [
      "245 0.012566563673317432\n",
      "246 0.012491236440837383\n",
      "247 0.012424124404788017\n",
      "248 0.016460224986076355\n",
      "249 0.012093077413737774\n"
     ]
    },
    {
     "name": "stderr",
     "output_type": "stream",
     "text": [
      "  8%|▊         | 254/3000 [00:19<02:22, 19.30it/s]"
     ]
    },
    {
     "name": "stdout",
     "output_type": "stream",
     "text": [
      "250 0.014743768610060215\n",
      "251 0.01214426290243864\n",
      "252 0.012829327955842018\n",
      "253 0.012621898204088211\n",
      "254 0.012414146214723587\n"
     ]
    },
    {
     "name": "stderr",
     "output_type": "stream",
     "text": [
      "  9%|▊         | 260/3000 [00:19<02:17, 19.97it/s]"
     ]
    },
    {
     "name": "stdout",
     "output_type": "stream",
     "text": [
      "255 0.01262203324586153\n",
      "256 0.011830274015665054\n",
      "257 0.011935948394238949\n",
      "258 0.01213902048766613\n",
      "259 0.011410032398998737\n"
     ]
    },
    {
     "name": "stderr",
     "output_type": "stream",
     "text": [
      "\r",
      "  9%|▉         | 263/3000 [00:19<02:15, 20.27it/s]"
     ]
    },
    {
     "name": "stdout",
     "output_type": "stream",
     "text": [
      "260 0.012549967505037785\n",
      "261 0.016838625073432922\n",
      "262 0.012374655343592167\n",
      "263 0.011963178403675556\n",
      "264 0.012213831767439842\n"
     ]
    },
    {
     "name": "stderr",
     "output_type": "stream",
     "text": [
      "  9%|▉         | 269/3000 [00:20<02:14, 20.26it/s]"
     ]
    },
    {
     "name": "stdout",
     "output_type": "stream",
     "text": [
      "265 0.011584671214222908\n",
      "266 0.011697730049490929\n",
      "267 0.01214510202407837\n",
      "268 0.012128155678510666\n",
      "269 0.011966884136199951\n"
     ]
    },
    {
     "name": "stderr",
     "output_type": "stream",
     "text": [
      "  9%|▉         | 275/3000 [00:20<02:12, 20.51it/s]"
     ]
    },
    {
     "name": "stdout",
     "output_type": "stream",
     "text": [
      "270 0.011716402135789394\n",
      "271 0.011967554688453674\n",
      "272 0.012319423258304596\n",
      "273 0.013876124285161495\n",
      "274 0.012044298462569714\n"
     ]
    },
    {
     "name": "stderr",
     "output_type": "stream",
     "text": [
      "\r",
      "  9%|▉         | 278/3000 [00:20<02:11, 20.62it/s]"
     ]
    },
    {
     "name": "stdout",
     "output_type": "stream",
     "text": [
      "275 0.011737160384654999\n",
      "276 0.011541316285729408\n",
      "277 0.011678582988679409\n",
      "278 0.011754065752029419\n",
      "279 "
     ]
    },
    {
     "name": "stderr",
     "output_type": "stream",
     "text": [
      "  9%|▉         | 284/3000 [00:20<02:12, 20.44it/s]"
     ]
    },
    {
     "name": "stdout",
     "output_type": "stream",
     "text": [
      "0.011727465316653252\n",
      "280 0.011780058033764362\n",
      "281 0.011685062199831009\n",
      "282 0.011842788197100163\n",
      "283 0.01158001460134983\n"
     ]
    },
    {
     "name": "stderr",
     "output_type": "stream",
     "text": [
      "\r",
      " 10%|▉         | 287/3000 [00:21<02:13, 20.39it/s]"
     ]
    },
    {
     "name": "stdout",
     "output_type": "stream",
     "text": [
      "284 0.01146444957703352\n",
      "285 0.0116432411596179\n",
      "286 0.011488839983940125\n",
      "287 0.011647425591945648\n",
      "288 0.011855746619403362\n"
     ]
    },
    {
     "name": "stderr",
     "output_type": "stream",
     "text": [
      " 10%|▉         | 293/3000 [00:21<02:11, 20.55it/s]"
     ]
    },
    {
     "name": "stdout",
     "output_type": "stream",
     "text": [
      "289 0.011412602849304676\n",
      "290 0.011838461272418499\n",
      "291 0.01098703220486641\n",
      "292 0.011231188662350178\n",
      "293 0.011514264158904552\n"
     ]
    },
    {
     "name": "stderr",
     "output_type": "stream",
     "text": [
      " 10%|▉         | 299/3000 [00:21<02:10, 20.76it/s]"
     ]
    },
    {
     "name": "stdout",
     "output_type": "stream",
     "text": [
      "294 0.011338867247104645\n",
      "295 0.011426099576056004\n",
      "296 0.011018277145922184\n",
      "297 0.012753216549754143\n",
      "298 0.017502153292298317\n"
     ]
    },
    {
     "name": "stderr",
     "output_type": "stream",
     "text": [
      "\r",
      " 10%|█         | 302/3000 [00:21<02:09, 20.84it/s]"
     ]
    },
    {
     "name": "stdout",
     "output_type": "stream",
     "text": [
      "299 0.011102315038442612\n",
      "300 0.01122214738279581\n",
      "301 0.011263502761721611\n",
      "302 0.01102907769382\n",
      "303 0.011426953598856926\n"
     ]
    },
    {
     "name": "stderr",
     "output_type": "stream",
     "text": [
      " 10%|█         | 308/3000 [00:22<02:08, 20.94it/s]"
     ]
    },
    {
     "name": "stdout",
     "output_type": "stream",
     "text": [
      "304 0.011413674801588058\n",
      "305 0.011458011344075203\n",
      "306 0.011051561683416367\n",
      "307 0.011349783279001713\n",
      "308 0.010991561226546764\n"
     ]
    },
    {
     "name": "stderr",
     "output_type": "stream",
     "text": [
      " 10%|█         | 314/3000 [00:22<02:10, 20.62it/s]"
     ]
    },
    {
     "name": "stdout",
     "output_type": "stream",
     "text": [
      "309 0.010767054744064808\n",
      "310 0.01103845052421093\n",
      "311 0.011088774539530277\n",
      "312 0.010858950205147266\n",
      "313 0.011515125632286072\n"
     ]
    },
    {
     "name": "stderr",
     "output_type": "stream",
     "text": [
      "\r",
      " 11%|█         | 317/3000 [00:22<02:10, 20.48it/s]"
     ]
    },
    {
     "name": "stdout",
     "output_type": "stream",
     "text": [
      "314 0.011248667724430561\n",
      "315 0.010616759769618511\n",
      "316 0.011213251389563084\n",
      "317 0.01098951417952776\n",
      "318 0.011092576198279858\n"
     ]
    },
    {
     "name": "stderr",
     "output_type": "stream",
     "text": [
      " 11%|█         | 323/3000 [00:22<02:19, 19.17it/s]"
     ]
    },
    {
     "name": "stdout",
     "output_type": "stream",
     "text": [
      "319 0.010963143780827522\n",
      "320 0.010978988371789455\n",
      "321 0.010834908112883568\n",
      "322 0.01077679917216301\n"
     ]
    },
    {
     "name": "stderr",
     "output_type": "stream",
     "text": [
      " 11%|█         | 327/3000 [00:23<02:17, 19.47it/s]"
     ]
    },
    {
     "name": "stdout",
     "output_type": "stream",
     "text": [
      "323 0.01086855586618185\n",
      "324 0.010885404422879219\n",
      "325 0.01078636571764946\n",
      "326 0.012932581827044487\n"
     ]
    },
    {
     "name": "stderr",
     "output_type": "stream",
     "text": [
      " 11%|█         | 332/3000 [00:23<02:13, 19.97it/s]"
     ]
    },
    {
     "name": "stdout",
     "output_type": "stream",
     "text": [
      "327 0.010969014838337898\n",
      "328 0.011056343093514442\n",
      "329 0.015038586221635342\n",
      "330 0.010987553745508194\n",
      "331 0.01120698545128107\n"
     ]
    },
    {
     "name": "stderr",
     "output_type": "stream",
     "text": [
      "\r",
      " 11%|█         | 335/3000 [00:23<02:11, 20.21it/s]"
     ]
    },
    {
     "name": "stdout",
     "output_type": "stream",
     "text": [
      "332 0.011050577275454998\n",
      "333 0.010666935704648495\n",
      "334 0.010569579899311066\n",
      "335 0.01047975942492485\n",
      "336 0.010821457952260971\n"
     ]
    },
    {
     "name": "stderr",
     "output_type": "stream",
     "text": [
      " 11%|█▏        | 341/3000 [00:23<02:09, 20.49it/s]"
     ]
    },
    {
     "name": "stdout",
     "output_type": "stream",
     "text": [
      "337 0.010612989775836468\n",
      "338 0.010912321507930756\n",
      "339 0.010827599093317986\n",
      "340 0.01019125897437334\n",
      "341 0.010916577652096748\n"
     ]
    },
    {
     "name": "stderr",
     "output_type": "stream",
     "text": [
      " 12%|█▏        | 347/3000 [00:23<02:07, 20.75it/s]"
     ]
    },
    {
     "name": "stdout",
     "output_type": "stream",
     "text": [
      "342 0.010482100769877434\n",
      "343 0.010631071403622627\n",
      "344 0.010823984630405903\n",
      "345 0.01040402241051197\n",
      "346 0.01048617996275425\n"
     ]
    },
    {
     "name": "stderr",
     "output_type": "stream",
     "text": [
      "\r",
      " 12%|█▏        | 350/3000 [00:24<02:07, 20.72it/s]"
     ]
    },
    {
     "name": "stdout",
     "output_type": "stream",
     "text": [
      "347 0.010318848304450512\n",
      "348 0.016031894832849503\n",
      "349 0.010476126335561275\n",
      "350 0.01031100656837225\n",
      "351 0.016310881823301315\n"
     ]
    },
    {
     "name": "stderr",
     "output_type": "stream",
     "text": [
      " 12%|█▏        | 356/3000 [00:24<02:07, 20.72it/s]"
     ]
    },
    {
     "name": "stdout",
     "output_type": "stream",
     "text": [
      "352 0.010758806020021439\n",
      "353 0.010609745047986507\n",
      "354 0.010393921285867691\n",
      "355 0.010501706972718239\n",
      "356 0.01070547103881836\n"
     ]
    },
    {
     "name": "stderr",
     "output_type": "stream",
     "text": [
      " 12%|█▏        | 362/3000 [00:24<02:07, 20.75it/s]"
     ]
    },
    {
     "name": "stdout",
     "output_type": "stream",
     "text": [
      "357 0.010569372214376926\n",
      "358 0.0105927474796772\n",
      "359 0.010619722306728363\n",
      "360 0.010379809886217117\n",
      "361 0.010852349922060966\n"
     ]
    },
    {
     "name": "stderr",
     "output_type": "stream",
     "text": [
      "\r",
      " 12%|█▏        | 365/3000 [00:24<02:08, 20.58it/s]"
     ]
    },
    {
     "name": "stdout",
     "output_type": "stream",
     "text": [
      "362 0.010354669764637947\n",
      "363 0.010432790964841843\n",
      "364 0.010210183449089527\n",
      "365 0.010217503644526005\n",
      "366 0.010347066447138786\n"
     ]
    },
    {
     "name": "stderr",
     "output_type": "stream",
     "text": [
      " 12%|█▏        | 371/3000 [00:25<02:09, 20.28it/s]"
     ]
    },
    {
     "name": "stdout",
     "output_type": "stream",
     "text": [
      "367 0.010552032850682735\n",
      "368 0.01027093268930912\n",
      "369 0.010346497409045696\n",
      "370 0.010192956775426865\n"
     ]
    },
    {
     "name": "stderr",
     "output_type": "stream",
     "text": [
      "\r",
      " 12%|█▏        | 374/3000 [00:25<02:08, 20.40it/s]"
     ]
    },
    {
     "name": "stdout",
     "output_type": "stream",
     "text": [
      "371 0.010073551908135414\n",
      "372 0.01009910274296999\n",
      "373 0.010138199664652348\n",
      "374 0.010002750903367996\n",
      "375 0.010093292221426964\n"
     ]
    },
    {
     "name": "stderr",
     "output_type": "stream",
     "text": [
      " 13%|█▎        | 380/3000 [00:25<02:08, 20.33it/s]"
     ]
    },
    {
     "name": "stdout",
     "output_type": "stream",
     "text": [
      "376 0.010061602108180523\n",
      "377 0.010129887610673904\n",
      "378 0.010240564122796059\n",
      "379 0.013978682458400726\n",
      "380 0.010119423270225525\n"
     ]
    },
    {
     "name": "stderr",
     "output_type": "stream",
     "text": [
      " 13%|█▎        | 386/3000 [00:25<02:01, 21.55it/s]"
     ]
    },
    {
     "name": "stdout",
     "output_type": "stream",
     "text": [
      "381 0.009988609701395035\n",
      "382 0.009903204627335072\n",
      "383 0.010136160999536514\n",
      "384 0.010079806670546532\n",
      "385 0.010151969268918037\n"
     ]
    },
    {
     "name": "stderr",
     "output_type": "stream",
     "text": [
      "\r",
      " 13%|█▎        | 389/3000 [00:25<02:01, 21.42it/s]"
     ]
    },
    {
     "name": "stdout",
     "output_type": "stream",
     "text": [
      "386 0.009932448156177998\n",
      "387 0.009734262712299824\n",
      "388 0.010186778381466866\n",
      "389 0.010189990513026714\n",
      "390 0.010229621082544327\n"
     ]
    },
    {
     "name": "stderr",
     "output_type": "stream",
     "text": [
      " 13%|█▎        | 395/3000 [00:26<02:04, 20.90it/s]"
     ]
    },
    {
     "name": "stdout",
     "output_type": "stream",
     "text": [
      "391 0.0098811574280262\n",
      "392 0.009846226312220097\n",
      "393 0.009886631742119789\n",
      "394 0.010067298077046871\n",
      "395 0.009962724521756172\n"
     ]
    },
    {
     "name": "stderr",
     "output_type": "stream",
     "text": [
      " 13%|█▎        | 401/3000 [00:26<02:04, 20.91it/s]"
     ]
    },
    {
     "name": "stdout",
     "output_type": "stream",
     "text": [
      "396 0.010302843526005745\n",
      "397 0.009778844192624092\n",
      "398 0.009938202798366547\n",
      "399 0.02011409029364586\n",
      "400 0.010207000188529491\n"
     ]
    },
    {
     "name": "stderr",
     "output_type": "stream",
     "text": [
      "\r",
      " 13%|█▎        | 404/3000 [00:26<02:05, 20.74it/s]"
     ]
    },
    {
     "name": "stdout",
     "output_type": "stream",
     "text": [
      "401 0.009988168254494667\n",
      "402 0.009896446019411087\n",
      "403 0.00985527504235506\n",
      "404 0.010111665353178978\n",
      "405 0.01555174496024847\n"
     ]
    },
    {
     "name": "stderr",
     "output_type": "stream",
     "text": [
      " 14%|█▎        | 410/3000 [00:27<02:04, 20.78it/s]"
     ]
    },
    {
     "name": "stdout",
     "output_type": "stream",
     "text": [
      "406 0.009868217632174492\n",
      "407 0.010037468746304512\n",
      "408 0.01176257710903883\n",
      "409 0.009683836251497269\n",
      "410 0.00989914033561945\n"
     ]
    },
    {
     "name": "stderr",
     "output_type": "stream",
     "text": [
      " 14%|█▍        | 416/3000 [00:27<02:05, 20.64it/s]"
     ]
    },
    {
     "name": "stdout",
     "output_type": "stream",
     "text": [
      "411 0.009908613748848438\n",
      "412 0.009905957616865635\n",
      "413 0.009848140180110931\n",
      "414 0.009873392060399055\n",
      "415 0.009852827526628971\n"
     ]
    },
    {
     "name": "stderr",
     "output_type": "stream",
     "text": [
      "\r",
      " 14%|█▍        | 419/3000 [00:27<02:05, 20.62it/s]"
     ]
    },
    {
     "name": "stdout",
     "output_type": "stream",
     "text": [
      "416 0.016429049894213676\n",
      "417 0.009935731068253517\n",
      "418 0.010212995111942291\n",
      "419 0.009782195091247559\n",
      "420 0.00953487865626812\n"
     ]
    },
    {
     "name": "stderr",
     "output_type": "stream",
     "text": [
      " 14%|█▍        | 425/3000 [00:27<02:03, 20.92it/s]"
     ]
    },
    {
     "name": "stdout",
     "output_type": "stream",
     "text": [
      "421 0.009817651472985744\n",
      "422 0.009880091063678265\n",
      "423 0.009904063306748867\n",
      "424 0.009727164171636105\n",
      "425 0.010076853446662426\n"
     ]
    },
    {
     "name": "stderr",
     "output_type": "stream",
     "text": [
      " 14%|█▍        | 431/3000 [00:28<02:02, 20.95it/s]"
     ]
    },
    {
     "name": "stdout",
     "output_type": "stream",
     "text": [
      "426 0.009784925729036331\n",
      "427 0.010111970826983452\n",
      "428 0.009776704013347626\n",
      "429 0.009939691983163357\n",
      "430 0.009579893201589584\n"
     ]
    },
    {
     "name": "stderr",
     "output_type": "stream",
     "text": [
      "\r",
      " 14%|█▍        | 434/3000 [00:28<02:03, 20.85it/s]"
     ]
    },
    {
     "name": "stdout",
     "output_type": "stream",
     "text": [
      "431 0.009847202338278294\n",
      "432 0.01318887248635292\n",
      "433 0.00983897689729929\n",
      "434 0.009903784841299057\n",
      "435 0.009745342656970024\n"
     ]
    },
    {
     "name": "stderr",
     "output_type": "stream",
     "text": [
      " 15%|█▍        | 440/3000 [00:28<02:02, 20.91it/s]"
     ]
    },
    {
     "name": "stdout",
     "output_type": "stream",
     "text": [
      "436 0.009852595627307892\n",
      "437 0.009598428383469582\n",
      "438 0.009530977346003056\n",
      "439 0.009766231290996075\n",
      "440 0.009818445891141891\n"
     ]
    },
    {
     "name": "stderr",
     "output_type": "stream",
     "text": [
      " 15%|█▍        | 446/3000 [00:28<02:03, 20.64it/s]"
     ]
    },
    {
     "name": "stdout",
     "output_type": "stream",
     "text": [
      "441 0.00960098672658205\n",
      "442 0.009501025080680847\n",
      "443 0.009686035104095936\n",
      "444 0.009627084247767925\n",
      "445 0.009647834114730358\n"
     ]
    },
    {
     "name": "stderr",
     "output_type": "stream",
     "text": [
      "\r",
      " 15%|█▍        | 449/3000 [00:28<02:03, 20.66it/s]"
     ]
    },
    {
     "name": "stdout",
     "output_type": "stream",
     "text": [
      "446 0.009596077725291252\n",
      "447 0.00954369641840458\n",
      "448 0.009258100762963295\n",
      "449 0.009380913339555264\n",
      "450 0.00976908765733242\n"
     ]
    },
    {
     "name": "stderr",
     "output_type": "stream",
     "text": [
      " 15%|█▌        | 455/3000 [00:29<02:05, 20.35it/s]"
     ]
    },
    {
     "name": "stdout",
     "output_type": "stream",
     "text": [
      "451 0.009578321129083633\n",
      "452 0.009666486643254757\n",
      "453 0.01002739928662777\n",
      "454 0.009435390122234821\n",
      "455 0.009742209687829018\n"
     ]
    },
    {
     "name": "stderr",
     "output_type": "stream",
     "text": [
      " 15%|█▌        | 461/3000 [00:29<02:03, 20.64it/s]"
     ]
    },
    {
     "name": "stdout",
     "output_type": "stream",
     "text": [
      "456 0.009620234370231628\n",
      "457 0.009550347924232483\n",
      "458 0.00957543309777975\n",
      "459 0.009436774998903275\n",
      "460 0.009449172765016556\n"
     ]
    },
    {
     "name": "stderr",
     "output_type": "stream",
     "text": [
      "\r",
      " 15%|█▌        | 464/3000 [00:29<02:02, 20.70it/s]"
     ]
    },
    {
     "name": "stdout",
     "output_type": "stream",
     "text": [
      "461 0.009349938482046127\n",
      "462 0.015222214162349701\n",
      "463 0.009621397592127323\n",
      "464 0.009381093084812164\n",
      "465 0.009749363176524639\n"
     ]
    },
    {
     "name": "stderr",
     "output_type": "stream",
     "text": [
      " 16%|█▌        | 470/3000 [00:29<01:56, 21.75it/s]"
     ]
    },
    {
     "name": "stdout",
     "output_type": "stream",
     "text": [
      "466 0.0096140680834651\n",
      "467 0.009646101854741573\n",
      "468 0.009346000850200653\n",
      "469 0.009503370150923729\n",
      "470 0.009733447805047035\n"
     ]
    },
    {
     "name": "stderr",
     "output_type": "stream",
     "text": [
      " 16%|█▌        | 476/3000 [00:30<01:58, 21.24it/s]"
     ]
    },
    {
     "name": "stdout",
     "output_type": "stream",
     "text": [
      "471 0.009450511075556278\n",
      "472 0.009608110412955284\n",
      "473 0.009282691404223442\n",
      "474 0.009401505813002586\n",
      "475 0.009637638926506042\n"
     ]
    },
    {
     "name": "stderr",
     "output_type": "stream",
     "text": [
      "\r",
      " 16%|█▌        | 479/3000 [00:30<02:00, 20.86it/s]"
     ]
    },
    {
     "name": "stdout",
     "output_type": "stream",
     "text": [
      "476 0.009198075160384178\n",
      "477 0.009409035556018353\n",
      "478 0.009307598695158958\n",
      "479 0.009328894317150116\n",
      "480 0.009564812295138836\n"
     ]
    },
    {
     "name": "stderr",
     "output_type": "stream",
     "text": [
      " 16%|█▌        | 485/3000 [00:30<02:00, 20.88it/s]"
     ]
    },
    {
     "name": "stdout",
     "output_type": "stream",
     "text": [
      "481 0.009578423574566841\n",
      "482 0.013367950916290283\n",
      "483 0.009592471644282341\n",
      "484 0.009347476065158844\n",
      "485 0.009616976603865623\n"
     ]
    },
    {
     "name": "stderr",
     "output_type": "stream",
     "text": [
      " 16%|█▋        | 491/3000 [00:30<02:01, 20.60it/s]"
     ]
    },
    {
     "name": "stdout",
     "output_type": "stream",
     "text": [
      "486 0.009477970190346241\n",
      "487 0.009460445493459702\n",
      "488 0.009446794167160988\n",
      "489 0.009629089385271072\n",
      "490 0.009506601840257645\n"
     ]
    },
    {
     "name": "stderr",
     "output_type": "stream",
     "text": [
      "\r",
      " 16%|█▋        | 494/3000 [00:31<02:04, 20.14it/s]"
     ]
    },
    {
     "name": "stdout",
     "output_type": "stream",
     "text": [
      "491 0.009274007752537727\n",
      "492 0.009331793524324894\n",
      "493 0.009591593407094479\n",
      "494 0.009209200739860535\n",
      "495 0.009345763362944126\n"
     ]
    },
    {
     "name": "stderr",
     "output_type": "stream",
     "text": [
      " 17%|█▋        | 500/3000 [00:31<02:02, 20.37it/s]"
     ]
    },
    {
     "name": "stdout",
     "output_type": "stream",
     "text": [
      "496 0.009205609560012817\n",
      "497 0.009310922585427761\n",
      "498 0.009096721187233925\n",
      "499 0.009378816932439804\n",
      "500 0.009394694119691849\n"
     ]
    },
    {
     "name": "stderr",
     "output_type": "stream",
     "text": [
      " 17%|█▋        | 506/3000 [00:31<02:00, 20.67it/s]"
     ]
    },
    {
     "name": "stdout",
     "output_type": "stream",
     "text": [
      "501 0.009278430603444576\n",
      "502 0.009262742474675179\n",
      "503 0.009183726273477077\n",
      "504 0.009188048541545868\n",
      "505 0.009618142619729042\n"
     ]
    },
    {
     "name": "stderr",
     "output_type": "stream",
     "text": [
      "\r",
      " 17%|█▋        | 509/3000 [00:31<02:00, 20.74it/s]"
     ]
    },
    {
     "name": "stdout",
     "output_type": "stream",
     "text": [
      "506 0.009563377127051353\n",
      "507 0.009067266248166561\n",
      "508 0.009274398908019066\n",
      "509 0.009470341727137566\n",
      "510 0.009473224170506\n"
     ]
    },
    {
     "name": "stderr",
     "output_type": "stream",
     "text": [
      " 17%|█▋        | 515/3000 [00:32<01:59, 20.81it/s]"
     ]
    },
    {
     "name": "stdout",
     "output_type": "stream",
     "text": [
      "511 0.009141287766397\n",
      "512 0.00951719656586647\n",
      "513 0.009121580980718136\n",
      "514 0.009312198497354984\n",
      "515 0.00929199904203415\n"
     ]
    },
    {
     "name": "stderr",
     "output_type": "stream",
     "text": [
      " 17%|█▋        | 521/3000 [00:32<01:59, 20.68it/s]"
     ]
    },
    {
     "name": "stdout",
     "output_type": "stream",
     "text": [
      "516 0.00916589330881834\n",
      "517 0.009307497180998325\n",
      "518 0.009347840212285519\n",
      "519 0.009222261607646942\n",
      "520 0.009142144583165646\n"
     ]
    },
    {
     "name": "stderr",
     "output_type": "stream",
     "text": [
      "\r",
      " 17%|█▋        | 524/3000 [00:32<01:59, 20.69it/s]"
     ]
    },
    {
     "name": "stdout",
     "output_type": "stream",
     "text": [
      "521 0.009152069687843323\n",
      "522 0.009415888227522373\n",
      "523 0.009318755939602852\n",
      "524 0.009396813809871674\n",
      "525 0.00896824523806572\n"
     ]
    },
    {
     "name": "stderr",
     "output_type": "stream",
     "text": [
      " 18%|█▊        | 530/3000 [00:32<01:59, 20.68it/s]"
     ]
    },
    {
     "name": "stdout",
     "output_type": "stream",
     "text": [
      "526 0.009143318049609661\n",
      "527 0.009322877041995525\n",
      "528 0.009072650223970413\n",
      "529 0.008827682584524155\n",
      "530 0.009362301789224148\n"
     ]
    },
    {
     "name": "stderr",
     "output_type": "stream",
     "text": [
      " 18%|█▊        | 536/3000 [00:33<02:00, 20.50it/s]"
     ]
    },
    {
     "name": "stdout",
     "output_type": "stream",
     "text": [
      "531 0.009420914575457573\n",
      "532 0.00946902483701706\n",
      "533 0.009014206007122993\n",
      "534 0.009394904598593712\n",
      "535 0.015364749357104301\n"
     ]
    },
    {
     "name": "stderr",
     "output_type": "stream",
     "text": [
      "\r",
      " 18%|█▊        | 539/3000 [00:33<02:00, 20.50it/s]"
     ]
    },
    {
     "name": "stdout",
     "output_type": "stream",
     "text": [
      "536 0.008929123170673847\n",
      "537 0.00918108131736517\n",
      "538 0.012905005365610123\n",
      "539 0.009127785451710224\n",
      "540 0.00963080208748579\n"
     ]
    },
    {
     "name": "stderr",
     "output_type": "stream",
     "text": [
      " 18%|█▊        | 545/3000 [00:33<01:59, 20.57it/s]"
     ]
    },
    {
     "name": "stdout",
     "output_type": "stream",
     "text": [
      "541 0.009468846954405308\n",
      "542 0.00946776382625103\n",
      "543 0.009453506208956242\n",
      "544 0.009436179883778095\n",
      "545 0.009338904172182083\n"
     ]
    },
    {
     "name": "stderr",
     "output_type": "stream",
     "text": [
      " 18%|█▊        | 551/3000 [00:33<01:58, 20.69it/s]"
     ]
    },
    {
     "name": "stdout",
     "output_type": "stream",
     "text": [
      "546 0.009138088673353195\n",
      "547 0.009475428611040115\n",
      "548 0.008974991738796234\n",
      "549 0.009166933596134186\n",
      "550 0.009495619684457779\n"
     ]
    },
    {
     "name": "stderr",
     "output_type": "stream",
     "text": [
      "\r",
      " 18%|█▊        | 554/3000 [00:33<01:57, 20.76it/s]"
     ]
    },
    {
     "name": "stdout",
     "output_type": "stream",
     "text": [
      "551 0.009051176719367504\n",
      "552 0.009413173422217369\n",
      "553 0.01524082850664854\n",
      "554 0.009346217848360538\n",
      "555 0.009458648040890694\n"
     ]
    },
    {
     "name": "stderr",
     "output_type": "stream",
     "text": [
      " 19%|█▊        | 560/3000 [00:34<01:57, 20.83it/s]"
     ]
    },
    {
     "name": "stdout",
     "output_type": "stream",
     "text": [
      "556 0.009204301983118057\n",
      "557 0.009391076862812042\n",
      "558 0.009420101530849934\n",
      "559 0.013766676187515259\n",
      "560 0.009338364005088806\n"
     ]
    },
    {
     "name": "stderr",
     "output_type": "stream",
     "text": [
      " 19%|█▉        | 566/3000 [00:34<01:56, 20.94it/s]"
     ]
    },
    {
     "name": "stdout",
     "output_type": "stream",
     "text": [
      "561 0.009302073158323765\n",
      "562 0.009186895564198494\n",
      "563 0.009221438318490982\n",
      "564 0.009472128003835678\n",
      "565 0.009259089827537537\n"
     ]
    },
    {
     "name": "stderr",
     "output_type": "stream",
     "text": [
      "\r",
      " 19%|█▉        | 569/3000 [00:34<01:56, 20.93it/s]"
     ]
    },
    {
     "name": "stdout",
     "output_type": "stream",
     "text": [
      "566 0.00944935716688633\n",
      "567 0.009276135824620724\n",
      "568 0.00939071737229824\n",
      "569 0.00921439565718174\n",
      "570 0.0090169133618474\n"
     ]
    },
    {
     "name": "stderr",
     "output_type": "stream",
     "text": [
      " 19%|█▉        | 575/3000 [00:34<01:57, 20.69it/s]"
     ]
    },
    {
     "name": "stdout",
     "output_type": "stream",
     "text": [
      "571 0.009199230931699276\n",
      "572 0.009124762378633022\n",
      "573 0.009267086163163185\n",
      "574 0.009322129189968109\n",
      "575 0.009352847002446651\n"
     ]
    },
    {
     "name": "stderr",
     "output_type": "stream",
     "text": [
      " 19%|█▉        | 581/3000 [00:35<01:58, 20.35it/s]"
     ]
    },
    {
     "name": "stdout",
     "output_type": "stream",
     "text": [
      "576 0.009215375408530235\n",
      "577 0.009060430340468884\n",
      "578 0.009081545285880566\n",
      "579 0.009005091153085232\n",
      "580 0.009166347794234753\n"
     ]
    },
    {
     "name": "stderr",
     "output_type": "stream",
     "text": [
      "\r",
      " 19%|█▉        | 584/3000 [00:35<01:58, 20.35it/s]"
     ]
    },
    {
     "name": "stdout",
     "output_type": "stream",
     "text": [
      "581 0.00928762461990118\n",
      "582 0.00917089357972145\n",
      "583 0.009220696054399014\n",
      "584 0.00903532188385725\n",
      "585 0.009243396110832691\n"
     ]
    },
    {
     "name": "stderr",
     "output_type": "stream",
     "text": [
      " 20%|█▉        | 590/3000 [00:35<01:57, 20.49it/s]"
     ]
    },
    {
     "name": "stdout",
     "output_type": "stream",
     "text": [
      "586 0.009202358312904835\n",
      "587 0.00888616032898426\n",
      "588 0.009016050025820732\n",
      "589 0.00890333391726017\n",
      "590 0.009074128232896328\n"
     ]
    },
    {
     "name": "stderr",
     "output_type": "stream",
     "text": [
      " 20%|█▉        | 596/3000 [00:35<01:56, 20.69it/s]"
     ]
    },
    {
     "name": "stdout",
     "output_type": "stream",
     "text": [
      "591 0.00923575647175312\n",
      "592 0.008974048309028149\n",
      "593 0.009100811555981636\n",
      "594 0.009225137531757355\n",
      "595 0.008967450819909573\n"
     ]
    },
    {
     "name": "stderr",
     "output_type": "stream",
     "text": [
      "\r",
      " 20%|█▉        | 599/3000 [00:36<01:56, 20.61it/s]"
     ]
    },
    {
     "name": "stdout",
     "output_type": "stream",
     "text": [
      "596 0.009118611924350262\n",
      "597 0.009176994673907757\n",
      "598 0.00893004983663559\n",
      "599 0.009158969856798649\n",
      "600 0.009008214809000492\n"
     ]
    },
    {
     "name": "stderr",
     "output_type": "stream",
     "text": [
      " 20%|██        | 605/3000 [00:36<01:55, 20.77it/s]"
     ]
    },
    {
     "name": "stdout",
     "output_type": "stream",
     "text": [
      "601 0.009211503900587559\n",
      "602 0.009194230660796165\n",
      "603 0.00930473767220974\n",
      "604 0.008951951749622822\n",
      "605 0.009126841090619564\n"
     ]
    },
    {
     "name": "stderr",
     "output_type": "stream",
     "text": [
      " 20%|██        | 611/3000 [00:36<01:55, 20.73it/s]"
     ]
    },
    {
     "name": "stdout",
     "output_type": "stream",
     "text": [
      "606 0.009036117233335972\n",
      "607 0.009004016406834126\n",
      "608 0.009051498956978321\n",
      "609 0.009032019414007664\n",
      "610 0.009023482911288738\n"
     ]
    },
    {
     "name": "stderr",
     "output_type": "stream",
     "text": [
      "\r",
      " 20%|██        | 614/3000 [00:36<01:55, 20.67it/s]"
     ]
    },
    {
     "name": "stdout",
     "output_type": "stream",
     "text": [
      "611 0.008921134285628796\n",
      "612 0.008966249413788319\n",
      "613 0.009217383340001106\n",
      "614 0.0093350475654006\n",
      "615 0.008707374334335327\n"
     ]
    },
    {
     "name": "stderr",
     "output_type": "stream",
     "text": [
      " 21%|██        | 620/3000 [00:37<01:57, 20.29it/s]"
     ]
    },
    {
     "name": "stdout",
     "output_type": "stream",
     "text": [
      "616 0.009026513434946537\n",
      "617 0.009105619043111801\n",
      "618 0.009016432799398899\n",
      "619 0.008845565840601921\n"
     ]
    },
    {
     "name": "stderr",
     "output_type": "stream",
     "text": [
      "\r",
      " 21%|██        | 623/3000 [00:37<01:55, 20.51it/s]"
     ]
    },
    {
     "name": "stdout",
     "output_type": "stream",
     "text": [
      "620 0.009018022567033768\n",
      "621 0.00909449066966772\n",
      "622 0.008976370096206665\n",
      "623 0.008918097242712975\n",
      "624 0.008857246488332748\n"
     ]
    },
    {
     "name": "stderr",
     "output_type": "stream",
     "text": [
      " 21%|██        | 629/3000 [00:37<01:54, 20.73it/s]"
     ]
    },
    {
     "name": "stdout",
     "output_type": "stream",
     "text": [
      "625 0.009021651931107044\n",
      "626 0.008823246695101261\n",
      "627 0.009077547118067741\n",
      "628 0.008991423062980175\n",
      "629 0.009251170791685581\n"
     ]
    },
    {
     "name": "stderr",
     "output_type": "stream",
     "text": [
      " 21%|██        | 635/3000 [00:37<01:54, 20.72it/s]"
     ]
    },
    {
     "name": "stdout",
     "output_type": "stream",
     "text": [
      "630 0.008960527367889881\n",
      "631 0.009107925929129124\n",
      "632 0.008865229785442352\n",
      "633 0.009123174473643303\n",
      "634 0.009017354808747768\n"
     ]
    },
    {
     "name": "stderr",
     "output_type": "stream",
     "text": [
      "\r",
      " 21%|██▏       | 638/3000 [00:38<01:55, 20.45it/s]"
     ]
    },
    {
     "name": "stdout",
     "output_type": "stream",
     "text": [
      "635 0.008747180923819542\n",
      "636 0.0090276338160038\n",
      "637 0.008840134367346764\n",
      "638 0.015004596672952175\n",
      "639 0.009065311402082443\n"
     ]
    },
    {
     "name": "stderr",
     "output_type": "stream",
     "text": [
      " 21%|██▏       | 644/3000 [00:38<01:56, 20.26it/s]"
     ]
    },
    {
     "name": "stdout",
     "output_type": "stream",
     "text": [
      "640 0.009095639921724796\n",
      "641 0.008998889476060867\n",
      "642 0.009145854972302914\n",
      "643 0.008986243046820164\n",
      "644 0.00901560578495264\n"
     ]
    },
    {
     "name": "stderr",
     "output_type": "stream",
     "text": [
      " 22%|██▏       | 650/3000 [00:38<01:56, 20.17it/s]"
     ]
    },
    {
     "name": "stdout",
     "output_type": "stream",
     "text": [
      "645 0.008951068855822086\n",
      "646 0.009035691618919373\n",
      "647 0.009058448486030102\n",
      "648 0.009098946116864681\n",
      "649 0.009208734147250652\n"
     ]
    },
    {
     "name": "stderr",
     "output_type": "stream",
     "text": [
      "\r",
      " 22%|██▏       | 653/3000 [00:38<01:56, 20.14it/s]"
     ]
    },
    {
     "name": "stdout",
     "output_type": "stream",
     "text": [
      "650 0.008781632408499718\n",
      "651 0.00872713327407837\n",
      "652 0.009077840484678745\n",
      "653 0.009111883118748665\n",
      "654 0.008897190913558006\n"
     ]
    },
    {
     "name": "stderr",
     "output_type": "stream",
     "text": [
      " 22%|██▏       | 659/3000 [00:39<01:55, 20.34it/s]"
     ]
    },
    {
     "name": "stdout",
     "output_type": "stream",
     "text": [
      "655 0.008989415131509304\n",
      "656 0.008919712156057358\n",
      "657 0.008913529105484486\n",
      "658 0.009044027887284756\n",
      "659 0.008972994983196259\n"
     ]
    },
    {
     "name": "stderr",
     "output_type": "stream",
     "text": [
      " 22%|██▏       | 665/3000 [00:39<01:54, 20.33it/s]"
     ]
    },
    {
     "name": "stdout",
     "output_type": "stream",
     "text": [
      "660 0.010906855575740337\n",
      "661 0.009199976921081543\n",
      "662 0.0090053491294384\n",
      "663 0.008882428519427776\n",
      "664 0.008991170674562454\n"
     ]
    },
    {
     "name": "stderr",
     "output_type": "stream",
     "text": [
      "\r",
      " 22%|██▏       | 668/3000 [00:39<01:54, 20.40it/s]"
     ]
    },
    {
     "name": "stdout",
     "output_type": "stream",
     "text": [
      "665 0.008955747820436954\n",
      "666 0.008859816938638687\n",
      "667 0.008995918557047844\n",
      "668 0.008872409351170063\n",
      "669 0.00895762350410223\n"
     ]
    },
    {
     "name": "stderr",
     "output_type": "stream",
     "text": [
      " 22%|██▏       | 674/3000 [00:39<01:53, 20.51it/s]"
     ]
    },
    {
     "name": "stdout",
     "output_type": "stream",
     "text": [
      "670 0.009063313715159893\n",
      "671 0.009149501100182533\n",
      "672 0.009031918831169605\n",
      "673 0.009006237611174583\n",
      "674 0.00896108616143465\n"
     ]
    },
    {
     "name": "stderr",
     "output_type": "stream",
     "text": [
      " 23%|██▎       | 680/3000 [00:40<01:54, 20.29it/s]"
     ]
    },
    {
     "name": "stdout",
     "output_type": "stream",
     "text": [
      "675 0.00887988694012165\n",
      "676 0.00896588247269392\n",
      "677 0.008648142218589783\n",
      "678 0.008809736929833889\n",
      "679 0.008982580155134201\n"
     ]
    },
    {
     "name": "stderr",
     "output_type": "stream",
     "text": [
      "\r",
      " 23%|██▎       | 683/3000 [00:40<01:55, 20.09it/s]"
     ]
    },
    {
     "name": "stdout",
     "output_type": "stream",
     "text": [
      "680 0.008977766148746014\n",
      "681 0.008978326804935932\n",
      "682 0.00904636550694704\n",
      "683 0.009201887995004654\n",
      "684 0.008927995339035988\n"
     ]
    },
    {
     "name": "stderr",
     "output_type": "stream",
     "text": [
      " 23%|██▎       | 688/3000 [00:40<01:56, 19.92it/s]"
     ]
    },
    {
     "name": "stdout",
     "output_type": "stream",
     "text": [
      "685 0.009087339043617249\n",
      "686 0.008772321976721287\n",
      "687 0.008915148675441742\n",
      "688 0.00890000443905592\n"
     ]
    },
    {
     "name": "stderr",
     "output_type": "stream",
     "text": [
      " 23%|██▎       | 692/3000 [00:40<01:56, 19.74it/s]"
     ]
    },
    {
     "name": "stdout",
     "output_type": "stream",
     "text": [
      "689 0.008907850831747055\n",
      "690 0.012954841367900372\n",
      "691 0.008919955231249332\n",
      "692 0.008931216783821583\n"
     ]
    },
    {
     "name": "stderr",
     "output_type": "stream",
     "text": [
      " 23%|██▎       | 696/3000 [00:40<01:56, 19.69it/s]"
     ]
    },
    {
     "name": "stdout",
     "output_type": "stream",
     "text": [
      "693 0.013191964477300644\n",
      "694 0.008756523951888084\n",
      "695 0.009036664851009846\n",
      "696 0.009353111498057842\n"
     ]
    },
    {
     "name": "stderr",
     "output_type": "stream",
     "text": [
      " 23%|██▎       | 701/3000 [00:41<01:56, 19.68it/s]"
     ]
    },
    {
     "name": "stdout",
     "output_type": "stream",
     "text": [
      "697 0.009100303053855896\n",
      "698 0.008879427798092365\n",
      "699 0.009087621234357357\n",
      "700 0.00902967806905508\n"
     ]
    },
    {
     "name": "stderr",
     "output_type": "stream",
     "text": [
      " 24%|██▎       | 706/3000 [00:41<01:56, 19.68it/s]"
     ]
    },
    {
     "name": "stdout",
     "output_type": "stream",
     "text": [
      "701 0.009315654635429382\n",
      "702 0.008952661417424679\n",
      "703 0.008846116252243519\n",
      "704 0.008885512128472328\n",
      "705 0.008957241661846638\n"
     ]
    },
    {
     "name": "stderr",
     "output_type": "stream",
     "text": [
      " 24%|██▎       | 711/3000 [00:41<01:55, 19.84it/s]"
     ]
    },
    {
     "name": "stdout",
     "output_type": "stream",
     "text": [
      "706 0.008927020244300365\n",
      "707 0.008988617919385433\n",
      "708 0.0090763745829463\n",
      "709 0.009106370620429516\n",
      "710 0.009000003337860107\n"
     ]
    },
    {
     "name": "stderr",
     "output_type": "stream",
     "text": [
      " 24%|██▍       | 715/3000 [00:41<01:55, 19.72it/s]"
     ]
    },
    {
     "name": "stdout",
     "output_type": "stream",
     "text": [
      "711 0.009100683033466339\n",
      "712 0.008963261730968952\n",
      "713 0.008941547945141792\n",
      "714 0.008979151025414467\n"
     ]
    },
    {
     "name": "stderr",
     "output_type": "stream",
     "text": [
      " 24%|██▍       | 719/3000 [00:42<01:55, 19.79it/s]"
     ]
    },
    {
     "name": "stdout",
     "output_type": "stream",
     "text": [
      "715 0.008981164544820786\n",
      "716 0.008941147476434708\n",
      "717 0.009051719680428505\n",
      "718 0.008716371841728687\n"
     ]
    },
    {
     "name": "stderr",
     "output_type": "stream",
     "text": [
      " 24%|██▍       | 724/3000 [00:42<01:54, 19.80it/s]"
     ]
    },
    {
     "name": "stdout",
     "output_type": "stream",
     "text": [
      "719 0.008901636116206646\n",
      "720 0.009056185372173786\n",
      "721 0.008965158835053444\n",
      "722 0.008756452240049839\n",
      "723 0.008959883823990822\n"
     ]
    },
    {
     "name": "stderr",
     "output_type": "stream",
     "text": [
      " 24%|██▍       | 728/3000 [00:42<01:55, 19.74it/s]"
     ]
    },
    {
     "name": "stdout",
     "output_type": "stream",
     "text": [
      "724 0.009033652022480965\n",
      "725 0.009064016863703728\n",
      "726 0.008802011609077454\n",
      "727 0.008941719308495522\n"
     ]
    },
    {
     "name": "stderr",
     "output_type": "stream",
     "text": [
      " 24%|██▍       | 733/3000 [00:42<01:54, 19.73it/s]"
     ]
    },
    {
     "name": "stdout",
     "output_type": "stream",
     "text": [
      "728 0.009019155986607075\n",
      "729 0.008775565773248672\n",
      "730 0.008626304566860199\n",
      "731 0.009035813622176647\n",
      "732 0.008633407764136791\n"
     ]
    },
    {
     "name": "stderr",
     "output_type": "stream",
     "text": [
      "\r",
      " 24%|██▍       | 735/3000 [00:42<01:54, 19.72it/s]"
     ]
    },
    {
     "name": "stdout",
     "output_type": "stream",
     "text": [
      "733 0.008766235783696175\n",
      "734 0.00878971442580223\n",
      "735 0.009002993814647198\n",
      "736 0.009205333888530731\n",
      "737 0.008921929635107517\n"
     ]
    },
    {
     "name": "stderr",
     "output_type": "stream",
     "text": [
      " 25%|██▍       | 740/3000 [00:43<01:55, 19.59it/s]"
     ]
    },
    {
     "name": "stdout",
     "output_type": "stream",
     "text": [
      "738 0.009033444337546825\n",
      "739 0.008894084952771664\n",
      "740 0.009038742631673813\n"
     ]
    },
    {
     "name": "stderr",
     "output_type": "stream",
     "text": [
      " 25%|██▍       | 745/3000 [00:43<01:50, 20.43it/s]"
     ]
    },
    {
     "name": "stdout",
     "output_type": "stream",
     "text": [
      "741 0.008868197910487652\n",
      "742 0.01498357392847538\n",
      "743 0.008847782388329506\n",
      "744 0.008913852274417877\n",
      "745 0.00905019510537386\n"
     ]
    },
    {
     "name": "stderr",
     "output_type": "stream",
     "text": [
      "\r",
      " 25%|██▍       | 748/3000 [00:43<01:51, 20.15it/s]"
     ]
    },
    {
     "name": "stdout",
     "output_type": "stream",
     "text": [
      "746 0.010794678702950478\n",
      "747 0.009047123603522778\n",
      "748 0.009065904654562473\n",
      "749 0.01117508765310049\n"
     ]
    },
    {
     "name": "stderr",
     "output_type": "stream",
     "text": [
      " 25%|██▌       | 754/3000 [00:43<01:52, 19.96it/s]"
     ]
    },
    {
     "name": "stdout",
     "output_type": "stream",
     "text": [
      "750 0.008958344347774982\n",
      "751 0.008992526680231094\n",
      "752 0.009218424558639526\n",
      "753 0.00888418685644865\n",
      "754 0.008837569504976273\n"
     ]
    },
    {
     "name": "stderr",
     "output_type": "stream",
     "text": [
      " 25%|██▌       | 759/3000 [00:44<01:52, 19.92it/s]"
     ]
    },
    {
     "name": "stdout",
     "output_type": "stream",
     "text": [
      "755 0.008945356123149395\n",
      "756 0.008889826945960522\n",
      "757 0.008948318660259247\n",
      "758 0.009032893925905228\n"
     ]
    },
    {
     "name": "stderr",
     "output_type": "stream",
     "text": [
      " 25%|██▌       | 763/3000 [00:44<01:53, 19.64it/s]"
     ]
    },
    {
     "name": "stdout",
     "output_type": "stream",
     "text": [
      "759 0.009045003913342953\n",
      "760 0.008833208121359348\n",
      "761 0.00879413541406393\n",
      "762 0.00897672027349472\n"
     ]
    },
    {
     "name": "stderr",
     "output_type": "stream",
     "text": [
      "\r",
      " 26%|██▌       | 765/3000 [00:44<01:54, 19.59it/s]"
     ]
    },
    {
     "name": "stdout",
     "output_type": "stream",
     "text": [
      "763 0.009129097685217857\n",
      "764 0.008713136427104473\n",
      "765 0.011068163439631462\n",
      "766 0.00869711022824049\n",
      "767 0.009155687876045704\n"
     ]
    },
    {
     "name": "stderr",
     "output_type": "stream",
     "text": [
      " 26%|██▌       | 772/3000 [00:44<01:53, 19.69it/s]"
     ]
    },
    {
     "name": "stdout",
     "output_type": "stream",
     "text": [
      "768 0.008858016692101955\n",
      "769 0.00883756298571825\n",
      "770 0.00887261237949133\n",
      "771 0.009137414395809174\n"
     ]
    },
    {
     "name": "stderr",
     "output_type": "stream",
     "text": [
      " 26%|██▌       | 776/3000 [00:44<01:55, 19.34it/s]"
     ]
    },
    {
     "name": "stdout",
     "output_type": "stream",
     "text": [
      "772 0.008773710578680038\n",
      "773 0.009132715873420238\n",
      "774 0.009174346923828125\n",
      "775 0.011103750206530094\n"
     ]
    },
    {
     "name": "stderr",
     "output_type": "stream",
     "text": [
      " 26%|██▌       | 780/3000 [00:45<01:53, 19.52it/s]"
     ]
    },
    {
     "name": "stdout",
     "output_type": "stream",
     "text": [
      "776 0.008835602551698685\n",
      "777 0.008667455986142159\n",
      "778 0.008875018917024136\n",
      "779 0.008876745589077473\n"
     ]
    },
    {
     "name": "stderr",
     "output_type": "stream",
     "text": [
      " 26%|██▌       | 784/3000 [00:45<01:54, 19.37it/s]"
     ]
    },
    {
     "name": "stdout",
     "output_type": "stream",
     "text": [
      "780 0.008811569772660732\n",
      "781 0.008867550641298294\n",
      "782 0.009076314978301525\n",
      "783 0.008680416271090508\n"
     ]
    },
    {
     "name": "stderr",
     "output_type": "stream",
     "text": [
      " 26%|██▋       | 788/3000 [00:45<01:53, 19.41it/s]"
     ]
    },
    {
     "name": "stdout",
     "output_type": "stream",
     "text": [
      "784 0.009077084250748158\n",
      "785 0.008639325387775898\n",
      "786 0.008944714441895485\n",
      "787 0.010797722265124321\n"
     ]
    },
    {
     "name": "stderr",
     "output_type": "stream",
     "text": [
      " 26%|██▋       | 792/3000 [00:45<01:53, 19.39it/s]"
     ]
    },
    {
     "name": "stdout",
     "output_type": "stream",
     "text": [
      "788 0.009052549488842487\n",
      "789 0.008840127848088741\n",
      "790 0.009195093996822834\n",
      "791 0.015044102445244789\n"
     ]
    },
    {
     "name": "stderr",
     "output_type": "stream",
     "text": [
      " 27%|██▋       | 796/3000 [00:45<01:52, 19.53it/s]"
     ]
    },
    {
     "name": "stdout",
     "output_type": "stream",
     "text": [
      "792 0.008971992880105972\n",
      "793 0.009128404781222343\n",
      "794 0.00921940803527832\n",
      "795 0.008906133472919464\n"
     ]
    },
    {
     "name": "stderr",
     "output_type": "stream",
     "text": [
      " 27%|██▋       | 800/3000 [00:46<01:54, 19.15it/s]"
     ]
    },
    {
     "name": "stdout",
     "output_type": "stream",
     "text": [
      "796 0.009059195406734943\n",
      "797 0.009031809866428375\n",
      "798 0.009200001135468483\n",
      "799 0.009024483151733875\n"
     ]
    },
    {
     "name": "stderr",
     "output_type": "stream",
     "text": [
      " 27%|██▋       | 804/3000 [00:46<01:53, 19.38it/s]"
     ]
    },
    {
     "name": "stdout",
     "output_type": "stream",
     "text": [
      "800 0.008808217942714691\n",
      "801 0.008832136169075966\n",
      "802 0.008789842016994953\n",
      "803 0.00897914357483387\n",
      "804 0.008810680359601974\n"
     ]
    },
    {
     "name": "stderr",
     "output_type": "stream",
     "text": [
      " 27%|██▋       | 810/3000 [00:46<01:47, 20.41it/s]"
     ]
    },
    {
     "name": "stdout",
     "output_type": "stream",
     "text": [
      "805 0.009072598069906235\n",
      "806 0.008714591152966022\n",
      "807 0.008844075724482536\n",
      "808 0.009242326021194458\n",
      "809 0.009093165397644043\n"
     ]
    },
    {
     "name": "stderr",
     "output_type": "stream",
     "text": [
      "\r",
      " 27%|██▋       | 813/3000 [00:46<01:48, 20.15it/s]"
     ]
    },
    {
     "name": "stdout",
     "output_type": "stream",
     "text": [
      "810 0.008930929936468601\n",
      "811 0.008898450993001461\n",
      "812 0.00839964859187603\n",
      "813 0.008990174159407616\n"
     ]
    },
    {
     "name": "stderr",
     "output_type": "stream",
     "text": [
      " 27%|██▋       | 818/3000 [00:47<01:50, 19.69it/s]"
     ]
    },
    {
     "name": "stdout",
     "output_type": "stream",
     "text": [
      "814 0.0088522182777524\n",
      "815 0.008780177682638168\n",
      "816 0.008906948380172253\n",
      "817 0.008978049270808697\n"
     ]
    },
    {
     "name": "stderr",
     "output_type": "stream",
     "text": [
      "\r",
      " 27%|██▋       | 821/3000 [00:47<01:46, 20.54it/s]"
     ]
    },
    {
     "name": "stdout",
     "output_type": "stream",
     "text": [
      "818 0.00880635529756546\n",
      "819 0.008818074129521847\n",
      "820 0.008807854726910591\n",
      "821 0.008986338973045349\n",
      "822 0.008889797143638134\n"
     ]
    },
    {
     "name": "stderr",
     "output_type": "stream",
     "text": [
      " 28%|██▊       | 827/3000 [00:47<01:47, 20.28it/s]"
     ]
    },
    {
     "name": "stdout",
     "output_type": "stream",
     "text": [
      "823 0.00874593760818243\n",
      "824 0.008872874081134796\n",
      "825 0.008831601589918137\n",
      "826 0.008856348693370819\n"
     ]
    },
    {
     "name": "stderr",
     "output_type": "stream",
     "text": [
      "\r",
      " 28%|██▊       | 830/3000 [00:47<01:47, 20.12it/s]"
     ]
    },
    {
     "name": "stdout",
     "output_type": "stream",
     "text": [
      "827 0.009000755846500397\n",
      "828 0.009075405076146126\n",
      "829 0.008911692537367344\n",
      "830 0.008883696980774403\n",
      "831 0.00892116129398346\n"
     ]
    },
    {
     "name": "stderr",
     "output_type": "stream",
     "text": [
      " 28%|██▊       | 836/3000 [00:47<01:48, 19.97it/s]"
     ]
    },
    {
     "name": "stdout",
     "output_type": "stream",
     "text": [
      "832 0.014957954175770283\n",
      "833 0.008786381222307682\n",
      "834 0.008816295303404331\n",
      "835 0.0091048963367939\n"
     ]
    },
    {
     "name": "stderr",
     "output_type": "stream",
     "text": [
      " 28%|██▊       | 840/3000 [00:48<01:50, 19.48it/s]"
     ]
    },
    {
     "name": "stdout",
     "output_type": "stream",
     "text": [
      "836 0.00898775551468134\n",
      "837 0.008828075602650642\n",
      "838 0.008720358833670616\n",
      "839 0.008851774968206882\n"
     ]
    },
    {
     "name": "stderr",
     "output_type": "stream",
     "text": [
      " 28%|██▊       | 844/3000 [00:48<01:51, 19.40it/s]"
     ]
    },
    {
     "name": "stdout",
     "output_type": "stream",
     "text": [
      "840 0.008953248150646687\n",
      "841 0.008907939307391644\n",
      "842 0.008693121373653412\n",
      "843 0.008783887140452862\n",
      "844 0.009214523248374462\n"
     ]
    },
    {
     "name": "stderr",
     "output_type": "stream",
     "text": [
      " 28%|██▊       | 850/3000 [00:48<01:48, 19.88it/s]"
     ]
    },
    {
     "name": "stdout",
     "output_type": "stream",
     "text": [
      "845 0.008581631816923618\n",
      "846 0.008825954981148243\n",
      "847 0.008817935362458229\n",
      "848 0.009138576686382294\n",
      "849 0.008722849190235138\n"
     ]
    },
    {
     "name": "stderr",
     "output_type": "stream",
     "text": [
      "\r",
      " 28%|██▊       | 853/3000 [00:48<01:47, 20.01it/s]"
     ]
    },
    {
     "name": "stdout",
     "output_type": "stream",
     "text": [
      "850 0.00877322442829609\n",
      "851 0.008883505128324032\n",
      "852 0.008825062774121761\n",
      "853 0.008976912125945091\n",
      "854 0.008912867866456509\n"
     ]
    },
    {
     "name": "stderr",
     "output_type": "stream",
     "text": [
      " 29%|██▊       | 859/3000 [00:49<01:46, 20.02it/s]"
     ]
    },
    {
     "name": "stdout",
     "output_type": "stream",
     "text": [
      "855 0.008858313784003258\n",
      "856 0.008713404648005962\n",
      "857 0.008766462095081806\n",
      "858 0.008740692399442196\n"
     ]
    },
    {
     "name": "stderr",
     "output_type": "stream",
     "text": [
      "\r",
      " 29%|██▊       | 862/3000 [00:49<01:46, 20.00it/s]"
     ]
    },
    {
     "name": "stdout",
     "output_type": "stream",
     "text": [
      "859 0.009039893746376038\n",
      "860 0.00882028043270111\n",
      "861 0.008708392269909382\n",
      "862 0.008869060315191746\n"
     ]
    },
    {
     "name": "stderr",
     "output_type": "stream",
     "text": [
      " 29%|██▉       | 868/3000 [00:49<01:47, 19.92it/s]"
     ]
    },
    {
     "name": "stdout",
     "output_type": "stream",
     "text": [
      "863 0.008721311576664448\n",
      "864 0.008757801726460457\n",
      "865 0.008895868435502052\n",
      "866 0.008790609426796436\n",
      "867 0.008779410272836685\n"
     ]
    },
    {
     "name": "stderr",
     "output_type": "stream",
     "text": [
      "\r",
      " 29%|██▉       | 871/3000 [00:49<01:46, 20.07it/s]"
     ]
    },
    {
     "name": "stdout",
     "output_type": "stream",
     "text": [
      "868 0.008982989937067032\n",
      "869 0.008790208958089352\n",
      "870 0.008827482350170612\n",
      "871 0.00889344047755003\n",
      "872 0.008919651620090008\n"
     ]
    },
    {
     "name": "stderr",
     "output_type": "stream",
     "text": [
      " 29%|██▉       | 877/3000 [00:50<01:45, 20.22it/s]"
     ]
    },
    {
     "name": "stdout",
     "output_type": "stream",
     "text": [
      "873 0.008609551936388016\n",
      "874 0.009030141867697239\n",
      "875 0.008941520936787128\n",
      "876 0.012765851803123951\n"
     ]
    },
    {
     "name": "stderr",
     "output_type": "stream",
     "text": [
      "\r",
      " 29%|██▉       | 880/3000 [00:50<01:45, 20.03it/s]"
     ]
    },
    {
     "name": "stdout",
     "output_type": "stream",
     "text": [
      "877 0.008666198700666428\n",
      "878 0.008856306783854961\n",
      "879 0.008640029467642307\n",
      "880 0.008772104978561401\n",
      "881 0.009345643222332\n"
     ]
    },
    {
     "name": "stderr",
     "output_type": "stream",
     "text": [
      " 30%|██▉       | 886/3000 [00:50<01:45, 20.09it/s]"
     ]
    },
    {
     "name": "stdout",
     "output_type": "stream",
     "text": [
      "882 0.00871650967746973\n",
      "883 0.008698848076164722\n",
      "884 0.014679419808089733\n",
      "885 0.008732898160815239\n",
      "886 0.008944283239543438\n"
     ]
    },
    {
     "name": "stderr",
     "output_type": "stream",
     "text": [
      " 30%|██▉       | 892/3000 [00:50<01:44, 20.17it/s]"
     ]
    },
    {
     "name": "stdout",
     "output_type": "stream",
     "text": [
      "887 0.008724450133740902\n",
      "888 0.012834944762289524\n",
      "889 0.009314651601016521\n",
      "890 0.009099358692765236\n",
      "891 0.009011518210172653\n"
     ]
    },
    {
     "name": "stderr",
     "output_type": "stream",
     "text": [
      "\r",
      " 30%|██▉       | 895/3000 [00:50<01:44, 20.10it/s]"
     ]
    },
    {
     "name": "stdout",
     "output_type": "stream",
     "text": [
      "892 0.00885861273854971\n",
      "893 0.008920635096728802\n",
      "894 0.009072025306522846\n",
      "895 0.00873742625117302\n",
      "896 0.008947307243943214\n"
     ]
    },
    {
     "name": "stderr",
     "output_type": "stream",
     "text": [
      " 30%|███       | 900/3000 [00:51<01:55, 18.21it/s]"
     ]
    },
    {
     "name": "stdout",
     "output_type": "stream",
     "text": [
      "897 0.008926824666559696\n",
      "898 0.00854087807238102\n",
      "899 0.008764336816966534\n",
      "900 0.008813435211777687\n"
     ]
    },
    {
     "name": "stderr",
     "output_type": "stream",
     "text": [
      " 30%|███       | 904/3000 [00:51<01:52, 18.68it/s]"
     ]
    },
    {
     "name": "stdout",
     "output_type": "stream",
     "text": [
      "901 0.008755152113735676\n",
      "902 0.00897613912820816\n",
      "903 0.008860979229211807\n",
      "904 0.008929700590670109\n"
     ]
    },
    {
     "name": "stderr",
     "output_type": "stream",
     "text": [
      " 30%|███       | 910/3000 [00:51<01:47, 19.37it/s]"
     ]
    },
    {
     "name": "stdout",
     "output_type": "stream",
     "text": [
      "905 0.008787667378783226\n",
      "906 0.008972184732556343\n",
      "907 0.008882015943527222\n",
      "908 0.009163802489638329\n",
      "909 0.008908910676836967\n"
     ]
    },
    {
     "name": "stderr",
     "output_type": "stream",
     "text": [
      " 30%|███       | 915/3000 [00:51<01:45, 19.75it/s]"
     ]
    },
    {
     "name": "stdout",
     "output_type": "stream",
     "text": [
      "910 0.008809060789644718\n",
      "911 0.008818461559712887\n",
      "912 0.008845169097185135\n",
      "913 0.008815736509859562\n",
      "914 0.008902162313461304\n"
     ]
    },
    {
     "name": "stderr",
     "output_type": "stream",
     "text": [
      " 31%|███       | 920/3000 [00:52<01:44, 19.99it/s]"
     ]
    },
    {
     "name": "stdout",
     "output_type": "stream",
     "text": [
      "915 0.00866502895951271\n",
      "916 0.008758929558098316\n",
      "917 0.008996132761240005\n",
      "918 0.008989290334284306\n",
      "919 0.0088232746347785\n"
     ]
    },
    {
     "name": "stderr",
     "output_type": "stream",
     "text": [
      "\r",
      " 31%|███       | 923/3000 [00:52<01:42, 20.17it/s]"
     ]
    },
    {
     "name": "stdout",
     "output_type": "stream",
     "text": [
      "920 0.009008890017867088\n",
      "921 0.008739156648516655\n",
      "922 0.00873640738427639\n",
      "923 0.008823258802294731\n"
     ]
    },
    {
     "name": "stderr",
     "output_type": "stream",
     "text": [
      " 31%|███       | 929/3000 [00:52<01:43, 20.09it/s]"
     ]
    },
    {
     "name": "stdout",
     "output_type": "stream",
     "text": [
      "924 0.00919339805841446\n",
      "925 0.00906089972704649\n",
      "926 0.008828283287584782\n",
      "927 0.008910603821277618\n",
      "928 0.00863807462155819\n"
     ]
    },
    {
     "name": "stderr",
     "output_type": "stream",
     "text": [
      "\r",
      " 31%|███       | 932/3000 [00:52<01:42, 20.17it/s]"
     ]
    },
    {
     "name": "stdout",
     "output_type": "stream",
     "text": [
      "929 0.008935828693211079\n",
      "930 0.00875701941549778\n",
      "931 0.008840512484312057\n",
      "932 0.009006860665977001\n",
      "933 0.0087992949411273\n"
     ]
    },
    {
     "name": "stderr",
     "output_type": "stream",
     "text": [
      " 31%|███▏      | 938/3000 [00:53<01:43, 20.01it/s]"
     ]
    },
    {
     "name": "stdout",
     "output_type": "stream",
     "text": [
      "934 0.008937184698879719\n",
      "935 0.008829355239868164\n",
      "936 0.008817343972623348\n",
      "937 0.008902412839233875\n"
     ]
    },
    {
     "name": "stderr",
     "output_type": "stream",
     "text": [
      "\r",
      " 31%|███▏      | 941/3000 [00:53<01:43, 19.93it/s]"
     ]
    },
    {
     "name": "stdout",
     "output_type": "stream",
     "text": [
      "938 0.008958805352449417\n",
      "939 0.009160339832305908\n",
      "940 0.008784597739577293\n",
      "941 0.008848922327160835\n",
      "942 0.008768333122134209\n"
     ]
    },
    {
     "name": "stderr",
     "output_type": "stream",
     "text": [
      " 32%|███▏      | 947/3000 [00:53<01:42, 20.03it/s]"
     ]
    },
    {
     "name": "stdout",
     "output_type": "stream",
     "text": [
      "943 0.008467299863696098\n",
      "944 0.008685577660799026\n",
      "945 0.009042210876941681\n",
      "946 0.009123792871832848\n",
      "947 0.009069714695215225\n"
     ]
    },
    {
     "name": "stderr",
     "output_type": "stream",
     "text": [
      " 32%|███▏      | 953/3000 [00:53<01:42, 20.00it/s]"
     ]
    },
    {
     "name": "stdout",
     "output_type": "stream",
     "text": [
      "948 0.008842471055686474\n",
      "949 0.008909218944609165\n",
      "950 0.008969690650701523\n",
      "951 0.00869808066636324\n",
      "952 0.008688043802976608\n"
     ]
    },
    {
     "name": "stderr",
     "output_type": "stream",
     "text": [
      " 32%|███▏      | 957/3000 [00:54<01:43, 19.71it/s]"
     ]
    },
    {
     "name": "stdout",
     "output_type": "stream",
     "text": [
      "953 0.008944805711507797\n",
      "954 0.008799882605671883\n",
      "955 0.008684048429131508\n",
      "956 0.010838774964213371\n"
     ]
    },
    {
     "name": "stderr",
     "output_type": "stream",
     "text": [
      " 32%|███▏      | 961/3000 [00:54<01:44, 19.55it/s]"
     ]
    },
    {
     "name": "stdout",
     "output_type": "stream",
     "text": [
      "957 0.008891667239367962\n",
      "958 0.009062329307198524\n",
      "959 0.008852132596075535\n",
      "960 0.008799286559224129\n"
     ]
    },
    {
     "name": "stderr",
     "output_type": "stream",
     "text": [
      " 32%|███▏      | 965/3000 [00:54<01:45, 19.22it/s]"
     ]
    },
    {
     "name": "stdout",
     "output_type": "stream",
     "text": [
      "961 0.00888792797923088\n",
      "962 0.008731567300856113\n",
      "963 0.008864009752869606\n",
      "964 0.008797043934464455\n"
     ]
    },
    {
     "name": "stderr",
     "output_type": "stream",
     "text": [
      " 32%|███▏      | 970/3000 [00:54<01:43, 19.56it/s]"
     ]
    },
    {
     "name": "stdout",
     "output_type": "stream",
     "text": [
      "965 0.009059056639671326\n",
      "966 0.009062857367098331\n",
      "967 0.00871034525334835\n",
      "968 0.008839273825287819\n",
      "969 0.008893121965229511\n"
     ]
    },
    {
     "name": "stderr",
     "output_type": "stream",
     "text": [
      " 32%|███▎      | 975/3000 [00:55<01:42, 19.74it/s]"
     ]
    },
    {
     "name": "stdout",
     "output_type": "stream",
     "text": [
      "970 0.008602822199463844\n",
      "971 0.014828816056251526\n",
      "972 0.008860372006893158\n",
      "973 0.00917860958725214\n",
      "974 0.008794795721769333\n"
     ]
    },
    {
     "name": "stderr",
     "output_type": "stream",
     "text": [
      " 33%|███▎      | 980/3000 [00:55<01:42, 19.69it/s]"
     ]
    },
    {
     "name": "stdout",
     "output_type": "stream",
     "text": [
      "975 0.009110512211918831\n",
      "976 0.00917170848697424\n",
      "977 0.008904739283025265\n",
      "978 0.008769458159804344\n",
      "979 0.009013093076646328\n"
     ]
    },
    {
     "name": "stderr",
     "output_type": "stream",
     "text": [
      " 33%|███▎      | 984/3000 [00:55<01:42, 19.75it/s]"
     ]
    },
    {
     "name": "stdout",
     "output_type": "stream",
     "text": [
      "980 0.00904669240117073\n",
      "981 0.008756589144468307\n",
      "982 0.008983400650322437\n",
      "983 0.009138491004705429\n"
     ]
    },
    {
     "name": "stderr",
     "output_type": "stream",
     "text": [
      " 33%|███▎      | 988/3000 [00:55<01:43, 19.50it/s]"
     ]
    },
    {
     "name": "stdout",
     "output_type": "stream",
     "text": [
      "984 0.009110072627663612\n",
      "985 0.008861714042723179\n",
      "986 0.008948604576289654\n",
      "987 0.008760745637118816\n"
     ]
    },
    {
     "name": "stderr",
     "output_type": "stream",
     "text": [
      " 33%|███▎      | 993/3000 [00:55<01:41, 19.82it/s]"
     ]
    },
    {
     "name": "stdout",
     "output_type": "stream",
     "text": [
      "988 0.012793734669685364\n",
      "989 0.008987540379166603\n",
      "990 0.008873130194842815\n",
      "991 0.008906406350433826\n",
      "992 0.012846732512116432\n"
     ]
    },
    {
     "name": "stderr",
     "output_type": "stream",
     "text": [
      " 33%|███▎      | 997/3000 [00:56<01:42, 19.53it/s]"
     ]
    },
    {
     "name": "stdout",
     "output_type": "stream",
     "text": [
      "993 0.0087028369307518\n",
      "994 0.014822287485003471\n",
      "995 0.008882341906428337\n",
      "996 0.009168235585093498\n"
     ]
    },
    {
     "name": "stderr",
     "output_type": "stream",
     "text": [
      " 33%|███▎      | 1001/3000 [00:56<01:42, 19.51it/s]"
     ]
    },
    {
     "name": "stdout",
     "output_type": "stream",
     "text": [
      "997 0.012684524059295654\n",
      "998 0.009262424893677235\n",
      "999 0.009094192646443844\n",
      "1000 0.008938339538872242\n"
     ]
    },
    {
     "name": "stderr",
     "output_type": "stream",
     "text": [
      " 34%|███▎      | 1005/3000 [00:56<01:41, 19.63it/s]"
     ]
    },
    {
     "name": "stdout",
     "output_type": "stream",
     "text": [
      "1001 0.00893374066799879\n",
      "1002 0.008983002044260502\n",
      "1003 0.00926076527684927\n",
      "1004 0.00889477040618658\n",
      "1005 0.008952783420681953\n"
     ]
    },
    {
     "name": "stderr",
     "output_type": "stream",
     "text": [
      " 34%|███▎      | 1009/3000 [00:56<01:40, 19.78it/s]"
     ]
    },
    {
     "name": "stdout",
     "output_type": "stream",
     "text": [
      "1006 0.011137708090245724\n",
      "1007 0.008891300298273563\n",
      "1008 0.0089268172159791\n",
      "1009 0.009044109843671322\n",
      "1010 0.008833835832774639\n"
     ]
    },
    {
     "name": "stderr",
     "output_type": "stream",
     "text": [
      " 34%|███▍      | 1013/3000 [00:56<01:41, 19.64it/s]"
     ]
    },
    {
     "name": "stdout",
     "output_type": "stream",
     "text": [
      "1011 0.009208078496158123\n",
      "1012 0.009024211205542088\n",
      "1013 0.008886189199984074\n"
     ]
    },
    {
     "name": "stderr",
     "output_type": "stream",
     "text": [
      " 34%|███▍      | 1017/3000 [00:57<01:41, 19.52it/s]"
     ]
    },
    {
     "name": "stdout",
     "output_type": "stream",
     "text": [
      "1014 0.009144129231572151\n",
      "1015 0.008927853778004646\n",
      "1016 0.008843731135129929\n",
      "1017 0.009047331288456917\n"
     ]
    },
    {
     "name": "stderr",
     "output_type": "stream",
     "text": [
      " 34%|███▍      | 1023/3000 [00:57<01:39, 19.93it/s]"
     ]
    },
    {
     "name": "stdout",
     "output_type": "stream",
     "text": [
      "1018 0.009139490313827991\n",
      "1019 0.008980792947113514\n",
      "1020 0.008826006203889847\n",
      "1021 0.008958548307418823\n",
      "1022 0.008793551474809647\n"
     ]
    },
    {
     "name": "stderr",
     "output_type": "stream",
     "text": [
      " 34%|███▍      | 1027/3000 [00:57<01:41, 19.52it/s]"
     ]
    },
    {
     "name": "stdout",
     "output_type": "stream",
     "text": [
      "1023 0.009042404592037201\n",
      "1024 0.008927240036427975\n",
      "1025 0.008678006939589977\n",
      "1026 0.008923354558646679\n"
     ]
    },
    {
     "name": "stderr",
     "output_type": "stream",
     "text": [
      " 34%|███▍      | 1031/3000 [00:57<01:40, 19.64it/s]"
     ]
    },
    {
     "name": "stdout",
     "output_type": "stream",
     "text": [
      "1027 0.0089114336296916\n",
      "1028 0.008811242878437042\n",
      "1029 0.008732416667044163\n",
      "1030 0.008617090061306953\n",
      "1031 0.014568682760000229\n"
     ]
    },
    {
     "name": "stderr",
     "output_type": "stream",
     "text": [
      " 35%|███▍      | 1036/3000 [00:58<01:38, 19.88it/s]"
     ]
    },
    {
     "name": "stdout",
     "output_type": "stream",
     "text": [
      "1032 0.008909971453249454\n",
      "1033 0.0087363813072443\n",
      "1034 0.009034045040607452\n",
      "1035 0.009127728641033173\n",
      "1036 0.008868739940226078\n"
     ]
    },
    {
     "name": "stderr",
     "output_type": "stream",
     "text": [
      " 35%|███▍      | 1040/3000 [00:58<01:38, 19.89it/s]"
     ]
    },
    {
     "name": "stdout",
     "output_type": "stream",
     "text": [
      "1037 0.008821312338113785\n",
      "1038 0.010927867144346237\n",
      "1039 0.00889477226883173\n",
      "1040 0.009012888185679913\n"
     ]
    },
    {
     "name": "stderr",
     "output_type": "stream",
     "text": [
      " 35%|███▍      | 1045/3000 [00:58<01:37, 20.00it/s]"
     ]
    },
    {
     "name": "stdout",
     "output_type": "stream",
     "text": [
      "1041 0.009229370392858982\n",
      "1042 0.008848792873322964\n",
      "1043 0.008817116729915142\n",
      "1044 0.008965859189629555\n",
      "1045 0.00899730809032917\n"
     ]
    },
    {
     "name": "stderr",
     "output_type": "stream",
     "text": [
      " 35%|███▌      | 1051/3000 [00:58<01:37, 19.99it/s]"
     ]
    },
    {
     "name": "stdout",
     "output_type": "stream",
     "text": [
      "1046 0.008978370577096939\n",
      "1047 0.009002823382616043\n",
      "1048 0.008942396380007267\n",
      "1049 0.008887517265975475\n",
      "1050 0.008853946812450886\n"
     ]
    },
    {
     "name": "stderr",
     "output_type": "stream",
     "text": [
      " 35%|███▌      | 1055/3000 [00:59<01:38, 19.72it/s]"
     ]
    },
    {
     "name": "stdout",
     "output_type": "stream",
     "text": [
      "1051 0.00883155781775713\n",
      "1052 0.008957413956522942\n",
      "1053 0.008957273326814175\n",
      "1054 0.008861965499818325\n"
     ]
    },
    {
     "name": "stderr",
     "output_type": "stream",
     "text": [
      " 35%|███▌      | 1060/3000 [00:59<01:37, 19.91it/s]"
     ]
    },
    {
     "name": "stdout",
     "output_type": "stream",
     "text": [
      "1055 0.01269979402422905\n",
      "1056 0.00878720823675394\n",
      "1057 0.009005030617117882\n",
      "1058 0.008879568427801132\n",
      "1059 0.00898037850856781\n"
     ]
    },
    {
     "name": "stderr",
     "output_type": "stream",
     "text": [
      "\r",
      " 35%|███▌      | 1063/3000 [00:59<01:37, 19.97it/s]"
     ]
    },
    {
     "name": "stdout",
     "output_type": "stream",
     "text": [
      "1060 0.008779243566095829\n",
      "1061 0.00887398049235344\n",
      "1062 0.01252388209104538\n",
      "1063 0.008656344376504421\n"
     ]
    },
    {
     "name": "stderr",
     "output_type": "stream",
     "text": [
      " 36%|███▌      | 1069/3000 [00:59<01:37, 19.71it/s]"
     ]
    },
    {
     "name": "stdout",
     "output_type": "stream",
     "text": [
      "1064 0.008846365846693516\n",
      "1065 0.015074662864208221\n",
      "1066 0.009213066659867764\n",
      "1067 0.009127181954681873\n",
      "1068 0.0088754678145051\n"
     ]
    },
    {
     "name": "stderr",
     "output_type": "stream",
     "text": [
      " 36%|███▌      | 1074/3000 [01:00<01:37, 19.83it/s]"
     ]
    },
    {
     "name": "stdout",
     "output_type": "stream",
     "text": [
      "1069 0.009084993973374367\n",
      "1070 0.009033490903675556\n",
      "1071 0.009216790087521076\n",
      "1072 0.009012413211166859\n",
      "1073 0.009111317805945873\n"
     ]
    },
    {
     "name": "stderr",
     "output_type": "stream",
     "text": [
      " 36%|███▌      | 1079/3000 [01:00<01:36, 19.89it/s]"
     ]
    },
    {
     "name": "stdout",
     "output_type": "stream",
     "text": [
      "1074 0.00877952016890049\n",
      "1075 0.009163124486804008\n",
      "1076 0.008610100485384464\n",
      "1077 0.008972487412393093\n",
      "1078 0.009052064269781113\n"
     ]
    },
    {
     "name": "stderr",
     "output_type": "stream",
     "text": [
      "\r",
      " 36%|███▌      | 1082/3000 [01:00<01:36, 19.98it/s]"
     ]
    },
    {
     "name": "stdout",
     "output_type": "stream",
     "text": [
      "1079 0.008936169557273388\n",
      "1080 0.008867362514138222\n",
      "1081 0.008957765996456146\n",
      "1082 0.009130471386015415\n",
      "1083 0.009024105966091156\n"
     ]
    },
    {
     "name": "stderr",
     "output_type": "stream",
     "text": [
      " 36%|███▋      | 1088/3000 [01:00<01:34, 20.24it/s]"
     ]
    },
    {
     "name": "stdout",
     "output_type": "stream",
     "text": [
      "1084 0.008696411736309528\n",
      "1085 0.00887173693627119\n",
      "1086 0.008744566701352596\n",
      "1087 0.0087174903601408\n",
      "1088 0.008892354555428028\n"
     ]
    },
    {
     "name": "stderr",
     "output_type": "stream",
     "text": [
      " 36%|███▋      | 1094/3000 [01:01<01:35, 20.02it/s]"
     ]
    },
    {
     "name": "stdout",
     "output_type": "stream",
     "text": [
      "1089 0.008948043920099735\n",
      "1090 0.008694066666066647\n",
      "1091 0.008982195518910885\n",
      "1092 0.014774790033698082\n",
      "1093 0.009081454947590828\n"
     ]
    },
    {
     "name": "stderr",
     "output_type": "stream",
     "text": [
      "\r",
      " 37%|███▋      | 1097/3000 [01:01<01:35, 20.02it/s]"
     ]
    },
    {
     "name": "stdout",
     "output_type": "stream",
     "text": [
      "1094 0.011079058051109314\n",
      "1095 0.009183750487864017\n",
      "1096 0.009260703809559345\n",
      "1097 0.008906299248337746\n",
      "1098 0.008881707675755024\n"
     ]
    },
    {
     "name": "stderr",
     "output_type": "stream",
     "text": [
      " 37%|███▋      | 1103/3000 [01:01<01:34, 20.04it/s]"
     ]
    },
    {
     "name": "stdout",
     "output_type": "stream",
     "text": [
      "1099 0.00891098566353321\n",
      "1100 0.008972506038844585\n",
      "1101 0.00899333506822586\n",
      "1102 0.009016747586429119\n"
     ]
    },
    {
     "name": "stderr",
     "output_type": "stream",
     "text": [
      "\r",
      " 37%|███▋      | 1106/3000 [01:01<01:34, 19.96it/s]"
     ]
    },
    {
     "name": "stdout",
     "output_type": "stream",
     "text": [
      "1103 0.00868995115160942\n",
      "1104 0.008833752013742924\n",
      "1105 0.00884377583861351\n",
      "1106 0.008550278842449188\n",
      "1107 0.008847111836075783\n"
     ]
    },
    {
     "name": "stderr",
     "output_type": "stream",
     "text": [
      " 37%|███▋      | 1111/3000 [01:01<01:35, 19.85it/s]"
     ]
    },
    {
     "name": "stdout",
     "output_type": "stream",
     "text": [
      "1108 0.008932243101298809\n",
      "1109 0.008848940953612328\n",
      "1110 0.008845677599310875\n",
      "1111 0.00889146514236927\n"
     ]
    },
    {
     "name": "stderr",
     "output_type": "stream",
     "text": [
      " 37%|███▋      | 1115/3000 [01:02<01:35, 19.68it/s]"
     ]
    },
    {
     "name": "stdout",
     "output_type": "stream",
     "text": [
      "1112 0.008851897902786732\n",
      "1113 0.008560581132769585\n",
      "1114 0.008691937662661076\n",
      "1115 0.008742724545300007\n"
     ]
    },
    {
     "name": "stderr",
     "output_type": "stream",
     "text": [
      " 37%|███▋      | 1119/3000 [01:02<01:35, 19.65it/s]"
     ]
    },
    {
     "name": "stdout",
     "output_type": "stream",
     "text": [
      "1116 0.008798030205070972\n",
      "1117 0.00893356092274189\n",
      "1118 0.008980068378150463\n",
      "1119 0.009123013354837894\n",
      "1120 0.008614089339971542\n"
     ]
    },
    {
     "name": "stderr",
     "output_type": "stream",
     "text": [
      " 38%|███▊      | 1125/3000 [01:02<01:33, 19.97it/s]"
     ]
    },
    {
     "name": "stdout",
     "output_type": "stream",
     "text": [
      "1121 0.008794902823865414\n",
      "1122 0.008795605972409248\n",
      "1123 0.008633293211460114\n",
      "1124 0.008950159884989262\n",
      "1125 0.008944549597799778\n"
     ]
    },
    {
     "name": "stderr",
     "output_type": "stream",
     "text": [
      " 38%|███▊      | 1129/3000 [01:02<01:34, 19.85it/s]"
     ]
    },
    {
     "name": "stdout",
     "output_type": "stream",
     "text": [
      "1126 0.008987605571746826\n",
      "1127 0.00882894080132246\n",
      "1128 0.008740984834730625\n",
      "1129 0.008817669004201889\n"
     ]
    },
    {
     "name": "stderr",
     "output_type": "stream",
     "text": [
      " 38%|███▊      | 1133/3000 [01:02<01:34, 19.75it/s]"
     ]
    },
    {
     "name": "stdout",
     "output_type": "stream",
     "text": [
      "1130 0.008766385726630688\n",
      "1131 0.008954103104770184\n",
      "1132 0.008886748924851418\n",
      "1133 0.008899066597223282\n",
      "1134 0.008670990355312824\n"
     ]
    },
    {
     "name": "stderr",
     "output_type": "stream",
     "text": [
      " 38%|███▊      | 1138/3000 [01:03<01:33, 19.84it/s]"
     ]
    },
    {
     "name": "stdout",
     "output_type": "stream",
     "text": [
      "1135 0.00883475597947836\n",
      "1136 0.00889320857822895\n",
      "1137 0.008678276091814041\n",
      "1138 0.00893736444413662\n"
     ]
    },
    {
     "name": "stderr",
     "output_type": "stream",
     "text": [
      " 38%|███▊      | 1145/3000 [01:03<01:33, 19.94it/s]"
     ]
    },
    {
     "name": "stdout",
     "output_type": "stream",
     "text": [
      "1139 0.008798596449196339\n",
      "1140 0.008959125727415085\n",
      "1141 0.00875167828053236\n",
      "1142 0.008530467748641968\n",
      "1143 0.008548497222363949\n",
      "1144 0.008861434645950794\n"
     ]
    },
    {
     "name": "stderr",
     "output_type": "stream",
     "text": [
      " 38%|███▊      | 1150/3000 [01:03<01:32, 19.97it/s]"
     ]
    },
    {
     "name": "stdout",
     "output_type": "stream",
     "text": [
      "1145 0.008495347574353218\n",
      "1146 0.008800352923572063\n",
      "1147 0.008644565008580685\n",
      "1148 0.008670390583574772\n",
      "1149 0.00890764407813549\n"
     ]
    },
    {
     "name": "stderr",
     "output_type": "stream",
     "text": [
      "\r",
      " 38%|███▊      | 1153/3000 [01:03<01:32, 20.02it/s]"
     ]
    },
    {
     "name": "stdout",
     "output_type": "stream",
     "text": [
      "1150 0.008759421296417713\n",
      "1151 0.008535739965736866\n",
      "1152 0.009065752848982811\n",
      "1153 0.011001097969710827\n",
      "1154 0.008619659580290318\n"
     ]
    },
    {
     "name": "stderr",
     "output_type": "stream",
     "text": [
      " 39%|███▊      | 1159/3000 [01:04<01:32, 19.98it/s]"
     ]
    },
    {
     "name": "stdout",
     "output_type": "stream",
     "text": [
      "1155 0.008972248062491417\n",
      "1156 0.008780770003795624\n",
      "1157 0.008953804150223732\n",
      "1158 0.01081998273730278\n",
      "1159 0.00903169997036457\n"
     ]
    },
    {
     "name": "stderr",
     "output_type": "stream",
     "text": [
      " 39%|███▉      | 1165/3000 [01:04<01:30, 20.17it/s]"
     ]
    },
    {
     "name": "stdout",
     "output_type": "stream",
     "text": [
      "1160 0.008714547380805016\n",
      "1161 0.008779454976320267\n",
      "1162 0.008765248581767082\n",
      "1163 0.008943157270550728\n",
      "1164 0.012793503701686859\n"
     ]
    },
    {
     "name": "stderr",
     "output_type": "stream",
     "text": [
      "\r",
      " 39%|███▉      | 1168/3000 [01:04<01:30, 20.22it/s]"
     ]
    },
    {
     "name": "stdout",
     "output_type": "stream",
     "text": [
      "1165 0.009002827107906342\n",
      "1166 0.00900951772928238\n",
      "1167 0.008597604930400848\n",
      "1168 0.008851531893014908\n",
      "1169 0.00907160434871912\n"
     ]
    },
    {
     "name": "stderr",
     "output_type": "stream",
     "text": [
      " 39%|███▉      | 1174/3000 [01:05<01:30, 20.24it/s]"
     ]
    },
    {
     "name": "stdout",
     "output_type": "stream",
     "text": [
      "1170 0.008825019933283329\n",
      "1171 0.00892694853246212\n",
      "1172 0.009026010520756245\n",
      "1173 0.008839291520416737\n",
      "1174 0.00878329761326313\n"
     ]
    },
    {
     "name": "stderr",
     "output_type": "stream",
     "text": [
      "\r",
      " 39%|███▉      | 1177/3000 [01:05<01:32, 19.81it/s]"
     ]
    },
    {
     "name": "stdout",
     "output_type": "stream",
     "text": [
      "1175 0.008796324953436852\n",
      "1176 0.00863659754395485\n",
      "1177 0.008562409318983555\n",
      "1178 0.009005920961499214\n"
     ]
    },
    {
     "name": "stderr",
     "output_type": "stream",
     "text": [
      " 39%|███▉      | 1183/3000 [01:05<01:30, 20.05it/s]"
     ]
    },
    {
     "name": "stdout",
     "output_type": "stream",
     "text": [
      "1179 0.008997607976198196\n",
      "1180 0.008796948939561844\n",
      "1181 0.008958524093031883\n",
      "1182 0.0087728975340724\n",
      "1183 0.009017862379550934\n"
     ]
    },
    {
     "name": "stderr",
     "output_type": "stream",
     "text": [
      " 40%|███▉      | 1189/3000 [01:05<01:30, 20.05it/s]"
     ]
    },
    {
     "name": "stdout",
     "output_type": "stream",
     "text": [
      "1184 0.008731179870665073\n",
      "1185 0.008803744800388813\n",
      "1186 0.009018488228321075\n",
      "1187 0.00874961819499731\n",
      "1188 0.009007484652101994\n"
     ]
    },
    {
     "name": "stderr",
     "output_type": "stream",
     "text": [
      "\r",
      " 40%|███▉      | 1192/3000 [01:05<01:31, 19.84it/s]"
     ]
    },
    {
     "name": "stdout",
     "output_type": "stream",
     "text": [
      "1189 0.008568032644689083\n",
      "1190 0.008474713191390038\n",
      "1191 0.008657594211399555\n",
      "1192 0.008600840345025063\n"
     ]
    },
    {
     "name": "stderr",
     "output_type": "stream",
     "text": [
      " 40%|███▉      | 1197/3000 [01:06<01:30, 19.84it/s]"
     ]
    },
    {
     "name": "stdout",
     "output_type": "stream",
     "text": [
      "1193 0.008777374401688576\n",
      "1194 0.00880917627364397\n",
      "1195 0.009082317352294922\n",
      "1196 0.008771304972469807\n"
     ]
    },
    {
     "name": "stderr",
     "output_type": "stream",
     "text": [
      " 40%|████      | 1201/3000 [01:06<01:31, 19.64it/s]"
     ]
    },
    {
     "name": "stdout",
     "output_type": "stream",
     "text": [
      "1197 0.008787883445620537\n",
      "1198 0.008930288255214691\n",
      "1199 0.008868278004229069\n",
      "1200 0.008982854895293713\n"
     ]
    },
    {
     "name": "stderr",
     "output_type": "stream",
     "text": [
      " 40%|████      | 1206/3000 [01:06<01:30, 19.77it/s]"
     ]
    },
    {
     "name": "stdout",
     "output_type": "stream",
     "text": [
      "1201 0.008781534619629383\n",
      "1202 0.00895408634096384\n",
      "1203 0.008585520088672638\n",
      "1204 0.008793872781097889\n",
      "1205 0.008757452480494976\n"
     ]
    },
    {
     "name": "stderr",
     "output_type": "stream",
     "text": [
      " 40%|████      | 1210/3000 [01:06<01:31, 19.48it/s]"
     ]
    },
    {
     "name": "stdout",
     "output_type": "stream",
     "text": [
      "1206 0.009027889929711819\n",
      "1207 0.008659482933580875\n",
      "1208 0.008784381672739983\n",
      "1209 0.008851805701851845\n"
     ]
    },
    {
     "name": "stderr",
     "output_type": "stream",
     "text": [
      " 40%|████      | 1214/3000 [01:07<01:32, 19.29it/s]"
     ]
    },
    {
     "name": "stdout",
     "output_type": "stream",
     "text": [
      "1210 0.00877975020557642\n",
      "1211 0.008589563891291618\n",
      "1212 0.00860181637108326\n",
      "1213 0.008897907100617886\n"
     ]
    },
    {
     "name": "stderr",
     "output_type": "stream",
     "text": [
      "\r",
      " 41%|████      | 1216/3000 [01:07<02:22, 12.53it/s]"
     ]
    },
    {
     "name": "stdout",
     "output_type": "stream",
     "text": [
      "1214 0.008643540553748608\n",
      "1215 0.00874613132327795\n"
     ]
    },
    {
     "name": "stderr",
     "output_type": "stream",
     "text": [
      "\r",
      " 41%|████      | 1218/3000 [01:07<02:28, 12.00it/s]"
     ]
    },
    {
     "name": "stdout",
     "output_type": "stream",
     "text": [
      "1216 0.008705714717507362\n",
      "1217 0.009221802465617657\n",
      "1218 0.008678157813847065\n"
     ]
    },
    {
     "name": "stderr",
     "output_type": "stream",
     "text": [
      "\r",
      " 41%|████      | 1220/3000 [01:07<02:33, 11.58it/s]"
     ]
    },
    {
     "name": "stdout",
     "output_type": "stream",
     "text": [
      "1219 0.008725184947252274\n",
      "1220 0.009251095354557037\n"
     ]
    },
    {
     "name": "stderr",
     "output_type": "stream",
     "text": [
      " 41%|████      | 1224/3000 [01:08<02:30, 11.82it/s]"
     ]
    },
    {
     "name": "stdout",
     "output_type": "stream",
     "text": [
      "1221 0.008791235275566578\n",
      "1222 0.008983257226645947\n",
      "1223 0.008974792435765266\n"
     ]
    },
    {
     "name": "stderr",
     "output_type": "stream",
     "text": [
      "\r",
      " 41%|████      | 1226/3000 [01:08<02:43, 10.82it/s]"
     ]
    },
    {
     "name": "stdout",
     "output_type": "stream",
     "text": [
      "1224 0.008898498490452766\n",
      "1225 0.008672763593494892\n",
      "1226 0.008841368369758129\n"
     ]
    },
    {
     "name": "stderr",
     "output_type": "stream",
     "text": [
      " 41%|████      | 1230/3000 [01:08<02:30, 11.72it/s]"
     ]
    },
    {
     "name": "stdout",
     "output_type": "stream",
     "text": [
      "1227 0.008843121118843555\n",
      "1228 0.008744879625737667\n",
      "1229 0.008705087006092072\n",
      "1230 0.00871928222477436\n"
     ]
    },
    {
     "name": "stderr",
     "output_type": "stream",
     "text": [
      " 41%|████      | 1234/3000 [01:08<02:14, 13.12it/s]"
     ]
    },
    {
     "name": "stdout",
     "output_type": "stream",
     "text": [
      "1231 0.00863726157695055\n",
      "1232 0.008814888074994087\n",
      "1233 0.008860145695507526\n"
     ]
    },
    {
     "name": "stderr",
     "output_type": "stream",
     "text": [
      "\r",
      " 41%|████      | 1236/3000 [01:09<02:34, 11.45it/s]"
     ]
    },
    {
     "name": "stdout",
     "output_type": "stream",
     "text": [
      "1234 0.008863457478582859\n",
      "1235 0.008727476000785828\n",
      "1236 0.00876533705741167\n"
     ]
    },
    {
     "name": "stderr",
     "output_type": "stream",
     "text": [
      "\r",
      " 41%|████▏     | 1238/3000 [01:09<02:35, 11.36it/s]"
     ]
    },
    {
     "name": "stdout",
     "output_type": "stream",
     "text": [
      "1237 0.008921856991946697\n",
      "1238 0.008633065968751907\n"
     ]
    },
    {
     "name": "stderr",
     "output_type": "stream",
     "text": [
      "\r",
      " 41%|████▏     | 1240/3000 [01:09<02:50, 10.35it/s]"
     ]
    },
    {
     "name": "stdout",
     "output_type": "stream",
     "text": [
      "1239 0.008725201711058617\n",
      "1240 0.009049568325281143\n"
     ]
    },
    {
     "name": "stderr",
     "output_type": "stream",
     "text": [
      " 41%|████▏     | 1244/3000 [01:09<02:49, 10.33it/s]"
     ]
    },
    {
     "name": "stdout",
     "output_type": "stream",
     "text": [
      "1241 0.008917808532714844\n",
      "1242 0.008724748156964779\n",
      "1243 0.008582675829529762\n"
     ]
    },
    {
     "name": "stderr",
     "output_type": "stream",
     "text": [
      "\r",
      " 42%|████▏     | 1246/3000 [01:10<02:31, 11.61it/s]"
     ]
    },
    {
     "name": "stdout",
     "output_type": "stream",
     "text": [
      "1244 0.008651294745504856\n",
      "1245 0.008693164214491844\n",
      "1246 0.008749662898480892\n"
     ]
    },
    {
     "name": "stderr",
     "output_type": "stream",
     "text": [
      " 42%|████▏     | 1250/3000 [01:10<02:32, 11.45it/s]"
     ]
    },
    {
     "name": "stdout",
     "output_type": "stream",
     "text": [
      "1247 0.008979856967926025\n",
      "1248 0.00863710418343544\n",
      "1249 0.010745377279818058\n"
     ]
    },
    {
     "name": "stderr",
     "output_type": "stream",
     "text": [
      "\r",
      " 42%|████▏     | 1252/3000 [01:10<02:27, 11.83it/s]"
     ]
    },
    {
     "name": "stdout",
     "output_type": "stream",
     "text": [
      "1250 0.008885282091796398\n",
      "1251 0.00867885909974575\n",
      "1252 0.008843234740197659\n"
     ]
    },
    {
     "name": "stderr",
     "output_type": "stream",
     "text": [
      " 42%|████▏     | 1256/3000 [01:10<02:36, 11.14it/s]"
     ]
    },
    {
     "name": "stdout",
     "output_type": "stream",
     "text": [
      "1253 0.00888409186154604\n",
      "1254 0.009085697121918201\n",
      "1255 0.00888879969716072\n"
     ]
    },
    {
     "name": "stderr",
     "output_type": "stream",
     "text": [
      "\r",
      " 42%|████▏     | 1258/3000 [01:11<02:47, 10.42it/s]"
     ]
    },
    {
     "name": "stdout",
     "output_type": "stream",
     "text": [
      "1256 0.008816402405500412\n",
      "1257 0.008918105624616146\n",
      "1258 0.00893592182546854\n"
     ]
    },
    {
     "name": "stderr",
     "output_type": "stream",
     "text": [
      "\r",
      " 42%|████▏     | 1260/3000 [01:11<02:44, 10.59it/s]"
     ]
    },
    {
     "name": "stdout",
     "output_type": "stream",
     "text": [
      "1259 0.009021506644785404\n",
      "1260 0.008894737809896469\n"
     ]
    },
    {
     "name": "stderr",
     "output_type": "stream",
     "text": [
      " 42%|████▏     | 1264/3000 [01:11<02:49, 10.23it/s]"
     ]
    },
    {
     "name": "stdout",
     "output_type": "stream",
     "text": [
      "1261 0.008843019604682922\n",
      "1262 0.008709295652806759\n",
      "1263 0.008698733523488045\n"
     ]
    },
    {
     "name": "stderr",
     "output_type": "stream",
     "text": [
      "\r",
      " 42%|████▏     | 1266/3000 [01:11<02:50, 10.16it/s]"
     ]
    },
    {
     "name": "stdout",
     "output_type": "stream",
     "text": [
      "1264 0.00888651143759489\n",
      "1265 0.00875753816217184\n",
      "1266 0.008670616894960403\n"
     ]
    },
    {
     "name": "stderr",
     "output_type": "stream",
     "text": [
      " 42%|████▏     | 1269/3000 [01:12<02:57,  9.73it/s]"
     ]
    },
    {
     "name": "stdout",
     "output_type": "stream",
     "text": [
      "1267 0.008727611973881721\n",
      "1268 0.00856901053339243\n"
     ]
    },
    {
     "name": "stderr",
     "output_type": "stream",
     "text": [
      " 42%|████▏     | 1271/3000 [01:12<03:07,  9.23it/s]"
     ]
    },
    {
     "name": "stdout",
     "output_type": "stream",
     "text": [
      "1269 0.00862839724868536\n",
      "1270 0.008713738061487675\n"
     ]
    },
    {
     "name": "stderr",
     "output_type": "stream",
     "text": [
      " 42%|████▏     | 1274/3000 [01:12<03:00,  9.54it/s]"
     ]
    },
    {
     "name": "stdout",
     "output_type": "stream",
     "text": [
      "1271 0.008565014228224754\n",
      "1272 0.008746790699660778\n",
      "1273 0.00855298526585102\n"
     ]
    },
    {
     "name": "stderr",
     "output_type": "stream",
     "text": [
      " 43%|████▎     | 1278/3000 [01:13<02:25, 11.84it/s]"
     ]
    },
    {
     "name": "stdout",
     "output_type": "stream",
     "text": [
      "1274 0.008856802247464657\n",
      "1275 0.008672820404171944\n",
      "1276 0.008723309263586998\n",
      "1277 0.008709106594324112\n"
     ]
    },
    {
     "name": "stderr",
     "output_type": "stream",
     "text": [
      " 43%|████▎     | 1282/3000 [01:13<01:59, 14.38it/s]"
     ]
    },
    {
     "name": "stdout",
     "output_type": "stream",
     "text": [
      "1278 0.008770774118602276\n",
      "1279 0.008893181569874287\n",
      "1280 0.008939053863286972\n",
      "1281 0.009060824289917946\n"
     ]
    },
    {
     "name": "stderr",
     "output_type": "stream",
     "text": [
      "\r",
      " 43%|████▎     | 1284/3000 [01:13<01:56, 14.67it/s]"
     ]
    },
    {
     "name": "stdout",
     "output_type": "stream",
     "text": [
      "1282 0.008983857929706573\n",
      "1283 0.008810029365122318\n",
      "1284 0.008593843318521976\n"
     ]
    },
    {
     "name": "stderr",
     "output_type": "stream",
     "text": [
      "\r",
      " 43%|████▎     | 1286/3000 [01:13<02:06, 13.55it/s]"
     ]
    },
    {
     "name": "stdout",
     "output_type": "stream",
     "text": [
      "1285 0.008536047302186489\n",
      "1286 0.00855916179716587\n"
     ]
    },
    {
     "name": "stderr",
     "output_type": "stream",
     "text": [
      " 43%|████▎     | 1290/3000 [01:13<02:16, 12.49it/s]"
     ]
    },
    {
     "name": "stdout",
     "output_type": "stream",
     "text": [
      "1287 0.00883780512958765\n",
      "1288 0.008849738165736198\n",
      "1289 0.00895206443965435\n",
      "1290 0.008795817382633686\n"
     ]
    },
    {
     "name": "stderr",
     "output_type": "stream",
     "text": [
      " 43%|████▎     | 1295/3000 [01:14<01:49, 15.58it/s]"
     ]
    },
    {
     "name": "stdout",
     "output_type": "stream",
     "text": [
      "1291 0.008848078548908234\n",
      "1292 0.008766182698309422\n",
      "1293 0.008761211298406124\n",
      "1294 0.008726544678211212\n"
     ]
    },
    {
     "name": "stderr",
     "output_type": "stream",
     "text": [
      " 43%|████▎     | 1299/3000 [01:14<01:46, 15.98it/s]"
     ]
    },
    {
     "name": "stdout",
     "output_type": "stream",
     "text": [
      "1295 0.008807233534753323\n",
      "1296 0.008896447718143463\n",
      "1297 0.009181514382362366\n",
      "1298 0.008714333176612854\n"
     ]
    },
    {
     "name": "stderr",
     "output_type": "stream",
     "text": [
      " 43%|████▎     | 1303/3000 [01:14<01:38, 17.14it/s]"
     ]
    },
    {
     "name": "stdout",
     "output_type": "stream",
     "text": [
      "1299 0.00895040575414896\n",
      "1300 0.008690956979990005\n",
      "1301 0.008812610991299152\n",
      "1302 0.008943346329033375\n"
     ]
    },
    {
     "name": "stderr",
     "output_type": "stream",
     "text": [
      "\r",
      " 44%|████▎     | 1305/3000 [01:14<01:52, 15.02it/s]"
     ]
    },
    {
     "name": "stdout",
     "output_type": "stream",
     "text": [
      "1303 0.008863776922225952\n",
      "1304 0.00863856915384531\n",
      "1305 0.008798292838037014\n"
     ]
    },
    {
     "name": "stderr",
     "output_type": "stream",
     "text": [
      " 44%|████▎     | 1309/3000 [01:15<02:12, 12.77it/s]"
     ]
    },
    {
     "name": "stdout",
     "output_type": "stream",
     "text": [
      "1306 0.008845001459121704\n",
      "1307 0.008776053786277771\n",
      "1308 0.008695806376636028\n"
     ]
    },
    {
     "name": "stderr",
     "output_type": "stream",
     "text": [
      " 44%|████▍     | 1313/3000 [01:15<01:56, 14.51it/s]"
     ]
    },
    {
     "name": "stdout",
     "output_type": "stream",
     "text": [
      "1309 0.008765088394284248\n",
      "1310 0.00888871867209673\n",
      "1311 0.00885104387998581\n",
      "1312 0.00885919388383627\n"
     ]
    },
    {
     "name": "stderr",
     "output_type": "stream",
     "text": [
      "\r",
      " 44%|████▍     | 1315/3000 [01:15<02:04, 13.52it/s]"
     ]
    },
    {
     "name": "stdout",
     "output_type": "stream",
     "text": [
      "1313 0.008736674673855305\n",
      "1314 0.009066828526556492\n",
      "1315 0.008761344477534294\n"
     ]
    },
    {
     "name": "stderr",
     "output_type": "stream",
     "text": [
      " 44%|████▍     | 1319/3000 [01:15<02:18, 12.15it/s]"
     ]
    },
    {
     "name": "stdout",
     "output_type": "stream",
     "text": [
      "1316 0.012999452650547028\n",
      "1317 0.008957096375524998\n",
      "1318 0.008692096918821335\n"
     ]
    },
    {
     "name": "stderr",
     "output_type": "stream",
     "text": [
      "\r",
      " 44%|████▍     | 1321/3000 [01:16<02:24, 11.63it/s]"
     ]
    },
    {
     "name": "stdout",
     "output_type": "stream",
     "text": [
      "1319 0.008842244744300842\n",
      "1320 0.008959701284766197\n",
      "1321 0.008966658264398575\n"
     ]
    },
    {
     "name": "stderr",
     "output_type": "stream",
     "text": [
      " 44%|████▍     | 1325/3000 [01:16<02:24, 11.63it/s]"
     ]
    },
    {
     "name": "stdout",
     "output_type": "stream",
     "text": [
      "1322 0.009064802899956703\n",
      "1323 0.00874737836420536\n",
      "1324 0.008850697427988052\n"
     ]
    },
    {
     "name": "stderr",
     "output_type": "stream",
     "text": [
      " 44%|████▍     | 1329/3000 [01:16<02:09, 12.86it/s]"
     ]
    },
    {
     "name": "stdout",
     "output_type": "stream",
     "text": [
      "1325 0.008856629021465778\n",
      "1326 0.008984282612800598\n",
      "1327 0.00878841895610094\n",
      "1328 0.008765028789639473\n"
     ]
    },
    {
     "name": "stderr",
     "output_type": "stream",
     "text": [
      "\r",
      " 44%|████▍     | 1331/3000 [01:16<02:16, 12.21it/s]"
     ]
    },
    {
     "name": "stdout",
     "output_type": "stream",
     "text": [
      "1329 0.008824815042316914\n",
      "1330 0.008694173768162727\n",
      "1331 0.00886635109782219\n"
     ]
    },
    {
     "name": "stderr",
     "output_type": "stream",
     "text": [
      "\r",
      " 44%|████▍     | 1333/3000 [01:17<02:23, 11.62it/s]"
     ]
    },
    {
     "name": "stdout",
     "output_type": "stream",
     "text": [
      "1332 0.008798864670097828\n",
      "1333 0.008787425234913826\n"
     ]
    },
    {
     "name": "stderr",
     "output_type": "stream",
     "text": [
      " 45%|████▍     | 1337/3000 [01:17<02:36, 10.62it/s]"
     ]
    },
    {
     "name": "stdout",
     "output_type": "stream",
     "text": [
      "1334 0.008748379535973072\n",
      "1335 0.008994007483124733\n",
      "1336 0.00891315471380949\n"
     ]
    },
    {
     "name": "stderr",
     "output_type": "stream",
     "text": [
      "\r",
      " 45%|████▍     | 1339/3000 [01:17<02:35, 10.70it/s]"
     ]
    },
    {
     "name": "stdout",
     "output_type": "stream",
     "text": [
      "1337 0.008650409057736397\n",
      "1338 0.010731108486652374\n",
      "1339 0.008911172859370708\n"
     ]
    },
    {
     "name": "stderr",
     "output_type": "stream",
     "text": [
      " 45%|████▍     | 1343/3000 [01:18<02:30, 10.98it/s]"
     ]
    },
    {
     "name": "stdout",
     "output_type": "stream",
     "text": [
      "1340 0.008594935759902\n",
      "1341 0.008783940225839615\n",
      "1342 0.008894429542124271\n"
     ]
    },
    {
     "name": "stderr",
     "output_type": "stream",
     "text": [
      "\r",
      " 45%|████▍     | 1345/3000 [01:18<02:16, 12.17it/s]"
     ]
    },
    {
     "name": "stdout",
     "output_type": "stream",
     "text": [
      "1343 0.008778821676969528\n",
      "1344 0.00897264201194048\n",
      "1345 0.008952096104621887\n"
     ]
    },
    {
     "name": "stderr",
     "output_type": "stream",
     "text": [
      " 45%|████▍     | 1349/3000 [01:18<02:05, 13.13it/s]"
     ]
    },
    {
     "name": "stdout",
     "output_type": "stream",
     "text": [
      "1346 0.008687853813171387\n",
      "1347 0.008894789032638073\n",
      "1348 0.008859070017933846\n"
     ]
    },
    {
     "name": "stderr",
     "output_type": "stream",
     "text": [
      "\r",
      " 45%|████▌     | 1351/3000 [01:18<02:20, 11.77it/s]"
     ]
    },
    {
     "name": "stdout",
     "output_type": "stream",
     "text": [
      "1349 0.008850752376019955\n",
      "1350 0.008894075639545918\n",
      "1351 0.00892458576709032\n"
     ]
    },
    {
     "name": "stderr",
     "output_type": "stream",
     "text": [
      " 45%|████▌     | 1355/3000 [01:18<01:53, 14.46it/s]"
     ]
    },
    {
     "name": "stdout",
     "output_type": "stream",
     "text": [
      "1352 0.008790195919573307\n",
      "1353 0.008844761177897453\n",
      "1354 0.008713035844266415\n",
      "1355 0.008730985224246979\n"
     ]
    },
    {
     "name": "stderr",
     "output_type": "stream",
     "text": [
      " 45%|████▌     | 1359/3000 [01:19<01:56, 14.12it/s]"
     ]
    },
    {
     "name": "stdout",
     "output_type": "stream",
     "text": [
      "1356 0.008770120330154896\n",
      "1357 0.008838764391839504\n",
      "1358 0.008799368515610695\n"
     ]
    },
    {
     "name": "stderr",
     "output_type": "stream",
     "text": [
      "\r",
      " 45%|████▌     | 1361/3000 [01:19<02:08, 12.72it/s]"
     ]
    },
    {
     "name": "stdout",
     "output_type": "stream",
     "text": [
      "1359 0.008715715259313583\n",
      "1360 0.0087761664763093\n",
      "1361 0.008827287703752518\n"
     ]
    },
    {
     "name": "stderr",
     "output_type": "stream",
     "text": [
      "\r",
      " 45%|████▌     | 1363/3000 [01:19<02:13, 12.24it/s]"
     ]
    },
    {
     "name": "stdout",
     "output_type": "stream",
     "text": [
      "1362 0.008819231763482094\n",
      "1363 0.008878114633262157\n"
     ]
    },
    {
     "name": "stderr",
     "output_type": "stream",
     "text": [
      " 46%|████▌     | 1367/3000 [01:19<02:10, 12.52it/s]"
     ]
    },
    {
     "name": "stdout",
     "output_type": "stream",
     "text": [
      "1364 0.010911034420132637\n",
      "1365 0.008877416141331196\n",
      "1366 0.008886405266821384\n",
      "1367 0.008802436292171478\n"
     ]
    },
    {
     "name": "stderr",
     "output_type": "stream",
     "text": [
      " 46%|████▌     | 1371/3000 [01:20<01:49, 14.83it/s]"
     ]
    },
    {
     "name": "stdout",
     "output_type": "stream",
     "text": [
      "1368 0.0148824667558074\n",
      "1369 0.008925337344408035\n",
      "1370 0.009192893281579018\n",
      "1371 0.008811034262180328\n"
     ]
    },
    {
     "name": "stderr",
     "output_type": "stream",
     "text": [
      " 46%|████▌     | 1375/3000 [01:20<01:37, 16.66it/s]"
     ]
    },
    {
     "name": "stdout",
     "output_type": "stream",
     "text": [
      "1372 0.012760923244059086\n",
      "1373 0.009238777682185173\n",
      "1374 0.009024879895150661\n",
      "1375 0.009215567260980606\n",
      "1376 0.008914131671190262\n"
     ]
    },
    {
     "name": "stderr",
     "output_type": "stream",
     "text": [
      " 46%|████▌     | 1380/3000 [01:20<01:41, 15.92it/s]"
     ]
    },
    {
     "name": "stdout",
     "output_type": "stream",
     "text": [
      "1377 0.008891536854207516\n",
      "1378 0.009078175760805607\n",
      "1379 0.008996764197945595\n"
     ]
    },
    {
     "name": "stderr",
     "output_type": "stream",
     "text": [
      " 46%|████▌     | 1385/3000 [01:20<01:31, 17.73it/s]"
     ]
    },
    {
     "name": "stdout",
     "output_type": "stream",
     "text": [
      "1380 0.008795609697699547\n",
      "1381 0.008884018287062645\n",
      "1382 0.013075551949441433\n",
      "1383 0.008736547082662582\n",
      "1384 0.008962919004261494\n"
     ]
    },
    {
     "name": "stderr",
     "output_type": "stream",
     "text": [
      "\r",
      " 46%|████▌     | 1387/3000 [01:21<01:53, 14.24it/s]"
     ]
    },
    {
     "name": "stdout",
     "output_type": "stream",
     "text": [
      "1385 0.011220107786357403\n",
      "1386 0.008884022012352943\n",
      "1387 0.01305742934346199\n"
     ]
    },
    {
     "name": "stderr",
     "output_type": "stream",
     "text": [
      " 46%|████▋     | 1391/3000 [01:21<01:37, 16.58it/s]"
     ]
    },
    {
     "name": "stdout",
     "output_type": "stream",
     "text": [
      "1388 0.008823558688163757\n",
      "1389 0.009038708172738552\n",
      "1390 0.009091525338590145\n",
      "1391 0.008980197831988335\n"
     ]
    },
    {
     "name": "stderr",
     "output_type": "stream",
     "text": [
      " 46%|████▋     | 1395/3000 [01:21<01:38, 16.22it/s]"
     ]
    },
    {
     "name": "stdout",
     "output_type": "stream",
     "text": [
      "1392 0.009118578396737576\n",
      "1393 0.008896286599338055\n",
      "1394 0.008729053661227226\n",
      "1395 0.008921753615140915\n"
     ]
    },
    {
     "name": "stderr",
     "output_type": "stream",
     "text": [
      " 47%|████▋     | 1399/3000 [01:21<01:37, 16.36it/s]"
     ]
    },
    {
     "name": "stdout",
     "output_type": "stream",
     "text": [
      "1396 0.008672944270074368\n",
      "1397 0.008772783912718296\n",
      "1398 0.00893320981413126\n"
     ]
    },
    {
     "name": "stderr",
     "output_type": "stream",
     "text": [
      "\r",
      " 47%|████▋     | 1401/3000 [01:22<02:01, 13.18it/s]"
     ]
    },
    {
     "name": "stdout",
     "output_type": "stream",
     "text": [
      "1399 0.009199893102049828\n",
      "1400 0.008862469345331192\n"
     ]
    },
    {
     "name": "stderr",
     "output_type": "stream",
     "text": [
      "\r",
      " 47%|████▋     | 1403/3000 [01:22<02:13, 11.95it/s]"
     ]
    },
    {
     "name": "stdout",
     "output_type": "stream",
     "text": [
      "1401 0.008800913579761982\n",
      "1402 0.008715060539543629\n",
      "1403 0.008581881411373615\n"
     ]
    },
    {
     "name": "stderr",
     "output_type": "stream",
     "text": [
      "\r",
      " 47%|████▋     | 1405/3000 [01:22<02:17, 11.59it/s]"
     ]
    },
    {
     "name": "stdout",
     "output_type": "stream",
     "text": [
      "1404 0.008877010084688663\n",
      "1405 0.008956940844655037\n"
     ]
    },
    {
     "name": "stderr",
     "output_type": "stream",
     "text": [
      "\r",
      " 47%|████▋     | 1407/3000 [01:22<02:25, 10.97it/s]"
     ]
    },
    {
     "name": "stdout",
     "output_type": "stream",
     "text": [
      "1406 0.00861926656216383\n",
      "1407 0.014968610368669033\n"
     ]
    },
    {
     "name": "stderr",
     "output_type": "stream",
     "text": [
      "\r",
      " 47%|████▋     | 1409/3000 [01:22<02:44,  9.68it/s]"
     ]
    },
    {
     "name": "stdout",
     "output_type": "stream",
     "text": [
      "1408 0.00892873015254736\n",
      "1409 0.008921895176172256\n"
     ]
    },
    {
     "name": "stderr",
     "output_type": "stream",
     "text": [
      " 47%|████▋     | 1413/3000 [01:23<02:33, 10.34it/s]"
     ]
    },
    {
     "name": "stdout",
     "output_type": "stream",
     "text": [
      "1410 0.009118903428316116\n",
      "1411 0.009043374098837376\n",
      "1412 0.008898240514099598\n"
     ]
    },
    {
     "name": "stderr",
     "output_type": "stream",
     "text": [
      " 47%|████▋     | 1417/3000 [01:23<02:06, 12.47it/s]"
     ]
    },
    {
     "name": "stdout",
     "output_type": "stream",
     "text": [
      "1413 0.008869337849318981\n",
      "1414 0.008823894895613194\n",
      "1415 0.008950894698500633\n",
      "1416 0.008899174630641937\n"
     ]
    },
    {
     "name": "stderr",
     "output_type": "stream",
     "text": [
      " 47%|████▋     | 1421/3000 [01:23<01:55, 13.62it/s]"
     ]
    },
    {
     "name": "stdout",
     "output_type": "stream",
     "text": [
      "1417 0.008750727400183678\n",
      "1418 0.00897956546396017\n",
      "1419 0.008634510450065136\n",
      "1420 0.008813519962131977\n"
     ]
    },
    {
     "name": "stderr",
     "output_type": "stream",
     "text": [
      " 48%|████▊     | 1425/3000 [01:24<01:41, 15.51it/s]"
     ]
    },
    {
     "name": "stdout",
     "output_type": "stream",
     "text": [
      "1421 0.008693354204297066\n",
      "1422 0.009123029187321663\n",
      "1423 0.008662019856274128\n",
      "1424 0.008892516605556011\n"
     ]
    },
    {
     "name": "stderr",
     "output_type": "stream",
     "text": [
      "\r",
      " 48%|████▊     | 1427/3000 [01:24<01:57, 13.40it/s]"
     ]
    },
    {
     "name": "stdout",
     "output_type": "stream",
     "text": [
      "1425 0.008943634107708931\n",
      "1426 0.00905755814164877\n",
      "1427 0.008562730625271797\n",
      "1428 0.008942538872361183\n"
     ]
    },
    {
     "name": "stderr",
     "output_type": "stream",
     "text": [
      " 48%|████▊     | 1433/3000 [01:24<01:38, 15.88it/s]"
     ]
    },
    {
     "name": "stdout",
     "output_type": "stream",
     "text": [
      "1429 0.00896342284977436\n",
      "1430 0.00891811866313219\n",
      "1431 0.00886496901512146\n",
      "1432 0.008759570308029652\n"
     ]
    },
    {
     "name": "stderr",
     "output_type": "stream",
     "text": [
      "\r",
      " 48%|████▊     | 1435/3000 [01:24<01:56, 13.43it/s]"
     ]
    },
    {
     "name": "stdout",
     "output_type": "stream",
     "text": [
      "1433 0.008608483709394932\n",
      "1434 0.00883044395595789\n"
     ]
    },
    {
     "name": "stderr",
     "output_type": "stream",
     "text": [
      "\r",
      " 48%|████▊     | 1437/3000 [01:24<02:08, 12.20it/s]"
     ]
    },
    {
     "name": "stdout",
     "output_type": "stream",
     "text": [
      "1435 0.008776655420660973\n",
      "1436 0.008628261275589466\n",
      "1437 0.008605117909610271\n"
     ]
    },
    {
     "name": "stderr",
     "output_type": "stream",
     "text": [
      " 48%|████▊     | 1441/3000 [01:25<02:18, 11.25it/s]"
     ]
    },
    {
     "name": "stdout",
     "output_type": "stream",
     "text": [
      "1438 0.008888278156518936\n",
      "1439 0.00884704478085041\n",
      "1440 0.008930208161473274\n"
     ]
    },
    {
     "name": "stderr",
     "output_type": "stream",
     "text": [
      " 48%|████▊     | 1445/3000 [01:25<01:58, 13.17it/s]"
     ]
    },
    {
     "name": "stdout",
     "output_type": "stream",
     "text": [
      "1441 0.008528254926204681\n",
      "1442 0.009024224244058132\n",
      "1443 0.008781541138887405\n",
      "1444 0.008999192155897617\n"
     ]
    },
    {
     "name": "stderr",
     "output_type": "stream",
     "text": [
      "\r",
      " 48%|████▊     | 1447/3000 [01:25<01:59, 13.02it/s]"
     ]
    },
    {
     "name": "stdout",
     "output_type": "stream",
     "text": [
      "1445 0.009166449308395386\n",
      "1446 0.008696801960468292\n",
      "1447 0.00870018731802702\n"
     ]
    },
    {
     "name": "stderr",
     "output_type": "stream",
     "text": [
      " 48%|████▊     | 1451/3000 [01:26<01:59, 13.00it/s]"
     ]
    },
    {
     "name": "stdout",
     "output_type": "stream",
     "text": [
      "1448 0.008678443729877472\n",
      "1449 0.008724234998226166\n",
      "1450 0.008995466865599155\n"
     ]
    },
    {
     "name": "stderr",
     "output_type": "stream",
     "text": [
      "\r",
      " 48%|████▊     | 1453/3000 [01:26<02:06, 12.25it/s]"
     ]
    },
    {
     "name": "stdout",
     "output_type": "stream",
     "text": [
      "1451 0.008582244627177715\n",
      "1452 0.008732984773814678\n",
      "1453 0.008804257027804852\n"
     ]
    },
    {
     "name": "stderr",
     "output_type": "stream",
     "text": [
      " 49%|████▊     | 1457/3000 [01:26<01:55, 13.32it/s]"
     ]
    },
    {
     "name": "stdout",
     "output_type": "stream",
     "text": [
      "1454 0.008795812726020813\n",
      "1455 0.00876997597515583\n",
      "1456 0.008760548196732998\n"
     ]
    },
    {
     "name": "stderr",
     "output_type": "stream",
     "text": [
      " 49%|████▊     | 1461/3000 [01:26<01:50, 13.91it/s]"
     ]
    },
    {
     "name": "stdout",
     "output_type": "stream",
     "text": [
      "1457 0.008800642564892769\n",
      "1458 0.008972525596618652\n",
      "1459 0.008852639235556126\n",
      "1460 0.008857151493430138\n"
     ]
    },
    {
     "name": "stderr",
     "output_type": "stream",
     "text": [
      "\r",
      " 49%|████▉     | 1463/3000 [01:26<01:44, 14.66it/s]"
     ]
    },
    {
     "name": "stdout",
     "output_type": "stream",
     "text": [
      "1461 0.008840554393827915\n",
      "1462 0.008942682296037674\n",
      "1463 0.00872395932674408\n"
     ]
    },
    {
     "name": "stderr",
     "output_type": "stream",
     "text": [
      " 49%|████▉     | 1467/3000 [01:27<01:41, 15.05it/s]"
     ]
    },
    {
     "name": "stdout",
     "output_type": "stream",
     "text": [
      "1464 0.008705622516572475\n",
      "1465 0.008787848986685276\n",
      "1466 0.008963335305452347\n",
      "1467 0.008695181459188461\n"
     ]
    },
    {
     "name": "stderr",
     "output_type": "stream",
     "text": [
      " 49%|████▉     | 1471/3000 [01:27<01:39, 15.39it/s]"
     ]
    },
    {
     "name": "stdout",
     "output_type": "stream",
     "text": [
      "1468 0.008459028787910938\n",
      "1469 0.009005228988826275\n",
      "1470 0.008742679841816425\n",
      "1471 0.008906672708690166\n"
     ]
    },
    {
     "name": "stderr",
     "output_type": "stream",
     "text": [
      " 49%|████▉     | 1475/3000 [01:27<01:29, 17.05it/s]"
     ]
    },
    {
     "name": "stdout",
     "output_type": "stream",
     "text": [
      "1472 0.008687230758368969\n",
      "1473 0.008637872524559498\n",
      "1474 0.008721555583178997\n",
      "1475 0.008646830916404724\n"
     ]
    },
    {
     "name": "stderr",
     "output_type": "stream",
     "text": [
      " 49%|████▉     | 1479/3000 [01:27<01:28, 17.20it/s]"
     ]
    },
    {
     "name": "stdout",
     "output_type": "stream",
     "text": [
      "1476 0.008780655451118946\n",
      "1477 0.008626998402178288\n",
      "1478 0.008658627979457378\n",
      "1479 0.008928604423999786\n"
     ]
    },
    {
     "name": "stderr",
     "output_type": "stream",
     "text": [
      " 49%|████▉     | 1483/3000 [01:28<01:36, 15.79it/s]"
     ]
    },
    {
     "name": "stdout",
     "output_type": "stream",
     "text": [
      "1480 0.009090759791433811\n",
      "1481 0.008644349873065948\n",
      "1482 0.008723574690520763\n"
     ]
    },
    {
     "name": "stderr",
     "output_type": "stream",
     "text": [
      " 50%|████▉     | 1487/3000 [01:28<01:32, 16.27it/s]"
     ]
    },
    {
     "name": "stdout",
     "output_type": "stream",
     "text": [
      "1483 0.008685176260769367\n",
      "1484 0.00879251305013895\n",
      "1485 0.008697634562849998\n",
      "1486 0.008786163292825222\n"
     ]
    },
    {
     "name": "stderr",
     "output_type": "stream",
     "text": [
      "\r",
      " 50%|████▉     | 1489/3000 [01:28<01:44, 14.40it/s]"
     ]
    },
    {
     "name": "stdout",
     "output_type": "stream",
     "text": [
      "1487 0.008914882317185402\n",
      "1488 0.008846870623528957\n",
      "1489 0.01255444809794426\n"
     ]
    },
    {
     "name": "stderr",
     "output_type": "stream",
     "text": [
      " 50%|████▉     | 1493/3000 [01:28<01:40, 15.00it/s]"
     ]
    },
    {
     "name": "stdout",
     "output_type": "stream",
     "text": [
      "1490 0.00875352043658495\n",
      "1491 0.011105128563940525\n",
      "1492 0.008888689801096916\n",
      "1493 0.00895064789801836\n"
     ]
    },
    {
     "name": "stderr",
     "output_type": "stream",
     "text": [
      " 50%|████▉     | 1497/3000 [01:29<01:47, 13.99it/s]"
     ]
    },
    {
     "name": "stdout",
     "output_type": "stream",
     "text": [
      "1494 0.009166394360363483\n",
      "1495 0.00894208438694477\n",
      "1496 0.008823301643133163\n"
     ]
    },
    {
     "name": "stderr",
     "output_type": "stream",
     "text": [
      "\r",
      " 50%|████▉     | 1499/3000 [01:29<01:47, 13.98it/s]"
     ]
    },
    {
     "name": "stdout",
     "output_type": "stream",
     "text": [
      "1497 0.008657019585371017\n",
      "1498 0.008800781331956387\n",
      "1499 0.00881892815232277\n"
     ]
    },
    {
     "name": "stderr",
     "output_type": "stream",
     "text": [
      " 50%|█████     | 1503/3000 [01:29<02:07, 11.70it/s]"
     ]
    },
    {
     "name": "stdout",
     "output_type": "stream",
     "text": [
      "1500 0.008613016456365585\n",
      "1501 0.008715461008250713\n",
      "1502 0.008928927592933178\n"
     ]
    },
    {
     "name": "stderr",
     "output_type": "stream",
     "text": [
      "\r",
      " 50%|█████     | 1505/3000 [01:29<02:13, 11.24it/s]"
     ]
    },
    {
     "name": "stdout",
     "output_type": "stream",
     "text": [
      "1503 0.008758497424423695\n",
      "1504 0.00907994993031025\n",
      "1505 0.00902616512030363\n"
     ]
    },
    {
     "name": "stderr",
     "output_type": "stream",
     "text": [
      "\r",
      " 50%|█████     | 1507/3000 [01:30<02:13, 11.14it/s]"
     ]
    },
    {
     "name": "stdout",
     "output_type": "stream",
     "text": [
      "1506 0.008921359665691853\n",
      "1507 0.0088239386677742\n",
      "1508"
     ]
    },
    {
     "name": "stderr",
     "output_type": "stream",
     "text": [
      " 50%|█████     | 1511/3000 [01:30<02:05, 11.87it/s]"
     ]
    },
    {
     "name": "stdout",
     "output_type": "stream",
     "text": [
      " 0.008793952874839306\n",
      "1509 0.008717726916074753\n",
      "1510 0.008814752101898193\n"
     ]
    },
    {
     "name": "stderr",
     "output_type": "stream",
     "text": [
      " 50%|█████     | 1515/3000 [01:30<01:52, 13.18it/s]"
     ]
    },
    {
     "name": "stdout",
     "output_type": "stream",
     "text": [
      "1511 0.008779110386967659\n",
      "1512 0.010620039887726307\n",
      "1513 0.008655245415866375\n",
      "1514 0.008675231598317623\n"
     ]
    },
    {
     "name": "stderr",
     "output_type": "stream",
     "text": [
      "\r",
      " 51%|█████     | 1517/3000 [01:30<01:51, 13.32it/s]"
     ]
    },
    {
     "name": "stdout",
     "output_type": "stream",
     "text": [
      "1515 0.009075530804693699\n",
      "1516 0.008904038928449154\n",
      "1517 0.008967790752649307\n"
     ]
    },
    {
     "name": "stderr",
     "output_type": "stream",
     "text": [
      " 51%|█████     | 1521/3000 [01:31<02:05, 11.82it/s]"
     ]
    },
    {
     "name": "stdout",
     "output_type": "stream",
     "text": [
      "1518 0.008705160580575466\n",
      "1519 0.008709660731256008\n",
      "1520 0.008797895163297653\n"
     ]
    },
    {
     "name": "stderr",
     "output_type": "stream",
     "text": [
      "\r",
      " 51%|█████     | 1523/3000 [01:31<02:13, 11.05it/s]"
     ]
    },
    {
     "name": "stdout",
     "output_type": "stream",
     "text": [
      "1521 0.008855517953634262\n",
      "1522 0.008713001385331154\n",
      "1523 0.008989686146378517\n"
     ]
    },
    {
     "name": "stderr",
     "output_type": "stream",
     "text": [
      " 51%|█████     | 1527/3000 [01:31<02:02, 12.01it/s]"
     ]
    },
    {
     "name": "stdout",
     "output_type": "stream",
     "text": [
      "1524 0.009114769287407398\n",
      "1525 0.008914528414607048\n",
      "1526 0.008822300471365452\n"
     ]
    },
    {
     "name": "stderr",
     "output_type": "stream",
     "text": [
      "\r",
      " 51%|█████     | 1529/3000 [01:31<01:59, 12.35it/s]"
     ]
    },
    {
     "name": "stdout",
     "output_type": "stream",
     "text": [
      "1527 0.008900295943021774\n",
      "1528 0.008763236925005913\n",
      "1529 0.008935595862567425\n"
     ]
    },
    {
     "name": "stderr",
     "output_type": "stream",
     "text": [
      "\r",
      " 51%|█████     | 1531/3000 [01:32<02:05, 11.66it/s]"
     ]
    },
    {
     "name": "stdout",
     "output_type": "stream",
     "text": [
      "1530 0.008863145485520363\n",
      "1531 0.008780346252024174\n"
     ]
    },
    {
     "name": "stderr",
     "output_type": "stream",
     "text": [
      " 51%|█████     | 1535/3000 [01:32<02:19, 10.53it/s]"
     ]
    },
    {
     "name": "stdout",
     "output_type": "stream",
     "text": [
      "1532 0.008774577639997005\n",
      "1533 0.00897851213812828\n",
      "1534 0.00880819745361805\n"
     ]
    },
    {
     "name": "stderr",
     "output_type": "stream",
     "text": [
      "\r",
      " 51%|█████     | 1537/3000 [01:32<02:15, 10.79it/s]"
     ]
    },
    {
     "name": "stdout",
     "output_type": "stream",
     "text": [
      "1535 0.012668058276176453\n",
      "1536 0.008692816831171513\n",
      "1537 0.009208603762090206\n"
     ]
    },
    {
     "name": "stderr",
     "output_type": "stream",
     "text": [
      " 51%|█████▏    | 1541/3000 [01:33<02:08, 11.34it/s]"
     ]
    },
    {
     "name": "stdout",
     "output_type": "stream",
     "text": [
      "1538 0.00907022412866354\n",
      "1539 0.009087146259844303\n",
      "1540 0.008626320399343967\n"
     ]
    },
    {
     "name": "stderr",
     "output_type": "stream",
     "text": [
      "\r",
      " 51%|█████▏    | 1543/3000 [01:33<01:54, 12.69it/s]"
     ]
    },
    {
     "name": "stdout",
     "output_type": "stream",
     "text": [
      "1541 0.009180712513625622\n",
      "1542 0.008863902650773525\n",
      "1543 0.008757469244301319\n"
     ]
    },
    {
     "name": "stderr",
     "output_type": "stream",
     "text": [
      " 52%|█████▏    | 1547/3000 [01:33<01:45, 13.83it/s]"
     ]
    },
    {
     "name": "stdout",
     "output_type": "stream",
     "text": [
      "1544 0.008666733279824257\n",
      "1545 0.008816155605018139\n",
      "1546 0.008791787549853325\n",
      "1547 0.008849498815834522\n"
     ]
    },
    {
     "name": "stderr",
     "output_type": "stream",
     "text": [
      " 52%|█████▏    | 1551/3000 [01:33<01:47, 13.45it/s]"
     ]
    },
    {
     "name": "stdout",
     "output_type": "stream",
     "text": [
      "1548 0.00882809516042471\n",
      "1549 0.008967316709458828\n",
      "1550 0.009170684032142162\n"
     ]
    },
    {
     "name": "stderr",
     "output_type": "stream",
     "text": [
      " 52%|█████▏    | 1555/3000 [01:33<01:35, 15.10it/s]"
     ]
    },
    {
     "name": "stdout",
     "output_type": "stream",
     "text": [
      "1551 0.008802581578493118\n",
      "1552 0.00877393689006567\n",
      "1553 0.008845827542245388\n",
      "1554 0.008714607916772366\n"
     ]
    },
    {
     "name": "stderr",
     "output_type": "stream",
     "text": [
      "\r",
      " 52%|█████▏    | 1557/3000 [01:34<01:50, 13.03it/s]"
     ]
    },
    {
     "name": "stdout",
     "output_type": "stream",
     "text": [
      "1555 0.008656769059598446\n",
      "1556 0.008879032917320728\n",
      "1557 0.00879677478224039\n"
     ]
    },
    {
     "name": "stderr",
     "output_type": "stream",
     "text": [
      " 52%|█████▏    | 1561/3000 [01:34<01:57, 12.29it/s]"
     ]
    },
    {
     "name": "stdout",
     "output_type": "stream",
     "text": [
      "1558 0.008946376852691174\n",
      "1559 0.008752120658755302\n",
      "1560 0.008904080837965012\n"
     ]
    },
    {
     "name": "stderr",
     "output_type": "stream",
     "text": [
      "\r",
      " 52%|█████▏    | 1563/3000 [01:34<01:51, 12.94it/s]"
     ]
    },
    {
     "name": "stdout",
     "output_type": "stream",
     "text": [
      "1561 0.008588740602135658\n",
      "1562 0.008556791581213474\n",
      "1563 0.008780932985246181\n"
     ]
    },
    {
     "name": "stderr",
     "output_type": "stream",
     "text": [
      "\r",
      " 52%|█████▏    | 1565/3000 [01:34<01:55, 12.38it/s]"
     ]
    },
    {
     "name": "stdout",
     "output_type": "stream",
     "text": [
      "1564 0.014764335937798023\n",
      "1565 0.008802525699138641\n"
     ]
    },
    {
     "name": "stderr",
     "output_type": "stream",
     "text": [
      "\r",
      " 52%|█████▏    | 1567/3000 [01:35<02:06, 11.35it/s]"
     ]
    },
    {
     "name": "stdout",
     "output_type": "stream",
     "text": [
      "1566 0.008845612406730652\n",
      "1567 0.00893582683056593\n"
     ]
    },
    {
     "name": "stderr",
     "output_type": "stream",
     "text": [
      " 52%|█████▏    | 1571/3000 [01:35<02:25,  9.79it/s]"
     ]
    },
    {
     "name": "stdout",
     "output_type": "stream",
     "text": [
      "1568 0.009087557904422283\n",
      "1569 0.008887474425137043\n",
      "1570 0.00876430794596672\n"
     ]
    },
    {
     "name": "stderr",
     "output_type": "stream",
     "text": [
      "\r",
      " 52%|█████▏    | 1573/3000 [01:35<02:30,  9.48it/s]"
     ]
    },
    {
     "name": "stdout",
     "output_type": "stream",
     "text": [
      "1571 0.009023507125675678\n",
      "1572 0.008927564136683941\n"
     ]
    },
    {
     "name": "stderr",
     "output_type": "stream",
     "text": [
      " 52%|█████▎    | 1575/3000 [01:35<02:39,  8.91it/s]"
     ]
    },
    {
     "name": "stdout",
     "output_type": "stream",
     "text": [
      "1573 0.00881663616746664\n",
      "1574 0.008758926764130592\n",
      "1575 0.008533099666237831\n"
     ]
    },
    {
     "name": "stderr",
     "output_type": "stream",
     "text": [
      " 53%|█████▎    | 1579/3000 [01:36<01:59, 11.86it/s]"
     ]
    },
    {
     "name": "stdout",
     "output_type": "stream",
     "text": [
      "1576 0.008774550631642342\n",
      "1577 0.008846011012792587\n",
      "1578 0.00912545621395111\n",
      "1579 0.008879887871444225\n"
     ]
    },
    {
     "name": "stderr",
     "output_type": "stream",
     "text": [
      " 53%|█████▎    | 1583/3000 [01:36<01:38, 14.37it/s]"
     ]
    },
    {
     "name": "stdout",
     "output_type": "stream",
     "text": [
      "1580 0.015106392093002796\n",
      "1581 0.009018654003739357\n",
      "1582 0.008785870857536793\n"
     ]
    },
    {
     "name": "stderr",
     "output_type": "stream",
     "text": [
      "\r",
      " 53%|█████▎    | 1585/3000 [01:36<01:52, 12.63it/s]"
     ]
    },
    {
     "name": "stdout",
     "output_type": "stream",
     "text": [
      "1583 0.00901767611503601\n",
      "1584 0.009046378545463085\n"
     ]
    },
    {
     "name": "stderr",
     "output_type": "stream",
     "text": [
      "\r",
      " 53%|█████▎    | 1587/3000 [01:36<02:08, 11.01it/s]"
     ]
    },
    {
     "name": "stdout",
     "output_type": "stream",
     "text": [
      "1585 0.009156559593975544\n",
      "1586 0.009042829275131226\n",
      "1587 0.009019255638122559\n"
     ]
    },
    {
     "name": "stderr",
     "output_type": "stream",
     "text": [
      " 53%|█████▎    | 1591/3000 [01:37<02:00, 11.73it/s]"
     ]
    },
    {
     "name": "stdout",
     "output_type": "stream",
     "text": [
      "1588 0.008774736896157265\n",
      "1589 0.00881638191640377\n",
      "1590 0.008886946365237236\n"
     ]
    },
    {
     "name": "stderr",
     "output_type": "stream",
     "text": [
      "\r",
      " 53%|█████▎    | 1593/3000 [01:37<02:02, 11.50it/s]"
     ]
    },
    {
     "name": "stdout",
     "output_type": "stream",
     "text": [
      "1591 0.008809380233287811\n",
      "1592 0.008951129391789436\n",
      "1593 0.008882292546331882\n"
     ]
    },
    {
     "name": "stderr",
     "output_type": "stream",
     "text": [
      " 53%|█████▎    | 1597/3000 [01:37<02:09, 10.83it/s]"
     ]
    },
    {
     "name": "stdout",
     "output_type": "stream",
     "text": [
      "1594 0.008691227994859219\n",
      "1595 0.00886823795735836\n",
      "1596 0.008828021585941315\n"
     ]
    },
    {
     "name": "stderr",
     "output_type": "stream",
     "text": [
      " 53%|█████▎    | 1601/3000 [01:37<01:46, 13.14it/s]"
     ]
    },
    {
     "name": "stdout",
     "output_type": "stream",
     "text": [
      "1597 0.01510636880993843\n",
      "1598 0.008667073212563992\n",
      "1599 0.008902791887521744\n",
      "1600 0.009054741822183132\n"
     ]
    },
    {
     "name": "stderr",
     "output_type": "stream",
     "text": [
      " 54%|█████▎    | 1605/3000 [01:38<01:33, 14.95it/s]"
     ]
    },
    {
     "name": "stdout",
     "output_type": "stream",
     "text": [
      "1601 0.008858841843903065\n",
      "1602 0.009119633585214615\n",
      "1603 0.008982407860457897\n",
      "1604 0.008923386223614216\n"
     ]
    },
    {
     "name": "stderr",
     "output_type": "stream",
     "text": [
      "\r",
      " 54%|█████▎    | 1608/3000 [01:38<01:25, 16.24it/s]"
     ]
    },
    {
     "name": "stdout",
     "output_type": "stream",
     "text": [
      "1605 0.008528717793524265\n",
      "1606 0.008926788344979286\n",
      "1607 0.008851267397403717\n",
      "1608 0.008980962447822094\n"
     ]
    },
    {
     "name": "stderr",
     "output_type": "stream",
     "text": [
      " 54%|█████▎    | 1612/3000 [01:38<01:23, 16.69it/s]"
     ]
    },
    {
     "name": "stdout",
     "output_type": "stream",
     "text": [
      "1609 0.008555585518479347\n",
      "1610 0.008871601894497871\n",
      "1611 0.0090824905782938\n",
      "1612 0.009115152060985565\n"
     ]
    },
    {
     "name": "stderr",
     "output_type": "stream",
     "text": [
      " 54%|█████▍    | 1616/3000 [01:38<01:32, 14.97it/s]"
     ]
    },
    {
     "name": "stdout",
     "output_type": "stream",
     "text": [
      "1613 0.008805791847407818\n",
      "1614 0.008898263797163963\n",
      "1615 0.008846154436469078\n"
     ]
    },
    {
     "name": "stderr",
     "output_type": "stream",
     "text": [
      "\r",
      " 54%|█████▍    | 1618/3000 [01:39<01:36, 14.40it/s]"
     ]
    },
    {
     "name": "stdout",
     "output_type": "stream",
     "text": [
      "1616 0.008686722256243229\n",
      "1617 0.008956216275691986\n",
      "1618 0.008860479108989239\n"
     ]
    },
    {
     "name": "stderr",
     "output_type": "stream",
     "text": [
      " 54%|█████▍    | 1622/3000 [01:39<01:34, 14.59it/s]"
     ]
    },
    {
     "name": "stdout",
     "output_type": "stream",
     "text": [
      "1619 0.00869184173643589\n",
      "1620 0.008806564845144749\n",
      "1621 0.008790036663413048\n"
     ]
    },
    {
     "name": "stderr",
     "output_type": "stream",
     "text": [
      "\r",
      " 54%|█████▍    | 1624/3000 [01:39<01:39, 13.89it/s]"
     ]
    },
    {
     "name": "stdout",
     "output_type": "stream",
     "text": [
      "1622 0.008812042884528637\n",
      "1623 0.00888860784471035\n",
      "1624 0.008672511205077171\n",
      "1625"
     ]
    },
    {
     "name": "stderr",
     "output_type": "stream",
     "text": [
      " 54%|█████▍    | 1628/3000 [01:39<01:41, 13.52it/s]"
     ]
    },
    {
     "name": "stdout",
     "output_type": "stream",
     "text": [
      " 0.009051226079463959\n",
      "1626 0.008715229108929634\n",
      "1627 0.00888089183717966\n"
     ]
    },
    {
     "name": "stderr",
     "output_type": "stream",
     "text": [
      " 54%|█████▍    | 1632/3000 [01:40<01:34, 14.43it/s]"
     ]
    },
    {
     "name": "stdout",
     "output_type": "stream",
     "text": [
      "1628 0.008497421629726887\n",
      "1629 0.008755093440413475\n",
      "1630 0.008696186356246471\n",
      "1631 0.008906292729079723\n"
     ]
    },
    {
     "name": "stderr",
     "output_type": "stream",
     "text": [
      " 55%|█████▍    | 1636/3000 [01:40<01:27, 15.61it/s]"
     ]
    },
    {
     "name": "stdout",
     "output_type": "stream",
     "text": [
      "1632 0.00891105830669403\n",
      "1633 0.008912604302167892\n",
      "1634 0.008800981566309929\n",
      "1635 0.008723762817680836\n"
     ]
    },
    {
     "name": "stderr",
     "output_type": "stream",
     "text": [
      "\r",
      " 55%|█████▍    | 1639/3000 [01:40<01:19, 17.02it/s]"
     ]
    },
    {
     "name": "stdout",
     "output_type": "stream",
     "text": [
      "1636 0.008745023049414158\n",
      "1637 0.009071999229490757\n",
      "1638 0.008649466559290886\n",
      "1639 0.008949244394898415\n",
      "1640 0.008927745744585991\n"
     ]
    },
    {
     "name": "stderr",
     "output_type": "stream",
     "text": [
      " 55%|█████▍    | 1644/3000 [01:40<01:19, 17.01it/s]"
     ]
    },
    {
     "name": "stdout",
     "output_type": "stream",
     "text": [
      "1641 0.008909440599381924\n",
      "1642 0.008732367306947708\n",
      "1643 0.008921767584979534\n"
     ]
    },
    {
     "name": "stderr",
     "output_type": "stream",
     "text": [
      "\r",
      " 55%|█████▍    | 1646/3000 [01:40<01:40, 13.42it/s]"
     ]
    },
    {
     "name": "stdout",
     "output_type": "stream",
     "text": [
      "1644 0.008719108998775482\n",
      "1645 0.008670751936733723\n",
      "1646 0.008811661042273045\n"
     ]
    },
    {
     "name": "stderr",
     "output_type": "stream",
     "text": [
      " 55%|█████▌    | 1650/3000 [01:41<01:35, 14.18it/s]"
     ]
    },
    {
     "name": "stdout",
     "output_type": "stream",
     "text": [
      "1647 0.00883014127612114\n",
      "1648 0.008766666054725647\n",
      "1649 0.008806373924016953\n",
      "1650 0.00888120662420988\n"
     ]
    },
    {
     "name": "stderr",
     "output_type": "stream",
     "text": [
      "\r",
      " 55%|█████▌    | 1652/3000 [01:41<01:28, 15.22it/s]"
     ]
    },
    {
     "name": "stdout",
     "output_type": "stream",
     "text": [
      "1651 0.008817769587039948\n",
      "1652 0.008800935931503773\n"
     ]
    },
    {
     "name": "stderr",
     "output_type": "stream",
     "text": [
      " 55%|█████▌    | 1656/3000 [01:41<01:45, 12.77it/s]"
     ]
    },
    {
     "name": "stdout",
     "output_type": "stream",
     "text": [
      "1653 0.008867530152201653\n",
      "1654 0.008600279688835144\n",
      "1655 0.008534794673323631\n"
     ]
    },
    {
     "name": "stderr",
     "output_type": "stream",
     "text": [
      "\r",
      " 55%|█████▌    | 1658/3000 [01:41<01:53, 11.78it/s]"
     ]
    },
    {
     "name": "stdout",
     "output_type": "stream",
     "text": [
      "1656 0.008478602394461632\n",
      "1657 0.008874758146703243\n",
      "1658 0.008837573230266571\n"
     ]
    },
    {
     "name": "stderr",
     "output_type": "stream",
     "text": [
      " 55%|█████▌    | 1662/3000 [01:42<01:35, 14.06it/s]"
     ]
    },
    {
     "name": "stdout",
     "output_type": "stream",
     "text": [
      "1659 0.008689265698194504\n",
      "1660 0.008696092292666435\n",
      "1661 0.011019793339073658\n"
     ]
    },
    {
     "name": "stderr",
     "output_type": "stream",
     "text": [
      "\r",
      " 55%|█████▌    | 1664/3000 [01:42<01:38, 13.53it/s]"
     ]
    },
    {
     "name": "stdout",
     "output_type": "stream",
     "text": [
      "1662 0.0087024150416255\n",
      "1663 0.008726982399821281\n",
      "1664 0.008685817942023277\n",
      "1665 0.008951238356530666\n"
     ]
    },
    {
     "name": "stderr",
     "output_type": "stream",
     "text": [
      " 56%|█████▌    | 1669/3000 [01:42<01:37, 13.61it/s]"
     ]
    },
    {
     "name": "stdout",
     "output_type": "stream",
     "text": [
      "1666 0.008916269987821579\n",
      "1667 0.008960749953985214\n",
      "1668 0.008761429227888584\n"
     ]
    },
    {
     "name": "stderr",
     "output_type": "stream",
     "text": [
      "\r",
      " 56%|█████▌    | 1671/3000 [01:42<01:37, 13.66it/s]"
     ]
    },
    {
     "name": "stdout",
     "output_type": "stream",
     "text": [
      "1669 0.00861768051981926\n",
      "1670 0.009047429077327251\n",
      "1671 0.009060169570147991\n",
      "1672"
     ]
    },
    {
     "name": "stderr",
     "output_type": "stream",
     "text": [
      " 56%|█████▌    | 1675/3000 [01:43<01:41, 13.10it/s]"
     ]
    },
    {
     "name": "stdout",
     "output_type": "stream",
     "text": [
      " 0.008780748583376408\n",
      "1673 0.008930951356887817\n",
      "1674 0.008908075280487537\n"
     ]
    },
    {
     "name": "stderr",
     "output_type": "stream",
     "text": [
      " 56%|█████▌    | 1679/3000 [01:43<01:31, 14.45it/s]"
     ]
    },
    {
     "name": "stdout",
     "output_type": "stream",
     "text": [
      "1675 0.009057385846972466\n",
      "1676 0.010846073739230633\n",
      "1677 0.008706961758434772\n",
      "1678 0.00888158567249775\n"
     ]
    },
    {
     "name": "stderr",
     "output_type": "stream",
     "text": [
      "\r",
      " 56%|█████▌    | 1681/3000 [01:43<01:26, 15.28it/s]"
     ]
    },
    {
     "name": "stdout",
     "output_type": "stream",
     "text": [
      "1679 0.01477370597422123\n",
      "1680 0.008864721283316612\n",
      "1681 0.009254817850887775\n"
     ]
    },
    {
     "name": "stderr",
     "output_type": "stream",
     "text": [
      " 56%|█████▌    | 1685/3000 [01:43<01:29, 14.68it/s]"
     ]
    },
    {
     "name": "stdout",
     "output_type": "stream",
     "text": [
      "1682 0.009259705431759357\n",
      "1683 0.008846915327012539\n",
      "1684 0.009211134165525436\n",
      "1685 0.00922346767038107\n"
     ]
    },
    {
     "name": "stderr",
     "output_type": "stream",
     "text": [
      " 56%|█████▋    | 1689/3000 [01:44<01:26, 15.10it/s]"
     ]
    },
    {
     "name": "stdout",
     "output_type": "stream",
     "text": [
      "1686 0.008751807734370232\n",
      "1687 0.009043099358677864\n",
      "1688 0.008644003421068192\n",
      "1689 0.008997478522360325\n"
     ]
    },
    {
     "name": "stderr",
     "output_type": "stream",
     "text": [
      " 56%|█████▋    | 1693/3000 [01:44<01:28, 14.70it/s]"
     ]
    },
    {
     "name": "stdout",
     "output_type": "stream",
     "text": [
      "1690 0.014813249930739403\n",
      "1691 0.009099188260734081\n",
      "1692 0.008923991583287716\n"
     ]
    },
    {
     "name": "stderr",
     "output_type": "stream",
     "text": [
      "\r",
      " 56%|█████▋    | 1695/3000 [01:44<01:35, 13.70it/s]"
     ]
    },
    {
     "name": "stdout",
     "output_type": "stream",
     "text": [
      "1693 0.00886536668986082\n",
      "1694 0.009084044024348259\n",
      "1695 0.009086738340556622\n"
     ]
    },
    {
     "name": "stderr",
     "output_type": "stream",
     "text": [
      " 57%|█████▋    | 1699/3000 [01:44<01:34, 13.82it/s]"
     ]
    },
    {
     "name": "stdout",
     "output_type": "stream",
     "text": [
      "1696 0.009259707294404507\n",
      "1697 0.009096006862819195\n",
      "1698 0.009178376756608486\n",
      "1699 0.009017105214297771\n"
     ]
    },
    {
     "name": "stderr",
     "output_type": "stream",
     "text": [
      " 57%|█████▋    | 1703/3000 [01:45<01:42, 12.67it/s]"
     ]
    },
    {
     "name": "stdout",
     "output_type": "stream",
     "text": [
      "1700 0.008824056014418602\n",
      "1701 0.008786593563854694\n",
      "1702 0.009053565561771393\n"
     ]
    },
    {
     "name": "stderr",
     "output_type": "stream",
     "text": [
      "\r",
      " 57%|█████▋    | 1705/3000 [01:45<01:45, 12.24it/s]"
     ]
    },
    {
     "name": "stdout",
     "output_type": "stream",
     "text": [
      "1703 0.008868403732776642\n",
      "1704 0.008915277197957039\n",
      "1705 0.008964725770056248\n"
     ]
    },
    {
     "name": "stderr",
     "output_type": "stream",
     "text": [
      "\r",
      " 57%|█████▋    | 1707/3000 [01:45<01:52, 11.46it/s]"
     ]
    },
    {
     "name": "stdout",
     "output_type": "stream",
     "text": [
      "1706 0.00898304395377636\n",
      "1707 0.008905441500246525\n"
     ]
    },
    {
     "name": "stderr",
     "output_type": "stream",
     "text": [
      " 57%|█████▋    | 1711/3000 [01:45<01:58, 10.84it/s]"
     ]
    },
    {
     "name": "stdout",
     "output_type": "stream",
     "text": [
      "1708 0.009399701841175556\n",
      "1709 0.009009783156216145\n",
      "1710 0.008668672293424606\n"
     ]
    },
    {
     "name": "stderr",
     "output_type": "stream",
     "text": [
      " 57%|█████▋    | 1715/3000 [01:46<01:38, 13.04it/s]"
     ]
    },
    {
     "name": "stdout",
     "output_type": "stream",
     "text": [
      "1711 0.008948342874646187\n",
      "1712 0.008788933046162128\n",
      "1713 0.00859070848673582\n",
      "1714 0.008942373096942902\n"
     ]
    },
    {
     "name": "stderr",
     "output_type": "stream",
     "text": [
      "\r",
      " 57%|█████▋    | 1717/3000 [01:46<01:47, 11.94it/s]"
     ]
    },
    {
     "name": "stdout",
     "output_type": "stream",
     "text": [
      "1715 0.008743402548134327\n",
      "1716 0.008828259073197842\n"
     ]
    },
    {
     "name": "stderr",
     "output_type": "stream",
     "text": [
      "\r",
      " 57%|█████▋    | 1719/3000 [01:46<01:59, 10.71it/s]"
     ]
    },
    {
     "name": "stdout",
     "output_type": "stream",
     "text": [
      "1717 0.008827868849039078\n",
      "1718 0.008748914115130901\n"
     ]
    },
    {
     "name": "stderr",
     "output_type": "stream",
     "text": [
      "\r",
      " 57%|█████▋    | 1721/3000 [01:46<02:05, 10.21it/s]"
     ]
    },
    {
     "name": "stdout",
     "output_type": "stream",
     "text": [
      "1719 0.008890518918633461\n",
      "1720 0.008771919645369053\n",
      "1721 0.00877542607486248\n"
     ]
    },
    {
     "name": "stderr",
     "output_type": "stream",
     "text": [
      " 57%|█████▊    | 1725/3000 [01:47<01:41, 12.56it/s]"
     ]
    },
    {
     "name": "stdout",
     "output_type": "stream",
     "text": [
      "1722 0.008870658464729786\n",
      "1723 0.008977831341326237\n",
      "1724 0.008732140995562077\n"
     ]
    },
    {
     "name": "stderr",
     "output_type": "stream",
     "text": [
      "\r",
      " 58%|█████▊    | 1727/3000 [01:47<01:52, 11.36it/s]"
     ]
    },
    {
     "name": "stdout",
     "output_type": "stream",
     "text": [
      "1725 0.010751691646873951\n",
      "1726 0.00867999717593193\n",
      "1727 0.008843185380101204\n"
     ]
    },
    {
     "name": "stderr",
     "output_type": "stream",
     "text": [
      " 58%|█████▊    | 1731/3000 [01:47<01:30, 14.03it/s]"
     ]
    },
    {
     "name": "stdout",
     "output_type": "stream",
     "text": [
      "1728 0.008879262953996658\n",
      "1729 0.008839706890285015\n",
      "1730 0.008849666453897953\n",
      "1731 0.008958868682384491\n"
     ]
    },
    {
     "name": "stderr",
     "output_type": "stream",
     "text": [
      " 58%|█████▊    | 1735/3000 [01:47<01:23, 15.10it/s]"
     ]
    },
    {
     "name": "stdout",
     "output_type": "stream",
     "text": [
      "1732 0.00878442544490099\n",
      "1733 0.008772126398980618\n",
      "1734 0.008807922713458538\n"
     ]
    },
    {
     "name": "stderr",
     "output_type": "stream",
     "text": [
      " 58%|█████▊    | 1739/3000 [01:47<01:24, 14.93it/s]"
     ]
    },
    {
     "name": "stdout",
     "output_type": "stream",
     "text": [
      "1735 0.008834190666675568\n",
      "1736 0.008843420073390007\n",
      "1737 0.008795168250799179\n",
      "1738 0.008799029514193535\n"
     ]
    },
    {
     "name": "stderr",
     "output_type": "stream",
     "text": [
      "\r",
      " 58%|█████▊    | 1741/3000 [01:48<01:25, 14.65it/s]"
     ]
    },
    {
     "name": "stdout",
     "output_type": "stream",
     "text": [
      "1739 0.008860387839376926\n",
      "1740 0.008962279185652733\n",
      "1741 0.008956588804721832\n"
     ]
    },
    {
     "name": "stderr",
     "output_type": "stream",
     "text": [
      " 58%|█████▊    | 1745/3000 [01:48<01:24, 14.91it/s]"
     ]
    },
    {
     "name": "stdout",
     "output_type": "stream",
     "text": [
      "1742 0.008715372532606125\n",
      "1743 0.008748659864068031\n",
      "1744 0.008683708496391773\n",
      "1745 0.008908224292099476\n"
     ]
    },
    {
     "name": "stderr",
     "output_type": "stream",
     "text": [
      " 58%|█████▊    | 1749/3000 [01:48<01:30, 13.84it/s]"
     ]
    },
    {
     "name": "stdout",
     "output_type": "stream",
     "text": [
      "1746 0.008645608089864254\n",
      "1747 0.00893462635576725\n",
      "1748 0.008514155633747578\n"
     ]
    },
    {
     "name": "stderr",
     "output_type": "stream",
     "text": [
      "\r",
      " 58%|█████▊    | 1751/3000 [01:48<01:36, 12.96it/s]"
     ]
    },
    {
     "name": "stdout",
     "output_type": "stream",
     "text": [
      "1749 0.00908537209033966\n",
      "1750 0.008881996385753155\n",
      "1751 0.008612215518951416\n"
     ]
    },
    {
     "name": "stderr",
     "output_type": "stream",
     "text": [
      " 58%|█████▊    | 1755/3000 [01:49<01:22, 15.08it/s]"
     ]
    },
    {
     "name": "stdout",
     "output_type": "stream",
     "text": [
      "1752 0.008872877806425095\n",
      "1753 0.008818157948553562\n",
      "1754 0.008942533284425735\n",
      "1755 0.008998817764222622\n"
     ]
    },
    {
     "name": "stderr",
     "output_type": "stream",
     "text": [
      " 59%|█████▊    | 1759/3000 [01:49<01:19, 15.57it/s]"
     ]
    },
    {
     "name": "stdout",
     "output_type": "stream",
     "text": [
      "1756 0.008728442713618279\n",
      "1757 0.008794352412223816\n",
      "1758 0.008803620003163815\n",
      "1759 0.008429518900811672\n"
     ]
    },
    {
     "name": "stderr",
     "output_type": "stream",
     "text": [
      " 59%|█████▉    | 1763/3000 [01:49<01:22, 14.98it/s]"
     ]
    },
    {
     "name": "stdout",
     "output_type": "stream",
     "text": [
      "1760 0.008646741509437561\n",
      "1761 0.008733588270843029\n",
      "1762 0.010966645553708076\n"
     ]
    },
    {
     "name": "stderr",
     "output_type": "stream",
     "text": [
      "\r",
      " 59%|█████▉    | 1765/3000 [01:49<01:23, 14.73it/s]"
     ]
    },
    {
     "name": "stdout",
     "output_type": "stream",
     "text": [
      "1763 0.00864348653703928\n",
      "1764 0.008742142468690872\n",
      "1765 0.009031261317431927\n"
     ]
    },
    {
     "name": "stderr",
     "output_type": "stream",
     "text": [
      " 59%|█████▉    | 1769/3000 [01:50<01:40, 12.26it/s]"
     ]
    },
    {
     "name": "stdout",
     "output_type": "stream",
     "text": [
      "1766 0.0089774364605546\n",
      "1767 0.008917183615267277\n",
      "1768 0.008883696980774403\n"
     ]
    },
    {
     "name": "stderr",
     "output_type": "stream",
     "text": [
      "\r",
      " 59%|█████▉    | 1771/3000 [01:50<01:39, 12.40it/s]"
     ]
    },
    {
     "name": "stdout",
     "output_type": "stream",
     "text": [
      "1769 0.008515764959156513\n",
      "1770 0.00892229937016964\n",
      "1771 0.008656438440084457\n"
     ]
    },
    {
     "name": "stderr",
     "output_type": "stream",
     "text": [
      " 59%|█████▉    | 1775/3000 [01:50<01:31, 13.41it/s]"
     ]
    },
    {
     "name": "stdout",
     "output_type": "stream",
     "text": [
      "1772 0.008776582777500153\n",
      "1773 0.008752209134399891\n",
      "1774 0.00895773246884346\n"
     ]
    },
    {
     "name": "stderr",
     "output_type": "stream",
     "text": [
      "\r",
      " 59%|█████▉    | 1777/3000 [01:50<01:47, 11.43it/s]"
     ]
    },
    {
     "name": "stdout",
     "output_type": "stream",
     "text": [
      "1775 0.00857588741928339\n",
      "1776 0.008871468715369701\n",
      "1777 0.00876108929514885\n"
     ]
    },
    {
     "name": "stderr",
     "output_type": "stream",
     "text": [
      " 59%|█████▉    | 1781/3000 [01:51<01:41, 12.03it/s]"
     ]
    },
    {
     "name": "stdout",
     "output_type": "stream",
     "text": [
      "1778 0.008675167337059975\n",
      "1779 0.009149168618023396\n",
      "1780 0.008859592489898205\n"
     ]
    },
    {
     "name": "stderr",
     "output_type": "stream",
     "text": [
      "\r",
      " 59%|█████▉    | 1783/3000 [01:51<01:45, 11.54it/s]"
     ]
    },
    {
     "name": "stdout",
     "output_type": "stream",
     "text": [
      "1781 0.00879553984850645\n",
      "1782 0.008737904950976372\n",
      "1783 0.008861158974468708\n"
     ]
    },
    {
     "name": "stderr",
     "output_type": "stream",
     "text": [
      "\r",
      " 60%|█████▉    | 1785/3000 [01:51<01:48, 11.21it/s]"
     ]
    },
    {
     "name": "stdout",
     "output_type": "stream",
     "text": [
      "1784 0.008703130297362804\n",
      "1785 0.00909246876835823\n"
     ]
    },
    {
     "name": "stderr",
     "output_type": "stream",
     "text": [
      "\r",
      " 60%|█████▉    | 1787/3000 [01:51<01:59, 10.19it/s]"
     ]
    },
    {
     "name": "stdout",
     "output_type": "stream",
     "text": [
      "1786 0.008751578629016876\n",
      "1787 0.008912883698940277\n"
     ]
    },
    {
     "name": "stderr",
     "output_type": "stream",
     "text": [
      "\r",
      " 60%|█████▉    | 1789/3000 [01:51<02:06,  9.60it/s]"
     ]
    },
    {
     "name": "stdout",
     "output_type": "stream",
     "text": [
      "1788 0.012891694903373718\n",
      "1789 0.008883613161742687\n"
     ]
    },
    {
     "name": "stderr",
     "output_type": "stream",
     "text": [
      " 60%|█████▉    | 1792/3000 [01:52<02:18,  8.71it/s]"
     ]
    },
    {
     "name": "stdout",
     "output_type": "stream",
     "text": [
      "1790 0.008913005702197552\n",
      "1791 0.008881903253495693\n"
     ]
    },
    {
     "name": "stderr",
     "output_type": "stream",
     "text": [
      " 60%|█████▉    | 1794/3000 [01:52<02:15,  8.92it/s]"
     ]
    },
    {
     "name": "stdout",
     "output_type": "stream",
     "text": [
      "1792 0.00921665970236063\n",
      "1793 0.008833219297230244\n",
      "1794 0.009016619063913822\n"
     ]
    },
    {
     "name": "stderr",
     "output_type": "stream",
     "text": [
      " 60%|█████▉    | 1798/3000 [01:52<01:46, 11.33it/s]"
     ]
    },
    {
     "name": "stdout",
     "output_type": "stream",
     "text": [
      "1795 0.008969581685960293\n",
      "1796 0.008843470364809036\n",
      "1797 0.008838910609483719\n",
      "1798 0.008898524567484856\n"
     ]
    },
    {
     "name": "stderr",
     "output_type": "stream",
     "text": [
      "\r",
      " 60%|██████    | 1800/3000 [01:52<01:42, 11.69it/s]"
     ]
    },
    {
     "name": "stdout",
     "output_type": "stream",
     "text": [
      "1799 0.008730461820960045\n",
      "1800 0.008681421168148518\n"
     ]
    },
    {
     "name": "stderr",
     "output_type": "stream",
     "text": [
      "\r",
      " 60%|██████    | 1802/3000 [01:53<01:52, 10.66it/s]"
     ]
    },
    {
     "name": "stdout",
     "output_type": "stream",
     "text": [
      "1801 0.008680686354637146\n",
      "1802 0.008839435875415802\n"
     ]
    },
    {
     "name": "stderr",
     "output_type": "stream",
     "text": [
      " 60%|██████    | 1806/3000 [01:53<01:51, 10.67it/s]"
     ]
    },
    {
     "name": "stdout",
     "output_type": "stream",
     "text": [
      "1803 0.008655885234475136\n",
      "1804 0.008975530974566936\n",
      "1805 0.008824917487800121\n"
     ]
    },
    {
     "name": "stderr",
     "output_type": "stream",
     "text": [
      "\r",
      " 60%|██████    | 1808/3000 [01:53<01:52, 10.59it/s]"
     ]
    },
    {
     "name": "stdout",
     "output_type": "stream",
     "text": [
      "1806 0.009065879508852959\n",
      "1807 0.008936561644077301\n",
      "1808 0.008744042366743088\n"
     ]
    },
    {
     "name": "stderr",
     "output_type": "stream",
     "text": [
      " 60%|██████    | 1812/3000 [01:54<01:36, 12.29it/s]"
     ]
    },
    {
     "name": "stdout",
     "output_type": "stream",
     "text": [
      "1809 0.00904497317969799\n",
      "1810 0.008788134902715683\n",
      "1811 0.008967403322458267\n"
     ]
    },
    {
     "name": "stderr",
     "output_type": "stream",
     "text": [
      " 61%|██████    | 1816/3000 [01:54<01:29, 13.16it/s]"
     ]
    },
    {
     "name": "stdout",
     "output_type": "stream",
     "text": [
      "1812 0.009025792591273785\n",
      "1813 0.008836615830659866\n",
      "1814 0.008685518987476826\n",
      "1815 0.00888132769614458\n"
     ]
    },
    {
     "name": "stderr",
     "output_type": "stream",
     "text": [
      "\r",
      " 61%|██████    | 1818/3000 [01:54<01:39, 11.92it/s]"
     ]
    },
    {
     "name": "stdout",
     "output_type": "stream",
     "text": [
      "1816 0.008959101513028145\n",
      "1817 0.008842291310429573\n"
     ]
    },
    {
     "name": "stderr",
     "output_type": "stream",
     "text": [
      "\r",
      " 61%|██████    | 1820/3000 [01:54<01:39, 11.82it/s]"
     ]
    },
    {
     "name": "stdout",
     "output_type": "stream",
     "text": [
      "1818 0.008962871506810188\n",
      "1819 0.00899635348469019\n",
      "1820 0.008940566331148148\n"
     ]
    },
    {
     "name": "stderr",
     "output_type": "stream",
     "text": [
      " 61%|██████    | 1824/3000 [01:55<01:41, 11.64it/s]"
     ]
    },
    {
     "name": "stdout",
     "output_type": "stream",
     "text": [
      "1821 0.008755646646022797\n",
      "1822 0.008954130113124847\n",
      "1823 0.008720639161765575\n"
     ]
    },
    {
     "name": "stderr",
     "output_type": "stream",
     "text": [
      " 61%|██████    | 1828/3000 [01:55<01:29, 13.07it/s]"
     ]
    },
    {
     "name": "stdout",
     "output_type": "stream",
     "text": [
      "1824 0.008768973872065544\n",
      "1825 0.008850766345858574\n",
      "1826 0.008865073323249817\n",
      "1827 0.008739370852708817\n"
     ]
    },
    {
     "name": "stderr",
     "output_type": "stream",
     "text": [
      "\r",
      " 61%|██████    | 1830/3000 [01:55<01:44, 11.19it/s]"
     ]
    },
    {
     "name": "stdout",
     "output_type": "stream",
     "text": [
      "1828 0.008680273778736591\n",
      "1829 0.008520958013832569\n"
     ]
    },
    {
     "name": "stderr",
     "output_type": "stream",
     "text": [
      "\r",
      " 61%|██████    | 1832/3000 [01:55<01:45, 11.08it/s]"
     ]
    },
    {
     "name": "stdout",
     "output_type": "stream",
     "text": [
      "1830 0.008608181960880756\n",
      "1831 0.008865483105182648\n",
      "1832 0.008874586783349514\n"
     ]
    },
    {
     "name": "stderr",
     "output_type": "stream",
     "text": [
      " 61%|██████    | 1836/3000 [01:56<01:43, 11.20it/s]"
     ]
    },
    {
     "name": "stdout",
     "output_type": "stream",
     "text": [
      "1833 0.008616412058472633\n",
      "1834 0.008757174015045166\n",
      "1835 0.008958003483712673\n"
     ]
    },
    {
     "name": "stderr",
     "output_type": "stream",
     "text": [
      "\r",
      " 61%|██████▏   | 1838/3000 [01:56<01:47, 10.85it/s]"
     ]
    },
    {
     "name": "stdout",
     "output_type": "stream",
     "text": [
      "1836 0.008638606406748295\n",
      "1837 0.008824855089187622\n",
      "1838 0.008844265714287758\n"
     ]
    },
    {
     "name": "stderr",
     "output_type": "stream",
     "text": [
      " 61%|██████▏   | 1842/3000 [01:56<01:45, 10.95it/s]"
     ]
    },
    {
     "name": "stdout",
     "output_type": "stream",
     "text": [
      "1839 0.00865661259740591\n",
      "1840 0.008639129810035229\n",
      "1841 0.009070375934243202\n"
     ]
    },
    {
     "name": "stderr",
     "output_type": "stream",
     "text": [
      "\r",
      " 61%|██████▏   | 1844/3000 [01:56<01:46, 10.86it/s]"
     ]
    },
    {
     "name": "stdout",
     "output_type": "stream",
     "text": [
      "1842 0.008647434413433075\n",
      "1843 0.008731410838663578\n",
      "1844 0.008689588867127895\n"
     ]
    },
    {
     "name": "stderr",
     "output_type": "stream",
     "text": [
      " 62%|██████▏   | 1848/3000 [01:57<01:47, 10.73it/s]"
     ]
    },
    {
     "name": "stdout",
     "output_type": "stream",
     "text": [
      "1845 0.008668298833072186\n",
      "1846 0.008774525485932827\n",
      "1847 0.00875903945416212\n"
     ]
    },
    {
     "name": "stderr",
     "output_type": "stream",
     "text": [
      " 62%|██████▏   | 1852/3000 [01:57<01:32, 12.40it/s]"
     ]
    },
    {
     "name": "stdout",
     "output_type": "stream",
     "text": [
      "1848 0.008868183940649033\n",
      "1849 0.00889879185706377\n",
      "1850 0.012776377610862255\n",
      "1851 0.00885553564876318\n"
     ]
    },
    {
     "name": "stderr",
     "output_type": "stream",
     "text": [
      " 62%|██████▏   | 1856/3000 [01:57<01:16, 14.90it/s]"
     ]
    },
    {
     "name": "stdout",
     "output_type": "stream",
     "text": [
      "1852 0.008842024952173233\n",
      "1853 0.008943627588450909\n",
      "1854 0.008821384981274605\n",
      "1855 0.008905995637178421\n"
     ]
    },
    {
     "name": "stderr",
     "output_type": "stream",
     "text": [
      " 62%|██████▏   | 1860/3000 [01:57<01:12, 15.74it/s]"
     ]
    },
    {
     "name": "stdout",
     "output_type": "stream",
     "text": [
      "1856 0.008979159407317638\n",
      "1857 0.009017948992550373\n",
      "1858 0.00899856723845005\n",
      "1859 0.008596464060246944\n"
     ]
    },
    {
     "name": "stderr",
     "output_type": "stream",
     "text": [
      "\r",
      " 62%|██████▏   | 1862/3000 [01:58<01:10, 16.06it/s]"
     ]
    },
    {
     "name": "stdout",
     "output_type": "stream",
     "text": [
      "1860 0.008974608033895493\n",
      "1861 0.008959020487964153\n",
      "1862 0.008744747377932072\n"
     ]
    },
    {
     "name": "stderr",
     "output_type": "stream",
     "text": [
      " 62%|██████▏   | 1866/3000 [01:58<01:24, 13.39it/s]"
     ]
    },
    {
     "name": "stdout",
     "output_type": "stream",
     "text": [
      "1863 0.008842242881655693\n",
      "1864 0.008895855396986008\n",
      "1865 0.008870705962181091\n"
     ]
    },
    {
     "name": "stderr",
     "output_type": "stream",
     "text": [
      "\r",
      " 62%|██████▏   | 1868/3000 [01:58<01:35, 11.90it/s]"
     ]
    },
    {
     "name": "stdout",
     "output_type": "stream",
     "text": [
      "1866 0.008812349289655685\n",
      "1867 0.008870333433151245\n",
      "1868 0.008806123398244381\n"
     ]
    },
    {
     "name": "stderr",
     "output_type": "stream",
     "text": [
      " 62%|██████▏   | 1872/3000 [01:58<01:29, 12.60it/s]"
     ]
    },
    {
     "name": "stdout",
     "output_type": "stream",
     "text": [
      "1869 0.008841893635690212\n",
      "1870 0.008810773491859436\n",
      "1871 0.00925311166793108\n"
     ]
    },
    {
     "name": "stderr",
     "output_type": "stream",
     "text": [
      "\r",
      " 62%|██████▏   | 1874/3000 [01:59<01:35, 11.78it/s]"
     ]
    },
    {
     "name": "stdout",
     "output_type": "stream",
     "text": [
      "1872 0.00874311663210392\n",
      "1873 0.00880471058189869\n",
      "1874 0.008803484961390495\n"
     ]
    },
    {
     "name": "stderr",
     "output_type": "stream",
     "text": [
      " 63%|██████▎   | 1879/3000 [01:59<01:26, 12.91it/s]"
     ]
    },
    {
     "name": "stdout",
     "output_type": "stream",
     "text": [
      "1875 0.008668852970004082\n",
      "1876 0.008706176653504372\n",
      "1877 0.009008660912513733\n",
      "1878 0.00885671004652977\n"
     ]
    },
    {
     "name": "stderr",
     "output_type": "stream",
     "text": [
      "\r",
      " 63%|██████▎   | 1881/3000 [01:59<01:20, 13.85it/s]"
     ]
    },
    {
     "name": "stdout",
     "output_type": "stream",
     "text": [
      "1879 0.008914945647120476\n",
      "1880 0.0086534284055233\n",
      "1881 0.012624942697584629\n"
     ]
    },
    {
     "name": "stderr",
     "output_type": "stream",
     "text": [
      " 63%|██████▎   | 1885/3000 [01:59<01:24, 13.15it/s]"
     ]
    },
    {
     "name": "stdout",
     "output_type": "stream",
     "text": [
      "1882 0.00891290046274662\n",
      "1883 0.008627212606370449\n",
      "1884 0.008885271847248077\n",
      "1885 0.009006623178720474\n"
     ]
    },
    {
     "name": "stderr",
     "output_type": "stream",
     "text": [
      " 63%|██████▎   | 1889/3000 [02:00<01:21, 13.56it/s]"
     ]
    },
    {
     "name": "stdout",
     "output_type": "stream",
     "text": [
      "1886 0.008947172202169895\n",
      "1887 0.008976471610367298\n",
      "1888 0.00881816353648901\n"
     ]
    },
    {
     "name": "stderr",
     "output_type": "stream",
     "text": [
      "\r",
      " 63%|██████▎   | 1891/3000 [02:00<01:16, 14.52it/s]"
     ]
    },
    {
     "name": "stdout",
     "output_type": "stream",
     "text": [
      "1889 0.008802991360425949\n",
      "1890 0.008865131065249443\n",
      "1891 0.008754347451031208\n"
     ]
    },
    {
     "name": "stderr",
     "output_type": "stream",
     "text": [
      " 63%|██████▎   | 1895/3000 [02:00<01:20, 13.69it/s]"
     ]
    },
    {
     "name": "stdout",
     "output_type": "stream",
     "text": [
      "1892 0.008780330419540405\n",
      "1893 0.008674008771777153\n",
      "1894 0.009014868177473545\n"
     ]
    },
    {
     "name": "stderr",
     "output_type": "stream",
     "text": [
      " 63%|██████▎   | 1899/3000 [02:00<01:14, 14.86it/s]"
     ]
    },
    {
     "name": "stdout",
     "output_type": "stream",
     "text": [
      "1895 0.008801463060081005\n",
      "1896 0.009088288992643356\n",
      "1897 0.008869740180671215\n",
      "1898 0.008845332078635693\n"
     ]
    },
    {
     "name": "stderr",
     "output_type": "stream",
     "text": [
      "\r",
      " 63%|██████▎   | 1901/3000 [02:01<01:16, 14.39it/s]"
     ]
    },
    {
     "name": "stdout",
     "output_type": "stream",
     "text": [
      "1899 0.008665071800351143\n",
      "1900 0.00892127025872469\n",
      "1901 0.008859405294060707\n"
     ]
    },
    {
     "name": "stderr",
     "output_type": "stream",
     "text": [
      " 64%|██████▎   | 1906/3000 [02:01<01:07, 16.28it/s]"
     ]
    },
    {
     "name": "stdout",
     "output_type": "stream",
     "text": [
      "1902 0.008977724239230156\n",
      "1903 0.008729727938771248\n",
      "1904 0.00891968049108982\n",
      "1905 0.00881704967468977\n",
      "1906 0.008884148672223091\n"
     ]
    },
    {
     "name": "stderr",
     "output_type": "stream",
     "text": [
      " 64%|██████▎   | 1910/3000 [02:01<01:05, 16.57it/s]"
     ]
    },
    {
     "name": "stdout",
     "output_type": "stream",
     "text": [
      "1907 0.008813323453068733\n",
      "1908 0.009118294343352318\n",
      "1909 0.008847220800817013\n",
      "1910 0.008775182999670506\n"
     ]
    },
    {
     "name": "stderr",
     "output_type": "stream",
     "text": [
      " 64%|██████▍   | 1914/3000 [02:01<01:17, 14.06it/s]"
     ]
    },
    {
     "name": "stdout",
     "output_type": "stream",
     "text": [
      "1911 0.008776502683758736\n",
      "1912 0.00866809394210577\n",
      "1913 0.009226379916071892\n"
     ]
    },
    {
     "name": "stderr",
     "output_type": "stream",
     "text": [
      " 64%|██████▍   | 1918/3000 [02:02<01:08, 15.85it/s]"
     ]
    },
    {
     "name": "stdout",
     "output_type": "stream",
     "text": [
      "1914 0.01068058330565691\n",
      "1915 0.00870408583432436\n",
      "1916 0.008966474793851376\n",
      "1917 0.008985371328890324\n"
     ]
    },
    {
     "name": "stderr",
     "output_type": "stream",
     "text": [
      " 64%|██████▍   | 1922/3000 [02:02<01:08, 15.67it/s]"
     ]
    },
    {
     "name": "stdout",
     "output_type": "stream",
     "text": [
      "1918 0.008859286084771156\n",
      "1919 0.00883537158370018\n",
      "1920 0.008952637203037739\n",
      "1921 0.008371194824576378\n"
     ]
    },
    {
     "name": "stderr",
     "output_type": "stream",
     "text": [
      "\r",
      " 64%|██████▍   | 1924/3000 [02:02<01:07, 15.97it/s]"
     ]
    },
    {
     "name": "stdout",
     "output_type": "stream",
     "text": [
      "1922 0.008904071524739265\n",
      "1923 0.014885856769979\n",
      "1924 0.0089561203494668\n"
     ]
    },
    {
     "name": "stderr",
     "output_type": "stream",
     "text": [
      " 64%|██████▍   | 1928/3000 [02:02<01:11, 14.92it/s]"
     ]
    },
    {
     "name": "stdout",
     "output_type": "stream",
     "text": [
      "1925 0.0088196387514472\n",
      "1926 0.009200488217175007\n",
      "1927 0.00910099409520626\n",
      "1928 0.008865765295922756\n"
     ]
    },
    {
     "name": "stderr",
     "output_type": "stream",
     "text": [
      " 64%|██████▍   | 1932/3000 [02:03<01:17, 13.87it/s]"
     ]
    },
    {
     "name": "stdout",
     "output_type": "stream",
     "text": [
      "1929 0.008761024102568626\n",
      "1930 0.00890888087451458\n",
      "1931 0.008711501955986023\n"
     ]
    },
    {
     "name": "stderr",
     "output_type": "stream",
     "text": [
      " 65%|██████▍   | 1936/3000 [02:03<01:11, 14.78it/s]"
     ]
    },
    {
     "name": "stdout",
     "output_type": "stream",
     "text": [
      "1932 0.008684495463967323\n",
      "1933 0.008712544105947018\n",
      "1934 0.008765370585024357\n",
      "1935 0.008655782788991928\n"
     ]
    },
    {
     "name": "stderr",
     "output_type": "stream",
     "text": [
      " 65%|██████▍   | 1940/3000 [02:03<01:07, 15.60it/s]"
     ]
    },
    {
     "name": "stdout",
     "output_type": "stream",
     "text": [
      "1936 0.008871672675013542\n",
      "1937 0.01073083933442831\n",
      "1938 0.015011193230748177\n",
      "1939 0.009046362712979317\n"
     ]
    },
    {
     "name": "stderr",
     "output_type": "stream",
     "text": [
      "\r",
      " 65%|██████▍   | 1942/3000 [02:03<01:18, 13.56it/s]"
     ]
    },
    {
     "name": "stdout",
     "output_type": "stream",
     "text": [
      "1940 0.009300772100687027\n",
      "1941 0.011094546876847744\n"
     ]
    },
    {
     "name": "stderr",
     "output_type": "stream",
     "text": [
      "\r",
      " 65%|██████▍   | 1944/3000 [02:03<01:25, 12.34it/s]"
     ]
    },
    {
     "name": "stdout",
     "output_type": "stream",
     "text": [
      "1942 0.009540306404232979\n",
      "1943 0.009048244915902615\n",
      "1944 0.009091202169656754\n"
     ]
    },
    {
     "name": "stderr",
     "output_type": "stream",
     "text": [
      " 65%|██████▍   | 1948/3000 [02:04<01:20, 13.13it/s]"
     ]
    },
    {
     "name": "stdout",
     "output_type": "stream",
     "text": [
      "1945 0.008928965777158737\n",
      "1946 0.009091533720493317\n",
      "1947 0.008957987651228905\n",
      "1948 0.00898393802344799\n"
     ]
    },
    {
     "name": "stderr",
     "output_type": "stream",
     "text": [
      " 65%|██████▌   | 1952/3000 [02:04<01:11, 14.69it/s]"
     ]
    },
    {
     "name": "stdout",
     "output_type": "stream",
     "text": [
      "1949 0.008693904615938663\n",
      "1950 0.008876950480043888\n",
      "1951 0.00896135251969099\n",
      "1952 0.009258291684091091\n"
     ]
    },
    {
     "name": "stderr",
     "output_type": "stream",
     "text": [
      " 65%|██████▌   | 1956/3000 [02:04<01:14, 13.95it/s]"
     ]
    },
    {
     "name": "stdout",
     "output_type": "stream",
     "text": [
      "1953 0.008867633529007435\n",
      "1954 0.008837592788040638\n",
      "1955 0.008898547850549221\n"
     ]
    },
    {
     "name": "stderr",
     "output_type": "stream",
     "text": [
      "\r",
      " 65%|██████▌   | 1958/3000 [02:04<01:13, 14.17it/s]"
     ]
    },
    {
     "name": "stdout",
     "output_type": "stream",
     "text": [
      "1956 0.008984525687992573\n",
      "1957 0.008831808343529701\n",
      "1958 0.008583011105656624\n"
     ]
    },
    {
     "name": "stderr",
     "output_type": "stream",
     "text": [
      " 65%|██████▌   | 1962/3000 [02:05<01:23, 12.39it/s]"
     ]
    },
    {
     "name": "stdout",
     "output_type": "stream",
     "text": [
      "1959 0.008943646214902401\n",
      "1960 0.008792523294687271\n",
      "1961 0.012734399177134037\n"
     ]
    },
    {
     "name": "stderr",
     "output_type": "stream",
     "text": [
      " 66%|██████▌   | 1966/3000 [02:05<01:18, 13.17it/s]"
     ]
    },
    {
     "name": "stdout",
     "output_type": "stream",
     "text": [
      "1962 0.008839096873998642\n",
      "1963 0.00890491995960474\n",
      "1964 0.008747444488108158\n",
      "1965 0.008983396925032139\n"
     ]
    },
    {
     "name": "stderr",
     "output_type": "stream",
     "text": [
      "\r",
      " 66%|██████▌   | 1968/3000 [02:05<01:13, 14.12it/s]"
     ]
    },
    {
     "name": "stdout",
     "output_type": "stream",
     "text": [
      "1966 0.009236983954906464\n",
      "1967 0.00882714707404375\n",
      "1968 0.008815585635602474\n"
     ]
    },
    {
     "name": "stderr",
     "output_type": "stream",
     "text": [
      " 66%|██████▌   | 1972/3000 [02:06<01:23, 12.24it/s]"
     ]
    },
    {
     "name": "stdout",
     "output_type": "stream",
     "text": [
      "1969 0.00902005285024643\n",
      "1970 0.012866104021668434\n",
      "1971 0.008738637901842594\n"
     ]
    },
    {
     "name": "stderr",
     "output_type": "stream",
     "text": [
      "\r",
      " 66%|██████▌   | 1974/3000 [02:06<01:24, 12.09it/s]"
     ]
    },
    {
     "name": "stdout",
     "output_type": "stream",
     "text": [
      "1972 0.008790925145149231\n",
      "1973 0.008899498730897903\n",
      "1974 0.008968147449195385\n"
     ]
    },
    {
     "name": "stderr",
     "output_type": "stream",
     "text": [
      " 66%|██████▌   | 1978/3000 [02:06<01:24, 12.05it/s]"
     ]
    },
    {
     "name": "stdout",
     "output_type": "stream",
     "text": [
      "1975 0.012987460941076279\n",
      "1976 0.008817687630653381\n",
      "1977 0.008901037275791168\n"
     ]
    },
    {
     "name": "stderr",
     "output_type": "stream",
     "text": [
      "\r",
      " 66%|██████▌   | 1980/3000 [02:06<01:25, 11.96it/s]"
     ]
    },
    {
     "name": "stdout",
     "output_type": "stream",
     "text": [
      "1978 0.008882133290171623\n",
      "1979 0.008923639543354511\n",
      "1980 0.008765272796154022\n"
     ]
    },
    {
     "name": "stderr",
     "output_type": "stream",
     "text": [
      " 66%|██████▌   | 1984/3000 [02:07<01:29, 11.38it/s]"
     ]
    },
    {
     "name": "stdout",
     "output_type": "stream",
     "text": [
      "1981 0.008864639326930046\n",
      "1982 0.008874369785189629\n",
      "1983 0.008882801979780197\n"
     ]
    },
    {
     "name": "stderr",
     "output_type": "stream",
     "text": [
      " 66%|██████▋   | 1988/3000 [02:07<01:14, 13.63it/s]"
     ]
    },
    {
     "name": "stdout",
     "output_type": "stream",
     "text": [
      "1984 0.008609199896454811\n",
      "1985 0.008798545226454735\n",
      "1986 0.008783295750617981\n",
      "1987 0.008690190501511097\n"
     ]
    },
    {
     "name": "stderr",
     "output_type": "stream",
     "text": [
      "\r",
      " 66%|██████▋   | 1990/3000 [02:07<01:16, 13.20it/s]"
     ]
    },
    {
     "name": "stdout",
     "output_type": "stream",
     "text": [
      "1988 0.008828717283904552\n",
      "1989 0.008910336531698704\n",
      "1990 0.008954901248216629\n"
     ]
    },
    {
     "name": "stderr",
     "output_type": "stream",
     "text": [
      " 66%|██████▋   | 1994/3000 [02:07<01:17, 12.96it/s]"
     ]
    },
    {
     "name": "stdout",
     "output_type": "stream",
     "text": [
      "1991 0.008662207052111626\n",
      "1992 0.008760558441281319\n",
      "1993 0.008766709826886654\n"
     ]
    },
    {
     "name": "stderr",
     "output_type": "stream",
     "text": [
      " 67%|██████▋   | 1998/3000 [02:08<01:14, 13.46it/s]"
     ]
    },
    {
     "name": "stdout",
     "output_type": "stream",
     "text": [
      "1994 0.008833358064293861\n",
      "1995 0.008710494264960289\n",
      "1996 0.008845166303217411\n",
      "1997 0.01094054151326418\n"
     ]
    },
    {
     "name": "stderr",
     "output_type": "stream",
     "text": [
      "\r",
      " 67%|██████▋   | 2000/3000 [02:08<01:07, 14.74it/s]"
     ]
    },
    {
     "name": "stdout",
     "output_type": "stream",
     "text": [
      "1998 0.008550881408154964\n",
      "1999 0.008939814753830433\n",
      "2000 0.008819352835416794\n"
     ]
    },
    {
     "name": "stderr",
     "output_type": "stream",
     "text": [
      "\r",
      " 67%|██████▋   | 2002/3000 [02:08<01:12, 13.75it/s]"
     ]
    },
    {
     "name": "stdout",
     "output_type": "stream",
     "text": [
      "2001 0.010994360782206059\n",
      "2002 0.009015820920467377\n"
     ]
    },
    {
     "name": "stderr",
     "output_type": "stream",
     "text": [
      " 67%|██████▋   | 2006/3000 [02:08<01:21, 12.20it/s]"
     ]
    },
    {
     "name": "stdout",
     "output_type": "stream",
     "text": [
      "2003 0.009023269638419151\n",
      "2004 0.009244156070053577\n",
      "2005 0.009208163246512413\n"
     ]
    },
    {
     "name": "stderr",
     "output_type": "stream",
     "text": [
      " 67%|██████▋   | 2010/3000 [02:09<01:13, 13.41it/s]"
     ]
    },
    {
     "name": "stdout",
     "output_type": "stream",
     "text": [
      "2006 0.009006449952721596\n",
      "2007 0.008923903107643127\n",
      "2008 0.008947880007326603\n",
      "2009 0.009007246233522892\n"
     ]
    },
    {
     "name": "stderr",
     "output_type": "stream",
     "text": [
      " 67%|██████▋   | 2014/3000 [02:09<01:07, 14.55it/s]"
     ]
    },
    {
     "name": "stdout",
     "output_type": "stream",
     "text": [
      "2010 0.008531203493475914\n",
      "2011 0.00891296286135912\n",
      "2012 0.011100823059678078\n",
      "2013 0.008885117247700691\n"
     ]
    },
    {
     "name": "stderr",
     "output_type": "stream",
     "text": [
      " 67%|██████▋   | 2018/3000 [02:09<01:00, 16.13it/s]"
     ]
    },
    {
     "name": "stdout",
     "output_type": "stream",
     "text": [
      "2014 0.008982764557003975\n",
      "2015 0.008873107843101025\n",
      "2016 0.008991818875074387\n",
      "2017 0.008919289335608482\n"
     ]
    },
    {
     "name": "stderr",
     "output_type": "stream",
     "text": [
      " 67%|██████▋   | 2022/3000 [02:09<00:57, 17.11it/s]"
     ]
    },
    {
     "name": "stdout",
     "output_type": "stream",
     "text": [
      "2018 0.008948475122451782\n",
      "2019 0.009028223343193531\n",
      "2020 0.008805764839053154\n",
      "2021 0.008943554945290089\n"
     ]
    },
    {
     "name": "stderr",
     "output_type": "stream",
     "text": [
      " 68%|██████▊   | 2026/3000 [02:09<00:59, 16.28it/s]"
     ]
    },
    {
     "name": "stdout",
     "output_type": "stream",
     "text": [
      "2022 0.00878165289759636\n",
      "2023 0.008961768820881844\n",
      "2024 0.0086990837007761\n",
      "2025 0.00881324801594019\n"
     ]
    },
    {
     "name": "stderr",
     "output_type": "stream",
     "text": [
      "\r",
      " 68%|██████▊   | 2028/3000 [02:10<01:05, 14.75it/s]"
     ]
    },
    {
     "name": "stdout",
     "output_type": "stream",
     "text": [
      "2026 0.008764414116740227\n",
      "2027 0.01100208517163992\n",
      "2028 0.008842443116009235\n"
     ]
    },
    {
     "name": "stderr",
     "output_type": "stream",
     "text": [
      " 68%|██████▊   | 2032/3000 [02:10<01:11, 13.62it/s]"
     ]
    },
    {
     "name": "stdout",
     "output_type": "stream",
     "text": [
      "2029 0.008692544884979725\n",
      "2030 0.010565104894340038\n",
      "2031 0.00884461309760809\n"
     ]
    },
    {
     "name": "stderr",
     "output_type": "stream",
     "text": [
      "\r",
      " 68%|██████▊   | 2034/3000 [02:10<01:14, 12.92it/s]"
     ]
    },
    {
     "name": "stdout",
     "output_type": "stream",
     "text": [
      "2032 0.008843923918902874\n",
      "2033 0.008846617303788662\n",
      "2034 0.008922029286623001\n"
     ]
    },
    {
     "name": "stderr",
     "output_type": "stream",
     "text": [
      " 68%|██████▊   | 2038/3000 [02:10<01:12, 13.34it/s]"
     ]
    },
    {
     "name": "stdout",
     "output_type": "stream",
     "text": [
      "2035 0.008955191820859909\n",
      "2036 0.009106654673814774\n",
      "2037 0.008513390086591244\n",
      "2038 0.00882259663194418\n"
     ]
    },
    {
     "name": "stderr",
     "output_type": "stream",
     "text": [
      "\r",
      " 68%|██████▊   | 2040/3000 [02:11<01:15, 12.76it/s]"
     ]
    },
    {
     "name": "stdout",
     "output_type": "stream",
     "text": [
      "2039 0.008657122030854225\n",
      "2040 0.009167097508907318\n"
     ]
    },
    {
     "name": "stderr",
     "output_type": "stream",
     "text": [
      " 68%|██████▊   | 2044/3000 [02:11<01:17, 12.27it/s]"
     ]
    },
    {
     "name": "stdout",
     "output_type": "stream",
     "text": [
      "2041 0.00900628324598074\n",
      "2042 0.008899002335965633\n",
      "2043 0.00892595574259758\n"
     ]
    },
    {
     "name": "stderr",
     "output_type": "stream",
     "text": [
      " 68%|██████▊   | 2048/3000 [02:11<01:10, 13.43it/s]"
     ]
    },
    {
     "name": "stdout",
     "output_type": "stream",
     "text": [
      "2044 0.008911745622754097\n",
      "2045 0.008818484842777252\n",
      "2046 0.008616472594439983\n",
      "2047 0.009037716314196587\n"
     ]
    },
    {
     "name": "stderr",
     "output_type": "stream",
     "text": [
      " 68%|██████▊   | 2052/3000 [02:12<01:07, 13.97it/s]"
     ]
    },
    {
     "name": "stdout",
     "output_type": "stream",
     "text": [
      "2048 0.008770404383540154\n",
      "2049 0.008881160989403725\n",
      "2050 0.008748499676585197\n",
      "2051 0.00898885540664196\n"
     ]
    },
    {
     "name": "stderr",
     "output_type": "stream",
     "text": [
      "\r",
      " 68%|██████▊   | 2054/3000 [02:12<01:21, 11.58it/s]"
     ]
    },
    {
     "name": "stdout",
     "output_type": "stream",
     "text": [
      "2052 0.008819041773676872\n",
      "2053 0.008773354813456535\n"
     ]
    },
    {
     "name": "stderr",
     "output_type": "stream",
     "text": [
      "\r",
      " 69%|██████▊   | 2056/3000 [02:12<01:20, 11.76it/s]"
     ]
    },
    {
     "name": "stdout",
     "output_type": "stream",
     "text": [
      "2054 0.008811337873339653\n",
      "2055 0.008708365261554718\n",
      "2056 0.008999459445476532\n"
     ]
    },
    {
     "name": "stderr",
     "output_type": "stream",
     "text": [
      " 69%|██████▊   | 2060/3000 [02:12<01:10, 13.29it/s]"
     ]
    },
    {
     "name": "stdout",
     "output_type": "stream",
     "text": [
      "2057 0.009223103523254395\n",
      "2058 0.008682756684720516\n",
      "2059 0.008634690195322037\n",
      "2060 0.013094493187963963\n"
     ]
    },
    {
     "name": "stderr",
     "output_type": "stream",
     "text": [
      " 69%|██████▉   | 2064/3000 [02:13<01:13, 12.75it/s]"
     ]
    },
    {
     "name": "stdout",
     "output_type": "stream",
     "text": [
      "2061 0.008961029350757599\n",
      "2062 0.008871829137206078\n",
      "2063 0.008927659131586552\n"
     ]
    },
    {
     "name": "stderr",
     "output_type": "stream",
     "text": [
      "\r",
      " 69%|██████▉   | 2066/3000 [02:13<01:14, 12.59it/s]"
     ]
    },
    {
     "name": "stdout",
     "output_type": "stream",
     "text": [
      "2064 0.00901421532034874\n",
      "2065 0.008826939389109612\n",
      "2066 0.008924129419028759\n"
     ]
    },
    {
     "name": "stderr",
     "output_type": "stream",
     "text": [
      " 69%|██████▉   | 2070/3000 [02:13<01:06, 14.07it/s]"
     ]
    },
    {
     "name": "stdout",
     "output_type": "stream",
     "text": [
      "2067 0.008846133016049862\n",
      "2068 0.008767961524426937\n",
      "2069 0.008918552659451962\n"
     ]
    },
    {
     "name": "stderr",
     "output_type": "stream",
     "text": [
      " 69%|██████▉   | 2074/3000 [02:13<01:01, 14.94it/s]"
     ]
    },
    {
     "name": "stdout",
     "output_type": "stream",
     "text": [
      "2070 0.00877197552472353\n",
      "2071 0.00906884390860796\n",
      "2072 0.008687005378305912\n",
      "2073 0.012668568640947342\n"
     ]
    },
    {
     "name": "stderr",
     "output_type": "stream",
     "text": [
      "\r",
      " 69%|██████▉   | 2076/3000 [02:13<01:03, 14.50it/s]"
     ]
    },
    {
     "name": "stdout",
     "output_type": "stream",
     "text": [
      "2074 0.009050843305885792\n",
      "2075 0.009011372923851013\n",
      "2076 0.008818183094263077\n"
     ]
    },
    {
     "name": "stderr",
     "output_type": "stream",
     "text": [
      " 69%|██████▉   | 2080/3000 [02:14<01:03, 14.45it/s]"
     ]
    },
    {
     "name": "stdout",
     "output_type": "stream",
     "text": [
      "2077 0.008823614567518234\n",
      "2078 0.009058241732418537\n",
      "2079 0.00873270258307457\n"
     ]
    },
    {
     "name": "stderr",
     "output_type": "stream",
     "text": [
      "\r",
      " 69%|██████▉   | 2082/3000 [02:14<01:07, 13.54it/s]"
     ]
    },
    {
     "name": "stdout",
     "output_type": "stream",
     "text": [
      "2080 0.008825245313346386\n",
      "2081 0.008766957558691502\n",
      "2082 0.008744358085095882\n"
     ]
    },
    {
     "name": "stderr",
     "output_type": "stream",
     "text": [
      " 70%|██████▉   | 2086/3000 [02:14<01:04, 14.17it/s]"
     ]
    },
    {
     "name": "stdout",
     "output_type": "stream",
     "text": [
      "2083 0.00885535404086113\n",
      "2084 0.008793393149971962\n",
      "2085 0.010804099030792713\n",
      "2086 0.008747977204620838\n"
     ]
    },
    {
     "name": "stderr",
     "output_type": "stream",
     "text": [
      " 70%|██████▉   | 2090/3000 [02:14<01:00, 15.03it/s]"
     ]
    },
    {
     "name": "stdout",
     "output_type": "stream",
     "text": [
      "2087 0.008745664730668068\n",
      "2088 0.009210196323692799\n",
      "2089 0.008915217593312263\n",
      "2090 0.009040293283760548\n"
     ]
    },
    {
     "name": "stderr",
     "output_type": "stream",
     "text": [
      " 70%|██████▉   | 2094/3000 [02:15<01:00, 15.09it/s]"
     ]
    },
    {
     "name": "stdout",
     "output_type": "stream",
     "text": [
      "2091 0.008958447724580765\n",
      "2092 0.008874832652509212\n",
      "2093 0.008906126953661442\n"
     ]
    },
    {
     "name": "stderr",
     "output_type": "stream",
     "text": [
      "\r",
      " 70%|██████▉   | 2096/3000 [02:15<01:02, 14.55it/s]"
     ]
    },
    {
     "name": "stdout",
     "output_type": "stream",
     "text": [
      "2094 0.008834019303321838\n",
      "2095 0.008943083696067333\n",
      "2096 0.00888781063258648\n"
     ]
    },
    {
     "name": "stderr",
     "output_type": "stream",
     "text": [
      " 70%|███████   | 2100/3000 [02:15<01:05, 13.66it/s]"
     ]
    },
    {
     "name": "stdout",
     "output_type": "stream",
     "text": [
      "2097 0.008912988938391209\n",
      "2098 0.008645094931125641\n",
      "2099 0.008930596522986889\n"
     ]
    },
    {
     "name": "stderr",
     "output_type": "stream",
     "text": [
      " 70%|███████   | 2104/3000 [02:15<01:04, 13.80it/s]"
     ]
    },
    {
     "name": "stdout",
     "output_type": "stream",
     "text": [
      "2100 0.008760018274188042\n",
      "2101 0.008640708401799202\n",
      "2102 0.008665388450026512\n",
      "2103 0.00881959032267332\n"
     ]
    },
    {
     "name": "stderr",
     "output_type": "stream",
     "text": [
      "\r",
      " 70%|███████   | 2106/3000 [02:15<01:01, 14.63it/s]"
     ]
    },
    {
     "name": "stdout",
     "output_type": "stream",
     "text": [
      "2104 0.008843379095196724\n",
      "2105 0.008734796196222305\n",
      "2106 0.01480223797261715\n"
     ]
    },
    {
     "name": "stderr",
     "output_type": "stream",
     "text": [
      "\r",
      " 70%|███████   | 2108/3000 [02:16<01:10, 12.67it/s]"
     ]
    },
    {
     "name": "stdout",
     "output_type": "stream",
     "text": [
      "2107 0.008959249593317509\n",
      "2108 0.008791914209723473\n"
     ]
    },
    {
     "name": "stderr",
     "output_type": "stream",
     "text": [
      " 70%|███████   | 2112/3000 [02:16<01:19, 11.13it/s]"
     ]
    },
    {
     "name": "stdout",
     "output_type": "stream",
     "text": [
      "2109 0.008954569697380066\n",
      "2110 0.009124544449150562\n",
      "2111 0.009081821888685226\n"
     ]
    },
    {
     "name": "stderr",
     "output_type": "stream",
     "text": [
      "\r",
      " 70%|███████   | 2114/3000 [02:16<01:15, 11.74it/s]"
     ]
    },
    {
     "name": "stdout",
     "output_type": "stream",
     "text": [
      "2112 0.00880042091012001\n",
      "2113 0.008965404704213142\n",
      "2114 0.009196145460009575\n"
     ]
    },
    {
     "name": "stderr",
     "output_type": "stream",
     "text": [
      " 71%|███████   | 2118/3000 [02:17<01:13, 12.01it/s]"
     ]
    },
    {
     "name": "stdout",
     "output_type": "stream",
     "text": [
      "2115 0.00903638917952776\n",
      "2116 0.008765113539993763\n",
      "2117 0.008920270018279552\n",
      "2118 0.008759194985032082\n"
     ]
    },
    {
     "name": "stderr",
     "output_type": "stream",
     "text": [
      " 71%|███████   | 2122/3000 [02:17<01:05, 13.37it/s]"
     ]
    },
    {
     "name": "stdout",
     "output_type": "stream",
     "text": [
      "2119 0.00900112371891737\n",
      "2120 0.008912556804716587\n",
      "2121 0.008836273103952408\n"
     ]
    },
    {
     "name": "stderr",
     "output_type": "stream",
     "text": [
      "\r",
      " 71%|███████   | 2124/3000 [02:17<01:04, 13.58it/s]"
     ]
    },
    {
     "name": "stdout",
     "output_type": "stream",
     "text": [
      "2122 0.008695213124155998\n",
      "2123 0.013133993372321129\n",
      "2124 0.008673552423715591\n"
     ]
    },
    {
     "name": "stderr",
     "output_type": "stream",
     "text": [
      " 71%|███████   | 2128/3000 [02:17<01:09, 12.56it/s]"
     ]
    },
    {
     "name": "stdout",
     "output_type": "stream",
     "text": [
      "2125 0.008941344916820526\n",
      "2126 0.008933557197451591\n",
      "2127 0.008761840872466564\n"
     ]
    },
    {
     "name": "stderr",
     "output_type": "stream",
     "text": [
      "\r",
      " 71%|███████   | 2130/3000 [02:17<01:08, 12.76it/s]"
     ]
    },
    {
     "name": "stdout",
     "output_type": "stream",
     "text": [
      "2128 0.009080164134502411\n",
      "2129 0.008773084729909897\n",
      "2130 0.00893007405102253\n"
     ]
    },
    {
     "name": "stderr",
     "output_type": "stream",
     "text": [
      " 71%|███████   | 2134/3000 [02:18<01:07, 12.78it/s]"
     ]
    },
    {
     "name": "stdout",
     "output_type": "stream",
     "text": [
      "2131 0.008580684661865234\n",
      "2132 0.008934895507991314\n",
      "2133 0.008879940025508404\n"
     ]
    },
    {
     "name": "stderr",
     "output_type": "stream",
     "text": [
      " 71%|███████▏  | 2138/3000 [02:18<00:59, 14.57it/s]"
     ]
    },
    {
     "name": "stdout",
     "output_type": "stream",
     "text": [
      "2134 0.008959016762673855\n",
      "2135 0.012714152224361897\n",
      "2136 0.009108904749155045\n",
      "2137 0.008821413852274418\n"
     ]
    },
    {
     "name": "stderr",
     "output_type": "stream",
     "text": [
      "\r",
      " 71%|███████▏  | 2140/3000 [02:18<00:58, 14.65it/s]"
     ]
    },
    {
     "name": "stdout",
     "output_type": "stream",
     "text": [
      "2138 0.009170214645564556\n",
      "2139 0.009232060052454472\n",
      "2140 0.00904360692948103\n"
     ]
    },
    {
     "name": "stderr",
     "output_type": "stream",
     "text": [
      " 71%|███████▏  | 2144/3000 [02:18<01:01, 13.84it/s]"
     ]
    },
    {
     "name": "stdout",
     "output_type": "stream",
     "text": [
      "2141 0.012355837039649487\n",
      "2142 0.008940902538597584\n",
      "2143 0.00916173867881298\n"
     ]
    },
    {
     "name": "stderr",
     "output_type": "stream",
     "text": [
      "\r",
      " 72%|███████▏  | 2146/3000 [02:19<01:03, 13.50it/s]"
     ]
    },
    {
     "name": "stdout",
     "output_type": "stream",
     "text": [
      "2144 0.008929651230573654\n",
      "2145 0.009160622954368591\n",
      "2146 0.008904392831027508\n"
     ]
    },
    {
     "name": "stderr",
     "output_type": "stream",
     "text": [
      " 72%|███████▏  | 2150/3000 [02:19<01:01, 13.93it/s]"
     ]
    },
    {
     "name": "stdout",
     "output_type": "stream",
     "text": [
      "2147 0.00895802304148674\n",
      "2148 0.008956019766628742\n",
      "2149 0.00891671609133482\n"
     ]
    },
    {
     "name": "stderr",
     "output_type": "stream",
     "text": [
      " 72%|███████▏  | 2154/3000 [02:19<00:55, 15.18it/s]"
     ]
    },
    {
     "name": "stdout",
     "output_type": "stream",
     "text": [
      "2150 0.008821810595691204\n",
      "2151 0.00884817261248827\n",
      "2152 0.008892056532204151\n",
      "2153 0.00892664771527052\n"
     ]
    },
    {
     "name": "stderr",
     "output_type": "stream",
     "text": [
      "\r",
      " 72%|███████▏  | 2156/3000 [02:19<00:52, 16.06it/s]"
     ]
    },
    {
     "name": "stdout",
     "output_type": "stream",
     "text": [
      "2154 0.008985610678792\n",
      "2155 0.008842382580041885\n",
      "2156 0.008867917582392693\n"
     ]
    },
    {
     "name": "stderr",
     "output_type": "stream",
     "text": [
      "\r",
      " 72%|███████▏  | 2158/3000 [02:19<00:59, 14.20it/s]"
     ]
    },
    {
     "name": "stdout",
     "output_type": "stream",
     "text": [
      "2157 0.008883865550160408\n",
      "2158 0.008846836164593697\n"
     ]
    },
    {
     "name": "stderr",
     "output_type": "stream",
     "text": [
      "\r",
      " 72%|███████▏  | 2160/3000 [02:20<01:11, 11.71it/s]"
     ]
    },
    {
     "name": "stdout",
     "output_type": "stream",
     "text": [
      "2159 0.008542133495211601\n",
      "2160 0.008715151809155941\n"
     ]
    },
    {
     "name": "stderr",
     "output_type": "stream",
     "text": [
      "\r",
      " 72%|███████▏  | 2162/3000 [02:20<01:22, 10.14it/s]"
     ]
    },
    {
     "name": "stdout",
     "output_type": "stream",
     "text": [
      "2161 0.008891049772500992\n",
      "2162 0.00889706052839756\n"
     ]
    },
    {
     "name": "stderr",
     "output_type": "stream",
     "text": [
      "\r",
      " 72%|███████▏  | 2164/3000 [02:20<01:28,  9.49it/s]"
     ]
    },
    {
     "name": "stdout",
     "output_type": "stream",
     "text": [
      "2163 0.008752672001719475\n",
      "2164 0.008813121356070042\n"
     ]
    },
    {
     "name": "stderr",
     "output_type": "stream",
     "text": [
      " 72%|███████▏  | 2167/3000 [02:21<01:39,  8.34it/s]"
     ]
    },
    {
     "name": "stdout",
     "output_type": "stream",
     "text": [
      "2165 0.008911047130823135\n",
      "2166 0.012988787144422531\n"
     ]
    },
    {
     "name": "stderr",
     "output_type": "stream",
     "text": [
      " 72%|███████▏  | 2169/3000 [02:21<01:43,  8.00it/s]"
     ]
    },
    {
     "name": "stdout",
     "output_type": "stream",
     "text": [
      "2167 0.00906539335846901\n",
      "2168 0.008902006782591343\n"
     ]
    },
    {
     "name": "stderr",
     "output_type": "stream",
     "text": [
      " 72%|███████▏  | 2171/3000 [02:21<01:42,  8.12it/s]"
     ]
    },
    {
     "name": "stdout",
     "output_type": "stream",
     "text": [
      "2169 0.008886966854333878\n",
      "2170 0.008726014755666256\n"
     ]
    },
    {
     "name": "stderr",
     "output_type": "stream",
     "text": [
      " 72%|███████▏  | 2173/3000 [02:21<01:44,  7.92it/s]"
     ]
    },
    {
     "name": "stdout",
     "output_type": "stream",
     "text": [
      "2171 0.008992305025458336\n",
      "2172 0.008668122813105583\n"
     ]
    },
    {
     "name": "stderr",
     "output_type": "stream",
     "text": [
      " 72%|███████▎  | 2175/3000 [02:22<01:49,  7.52it/s]"
     ]
    },
    {
     "name": "stdout",
     "output_type": "stream",
     "text": [
      "2173 0.009068744257092476\n",
      "2174 0.008808193728327751\n"
     ]
    },
    {
     "name": "stderr",
     "output_type": "stream",
     "text": [
      " 73%|███████▎  | 2177/3000 [02:22<01:46,  7.71it/s]"
     ]
    },
    {
     "name": "stdout",
     "output_type": "stream",
     "text": [
      "2175 0.008772430941462517\n",
      "2176 0.008963017724454403\n"
     ]
    },
    {
     "name": "stderr",
     "output_type": "stream",
     "text": [
      " 73%|███████▎  | 2179/3000 [02:22<01:43,  7.94it/s]"
     ]
    },
    {
     "name": "stdout",
     "output_type": "stream",
     "text": [
      "2177 0.008755937218666077\n",
      "2178 0.008933544158935547\n"
     ]
    },
    {
     "name": "stderr",
     "output_type": "stream",
     "text": [
      "\r",
      " 73%|███████▎  | 2180/3000 [02:22<01:42,  7.96it/s]"
     ]
    },
    {
     "name": "stdout",
     "output_type": "stream",
     "text": [
      "2179 0.008688917383551598\n",
      "2180 0.008946418762207031\n"
     ]
    },
    {
     "name": "stderr",
     "output_type": "stream",
     "text": [
      " 73%|███████▎  | 2183/3000 [02:23<01:36,  8.45it/s]"
     ]
    },
    {
     "name": "stdout",
     "output_type": "stream",
     "text": [
      "2181 0.008975496515631676\n",
      "2182 0.01497122272849083\n"
     ]
    },
    {
     "name": "stderr",
     "output_type": "stream",
     "text": [
      " 73%|███████▎  | 2185/3000 [02:23<01:40,  8.10it/s]"
     ]
    },
    {
     "name": "stdout",
     "output_type": "stream",
     "text": [
      "2183 0.009021561592817307\n",
      "2184 0.009240536950528622\n"
     ]
    },
    {
     "name": "stderr",
     "output_type": "stream",
     "text": [
      " 73%|███████▎  | 2187/3000 [02:23<01:40,  8.07it/s]"
     ]
    },
    {
     "name": "stdout",
     "output_type": "stream",
     "text": [
      "2185 0.008944937027990818\n",
      "2186 0.00918855145573616\n"
     ]
    },
    {
     "name": "stderr",
     "output_type": "stream",
     "text": [
      " 73%|███████▎  | 2189/3000 [02:23<01:36,  8.37it/s]"
     ]
    },
    {
     "name": "stdout",
     "output_type": "stream",
     "text": [
      "2187 0.015212825499475002\n",
      "2188 0.00913703441619873\n"
     ]
    },
    {
     "name": "stderr",
     "output_type": "stream",
     "text": [
      " 73%|███████▎  | 2191/3000 [02:24<01:33,  8.65it/s]"
     ]
    },
    {
     "name": "stdout",
     "output_type": "stream",
     "text": [
      "2189 0.011101910844445229\n",
      "2190 0.015103636309504509\n"
     ]
    },
    {
     "name": "stderr",
     "output_type": "stream",
     "text": [
      " 73%|███████▎  | 2193/3000 [02:24<01:36,  8.33it/s]"
     ]
    },
    {
     "name": "stdout",
     "output_type": "stream",
     "text": [
      "2191 0.009128967300057411\n",
      "2192 0.011135824955999851\n"
     ]
    },
    {
     "name": "stderr",
     "output_type": "stream",
     "text": [
      " 73%|███████▎  | 2195/3000 [02:24<01:34,  8.50it/s]"
     ]
    },
    {
     "name": "stdout",
     "output_type": "stream",
     "text": [
      "2193 0.009180422872304916\n",
      "2194 0.009468870237469673\n",
      "2195 0.009329107590019703\n"
     ]
    },
    {
     "name": "stderr",
     "output_type": "stream",
     "text": [
      " 73%|███████▎  | 2199/3000 [02:24<01:14, 10.76it/s]"
     ]
    },
    {
     "name": "stdout",
     "output_type": "stream",
     "text": [
      "2196 0.009295211173593998\n",
      "2197 0.009432084858417511\n",
      "2198 0.008959607221186161\n"
     ]
    },
    {
     "name": "stderr",
     "output_type": "stream",
     "text": [
      "\r",
      " 73%|███████▎  | 2201/3000 [02:25<01:15, 10.59it/s]"
     ]
    },
    {
     "name": "stdout",
     "output_type": "stream",
     "text": [
      "2199 0.008920744061470032\n",
      "2200 0.008708697743713856\n",
      "2201 0.00907586794346571\n"
     ]
    },
    {
     "name": "stderr",
     "output_type": "stream",
     "text": [
      " 74%|███████▎  | 2205/3000 [02:25<01:03, 12.53it/s]"
     ]
    },
    {
     "name": "stdout",
     "output_type": "stream",
     "text": [
      "2202 0.008852662518620491\n",
      "2203 0.008992400951683521\n",
      "2204 0.009031924419105053\n",
      "2205 0.00891038402915001\n"
     ]
    },
    {
     "name": "stderr",
     "output_type": "stream",
     "text": [
      " 74%|███████▎  | 2209/3000 [02:25<01:04, 12.31it/s]"
     ]
    },
    {
     "name": "stdout",
     "output_type": "stream",
     "text": [
      "2206 0.009265151806175709\n",
      "2207 0.009115695022046566\n",
      "2208 0.009003636427223682\n"
     ]
    },
    {
     "name": "stderr",
     "output_type": "stream",
     "text": [
      "\r",
      " 74%|███████▎  | 2211/3000 [02:25<01:02, 12.72it/s]"
     ]
    },
    {
     "name": "stdout",
     "output_type": "stream",
     "text": [
      "2209 0.008833685889840126\n",
      "2210 0.008834031410515308\n",
      "2211 0.009025707840919495\n"
     ]
    },
    {
     "name": "stderr",
     "output_type": "stream",
     "text": [
      " 74%|███████▍  | 2215/3000 [02:26<01:01, 12.70it/s]"
     ]
    },
    {
     "name": "stdout",
     "output_type": "stream",
     "text": [
      "2212 0.008956583216786385\n",
      "2213 0.009007690474390984\n",
      "2214 0.008949162438511848\n"
     ]
    },
    {
     "name": "stderr",
     "output_type": "stream",
     "text": [
      "\r",
      " 74%|███████▍  | 2217/3000 [02:26<01:03, 12.24it/s]"
     ]
    },
    {
     "name": "stdout",
     "output_type": "stream",
     "text": [
      "2215 0.008815422654151917\n",
      "2216 0.009041737765073776\n"
     ]
    },
    {
     "name": "stderr",
     "output_type": "stream",
     "text": [
      " 74%|███████▍  | 2221/3000 [02:26<01:01, 12.73it/s]"
     ]
    },
    {
     "name": "stdout",
     "output_type": "stream",
     "text": [
      "2217 0.008836443535983562\n",
      "2218 0.009137598797678947\n",
      "2219 0.015072675421833992\n",
      "2220 0.008864405564963818\n"
     ]
    },
    {
     "name": "stderr",
     "output_type": "stream",
     "text": [
      " 74%|███████▍  | 2225/3000 [02:26<00:55, 13.89it/s]"
     ]
    },
    {
     "name": "stdout",
     "output_type": "stream",
     "text": [
      "2221 0.009088377468287945\n",
      "2222 0.009125066921114922\n",
      "2223 0.008878158405423164\n",
      "2224 0.009121143259108067\n"
     ]
    },
    {
     "name": "stderr",
     "output_type": "stream",
     "text": [
      "\r",
      " 74%|███████▍  | 2227/3000 [02:27<00:59, 13.08it/s]"
     ]
    },
    {
     "name": "stdout",
     "output_type": "stream",
     "text": [
      "2225 0.00885765440762043\n",
      "2226 0.008760349825024605\n",
      "2227 0.008969971910119057\n"
     ]
    },
    {
     "name": "stderr",
     "output_type": "stream",
     "text": [
      " 74%|███████▍  | 2231/3000 [02:27<01:01, 12.60it/s]"
     ]
    },
    {
     "name": "stdout",
     "output_type": "stream",
     "text": [
      "2228 0.008915098384022713\n",
      "2229 0.008751362562179565\n",
      "2230 0.008958641439676285\n",
      "2231 0.00898180902004242\n"
     ]
    },
    {
     "name": "stderr",
     "output_type": "stream",
     "text": [
      " 74%|███████▍  | 2235/3000 [02:27<00:54, 14.03it/s]"
     ]
    },
    {
     "name": "stdout",
     "output_type": "stream",
     "text": [
      "2232 0.008931735530495644\n",
      "2233 0.008956498466432095\n",
      "2234 0.01320195384323597\n"
     ]
    },
    {
     "name": "stderr",
     "output_type": "stream",
     "text": [
      " 75%|███████▍  | 2239/3000 [02:27<00:49, 15.39it/s]"
     ]
    },
    {
     "name": "stdout",
     "output_type": "stream",
     "text": [
      "2235 0.00898777600377798\n",
      "2236 0.015118028968572617\n",
      "2237 0.009106180630624294\n",
      "2238 0.009005680680274963\n"
     ]
    },
    {
     "name": "stderr",
     "output_type": "stream",
     "text": [
      "\r",
      " 75%|███████▍  | 2241/3000 [02:27<00:50, 15.04it/s]"
     ]
    },
    {
     "name": "stdout",
     "output_type": "stream",
     "text": [
      "2239 0.00911945290863514\n",
      "2240 0.009157334454357624\n",
      "2241 0.011148850433528423\n"
     ]
    },
    {
     "name": "stderr",
     "output_type": "stream",
     "text": [
      " 75%|███████▍  | 2245/3000 [02:28<00:48, 15.44it/s]"
     ]
    },
    {
     "name": "stdout",
     "output_type": "stream",
     "text": [
      "2242 0.008953047916293144\n",
      "2243 0.009122961200773716\n",
      "2244 0.008912486955523491\n",
      "2245 0.00900234468281269\n"
     ]
    },
    {
     "name": "stderr",
     "output_type": "stream",
     "text": [
      "\r",
      " 75%|███████▍  | 2247/3000 [02:28<00:52, 14.47it/s]"
     ]
    },
    {
     "name": "stdout",
     "output_type": "stream",
     "text": [
      "2246 0.008942422457039356\n",
      "2247 0.008889701217412949\n"
     ]
    },
    {
     "name": "stderr",
     "output_type": "stream",
     "text": [
      " 75%|███████▌  | 2251/3000 [02:28<00:56, 13.24it/s]"
     ]
    },
    {
     "name": "stdout",
     "output_type": "stream",
     "text": [
      "2248 0.009066973812878132\n",
      "2249 0.0090235760435462\n",
      "2250 0.008819050155580044\n",
      "2251 0.00901020783931017\n"
     ]
    },
    {
     "name": "stderr",
     "output_type": "stream",
     "text": [
      " 75%|███████▌  | 2256/3000 [02:29<00:49, 14.92it/s]"
     ]
    },
    {
     "name": "stdout",
     "output_type": "stream",
     "text": [
      "2252 0.008715479634702206\n",
      "2253 0.008948502130806446\n",
      "2254 0.008868862874805927\n",
      "2255 0.008861793205142021\n"
     ]
    },
    {
     "name": "stderr",
     "output_type": "stream",
     "text": [
      "\r",
      " 75%|███████▌  | 2258/3000 [02:29<00:54, 13.69it/s]"
     ]
    },
    {
     "name": "stdout",
     "output_type": "stream",
     "text": [
      "2256 0.0089943902567029\n",
      "2257 0.008905270136892796\n",
      "2258 0.008937451988458633\n"
     ]
    },
    {
     "name": "stderr",
     "output_type": "stream",
     "text": [
      " 75%|███████▌  | 2262/3000 [02:29<00:56, 12.97it/s]"
     ]
    },
    {
     "name": "stdout",
     "output_type": "stream",
     "text": [
      "2259 0.009120275266468525\n",
      "2260 0.008707246743142605\n",
      "2261 0.009076666086912155\n",
      "2262 0.00896542239934206\n"
     ]
    },
    {
     "name": "stderr",
     "output_type": "stream",
     "text": [
      " 76%|███████▌  | 2266/3000 [02:29<00:50, 14.59it/s]"
     ]
    },
    {
     "name": "stdout",
     "output_type": "stream",
     "text": [
      "2263 0.008981948718428612\n",
      "2264 0.008842556737363338\n",
      "2265 0.009061842225492\n",
      "2266 0.008782217279076576\n"
     ]
    },
    {
     "name": "stderr",
     "output_type": "stream",
     "text": [
      " 76%|███████▌  | 2270/3000 [02:30<00:46, 15.69it/s]"
     ]
    },
    {
     "name": "stdout",
     "output_type": "stream",
     "text": [
      "2267 0.008831419050693512\n",
      "2268 0.008679981343448162\n",
      "2269 0.00884792860597372\n"
     ]
    },
    {
     "name": "stderr",
     "output_type": "stream",
     "text": [
      "\r",
      " 76%|███████▌  | 2272/3000 [02:30<00:54, 13.29it/s]"
     ]
    },
    {
     "name": "stdout",
     "output_type": "stream",
     "text": [
      "2270 0.008996295742690563\n",
      "2271 0.008682017214596272\n",
      "2272 0.008895931765437126\n"
     ]
    },
    {
     "name": "stderr",
     "output_type": "stream",
     "text": [
      " 76%|███████▌  | 2277/3000 [02:30<00:51, 14.14it/s]"
     ]
    },
    {
     "name": "stdout",
     "output_type": "stream",
     "text": [
      "2273 0.008775490336120129\n",
      "2274 0.008823701180517673\n",
      "2275 0.00863728579133749\n",
      "2276 0.008753438480198383\n"
     ]
    },
    {
     "name": "stderr",
     "output_type": "stream",
     "text": [
      "\r",
      " 76%|███████▌  | 2279/3000 [02:30<00:55, 13.00it/s]"
     ]
    },
    {
     "name": "stdout",
     "output_type": "stream",
     "text": [
      "2277 0.008706373162567616\n",
      "2278 0.008558303117752075\n",
      "2279 0.00877272430807352\n"
     ]
    },
    {
     "name": "stderr",
     "output_type": "stream",
     "text": [
      " 76%|███████▌  | 2283/3000 [02:31<00:54, 13.08it/s]"
     ]
    },
    {
     "name": "stdout",
     "output_type": "stream",
     "text": [
      "2280 0.008696934208273888\n",
      "2281 0.008915333077311516\n",
      "2282 0.00884594488888979\n"
     ]
    },
    {
     "name": "stderr",
     "output_type": "stream",
     "text": [
      " 76%|███████▌  | 2287/3000 [02:31<00:48, 14.68it/s]"
     ]
    },
    {
     "name": "stdout",
     "output_type": "stream",
     "text": [
      "2283 0.008769333362579346\n",
      "2284 0.008556618355214596\n",
      "2285 0.008712608367204666\n",
      "2286 0.008970151655375957\n"
     ]
    },
    {
     "name": "stderr",
     "output_type": "stream",
     "text": [
      "\r",
      " 76%|███████▋  | 2289/3000 [02:31<00:51, 13.68it/s]"
     ]
    },
    {
     "name": "stdout",
     "output_type": "stream",
     "text": [
      "2287 0.008961326442658901\n",
      "2288 0.014843374490737915\n",
      "2289 0.008883444592356682\n"
     ]
    },
    {
     "name": "stderr",
     "output_type": "stream",
     "text": [
      " 76%|███████▋  | 2293/3000 [02:31<00:51, 13.65it/s]"
     ]
    },
    {
     "name": "stdout",
     "output_type": "stream",
     "text": [
      "2290 0.008834746666252613\n",
      "2291 0.008885296061635017\n",
      "2292 0.008895949460566044\n"
     ]
    },
    {
     "name": "stderr",
     "output_type": "stream",
     "text": [
      "\r",
      " 76%|███████▋  | 2295/3000 [02:31<00:55, 12.76it/s]"
     ]
    },
    {
     "name": "stdout",
     "output_type": "stream",
     "text": [
      "2293 0.008762751705944538\n",
      "2294 0.008820302784442902\n",
      "2295 0.008669044822454453\n"
     ]
    },
    {
     "name": "stderr",
     "output_type": "stream",
     "text": [
      " 77%|███████▋  | 2299/3000 [02:32<00:49, 14.07it/s]"
     ]
    },
    {
     "name": "stdout",
     "output_type": "stream",
     "text": [
      "2296 0.008806207217276096\n",
      "2297 0.009158747270703316\n",
      "2298 0.00880122184753418\n",
      "2299 0.008699019439518452\n"
     ]
    },
    {
     "name": "stderr",
     "output_type": "stream",
     "text": [
      " 77%|███████▋  | 2303/3000 [02:32<00:45, 15.26it/s]"
     ]
    },
    {
     "name": "stdout",
     "output_type": "stream",
     "text": [
      "2300 0.010591232217848301\n",
      "2301 0.008516836911439896\n",
      "2302 0.008959416300058365\n",
      "2303 0.00876639038324356\n"
     ]
    },
    {
     "name": "stderr",
     "output_type": "stream",
     "text": [
      " 77%|███████▋  | 2307/3000 [02:32<00:43, 16.06it/s]"
     ]
    },
    {
     "name": "stdout",
     "output_type": "stream",
     "text": [
      "2304 0.00881219282746315\n",
      "2305 0.009008380584418774\n",
      "2306 0.00884841475635767\n",
      "2307 0.00887528620660305\n"
     ]
    },
    {
     "name": "stderr",
     "output_type": "stream",
     "text": [
      " 77%|███████▋  | 2311/3000 [02:32<00:45, 15.22it/s]"
     ]
    },
    {
     "name": "stdout",
     "output_type": "stream",
     "text": [
      "2308 0.008747844025492668\n",
      "2309 0.008897471241652966\n",
      "2310 0.008901966735720634\n",
      "2311 0.00867344718426466\n"
     ]
    },
    {
     "name": "stderr",
     "output_type": "stream",
     "text": [
      " 77%|███████▋  | 2315/3000 [02:33<00:42, 16.25it/s]"
     ]
    },
    {
     "name": "stdout",
     "output_type": "stream",
     "text": [
      "2312 0.00892624445259571\n",
      "2313 0.008874127641320229\n",
      "2314 0.008952640928328037\n",
      "2315 0.008947893977165222\n"
     ]
    },
    {
     "name": "stderr",
     "output_type": "stream",
     "text": [
      " 77%|███████▋  | 2320/3000 [02:33<00:37, 18.09it/s]"
     ]
    },
    {
     "name": "stdout",
     "output_type": "stream",
     "text": [
      "2316 0.008622865192592144\n",
      "2317 0.008961973711848259\n",
      "2318 0.008877651765942574\n",
      "2319 0.009034035727381706\n"
     ]
    },
    {
     "name": "stderr",
     "output_type": "stream",
     "text": [
      " 77%|███████▋  | 2324/3000 [02:33<00:41, 16.25it/s]"
     ]
    },
    {
     "name": "stdout",
     "output_type": "stream",
     "text": [
      "2320 0.00861845351755619\n",
      "2321 0.008716193027794361\n",
      "2322 0.008499718271195889\n",
      "2323 0.008583271875977516\n"
     ]
    },
    {
     "name": "stderr",
     "output_type": "stream",
     "text": [
      " 78%|███████▊  | 2329/3000 [02:33<00:37, 18.08it/s]"
     ]
    },
    {
     "name": "stdout",
     "output_type": "stream",
     "text": [
      "2324 0.008687745779752731\n",
      "2325 0.008778281509876251\n",
      "2326 0.008686990477144718\n",
      "2327 0.00893086101859808\n",
      "2328 0.008643140085041523\n"
     ]
    },
    {
     "name": "stderr",
     "output_type": "stream",
     "text": [
      " 78%|███████▊  | 2334/3000 [02:34<00:35, 18.88it/s]"
     ]
    },
    {
     "name": "stdout",
     "output_type": "stream",
     "text": [
      "2329 0.00867947656661272\n",
      "2330 0.009012545458972454\n",
      "2331 0.008633041754364967\n",
      "2332 0.008539808914065361\n",
      "2333 0.008622116409242153\n"
     ]
    },
    {
     "name": "stderr",
     "output_type": "stream",
     "text": [
      " 78%|███████▊  | 2338/3000 [02:34<00:37, 17.68it/s]"
     ]
    },
    {
     "name": "stdout",
     "output_type": "stream",
     "text": [
      "2334 0.008825731463730335\n",
      "2335 0.008668293245136738\n",
      "2336 0.008601542562246323\n",
      "2337 0.008504725992679596\n"
     ]
    },
    {
     "name": "stderr",
     "output_type": "stream",
     "text": [
      "\r",
      " 78%|███████▊  | 2340/3000 [02:34<00:45, 14.48it/s]"
     ]
    },
    {
     "name": "stdout",
     "output_type": "stream",
     "text": [
      "2338 0.008711432106792927\n",
      "2339 0.00865708477795124\n"
     ]
    },
    {
     "name": "stderr",
     "output_type": "stream",
     "text": [
      "\r",
      " 78%|███████▊  | 2342/3000 [02:34<00:51, 12.80it/s]"
     ]
    },
    {
     "name": "stdout",
     "output_type": "stream",
     "text": [
      "2340 0.00875887367874384\n",
      "2341 0.008796097710728645\n",
      "2342 0.008913043886423111\n"
     ]
    },
    {
     "name": "stderr",
     "output_type": "stream",
     "text": [
      " 78%|███████▊  | 2346/3000 [02:35<00:46, 13.94it/s]"
     ]
    },
    {
     "name": "stdout",
     "output_type": "stream",
     "text": [
      "2343 0.00856349803507328\n",
      "2344 0.008751188404858112\n",
      "2345 0.008570265956223011\n",
      "2346 0.008676134981215\n"
     ]
    },
    {
     "name": "stderr",
     "output_type": "stream",
     "text": [
      "\r",
      " 78%|███████▊  | 2348/3000 [02:35<00:50, 12.80it/s]"
     ]
    },
    {
     "name": "stdout",
     "output_type": "stream",
     "text": [
      "2347 0.00872034952044487\n",
      "2348 0.008823917247354984\n"
     ]
    },
    {
     "name": "stderr",
     "output_type": "stream",
     "text": [
      " 78%|███████▊  | 2352/3000 [02:35<00:58, 11.02it/s]"
     ]
    },
    {
     "name": "stdout",
     "output_type": "stream",
     "text": [
      "2349 0.008616450242698193\n",
      "2350 0.008763858117163181\n",
      "2351 0.008771206252276897\n"
     ]
    },
    {
     "name": "stderr",
     "output_type": "stream",
     "text": [
      "\r",
      " 78%|███████▊  | 2354/3000 [02:35<01:01, 10.54it/s]"
     ]
    },
    {
     "name": "stdout",
     "output_type": "stream",
     "text": [
      "2352 0.008816167712211609\n",
      "2353 0.00868074782192707\n",
      "2354 0.008760564960539341\n"
     ]
    },
    {
     "name": "stderr",
     "output_type": "stream",
     "text": [
      " 79%|███████▊  | 2358/3000 [02:36<00:56, 11.34it/s]"
     ]
    },
    {
     "name": "stdout",
     "output_type": "stream",
     "text": [
      "2355 0.009011652320623398\n",
      "2356 0.008805187419056892\n",
      "2357 0.008654367178678513\n"
     ]
    },
    {
     "name": "stderr",
     "output_type": "stream",
     "text": [
      "\r",
      " 79%|███████▊  | 2360/3000 [02:36<00:50, 12.55it/s]"
     ]
    },
    {
     "name": "stdout",
     "output_type": "stream",
     "text": [
      "2358 0.00869334489107132\n",
      "2359 0.00899555440992117\n",
      "2360 0.012601111084222794\n"
     ]
    },
    {
     "name": "stderr",
     "output_type": "stream",
     "text": [
      " 79%|███████▉  | 2365/3000 [02:36<00:45, 13.90it/s]"
     ]
    },
    {
     "name": "stdout",
     "output_type": "stream",
     "text": [
      "2361 0.00845432560890913\n",
      "2362 0.008715496398508549\n",
      "2363 0.008987855166196823\n",
      "2364 0.008757631294429302\n"
     ]
    },
    {
     "name": "stderr",
     "output_type": "stream",
     "text": [
      "\r",
      " 79%|███████▉  | 2367/3000 [02:36<00:55, 11.41it/s]"
     ]
    },
    {
     "name": "stdout",
     "output_type": "stream",
     "text": [
      "2365 0.008872038684785366\n",
      "2366 0.008878153748810291\n"
     ]
    },
    {
     "name": "stderr",
     "output_type": "stream",
     "text": [
      "\r",
      " 79%|███████▉  | 2369/3000 [02:37<00:59, 10.55it/s]"
     ]
    },
    {
     "name": "stdout",
     "output_type": "stream",
     "text": [
      "2367 0.009202109649777412\n",
      "2368 0.008822325617074966\n",
      "2369 0.00893567968159914\n"
     ]
    },
    {
     "name": "stderr",
     "output_type": "stream",
     "text": [
      " 79%|███████▉  | 2373/3000 [02:37<00:59, 10.56it/s]"
     ]
    },
    {
     "name": "stdout",
     "output_type": "stream",
     "text": [
      "2370 0.008517995476722717\n",
      "2371 0.008669475093483925\n",
      "2372 0.008520134724676609\n"
     ]
    },
    {
     "name": "stderr",
     "output_type": "stream",
     "text": [
      "\r",
      " 79%|███████▉  | 2375/3000 [02:37<00:57, 10.91it/s]"
     ]
    },
    {
     "name": "stdout",
     "output_type": "stream",
     "text": [
      "2373 0.00898321345448494\n",
      "2374 0.015142700634896755\n",
      "2375 0.00906247366219759\n"
     ]
    },
    {
     "name": "stderr",
     "output_type": "stream",
     "text": [
      " 79%|███████▉  | 2379/3000 [02:38<00:52, 11.79it/s]"
     ]
    },
    {
     "name": "stdout",
     "output_type": "stream",
     "text": [
      "2376 0.008946147747337818\n",
      "2377 0.008852559141814709\n",
      "2378 0.00908895954489708\n"
     ]
    },
    {
     "name": "stderr",
     "output_type": "stream",
     "text": [
      "\r",
      " 79%|███████▉  | 2381/3000 [02:38<00:50, 12.38it/s]"
     ]
    },
    {
     "name": "stdout",
     "output_type": "stream",
     "text": [
      "2379 0.008985738269984722\n",
      "2380 0.008957850746810436\n",
      "2381 0.010886505246162415\n"
     ]
    },
    {
     "name": "stderr",
     "output_type": "stream",
     "text": [
      " 80%|███████▉  | 2385/3000 [02:38<00:46, 13.13it/s]"
     ]
    },
    {
     "name": "stdout",
     "output_type": "stream",
     "text": [
      "2382 0.00898701697587967\n",
      "2383 0.009023116901516914\n",
      "2384 0.008919138461351395\n",
      "2385 0.009136681444942951\n"
     ]
    },
    {
     "name": "stderr",
     "output_type": "stream",
     "text": [
      " 80%|███████▉  | 2389/3000 [02:38<00:40, 14.92it/s]"
     ]
    },
    {
     "name": "stdout",
     "output_type": "stream",
     "text": [
      "2386 0.009004542604088783\n",
      "2387 0.008831696584820747\n",
      "2388 0.010863013565540314\n",
      "2389 0.008887183852493763\n"
     ]
    },
    {
     "name": "stderr",
     "output_type": "stream",
     "text": [
      " 80%|███████▉  | 2393/3000 [02:39<00:48, 12.46it/s]"
     ]
    },
    {
     "name": "stdout",
     "output_type": "stream",
     "text": [
      "2390 0.00866344477981329\n",
      "2391 0.0088327806442976\n",
      "2392 0.008864195086061954\n"
     ]
    },
    {
     "name": "stderr",
     "output_type": "stream",
     "text": [
      " 80%|███████▉  | 2397/3000 [02:39<00:42, 14.12it/s]"
     ]
    },
    {
     "name": "stdout",
     "output_type": "stream",
     "text": [
      "2393 0.008946209214627743\n",
      "2394 0.00866962131112814\n",
      "2395 0.009010867215692997\n",
      "2396 0.008693741634488106\n"
     ]
    },
    {
     "name": "stderr",
     "output_type": "stream",
     "text": [
      "\r",
      " 80%|███████▉  | 2399/3000 [02:39<00:47, 12.63it/s]"
     ]
    },
    {
     "name": "stdout",
     "output_type": "stream",
     "text": [
      "2397 0.008729367516934872\n",
      "2398 0.008920349180698395\n"
     ]
    },
    {
     "name": "stderr",
     "output_type": "stream",
     "text": [
      "\r",
      " 80%|████████  | 2401/3000 [02:39<00:49, 12.09it/s]"
     ]
    },
    {
     "name": "stdout",
     "output_type": "stream",
     "text": [
      "2399 0.009079206734895706\n",
      "2400 0.00853405985981226\n",
      "2401 0.008912359364330769\n"
     ]
    },
    {
     "name": "stderr",
     "output_type": "stream",
     "text": [
      " 80%|████████  | 2405/3000 [02:40<00:47, 12.49it/s]"
     ]
    },
    {
     "name": "stdout",
     "output_type": "stream",
     "text": [
      "2402 0.008581798523664474\n",
      "2403 0.008763658814132214\n",
      "2404 0.010869478806853294\n"
     ]
    },
    {
     "name": "stderr",
     "output_type": "stream",
     "text": [
      "\r",
      " 80%|████████  | 2407/3000 [02:40<00:44, 13.46it/s]"
     ]
    },
    {
     "name": "stdout",
     "output_type": "stream",
     "text": [
      "2405 0.008812095038592815\n",
      "2406 0.008847814053297043\n",
      "2407 0.008821412920951843\n"
     ]
    },
    {
     "name": "stderr",
     "output_type": "stream",
     "text": [
      "\r",
      " 80%|████████  | 2409/3000 [02:40<00:44, 13.27it/s]"
     ]
    },
    {
     "name": "stdout",
     "output_type": "stream",
     "text": [
      "2408 0.008817404508590698\n",
      "2409 0.008685954846441746\n"
     ]
    },
    {
     "name": "stderr",
     "output_type": "stream",
     "text": [
      " 80%|████████  | 2413/3000 [02:40<00:49, 11.81it/s]"
     ]
    },
    {
     "name": "stdout",
     "output_type": "stream",
     "text": [
      "2410 0.00878767017275095\n",
      "2411 0.008634565398097038\n",
      "2412 0.008943959139287472\n"
     ]
    },
    {
     "name": "stderr",
     "output_type": "stream",
     "text": [
      "\r",
      " 80%|████████  | 2415/3000 [02:40<00:50, 11.69it/s]"
     ]
    },
    {
     "name": "stdout",
     "output_type": "stream",
     "text": [
      "2413 0.00869835913181305\n",
      "2414 0.008900883607566357\n",
      "2415 0.008793199434876442\n"
     ]
    },
    {
     "name": "stderr",
     "output_type": "stream",
     "text": [
      " 81%|████████  | 2419/3000 [02:41<00:48, 12.03it/s]"
     ]
    },
    {
     "name": "stdout",
     "output_type": "stream",
     "text": [
      "2416 0.00901741348206997\n",
      "2417 0.008839425630867481\n",
      "2418 0.00874744076281786\n"
     ]
    },
    {
     "name": "stderr",
     "output_type": "stream",
     "text": [
      "\r",
      " 81%|████████  | 2421/3000 [02:41<00:50, 11.40it/s]"
     ]
    },
    {
     "name": "stdout",
     "output_type": "stream",
     "text": [
      "2419 0.00873511005192995\n",
      "2420 0.008917184546589851\n",
      "2421 0.008959228172898293\n"
     ]
    },
    {
     "name": "stderr",
     "output_type": "stream",
     "text": [
      " 81%|████████  | 2425/3000 [02:41<00:45, 12.71it/s]"
     ]
    },
    {
     "name": "stdout",
     "output_type": "stream",
     "text": [
      "2422 0.00881160981953144\n",
      "2423 0.008808027021586895\n",
      "2424 0.00869294535368681\n",
      "2425 0.008661915548145771\n"
     ]
    },
    {
     "name": "stderr",
     "output_type": "stream",
     "text": [
      " 81%|████████  | 2429/3000 [02:41<00:38, 14.89it/s]"
     ]
    },
    {
     "name": "stdout",
     "output_type": "stream",
     "text": [
      "2426 0.00878898985683918\n",
      "2427 0.00903836265206337\n",
      "2428 0.008915374055504799\n",
      "2429 0.00888753030449152\n"
     ]
    },
    {
     "name": "stderr",
     "output_type": "stream",
     "text": [
      " 81%|████████  | 2433/3000 [02:42<00:37, 15.06it/s]"
     ]
    },
    {
     "name": "stdout",
     "output_type": "stream",
     "text": [
      "2430 0.01280328631401062\n",
      "2431 0.008978848345577717\n",
      "2432 0.008928957395255566\n"
     ]
    },
    {
     "name": "stderr",
     "output_type": "stream",
     "text": [
      "\r",
      " 81%|████████  | 2435/3000 [02:42<00:45, 12.38it/s]"
     ]
    },
    {
     "name": "stdout",
     "output_type": "stream",
     "text": [
      "2433 0.00894367415457964\n",
      "2434 0.009008925408124924\n"
     ]
    },
    {
     "name": "stderr",
     "output_type": "stream",
     "text": [
      "\r",
      " 81%|████████  | 2437/3000 [02:42<00:50, 11.21it/s]"
     ]
    },
    {
     "name": "stdout",
     "output_type": "stream",
     "text": [
      "2435 0.009043177589774132\n",
      "2436 0.008870215155184269\n",
      "2437 0.008929751813411713\n"
     ]
    },
    {
     "name": "stderr",
     "output_type": "stream",
     "text": [
      " 81%|████████▏ | 2442/3000 [02:42<00:42, 12.99it/s]"
     ]
    },
    {
     "name": "stdout",
     "output_type": "stream",
     "text": [
      "2438 0.008857502602040768\n",
      "2439 0.008877194486558437\n",
      "2440 0.008963155560195446\n",
      "2441 0.0087116789072752\n"
     ]
    },
    {
     "name": "stderr",
     "output_type": "stream",
     "text": [
      "\r",
      " 81%|████████▏ | 2444/3000 [02:43<00:40, 13.56it/s]"
     ]
    },
    {
     "name": "stdout",
     "output_type": "stream",
     "text": [
      "2442 0.00898667797446251\n",
      "2443 0.008877553977072239\n",
      "2444 0.008813932538032532\n"
     ]
    },
    {
     "name": "stderr",
     "output_type": "stream",
     "text": [
      "\r",
      " 82%|████████▏ | 2446/3000 [02:43<00:45, 12.13it/s]"
     ]
    },
    {
     "name": "stdout",
     "output_type": "stream",
     "text": [
      "2445 0.00870611984282732\n",
      "2446 0.009097320027649403\n"
     ]
    },
    {
     "name": "stderr",
     "output_type": "stream",
     "text": [
      "\r",
      " 82%|████████▏ | 2448/3000 [02:43<00:50, 10.99it/s]"
     ]
    },
    {
     "name": "stdout",
     "output_type": "stream",
     "text": [
      "2447 0.008682801388204098\n",
      "2448 0.008955620229244232\n"
     ]
    },
    {
     "name": "stderr",
     "output_type": "stream",
     "text": [
      " 82%|████████▏ | 2452/3000 [02:43<00:52, 10.48it/s]"
     ]
    },
    {
     "name": "stdout",
     "output_type": "stream",
     "text": [
      "2449 0.008659846149384975\n",
      "2450 0.0088083166629076\n",
      "2451 0.008733455091714859\n"
     ]
    },
    {
     "name": "stderr",
     "output_type": "stream",
     "text": [
      "\r",
      " 82%|████████▏ | 2454/3000 [02:44<00:48, 11.37it/s]"
     ]
    },
    {
     "name": "stdout",
     "output_type": "stream",
     "text": [
      "2452 0.008846311829984188\n",
      "2453 0.008636572398245335\n",
      "2454 0.009046913124620914\n"
     ]
    },
    {
     "name": "stderr",
     "output_type": "stream",
     "text": [
      " 82%|████████▏ | 2458/3000 [02:44<00:48, 11.23it/s]"
     ]
    },
    {
     "name": "stdout",
     "output_type": "stream",
     "text": [
      "2455 0.008966831490397453\n",
      "2456 0.008874104358255863\n",
      "2457 0.008949554525315762\n"
     ]
    },
    {
     "name": "stderr",
     "output_type": "stream",
     "text": [
      " 82%|████████▏ | 2463/3000 [02:44<00:38, 13.82it/s]"
     ]
    },
    {
     "name": "stdout",
     "output_type": "stream",
     "text": [
      "2458 0.008902150206267834\n",
      "2459 0.008506734855473042\n",
      "2460 0.008610009215772152\n",
      "2461 0.008753964677453041\n",
      "2462 0.0090945390984416\n"
     ]
    },
    {
     "name": "stderr",
     "output_type": "stream",
     "text": [
      " 82%|████████▏ | 2467/3000 [02:44<00:32, 16.22it/s]"
     ]
    },
    {
     "name": "stdout",
     "output_type": "stream",
     "text": [
      "2463 0.008850020356476307\n",
      "2464 0.008786378428339958\n",
      "2465 0.008873381651937962\n",
      "2466 0.008610082790255547\n"
     ]
    },
    {
     "name": "stderr",
     "output_type": "stream",
     "text": [
      " 82%|████████▏ | 2471/3000 [02:45<00:31, 16.98it/s]"
     ]
    },
    {
     "name": "stdout",
     "output_type": "stream",
     "text": [
      "2467 0.008883214555680752\n",
      "2468 0.008893364109098911\n",
      "2469 0.010599473491311073\n",
      "2470 0.008742935955524445\n"
     ]
    },
    {
     "name": "stderr",
     "output_type": "stream",
     "text": [
      " 82%|████████▎ | 2475/3000 [02:45<00:29, 17.95it/s]"
     ]
    },
    {
     "name": "stdout",
     "output_type": "stream",
     "text": [
      "2471 0.008988532237708569\n",
      "2472 0.008835976012051105\n",
      "2473 0.008835976012051105\n",
      "2474 0.008844230324029922\n"
     ]
    },
    {
     "name": "stderr",
     "output_type": "stream",
     "text": [
      "\r",
      " 83%|████████▎ | 2477/3000 [02:45<00:36, 14.40it/s]"
     ]
    },
    {
     "name": "stdout",
     "output_type": "stream",
     "text": [
      "2475 0.010986411944031715\n",
      "2476 0.008806336671113968\n"
     ]
    },
    {
     "name": "stderr",
     "output_type": "stream",
     "text": [
      " 83%|████████▎ | 2482/3000 [02:45<00:33, 15.45it/s]"
     ]
    },
    {
     "name": "stdout",
     "output_type": "stream",
     "text": [
      "2477 0.00860709510743618\n",
      "2478 0.008934932760894299\n",
      "2479 0.008930176496505737\n",
      "2480 0.013157488778233528\n",
      "2481 0.009008454158902168\n"
     ]
    },
    {
     "name": "stderr",
     "output_type": "stream",
     "text": [
      " 83%|████████▎ | 2486/3000 [02:46<00:31, 16.53it/s]"
     ]
    },
    {
     "name": "stdout",
     "output_type": "stream",
     "text": [
      "2482 0.008925395086407661\n",
      "2483 0.008949355222284794\n",
      "2484 0.009158151224255562\n",
      "2485 0.01077993679791689\n"
     ]
    },
    {
     "name": "stderr",
     "output_type": "stream",
     "text": [
      " 83%|████████▎ | 2490/3000 [02:46<00:28, 17.75it/s]"
     ]
    },
    {
     "name": "stdout",
     "output_type": "stream",
     "text": [
      "2486 0.00877129752188921\n",
      "2487 0.009005382657051086\n",
      "2488 0.008953815326094627\n",
      "2489 0.008669803850352764\n",
      "2490 0.008802225813269615\n"
     ]
    },
    {
     "name": "stderr",
     "output_type": "stream",
     "text": [
      " 83%|████████▎ | 2494/3000 [02:46<00:33, 14.91it/s]"
     ]
    },
    {
     "name": "stdout",
     "output_type": "stream",
     "text": [
      "2491 0.008754927664995193\n",
      "2492 0.00892942026257515\n",
      "2493 0.008787811733782291\n"
     ]
    },
    {
     "name": "stderr",
     "output_type": "stream",
     "text": [
      "\r",
      " 83%|████████▎ | 2496/3000 [02:46<00:35, 14.06it/s]"
     ]
    },
    {
     "name": "stdout",
     "output_type": "stream",
     "text": [
      "2494 0.00867529772222042\n",
      "2495 0.008589304983615875\n",
      "2496 0.008717645891010761\n"
     ]
    },
    {
     "name": "stderr",
     "output_type": "stream",
     "text": [
      " 83%|████████▎ | 2500/3000 [02:46<00:31, 15.63it/s]"
     ]
    },
    {
     "name": "stdout",
     "output_type": "stream",
     "text": [
      "2497 0.008838575333356857\n",
      "2498 0.009010975249111652\n",
      "2499 0.008823254145681858\n",
      "2500 0.008951643481850624\n"
     ]
    },
    {
     "name": "stderr",
     "output_type": "stream",
     "text": [
      " 83%|████████▎ | 2504/3000 [02:47<00:28, 17.20it/s]"
     ]
    },
    {
     "name": "stdout",
     "output_type": "stream",
     "text": [
      "2501 0.009102106094360352\n",
      "2502 0.008698676712810993\n",
      "2503 0.008907770738005638\n",
      "2504 0.008903399109840393\n",
      "2505 0.008933021686971188\n"
     ]
    },
    {
     "name": "stderr",
     "output_type": "stream",
     "text": [
      " 84%|████████▎ | 2509/3000 [02:47<00:27, 18.18it/s]"
     ]
    },
    {
     "name": "stdout",
     "output_type": "stream",
     "text": [
      "2506 0.008793020620942116\n",
      "2507 0.008864319883286953\n",
      "2508 0.008739998564124107\n",
      "2509 0.008839040994644165\n"
     ]
    },
    {
     "name": "stderr",
     "output_type": "stream",
     "text": [
      " 84%|████████▍ | 2513/3000 [02:47<00:27, 17.93it/s]"
     ]
    },
    {
     "name": "stdout",
     "output_type": "stream",
     "text": [
      "2510 0.009252374060451984\n",
      "2511 0.008902632631361485\n",
      "2512 0.008730598725378513\n",
      "2513 0.008978315629065037\n"
     ]
    },
    {
     "name": "stderr",
     "output_type": "stream",
     "text": [
      " 84%|████████▍ | 2517/3000 [02:47<00:27, 17.29it/s]"
     ]
    },
    {
     "name": "stdout",
     "output_type": "stream",
     "text": [
      "2514 0.008849548175930977\n",
      "2515 0.00893782265484333\n",
      "2516 0.008802995085716248\n",
      "2517 0.008651642128825188\n"
     ]
    },
    {
     "name": "stderr",
     "output_type": "stream",
     "text": [
      " 84%|████████▍ | 2521/3000 [02:48<00:32, 14.84it/s]"
     ]
    },
    {
     "name": "stdout",
     "output_type": "stream",
     "text": [
      "2518 0.009048259817063808\n",
      "2519 0.008623480796813965\n",
      "2520 0.008754990063607693\n"
     ]
    },
    {
     "name": "stderr",
     "output_type": "stream",
     "text": [
      "\r",
      " 84%|████████▍ | 2523/3000 [02:48<00:36, 12.98it/s]"
     ]
    },
    {
     "name": "stdout",
     "output_type": "stream",
     "text": [
      "2521 0.008936170488595963\n",
      "2522 0.008560395799577236\n",
      "2523 0.008567462675273418\n"
     ]
    },
    {
     "name": "stderr",
     "output_type": "stream",
     "text": [
      " 84%|████████▍ | 2527/3000 [02:48<00:33, 13.91it/s]"
     ]
    },
    {
     "name": "stdout",
     "output_type": "stream",
     "text": [
      "2524 0.008826772682368755\n",
      "2525 0.00887196883559227\n",
      "2526 0.009006516076624393\n"
     ]
    },
    {
     "name": "stderr",
     "output_type": "stream",
     "text": [
      "\r",
      " 84%|████████▍ | 2529/3000 [02:48<00:38, 12.26it/s]"
     ]
    },
    {
     "name": "stdout",
     "output_type": "stream",
     "text": [
      "2527 0.008939042687416077\n",
      "2528 0.008761039935052395\n",
      "2529 0.008734343573451042\n"
     ]
    },
    {
     "name": "stderr",
     "output_type": "stream",
     "text": [
      "\r",
      " 84%|████████▍ | 2531/3000 [02:49<00:43, 10.78it/s]"
     ]
    },
    {
     "name": "stdout",
     "output_type": "stream",
     "text": [
      "2530 0.008940382860600948\n",
      "2531 0.00873006321489811\n"
     ]
    },
    {
     "name": "stderr",
     "output_type": "stream",
     "text": [
      "\r",
      " 84%|████████▍ | 2533/3000 [02:49<00:48,  9.70it/s]"
     ]
    },
    {
     "name": "stdout",
     "output_type": "stream",
     "text": [
      "2532 0.008866490796208382\n",
      "2533 0.008845148608088493\n"
     ]
    },
    {
     "name": "stderr",
     "output_type": "stream",
     "text": [
      "\r",
      " 84%|████████▍ | 2535/3000 [02:49<00:48,  9.61it/s]"
     ]
    },
    {
     "name": "stdout",
     "output_type": "stream",
     "text": [
      "2534 0.008773408830165863\n",
      "2535 0.00882272981107235\n"
     ]
    },
    {
     "name": "stderr",
     "output_type": "stream",
     "text": [
      " 85%|████████▍ | 2539/3000 [02:49<00:42, 10.93it/s]"
     ]
    },
    {
     "name": "stdout",
     "output_type": "stream",
     "text": [
      "2536 0.008634808473289013\n",
      "2537 0.008744711987674236\n",
      "2538 0.00890723429620266\n",
      "2539 0.008896911516785622\n"
     ]
    },
    {
     "name": "stderr",
     "output_type": "stream",
     "text": [
      " 85%|████████▍ | 2543/3000 [02:50<00:32, 14.14it/s]"
     ]
    },
    {
     "name": "stdout",
     "output_type": "stream",
     "text": [
      "2540 0.00872752908617258\n",
      "2541 0.008789964951574802\n",
      "2542 0.008783853612840176\n",
      "2543 0.008770180866122246\n"
     ]
    },
    {
     "name": "stderr",
     "output_type": "stream",
     "text": [
      " 85%|████████▍ | 2547/3000 [02:50<00:27, 16.34it/s]"
     ]
    },
    {
     "name": "stdout",
     "output_type": "stream",
     "text": [
      "2544 0.008922560140490532\n",
      "2545 0.008777347393333912\n",
      "2546 0.008880768902599812\n",
      "2547 0.008926793932914734\n"
     ]
    },
    {
     "name": "stderr",
     "output_type": "stream",
     "text": [
      " 85%|████████▌ | 2551/3000 [02:50<00:27, 16.14it/s]"
     ]
    },
    {
     "name": "stdout",
     "output_type": "stream",
     "text": [
      "2548 0.008947229944169521\n",
      "2549 0.008938409388065338\n",
      "2550 0.00881308875977993\n"
     ]
    },
    {
     "name": "stderr",
     "output_type": "stream",
     "text": [
      "\r",
      " 85%|████████▌ | 2553/3000 [02:50<00:33, 13.22it/s]"
     ]
    },
    {
     "name": "stdout",
     "output_type": "stream",
     "text": [
      "2551 0.008699383586645126\n",
      "2552 0.008610074408352375\n",
      "2553 0.008513172157108784\n"
     ]
    },
    {
     "name": "stderr",
     "output_type": "stream",
     "text": [
      " 85%|████████▌ | 2557/3000 [02:50<00:29, 14.84it/s]"
     ]
    },
    {
     "name": "stdout",
     "output_type": "stream",
     "text": [
      "2554 0.012536881491541862\n",
      "2555 0.008688274770975113\n",
      "2556 0.008564755320549011\n",
      "2557 0.008971155621111393\n",
      "2558 0.009101307950913906\n"
     ]
    },
    {
     "name": "stderr",
     "output_type": "stream",
     "text": [
      " 85%|████████▌ | 2562/3000 [02:51<00:25, 17.19it/s]"
     ]
    },
    {
     "name": "stdout",
     "output_type": "stream",
     "text": [
      "2559 0.009229343384504318\n",
      "2560 0.009106924757361412\n",
      "2561 0.008867037482559681\n",
      "2562 0.008535169064998627\n",
      "2563 0.008776257745921612\n"
     ]
    },
    {
     "name": "stderr",
     "output_type": "stream",
     "text": [
      " 86%|████████▌ | 2567/3000 [02:51<00:23, 18.55it/s]"
     ]
    },
    {
     "name": "stdout",
     "output_type": "stream",
     "text": [
      "2564 0.008629274554550648\n",
      "2565 0.008705748245120049\n",
      "2566 0.0090272706001997\n",
      "2567 0.00887592788785696\n"
     ]
    },
    {
     "name": "stderr",
     "output_type": "stream",
     "text": [
      " 86%|████████▌ | 2571/3000 [02:51<00:22, 18.75it/s]"
     ]
    },
    {
     "name": "stdout",
     "output_type": "stream",
     "text": [
      "2568 0.008744669146835804\n",
      "2569 0.008869643323123455\n",
      "2570 0.0086770448833704\n",
      "2571 0.00873657688498497\n"
     ]
    },
    {
     "name": "stderr",
     "output_type": "stream",
     "text": [
      " 86%|████████▌ | 2577/3000 [02:51<00:21, 19.39it/s]"
     ]
    },
    {
     "name": "stdout",
     "output_type": "stream",
     "text": [
      "2572 0.008853600360453129\n",
      "2573 0.008773664012551308\n",
      "2574 0.008947634138166904\n",
      "2575 0.008822917938232422\n",
      "2576 0.008625526912510395\n"
     ]
    },
    {
     "name": "stderr",
     "output_type": "stream",
     "text": [
      " 86%|████████▌ | 2581/3000 [02:52<00:21, 19.47it/s]"
     ]
    },
    {
     "name": "stdout",
     "output_type": "stream",
     "text": [
      "2577 0.008661769330501556\n",
      "2578 0.00871986523270607\n",
      "2579 0.008950535207986832\n",
      "2580 0.00895568449050188\n"
     ]
    },
    {
     "name": "stderr",
     "output_type": "stream",
     "text": [
      " 86%|████████▌ | 2585/3000 [02:52<00:21, 19.58it/s]"
     ]
    },
    {
     "name": "stdout",
     "output_type": "stream",
     "text": [
      "2581 0.010782124474644661\n",
      "2582 0.009298372082412243\n",
      "2583 0.008749106898903847\n",
      "2584 0.00895711313933134\n",
      "2585 0.00867671612650156\n"
     ]
    },
    {
     "name": "stderr",
     "output_type": "stream",
     "text": [
      " 86%|████████▋ | 2589/3000 [02:52<00:20, 19.62it/s]"
     ]
    },
    {
     "name": "stdout",
     "output_type": "stream",
     "text": [
      "2586 0.008863930590450764\n",
      "2587 0.008916919119656086\n",
      "2588 0.008855015970766544\n",
      "2589 0.00900480430573225\n"
     ]
    },
    {
     "name": "stderr",
     "output_type": "stream",
     "text": [
      " 86%|████████▋ | 2594/3000 [02:52<00:20, 19.37it/s]"
     ]
    },
    {
     "name": "stdout",
     "output_type": "stream",
     "text": [
      "2590 0.008936491794884205\n",
      "2591 0.008768086321651936\n",
      "2592 0.009023923426866531\n",
      "2593 0.008796638809144497\n"
     ]
    },
    {
     "name": "stderr",
     "output_type": "stream",
     "text": [
      " 87%|████████▋ | 2598/3000 [02:53<00:20, 19.37it/s]"
     ]
    },
    {
     "name": "stdout",
     "output_type": "stream",
     "text": [
      "2594 0.009154073894023895\n",
      "2595 0.008885198272764683\n",
      "2596 0.008889943361282349\n",
      "2597 0.01099325343966484\n"
     ]
    },
    {
     "name": "stderr",
     "output_type": "stream",
     "text": [
      " 87%|████████▋ | 2602/3000 [02:53<00:20, 19.55it/s]"
     ]
    },
    {
     "name": "stdout",
     "output_type": "stream",
     "text": [
      "2598 0.008603667840361595\n",
      "2599 0.0088071683421731\n",
      "2600 0.008750949054956436\n",
      "2601 0.008781371638178825\n",
      "2602 0.00891096144914627\n"
     ]
    },
    {
     "name": "stderr",
     "output_type": "stream",
     "text": [
      " 87%|████████▋ | 2607/3000 [02:53<00:20, 19.50it/s]"
     ]
    },
    {
     "name": "stdout",
     "output_type": "stream",
     "text": [
      "2603 0.008850837126374245\n",
      "2604 0.008568868972361088\n",
      "2605 0.008592679165303707\n",
      "2606 0.009017030708491802\n"
     ]
    },
    {
     "name": "stderr",
     "output_type": "stream",
     "text": [
      " 87%|████████▋ | 2612/3000 [02:53<00:19, 19.79it/s]"
     ]
    },
    {
     "name": "stdout",
     "output_type": "stream",
     "text": [
      "2607 0.008622043766081333\n",
      "2608 0.00859740935266018\n",
      "2609 0.00895609613507986\n",
      "2610 0.008938835933804512\n",
      "2611 0.008437803015112877\n"
     ]
    },
    {
     "name": "stderr",
     "output_type": "stream",
     "text": [
      " 87%|████████▋ | 2617/3000 [02:54<00:19, 19.85it/s]"
     ]
    },
    {
     "name": "stdout",
     "output_type": "stream",
     "text": [
      "2612 0.00922485627233982\n",
      "2613 0.009424983523786068\n",
      "2614 0.009044697508215904\n",
      "2615 0.00877439696341753\n",
      "2616 0.008712941780686378\n"
     ]
    },
    {
     "name": "stderr",
     "output_type": "stream",
     "text": [
      " 87%|████████▋ | 2621/3000 [02:54<00:19, 19.63it/s]"
     ]
    },
    {
     "name": "stdout",
     "output_type": "stream",
     "text": [
      "2617 0.008782343938946724\n",
      "2618 0.009016526862978935\n",
      "2619 0.00878356397151947\n",
      "2620 0.008811424486339092\n"
     ]
    },
    {
     "name": "stderr",
     "output_type": "stream",
     "text": [
      " 88%|████████▊ | 2625/3000 [02:54<00:19, 19.60it/s]"
     ]
    },
    {
     "name": "stdout",
     "output_type": "stream",
     "text": [
      "2621 0.008701484650373459\n",
      "2622 0.008915634825825691\n",
      "2623 0.008908244781196117\n",
      "2624 0.008896016515791416\n"
     ]
    },
    {
     "name": "stderr",
     "output_type": "stream",
     "text": [
      "\r",
      " 88%|████████▊ | 2628/3000 [02:54<00:18, 19.75it/s]"
     ]
    },
    {
     "name": "stdout",
     "output_type": "stream",
     "text": [
      "2625 0.008597702719271183\n",
      "2626 0.008876832202076912\n",
      "2627 0.008856643922626972\n",
      "2628 0.008658361621201038\n",
      "2629 0.008934133686125278\n"
     ]
    },
    {
     "name": "stderr",
     "output_type": "stream",
     "text": [
      " 88%|████████▊ | 2633/3000 [02:54<00:18, 19.63it/s]"
     ]
    },
    {
     "name": "stdout",
     "output_type": "stream",
     "text": [
      "2630 0.008875689469277859\n",
      "2631 0.008920921012759209\n",
      "2632 0.009299006313085556\n",
      "2633 0.008963404223322868\n"
     ]
    },
    {
     "name": "stderr",
     "output_type": "stream",
     "text": [
      " 88%|████████▊ | 2637/3000 [02:55<00:18, 19.36it/s]"
     ]
    },
    {
     "name": "stdout",
     "output_type": "stream",
     "text": [
      "2634 0.008871086873114109\n",
      "2635 0.008639304898679256\n",
      "2636 0.0091260876506567\n",
      "2637 0.008839963003993034\n"
     ]
    },
    {
     "name": "stderr",
     "output_type": "stream",
     "text": [
      " 88%|████████▊ | 2641/3000 [02:55<00:18, 19.46it/s]"
     ]
    },
    {
     "name": "stdout",
     "output_type": "stream",
     "text": [
      "2638 0.00875427108258009\n",
      "2639 0.008825697936117649\n",
      "2640 0.008830877020955086\n",
      "2641 0.008785086683928967\n"
     ]
    },
    {
     "name": "stderr",
     "output_type": "stream",
     "text": [
      " 88%|████████▊ | 2646/3000 [02:55<00:17, 20.55it/s]"
     ]
    },
    {
     "name": "stdout",
     "output_type": "stream",
     "text": [
      "2642 0.015182587318122387\n",
      "2643 0.008812843821942806\n",
      "2644 0.009099205955862999\n",
      "2645 0.009096757508814335\n",
      "2646 0.008954687975347042\n"
     ]
    },
    {
     "name": "stderr",
     "output_type": "stream",
     "text": [
      "\r",
      " 88%|████████▊ | 2649/3000 [02:55<00:17, 20.19it/s]"
     ]
    },
    {
     "name": "stdout",
     "output_type": "stream",
     "text": [
      "2647 0.009041537530720234\n",
      "2648 0.008851121179759502\n",
      "2649 0.008832050487399101\n",
      "2650 0.008710447698831558\n"
     ]
    },
    {
     "name": "stderr",
     "output_type": "stream",
     "text": [
      " 88%|████████▊ | 2655/3000 [02:55<00:17, 19.90it/s]"
     ]
    },
    {
     "name": "stdout",
     "output_type": "stream",
     "text": [
      "2651 0.00882454589009285\n",
      "2652 0.008783104829490185\n",
      "2653 0.008751170709729195\n",
      "2654 0.008748559281229973\n"
     ]
    },
    {
     "name": "stderr",
     "output_type": "stream",
     "text": [
      " 89%|████████▊ | 2659/3000 [02:56<00:17, 19.60it/s]"
     ]
    },
    {
     "name": "stdout",
     "output_type": "stream",
     "text": [
      "2655 0.008840236812829971\n",
      "2656 0.01467741746455431\n",
      "2657 0.008943992666900158\n",
      "2658 0.008699494414031506\n"
     ]
    },
    {
     "name": "stderr",
     "output_type": "stream",
     "text": [
      " 89%|████████▉ | 2664/3000 [02:56<00:17, 19.66it/s]"
     ]
    },
    {
     "name": "stdout",
     "output_type": "stream",
     "text": [
      "2659 0.008818583562970161\n",
      "2660 0.009165378287434578\n",
      "2661 0.008903171867132187\n",
      "2662 0.008686861023306847\n",
      "2663 0.008925357833504677\n"
     ]
    },
    {
     "name": "stderr",
     "output_type": "stream",
     "text": [
      " 89%|████████▉ | 2669/3000 [02:56<00:16, 19.86it/s]"
     ]
    },
    {
     "name": "stdout",
     "output_type": "stream",
     "text": [
      "2664 0.009148525074124336\n",
      "2665 0.009079402312636375\n",
      "2666 0.008896593004465103\n",
      "2667 0.015035387128591537\n",
      "2668 0.008767841383814812\n"
     ]
    },
    {
     "name": "stderr",
     "output_type": "stream",
     "text": [
      " 89%|████████▉ | 2674/3000 [02:56<00:16, 20.00it/s]"
     ]
    },
    {
     "name": "stdout",
     "output_type": "stream",
     "text": [
      "2669 0.009051068685948849\n",
      "2670 0.008970850147306919\n",
      "2671 0.008932512253522873\n",
      "2672 0.008939662016928196\n",
      "2673 0.00886619184166193\n"
     ]
    },
    {
     "name": "stderr",
     "output_type": "stream",
     "text": [
      "\r",
      " 89%|████████▉ | 2677/3000 [02:57<00:16, 19.90it/s]"
     ]
    },
    {
     "name": "stdout",
     "output_type": "stream",
     "text": [
      "2674 0.009162316098809242\n",
      "2675 0.00903583224862814\n",
      "2676 0.008870101533830166\n",
      "2677 0.008882035501301289\n"
     ]
    },
    {
     "name": "stderr",
     "output_type": "stream",
     "text": [
      " 89%|████████▉ | 2681/3000 [02:57<00:16, 19.66it/s]"
     ]
    },
    {
     "name": "stdout",
     "output_type": "stream",
     "text": [
      "2678 0.008650250732898712\n",
      "2679 0.009083544835448265\n",
      "2680 0.009043276309967041\n",
      "2681 0.008982120081782341\n"
     ]
    },
    {
     "name": "stderr",
     "output_type": "stream",
     "text": [
      " 90%|████████▉ | 2685/3000 [02:57<00:16, 19.57it/s]"
     ]
    },
    {
     "name": "stdout",
     "output_type": "stream",
     "text": [
      "2682 0.008882595226168633\n",
      "2683 0.00909740012139082\n",
      "2684 0.008667556568980217\n",
      "2685 0.008755307644605637\n"
     ]
    },
    {
     "name": "stderr",
     "output_type": "stream",
     "text": [
      " 90%|████████▉ | 2689/3000 [02:57<00:15, 19.55it/s]"
     ]
    },
    {
     "name": "stdout",
     "output_type": "stream",
     "text": [
      "2686 0.008595354855060577\n",
      "2687 0.008677876554429531\n",
      "2688 0.00929738488048315\n",
      "2689 0.00870625302195549\n",
      "2690 0.009027695283293724\n"
     ]
    },
    {
     "name": "stderr",
     "output_type": "stream",
     "text": [
      " 90%|████████▉ | 2694/3000 [02:57<00:15, 19.74it/s]"
     ]
    },
    {
     "name": "stdout",
     "output_type": "stream",
     "text": [
      "2691 0.008796515874564648\n",
      "2692 0.008832636289298534\n",
      "2693 0.008858437649905682\n",
      "2694 0.008853255771100521\n"
     ]
    },
    {
     "name": "stderr",
     "output_type": "stream",
     "text": [
      " 90%|████████▉ | 2699/3000 [02:58<00:14, 20.26it/s]"
     ]
    },
    {
     "name": "stdout",
     "output_type": "stream",
     "text": [
      "2695 0.00873173400759697\n",
      "2696 0.008636086247861385\n",
      "2697 0.008825658820569515\n",
      "2698 0.008877691812813282\n",
      "2699 0.00879083015024662\n"
     ]
    },
    {
     "name": "stderr",
     "output_type": "stream",
     "text": [
      " 90%|█████████ | 2705/3000 [02:58<00:14, 20.29it/s]"
     ]
    },
    {
     "name": "stdout",
     "output_type": "stream",
     "text": [
      "2700 0.008922568522393703\n",
      "2701 0.008822892792522907\n",
      "2702 0.008871111087501049\n",
      "2703 0.008648710325360298\n",
      "2704 0.008765680715441704\n"
     ]
    },
    {
     "name": "stderr",
     "output_type": "stream",
     "text": [
      "\r",
      " 90%|█████████ | 2708/3000 [02:58<00:14, 20.22it/s]"
     ]
    },
    {
     "name": "stdout",
     "output_type": "stream",
     "text": [
      "2705 0.008900494314730167\n",
      "2706 0.014921973459422588\n",
      "2707 0.008754588663578033\n",
      "2708 0.012966705486178398\n",
      "2709 0.009048664011061192\n"
     ]
    },
    {
     "name": "stderr",
     "output_type": "stream",
     "text": [
      " 90%|█████████ | 2714/3000 [02:58<00:14, 19.86it/s]"
     ]
    },
    {
     "name": "stdout",
     "output_type": "stream",
     "text": [
      "2710 0.009016366675496101\n",
      "2711 0.009099071845412254\n",
      "2712 0.009284386411309242\n",
      "2713 0.008871960453689098\n"
     ]
    },
    {
     "name": "stderr",
     "output_type": "stream",
     "text": [
      " 91%|█████████ | 2718/3000 [02:59<00:14, 19.79it/s]"
     ]
    },
    {
     "name": "stdout",
     "output_type": "stream",
     "text": [
      "2714 0.009011908434331417\n",
      "2715 0.009125648997724056\n",
      "2716 0.008973849005997181\n",
      "2717 0.008764456026256084\n"
     ]
    },
    {
     "name": "stderr",
     "output_type": "stream",
     "text": [
      " 91%|█████████ | 2723/3000 [02:59<00:13, 19.91it/s]"
     ]
    },
    {
     "name": "stdout",
     "output_type": "stream",
     "text": [
      "2718 0.008855409920215607\n",
      "2719 0.008951470255851746\n",
      "2720 0.009027444757521152\n",
      "2721 0.009160418063402176\n",
      "2722 0.008953498676419258\n"
     ]
    },
    {
     "name": "stderr",
     "output_type": "stream",
     "text": [
      " 91%|█████████ | 2728/3000 [02:59<00:13, 20.02it/s]"
     ]
    },
    {
     "name": "stdout",
     "output_type": "stream",
     "text": [
      "2723 0.009062926284968853\n",
      "2724 0.009130764752626419\n",
      "2725 0.008909930475056171\n",
      "2726 0.00910851638764143\n",
      "2727 0.008827178739011288\n"
     ]
    },
    {
     "name": "stderr",
     "output_type": "stream",
     "text": [
      "\r",
      " 91%|█████████ | 2731/3000 [02:59<00:13, 20.06it/s]"
     ]
    },
    {
     "name": "stdout",
     "output_type": "stream",
     "text": [
      "2728 0.008960997685790062\n",
      "2729 0.00882911030203104\n",
      "2730 0.00902997050434351\n",
      "2731 0.008970080874860287\n"
     ]
    },
    {
     "name": "stderr",
     "output_type": "stream",
     "text": [
      " 91%|█████████ | 2736/3000 [03:00<00:13, 19.53it/s]"
     ]
    },
    {
     "name": "stdout",
     "output_type": "stream",
     "text": [
      "2732 0.008631217293441296\n",
      "2733 0.008714678697288036\n",
      "2734 0.009031170979142189\n",
      "2735 0.010938822291791439\n"
     ]
    },
    {
     "name": "stderr",
     "output_type": "stream",
     "text": [
      " 91%|█████████▏| 2741/3000 [03:00<00:13, 19.59it/s]"
     ]
    },
    {
     "name": "stdout",
     "output_type": "stream",
     "text": [
      "2736 0.008856646716594696\n",
      "2737 0.009133663959801197\n",
      "2738 0.008961687795817852\n",
      "2739 0.009048115462064743\n",
      "2740 0.00878956913948059\n"
     ]
    },
    {
     "name": "stderr",
     "output_type": "stream",
     "text": [
      " 92%|█████████▏| 2746/3000 [03:00<00:12, 19.83it/s]"
     ]
    },
    {
     "name": "stdout",
     "output_type": "stream",
     "text": [
      "2741 0.009212151169776917\n",
      "2742 0.008642338216304779\n",
      "2743 0.008886667899787426\n",
      "2744 0.008681354112923145\n",
      "2745 0.008691658265888691\n"
     ]
    },
    {
     "name": "stderr",
     "output_type": "stream",
     "text": [
      " 92%|█████████▏| 2751/3000 [03:00<00:12, 19.81it/s]"
     ]
    },
    {
     "name": "stdout",
     "output_type": "stream",
     "text": [
      "2746 0.00883430428802967\n",
      "2747 0.008804288692772388\n",
      "2748 0.00883286539465189\n",
      "2749 0.008703052066266537\n",
      "2750 0.008809165097773075\n"
     ]
    },
    {
     "name": "stderr",
     "output_type": "stream",
     "text": [
      " 92%|█████████▏| 2755/3000 [03:00<00:12, 19.76it/s]"
     ]
    },
    {
     "name": "stdout",
     "output_type": "stream",
     "text": [
      "2751 0.00890451017767191\n",
      "2752 0.008894219063222408\n",
      "2753 0.00896883849054575\n",
      "2754 0.008798652328550816\n"
     ]
    },
    {
     "name": "stderr",
     "output_type": "stream",
     "text": [
      " 92%|█████████▏| 2760/3000 [03:01<00:12, 19.77it/s]"
     ]
    },
    {
     "name": "stdout",
     "output_type": "stream",
     "text": [
      "2755 0.00876686628907919\n",
      "2756 0.008694440126419067\n",
      "2757 0.008762785233557224\n",
      "2758 0.008572383783757687\n",
      "2759 0.008862409740686417\n"
     ]
    },
    {
     "name": "stderr",
     "output_type": "stream",
     "text": [
      "\r",
      " 92%|█████████▏| 2763/3000 [03:01<00:11, 19.88it/s]"
     ]
    },
    {
     "name": "stdout",
     "output_type": "stream",
     "text": [
      "2760 0.009173584170639515\n",
      "2761 0.00872780755162239\n",
      "2762 0.008777541108429432\n",
      "2763 0.008897067047655582\n",
      "2764 0.008903594687581062\n"
     ]
    },
    {
     "name": "stderr",
     "output_type": "stream",
     "text": [
      " 92%|█████████▏| 2769/3000 [03:01<00:11, 20.19it/s]"
     ]
    },
    {
     "name": "stdout",
     "output_type": "stream",
     "text": [
      "2765 0.008949704468250275\n",
      "2766 0.008611012250185013\n",
      "2767 0.008799020200967789\n",
      "2768 0.008885646238923073\n",
      "2769 0.008728585205972195\n"
     ]
    },
    {
     "name": "stderr",
     "output_type": "stream",
     "text": [
      " 92%|█████████▎| 2775/3000 [03:01<00:11, 20.08it/s]"
     ]
    },
    {
     "name": "stdout",
     "output_type": "stream",
     "text": [
      "2770 0.008676134981215\n",
      "2771 0.00887210201472044\n",
      "2772 0.008617018349468708\n",
      "2773 0.0088826147839427\n",
      "2774 0.00866637658327818\n"
     ]
    },
    {
     "name": "stderr",
     "output_type": "stream",
     "text": [
      "\r",
      " 93%|█████████▎| 2778/3000 [03:02<00:11, 19.92it/s]"
     ]
    },
    {
     "name": "stdout",
     "output_type": "stream",
     "text": [
      "2775 0.008745704777538776\n",
      "2776 0.00878274068236351\n",
      "2777 0.008534250780940056\n",
      "2778 0.008576302789151669\n"
     ]
    },
    {
     "name": "stderr",
     "output_type": "stream",
     "text": [
      " 93%|█████████▎| 2782/3000 [03:02<00:11, 19.77it/s]"
     ]
    },
    {
     "name": "stdout",
     "output_type": "stream",
     "text": [
      "2779 0.00879858247935772\n",
      "2780 0.008936217054724693\n",
      "2781 0.008708571083843708\n",
      "2782 0.00879211351275444\n",
      "2783 0.008614098653197289\n"
     ]
    },
    {
     "name": "stderr",
     "output_type": "stream",
     "text": [
      " 93%|█████████▎| 2788/3000 [03:02<00:10, 19.96it/s]"
     ]
    },
    {
     "name": "stdout",
     "output_type": "stream",
     "text": [
      "2784 0.009130539372563362\n",
      "2785 0.009045330807566643\n",
      "2786 0.008892609737813473\n",
      "2787 0.008445090614259243\n",
      "2788 0.008820507675409317\n"
     ]
    },
    {
     "name": "stderr",
     "output_type": "stream",
     "text": [
      " 93%|█████████▎| 2792/3000 [03:02<00:10, 19.91it/s]"
     ]
    },
    {
     "name": "stdout",
     "output_type": "stream",
     "text": [
      "2789 0.008783332072198391\n",
      "2790 0.008705387823283672\n",
      "2791 0.008826513774693012\n",
      "2792 0.008749987930059433\n"
     ]
    },
    {
     "name": "stderr",
     "output_type": "stream",
     "text": [
      " 93%|█████████▎| 2796/3000 [03:03<00:10, 19.69it/s]"
     ]
    },
    {
     "name": "stdout",
     "output_type": "stream",
     "text": [
      "2793 0.010721754282712936\n",
      "2794 0.00877641886472702\n",
      "2795 0.008834869600832462\n",
      "2796 0.008963575586676598\n"
     ]
    },
    {
     "name": "stderr",
     "output_type": "stream",
     "text": [
      " 93%|█████████▎| 2801/3000 [03:03<00:10, 19.84it/s]"
     ]
    },
    {
     "name": "stdout",
     "output_type": "stream",
     "text": [
      "2797 0.008938944898545742\n",
      "2798 0.008768832311034203\n",
      "2799 0.008672741241753101\n",
      "2800 0.008859576657414436\n",
      "2801 0.008684703148901463\n"
     ]
    },
    {
     "name": "stderr",
     "output_type": "stream",
     "text": [
      " 94%|█████████▎| 2806/3000 [03:03<00:09, 19.99it/s]"
     ]
    },
    {
     "name": "stdout",
     "output_type": "stream",
     "text": [
      "2802 0.008728732354938984\n",
      "2803 0.008806544356048107\n",
      "2804 0.008924813941121101\n",
      "2805 0.008841677568852901\n",
      "2806 0.008864234201610088\n"
     ]
    },
    {
     "name": "stderr",
     "output_type": "stream",
     "text": [
      " 94%|█████████▎| 2811/3000 [03:03<00:09, 20.00it/s]"
     ]
    },
    {
     "name": "stdout",
     "output_type": "stream",
     "text": [
      "2807 0.008757509291172028\n",
      "2808 0.008603238500654697\n",
      "2809 0.008660079911351204\n",
      "2810 0.008710234425961971\n",
      "2811 0.008599044755101204\n"
     ]
    },
    {
     "name": "stderr",
     "output_type": "stream",
     "text": [
      " 94%|█████████▍| 2815/3000 [03:03<00:09, 19.80it/s]"
     ]
    },
    {
     "name": "stdout",
     "output_type": "stream",
     "text": [
      "2812 0.008373577147722244\n",
      "2813 0.0087490975856781\n",
      "2814 0.00856955535709858\n",
      "2815 0.008860948495566845\n"
     ]
    },
    {
     "name": "stderr",
     "output_type": "stream",
     "text": [
      " 94%|█████████▍| 2819/3000 [03:04<00:09, 19.32it/s]"
     ]
    },
    {
     "name": "stdout",
     "output_type": "stream",
     "text": [
      "2816 0.008738625794649124\n",
      "2817 0.009027857333421707\n",
      "2818 0.008782838471233845\n",
      "2819 0.008626224473118782\n"
     ]
    },
    {
     "name": "stderr",
     "output_type": "stream",
     "text": [
      " 94%|█████████▍| 2823/3000 [03:04<00:09, 19.51it/s]"
     ]
    },
    {
     "name": "stdout",
     "output_type": "stream",
     "text": [
      "2820 0.010890654288232327\n",
      "2821 0.008867168799042702\n",
      "2822 0.008751270361244678\n",
      "2823 0.008851204067468643\n"
     ]
    },
    {
     "name": "stderr",
     "output_type": "stream",
     "text": [
      " 94%|█████████▍| 2827/3000 [03:04<00:08, 19.54it/s]"
     ]
    },
    {
     "name": "stdout",
     "output_type": "stream",
     "text": [
      "2824 0.008874423801898956\n",
      "2825 0.008921916596591473\n",
      "2826 0.00897275935858488\n",
      "2827 0.008941451087594032\n"
     ]
    },
    {
     "name": "stderr",
     "output_type": "stream",
     "text": [
      " 94%|█████████▍| 2831/3000 [03:04<00:08, 19.52it/s]"
     ]
    },
    {
     "name": "stdout",
     "output_type": "stream",
     "text": [
      "2828 0.008954375982284546\n",
      "2829 0.008865948766469955\n",
      "2830 0.00882310327142477\n",
      "2831 0.008830629289150238\n",
      "2832 0.008992304094135761\n"
     ]
    },
    {
     "name": "stderr",
     "output_type": "stream",
     "text": [
      " 95%|█████████▍| 2836/3000 [03:05<00:08, 19.60it/s]"
     ]
    },
    {
     "name": "stdout",
     "output_type": "stream",
     "text": [
      "2833 0.008746669627726078\n",
      "2834 0.008897067978978157\n",
      "2835 0.008868912234902382\n",
      "2836 0.008935892023146152\n"
     ]
    },
    {
     "name": "stderr",
     "output_type": "stream",
     "text": [
      " 95%|█████████▍| 2840/3000 [03:05<00:08, 19.63it/s]"
     ]
    },
    {
     "name": "stdout",
     "output_type": "stream",
     "text": [
      "2837 0.008969116024672985\n",
      "2838 0.00873615499585867\n",
      "2839 0.00893039908260107\n",
      "2840 0.008717849850654602\n",
      "2841 0.008661659434437752\n"
     ]
    },
    {
     "name": "stderr",
     "output_type": "stream",
     "text": [
      " 95%|█████████▍| 2846/3000 [03:05<00:07, 19.92it/s]"
     ]
    },
    {
     "name": "stdout",
     "output_type": "stream",
     "text": [
      "2842 0.00885599572211504\n",
      "2843 0.009011001326143742\n",
      "2844 0.008927172981202602\n",
      "2845 0.009019417688250542\n",
      "2846 0.00862023513764143\n"
     ]
    },
    {
     "name": "stderr",
     "output_type": "stream",
     "text": [
      " 95%|█████████▌| 2851/3000 [03:05<00:07, 19.93it/s]"
     ]
    },
    {
     "name": "stdout",
     "output_type": "stream",
     "text": [
      "2847 0.008646647445857525\n",
      "2848 0.008840658701956272\n",
      "2849 0.008752366527915001\n",
      "2850 0.008957778103649616\n",
      "2851 0.008772877976298332\n"
     ]
    },
    {
     "name": "stderr",
     "output_type": "stream",
     "text": [
      " 95%|█████████▌| 2855/3000 [03:06<00:07, 19.82it/s]"
     ]
    },
    {
     "name": "stdout",
     "output_type": "stream",
     "text": [
      "2852 0.008941343985497952\n",
      "2853 0.008966728113591671\n",
      "2854 0.00879465788602829\n",
      "2855 0.008585991337895393\n",
      "2856 0.008802090771496296\n"
     ]
    },
    {
     "name": "stderr",
     "output_type": "stream",
     "text": [
      " 95%|█████████▌| 2860/3000 [03:06<00:07, 19.67it/s]"
     ]
    },
    {
     "name": "stdout",
     "output_type": "stream",
     "text": [
      "2857 0.00872957892715931\n",
      "2858 0.008777347393333912\n",
      "2859 0.008854163810610771\n",
      "2860 0.008993883617222309\n"
     ]
    },
    {
     "name": "stderr",
     "output_type": "stream",
     "text": [
      " 96%|█████████▌| 2866/3000 [03:06<00:06, 19.69it/s]"
     ]
    },
    {
     "name": "stdout",
     "output_type": "stream",
     "text": [
      "2861 0.008653709664940834\n",
      "2862 0.008826919831335545\n",
      "2863 0.008691870607435703\n",
      "2864 0.008742190897464752\n",
      "2865 0.00889850128442049\n"
     ]
    },
    {
     "name": "stderr",
     "output_type": "stream",
     "text": [
      " 96%|█████████▌| 2871/3000 [03:06<00:06, 19.81it/s]"
     ]
    },
    {
     "name": "stdout",
     "output_type": "stream",
     "text": [
      "2866 0.008683747611939907\n",
      "2867 0.008813762106001377\n",
      "2868 0.008586757816374302\n",
      "2869 0.008670237846672535\n",
      "2870 0.00871538370847702\n"
     ]
    },
    {
     "name": "stderr",
     "output_type": "stream",
     "text": [
      " 96%|█████████▌| 2875/3000 [03:07<00:06, 19.41it/s]"
     ]
    },
    {
     "name": "stdout",
     "output_type": "stream",
     "text": [
      "2871 0.008548467420041561\n",
      "2872 0.00870723370462656\n",
      "2873 0.008821602910757065\n",
      "2874 0.00865903403609991\n"
     ]
    },
    {
     "name": "stderr",
     "output_type": "stream",
     "text": [
      " 96%|█████████▌| 2879/3000 [03:07<00:06, 19.57it/s]"
     ]
    },
    {
     "name": "stdout",
     "output_type": "stream",
     "text": [
      "2875 0.008949054405093193\n",
      "2876 0.008659282699227333\n",
      "2877 0.008800028823316097\n",
      "2878 0.00861312821507454\n"
     ]
    },
    {
     "name": "stderr",
     "output_type": "stream",
     "text": [
      " 96%|█████████▌| 2884/3000 [03:07<00:05, 19.77it/s]"
     ]
    },
    {
     "name": "stdout",
     "output_type": "stream",
     "text": [
      "2879 0.008905627764761448\n",
      "2880 0.008711776696145535\n",
      "2881 0.008500552736222744\n",
      "2882 0.008936483412981033\n",
      "2883 0.008699536323547363\n"
     ]
    },
    {
     "name": "stderr",
     "output_type": "stream",
     "text": [
      " 96%|█████████▋| 2889/3000 [03:07<00:05, 19.95it/s]"
     ]
    },
    {
     "name": "stdout",
     "output_type": "stream",
     "text": [
      "2884 0.00873764418065548\n",
      "2885 0.008694201707839966\n",
      "2886 0.008622519671916962\n",
      "2887 0.00861934944987297\n",
      "2888 0.008464580401778221\n"
     ]
    },
    {
     "name": "stderr",
     "output_type": "stream",
     "text": [
      " 96%|█████████▋| 2893/3000 [03:07<00:05, 19.78it/s]"
     ]
    },
    {
     "name": "stdout",
     "output_type": "stream",
     "text": [
      "2889 0.00894360151141882\n",
      "2890 0.008494449779391289\n",
      "2891 0.00894979853183031\n",
      "2892 0.00870513916015625\n"
     ]
    },
    {
     "name": "stderr",
     "output_type": "stream",
     "text": [
      " 97%|█████████▋| 2897/3000 [03:08<00:05, 19.71it/s]"
     ]
    },
    {
     "name": "stdout",
     "output_type": "stream",
     "text": [
      "2893 0.008765923790633678\n",
      "2894 0.00873853825032711\n",
      "2895 0.014799282886087894\n",
      "2896 0.009062321856617928\n"
     ]
    },
    {
     "name": "stderr",
     "output_type": "stream",
     "text": [
      " 97%|█████████▋| 2902/3000 [03:08<00:04, 19.88it/s]"
     ]
    },
    {
     "name": "stdout",
     "output_type": "stream",
     "text": [
      "2897 0.008900431916117668\n",
      "2898 0.008763140998780727\n",
      "2899 0.012886730022728443\n",
      "2900 0.008807327598333359\n",
      "2901 0.0090860016644001\n"
     ]
    },
    {
     "name": "stderr",
     "output_type": "stream",
     "text": [
      " 97%|█████████▋| 2906/3000 [03:08<00:04, 19.64it/s]"
     ]
    },
    {
     "name": "stdout",
     "output_type": "stream",
     "text": [
      "2902 0.008896519429981709\n",
      "2903 0.009188697673380375\n",
      "2904 0.008909819647669792\n",
      "2905 0.00893432553857565\n"
     ]
    },
    {
     "name": "stderr",
     "output_type": "stream",
     "text": [
      " 97%|█████████▋| 2910/3000 [03:08<00:04, 19.62it/s]"
     ]
    },
    {
     "name": "stdout",
     "output_type": "stream",
     "text": [
      "2906 0.008737080730497837\n",
      "2907 0.008733839727938175\n",
      "2908 0.008637811988592148\n",
      "2909 0.009173622354865074\n"
     ]
    },
    {
     "name": "stderr",
     "output_type": "stream",
     "text": [
      " 97%|█████████▋| 2914/3000 [03:09<00:04, 19.56it/s]"
     ]
    },
    {
     "name": "stdout",
     "output_type": "stream",
     "text": [
      "2910 0.008745540864765644\n",
      "2911 0.008818764239549637\n",
      "2912 0.008924657478928566\n",
      "2913 0.008692850358784199\n"
     ]
    },
    {
     "name": "stderr",
     "output_type": "stream",
     "text": [
      " 97%|█████████▋| 2918/3000 [03:09<00:04, 19.35it/s]"
     ]
    },
    {
     "name": "stdout",
     "output_type": "stream",
     "text": [
      "2914 0.008805561810731888\n",
      "2915 0.008738855831325054\n",
      "2916 0.008648743852972984\n",
      "2917 0.008931085467338562\n"
     ]
    },
    {
     "name": "stderr",
     "output_type": "stream",
     "text": [
      " 97%|█████████▋| 2922/3000 [03:09<00:03, 19.57it/s]"
     ]
    },
    {
     "name": "stdout",
     "output_type": "stream",
     "text": [
      "2918 0.008744212798774242\n",
      "2919 0.009210188873112202\n",
      "2920 0.008659042418003082\n",
      "2921 0.008628101088106632\n",
      "2922 0.009052494540810585\n"
     ]
    },
    {
     "name": "stderr",
     "output_type": "stream",
     "text": [
      " 98%|█████████▊| 2927/3000 [03:09<00:03, 19.85it/s]"
     ]
    },
    {
     "name": "stdout",
     "output_type": "stream",
     "text": [
      "2923 0.012627889402210712\n",
      "2924 0.008822150528430939\n",
      "2925 0.009024488739669323\n",
      "2926 0.009079673327505589\n",
      "2927 0.00889615435153246\n"
     ]
    },
    {
     "name": "stderr",
     "output_type": "stream",
     "text": [
      " 98%|█████████▊| 2932/3000 [03:09<00:03, 19.99it/s]"
     ]
    },
    {
     "name": "stdout",
     "output_type": "stream",
     "text": [
      "2928 0.008646495640277863\n",
      "2929 0.009132333099842072\n",
      "2930 0.009022887796163559\n",
      "2931 0.008732653222978115\n",
      "2932 0.008954757824540138\n"
     ]
    },
    {
     "name": "stderr",
     "output_type": "stream",
     "text": [
      " 98%|█████████▊| 2936/3000 [03:10<00:03, 19.76it/s]"
     ]
    },
    {
     "name": "stdout",
     "output_type": "stream",
     "text": [
      "2933 0.008767936378717422\n",
      "2934 0.008815603330731392\n",
      "2935 0.008730802685022354\n",
      "2936 0.008919216692447662\n"
     ]
    },
    {
     "name": "stderr",
     "output_type": "stream",
     "text": [
      " 98%|█████████▊| 2940/3000 [03:10<00:03, 19.46it/s]"
     ]
    },
    {
     "name": "stdout",
     "output_type": "stream",
     "text": [
      "2937 0.009009217843413353\n",
      "2938 0.008824063464999199\n",
      "2939 0.008758604526519775\n",
      "2940 0.012750787660479546\n"
     ]
    },
    {
     "name": "stderr",
     "output_type": "stream",
     "text": [
      " 98%|█████████▊| 2944/3000 [03:10<00:02, 19.34it/s]"
     ]
    },
    {
     "name": "stdout",
     "output_type": "stream",
     "text": [
      "2941 0.00879819504916668\n",
      "2942 0.00895643699914217\n",
      "2943 0.008878329768776894\n",
      "2944 0.008984946645796299\n"
     ]
    },
    {
     "name": "stderr",
     "output_type": "stream",
     "text": [
      " 98%|█████████▊| 2948/3000 [03:10<00:02, 19.29it/s]"
     ]
    },
    {
     "name": "stdout",
     "output_type": "stream",
     "text": [
      "2945 0.00911006610840559\n",
      "2946 0.010759138502180576\n",
      "2947 0.008870950900018215\n",
      "2948 0.008835001848638058\n"
     ]
    },
    {
     "name": "stderr",
     "output_type": "stream",
     "text": [
      " 98%|█████████▊| 2952/3000 [03:10<00:02, 19.38it/s]"
     ]
    },
    {
     "name": "stdout",
     "output_type": "stream",
     "text": [
      "2949 0.008934134617447853\n",
      "2950 0.008660410530865192\n",
      "2951 0.008770965971052647\n",
      "2952 0.008819172158837318\n"
     ]
    },
    {
     "name": "stderr",
     "output_type": "stream",
     "text": [
      " 99%|█████████▊| 2956/3000 [03:11<00:02, 19.37it/s]"
     ]
    },
    {
     "name": "stdout",
     "output_type": "stream",
     "text": [
      "2953 0.008774952962994576\n",
      "2954 0.008945886045694351\n",
      "2955 0.008982071653008461\n",
      "2956 0.009070250205695629\n"
     ]
    },
    {
     "name": "stderr",
     "output_type": "stream",
     "text": [
      " 99%|█████████▊| 2960/3000 [03:11<00:02, 19.37it/s]"
     ]
    },
    {
     "name": "stdout",
     "output_type": "stream",
     "text": [
      "2957 0.008929354138672352\n",
      "2958 0.008735506795346737\n",
      "2959 0.008985033258795738\n",
      "2960 0.00876349676400423\n"
     ]
    },
    {
     "name": "stderr",
     "output_type": "stream",
     "text": [
      " 99%|█████████▉| 2964/3000 [03:11<00:01, 19.41it/s]"
     ]
    },
    {
     "name": "stdout",
     "output_type": "stream",
     "text": [
      "2961 0.008699954487383366\n",
      "2962 0.00881417840719223\n",
      "2963 0.008794876746833324\n",
      "2964 0.008837672881782055\n"
     ]
    },
    {
     "name": "stderr",
     "output_type": "stream",
     "text": [
      " 99%|█████████▉| 2969/3000 [03:11<00:01, 19.63it/s]"
     ]
    },
    {
     "name": "stdout",
     "output_type": "stream",
     "text": [
      "2965 0.008778790012001991\n",
      "2966 0.008661975152790546\n",
      "2967 0.00859103538095951\n",
      "2968 0.008783637546002865\n",
      "2969 0.008799172006547451\n"
     ]
    },
    {
     "name": "stderr",
     "output_type": "stream",
     "text": [
      " 99%|█████████▉| 2973/3000 [03:12<00:01, 19.57it/s]"
     ]
    },
    {
     "name": "stdout",
     "output_type": "stream",
     "text": [
      "2970 0.008564739488065243\n",
      "2971 0.00880013033747673\n",
      "2972 0.014963970519602299\n",
      "2973 0.00899954792112112\n"
     ]
    },
    {
     "name": "stderr",
     "output_type": "stream",
     "text": [
      " 99%|█████████▉| 2977/3000 [03:12<00:01, 19.45it/s]"
     ]
    },
    {
     "name": "stdout",
     "output_type": "stream",
     "text": [
      "2974 0.00861202273517847\n",
      "2975 0.009181013330817223\n",
      "2976 0.00872006919234991\n",
      "2977 0.00891150813549757\n"
     ]
    },
    {
     "name": "stderr",
     "output_type": "stream",
     "text": [
      " 99%|█████████▉| 2982/3000 [03:12<00:00, 19.81it/s]"
     ]
    },
    {
     "name": "stdout",
     "output_type": "stream",
     "text": [
      "2978 0.008837160654366016\n",
      "2979 0.00938706286251545\n",
      "2980 0.008959396742284298\n",
      "2981 0.009142354130744934\n",
      "2982 0.008754324167966843\n"
     ]
    },
    {
     "name": "stderr",
     "output_type": "stream",
     "text": [
      "100%|█████████▉| 2986/3000 [03:12<00:00, 19.75it/s]"
     ]
    },
    {
     "name": "stdout",
     "output_type": "stream",
     "text": [
      "2983 0.009025934152305126\n",
      "2984 0.008870319463312626\n",
      "2985 0.008858508430421352\n",
      "2986 0.009040218777954578\n"
     ]
    },
    {
     "name": "stderr",
     "output_type": "stream",
     "text": [
      "100%|█████████▉| 2990/3000 [03:12<00:00, 19.48it/s]"
     ]
    },
    {
     "name": "stdout",
     "output_type": "stream",
     "text": [
      "2987 0.00911047961562872\n",
      "2988 0.008828193880617619\n",
      "2989 0.008740565739572048\n",
      "2990 0.00883287563920021\n"
     ]
    },
    {
     "name": "stderr",
     "output_type": "stream",
     "text": [
      "100%|█████████▉| 2994/3000 [03:13<00:00, 19.29it/s]"
     ]
    },
    {
     "name": "stdout",
     "output_type": "stream",
     "text": [
      "2991 0.008973181247711182\n",
      "2992 0.008856939151883125\n",
      "2993 0.008968072012066841\n",
      "2994 0.008718490600585938\n"
     ]
    },
    {
     "name": "stderr",
     "output_type": "stream",
     "text": [
      "100%|██████████| 3000/3000 [03:13<00:00, 15.51it/s]"
     ]
    },
    {
     "name": "stdout",
     "output_type": "stream",
     "text": [
      "2995 0.008883392438292503\n",
      "2996 0.00873727910220623\n",
      "2997 0.00883171521127224\n",
      "2998 0.009015016257762909\n",
      "2999 0.008572299033403397\n"
     ]
    },
    {
     "name": "stderr",
     "output_type": "stream",
     "text": [
      "\n"
     ]
    },
    {
     "data": {
      "image/png": "[encoded data removed]",
      "text/plain": [
       "<Figure size 432x288 with 1 Axes>"
      ]
     },
     "metadata": {
      "needs_background": "light"
     },
     "output_type": "display_data"
    }
   ],
   "source": [
    "import torch\n",
    "from torch.autograd import Variable\n",
    "import numpy as np\n",
    "import torch.nn.functional as F\n",
    "import torchvision\n",
    "from torchvision import transforms\n",
    "import torch.optim as optim\n",
    "from torch import nn\n",
    "import matplotlib.pyplot as plt\n",
    "\n",
    "\n",
    "class Normal(object):\n",
    "    def __init__(self, mu, sigma, log_sigma, v=None, r=None):\n",
    "        self.mu = mu\n",
    "        self.sigma = sigma  # either stdev diagonal itself, or stdev diagonal from decomposition\n",
    "        self.logsigma = log_sigma\n",
    "        dim = mu.get_shape()\n",
    "        if v is None:\n",
    "            v = torch.FloatTensor(*dim)\n",
    "            if r is None:\n",
    "                r = torch.FloatTensor(*dim)\n",
    "                self.v = v\n",
    "                self.r = r\n",
    "                \n",
    "                \n",
    "class Encoder(torch.nn.Module):\n",
    "    def __init__(self, D_in, H, D_out):\n",
    "        super(Encoder, self).__init__()\n",
    "        self.linear1 = torch.nn.Linear(D_in, H)\n",
    "        self.linear2 = torch.nn.Linear(H, D_out)\n",
    "\n",
    "    def forward(self, x):\n",
    "        x = F.relu(self.linear1(x))\n",
    "        return F.relu(self.linear2(x))\n",
    "    \n",
    "    \n",
    "class Decoder(torch.nn.Module):\n",
    "    def __init__(self, D_in, H, D_out):\n",
    "        super(Decoder, self).__init__()\n",
    "        self.linear1 = torch.nn.Linear(D_in, H)\n",
    "        self.linear2 = torch.nn.Linear(H, D_out)\n",
    "    \n",
    "    def forward(self, x):\n",
    "        x = F.relu(self.linear1(x))\n",
    "        return F.relu(self.linear2(x))\n",
    "    \n",
    "class VAE(torch.nn.Module):\n",
    "    def __init__(self, encoder, decoder):\n",
    "        super(VAE, self).__init__()\n",
    "        self.latent_dim = 64\n",
    "        self.encoder = encoder\n",
    "        self.decoder = decoder\n",
    "        self._enc_mu = torch.nn.Linear(100, self.latent_dim)\n",
    "        self._enc_log_sigma = torch.nn.Linear(100, self.latent_dim)\n",
    "    \n",
    "    def _sample_latent(self, h_enc):\n",
    "        \"\"\"\n",
    "        Return the latent normal sample z ~ N(mu, sigma^2)\n",
    "        \"\"\"\n",
    "        mu = self._enc_mu(h_enc)\n",
    "        log_sigma = self._enc_log_sigma(h_enc)\n",
    "        sigma = torch.exp(log_sigma)\n",
    "        std_z = torch.from_numpy(np.random.normal(0, 1, size=sigma.size())).float()\n",
    "        \n",
    "        self.z_mean = mu\n",
    "        self.z_sigma = sigma\n",
    "        return mu + sigma * Variable(std_z, requires_grad=False)  # Reparameterization trick\n",
    "    \n",
    "    def forward(self, state):\n",
    "        h_enc = self.encoder(state)\n",
    "        z = self._sample_latent(h_enc)\n",
    "        return self.decoder(z)\n",
    "    \n",
    "def latent_loss(z_mean, z_stddev):\n",
    "    mean_sq = z_mean * z_mean\n",
    "    stddev_sq = z_stddev * z_stddev\n",
    "    return 0.5 * torch.mean(mean_sq + stddev_sq - torch.log(stddev_sq) - 1)\n",
    "\n",
    "input_dim = 57 * 50\n",
    "batch_size = 32\n",
    "encoder = Encoder(input_dim, 100, 100)\n",
    "decoder = Decoder(64, 100, input_dim)\n",
    "vae = VAE(encoder, decoder)\n",
    "criterion = nn.MSELoss()\n",
    "\n",
    "optimizer = optim.Adam(vae.parameters(), lr=0.001)\n",
    "l = None\n",
    "for epoch in tqdm(range(3000)):\n",
    "    idxs, states, actions, returns, next_states, nonterminals, weights, masks = val_mem.sample(32)\n",
    "    inputs =  Variable(states[:,:,14:-13,17:-17].reshape((32*4,57*50)).cpu())\n",
    "    optimizer.zero_grad()\n",
    "    dec = vae(inputs)\n",
    "    ll = latent_loss(vae.z_mean, vae.z_sigma)\n",
    "    loss = criterion(dec, inputs) + ll\n",
    "    loss.backward()\n",
    "    optimizer.step()\n",
    "    l = loss.item()\n",
    "    \n",
    "    print(epoch, l)\n",
    "    \n",
    "plt.imshow(vae(inputs).data[0].numpy().reshape(57, 50), cmap='gray')\n",
    "plt.show(block=True)"
   ]
  },
  {
   "cell_type": "code",
   "execution_count": 37,
   "metadata": {},
   "outputs": [
    {
     "data": {
      "text/plain": [
       "<matplotlib.colorbar.Colorbar at 0x7f220a5f4a90>"
      ]
     },
     "execution_count": 37,
     "metadata": {},
     "output_type": "execute_result"
    },
    {
     "data": {
      "image/png": "[encoded data removed]",
      "text/plain": [
       "<Figure size 432x288 with 2 Axes>"
      ]
     },
     "metadata": {
      "needs_background": "light"
     },
     "output_type": "display_data"
    }
   ],
   "source": [
    "plt.imshow(vae(inputs).data[1].numpy().reshape(57, 50), cmap='gray')\n",
    "plt.colorbar()"
   ]
  },
  {
   "cell_type": "code",
   "execution_count": 33,
   "metadata": {},
   "outputs": [
    {
     "data": {
      "text/plain": [
       "<matplotlib.image.AxesImage at 0x7f220a181fd0>"
      ]
     },
     "execution_count": 33,
     "metadata": {},
     "output_type": "execute_result"
    },
    {
     "data": {
      "image/png": "[encoded data removed]",
      "text/plain": [
       "<Figure size 432x288 with 1 Axes>"
      ]
     },
     "metadata": {
      "needs_background": "light"
     },
     "output_type": "display_data"
    }
   ],
   "source": [
    "plt.imshow(inputs.data[1].numpy().reshape(57,50))"
   ]
  },
  {
   "cell_type": "code",
   "execution_count": 34,
   "metadata": {},
   "outputs": [
    {
     "data": {
      "text/plain": [
       "<matplotlib.colorbar.Colorbar at 0x7f220a659f98>"
      ]
     },
     "execution_count": 34,
     "metadata": {},
     "output_type": "execute_result"
    },
    {
     "data": {
      "image/png": "[encoded data removed]",
      "text/plain": [
       "<Figure size 432x288 with 2 Axes>"
      ]
     },
     "metadata": {
      "needs_background": "light"
     },
     "output_type": "display_data"
    }
   ],
   "source": [
    "plt.imshow(vae(inputs).data[20].numpy().reshape(57, 50), cmap='gray')\n",
    "plt.colorbar()"
   ]
  },
  {
   "cell_type": "code",
   "execution_count": 30,
   "metadata": {},
   "outputs": [
    {
     "data": {
      "text/plain": [
       "<matplotlib.image.AxesImage at 0x7f220a2a28d0>"
      ]
     },
     "execution_count": 30,
     "metadata": {},
     "output_type": "execute_result"
    },
    {
     "data": {
      "image/png": "[encoded data removed]",
      "text/plain": [
       "<Figure size 432x288 with 1 Axes>"
      ]
     },
     "metadata": {
      "needs_background": "light"
     },
     "output_type": "display_data"
    }
   ],
   "source": [
    "plt.imshow(inputs.data[20].numpy().reshape(57,50))"
   ]
  },
  {
   "cell_type": "code",
   "execution_count": 17,
   "metadata": {},
   "outputs": [
    {
     "data": {
      "text/plain": [
       "<matplotlib.image.AxesImage at 0x7f22300693c8>"
      ]
     },
     "execution_count": 17,
     "metadata": {},
     "output_type": "execute_result"
    },
    {
     "data": {
      "image/png": "[encoded data removed]",
      "text/plain": [
       "<Figure size 432x288 with 1 Axes>"
      ]
     },
     "metadata": {
      "needs_background": "light"
     },
     "output_type": "display_data"
    }
   ],
   "source": [
    "plt.imshow(inputs.data[20].numpy().reshape(57,50))"
   ]
  },
  {
   "cell_type": "code",
   "execution_count": 39,
   "metadata": {},
   "outputs": [],
   "source": [
    "total_dataset = []\n",
    "\n",
    "for state in state_list:\n",
    "    check = state.cpu().detach().numpy()\n",
    "    total_dataset.append(check)"
   ]
  },
  {
   "cell_type": "code",
   "execution_count": 40,
   "metadata": {},
   "outputs": [],
   "source": [
    "total_dataset = np.array(total_dataset)"
   ]
  },
  {
   "cell_type": "code",
   "execution_count": 43,
   "metadata": {},
   "outputs": [
    {
     "data": {
      "text/plain": [
       "(11994, 4, 84, 84)"
      ]
     },
     "execution_count": 43,
     "metadata": {},
     "output_type": "execute_result"
    }
   ],
   "source": [
    "total_dataset.shape"
   ]
  },
  {
   "cell_type": "code",
   "execution_count": 53,
   "metadata": {},
   "outputs": [],
   "source": [
    "X = np.reshape(total_dataset[:,0,14:-13,17:-17], (11994, 1, 57*50))"
   ]
  },
  {
   "cell_type": "code",
   "execution_count": 57,
   "metadata": {},
   "outputs": [],
   "source": [
    "encoded_data = vae.encoder(torch.tensor(X)).cpu().detach().numpy()"
   ]
  },
  {
   "cell_type": "code",
   "execution_count": 61,
   "metadata": {},
   "outputs": [
    {
     "ename": "ValueError",
     "evalue": "cannot reshape array of size 1199400 into shape (11994,64)",
     "output_type": "error",
     "traceback": [
      "\u001b[0;31m---------------------------------------------------------------------------\u001b[0m",
      "\u001b[0;31mValueError\u001b[0m                                Traceback (most recent call last)",
      "\u001b[0;32m<ipython-input-61-13f2f0741777>\u001b[0m in \u001b[0;36m<module>\u001b[0;34m()\u001b[0m\n\u001b[0;32m----> 1\u001b[0;31m \u001b[0mnp\u001b[0m\u001b[0;34m.\u001b[0m\u001b[0mreshape\u001b[0m\u001b[0;34m(\u001b[0m\u001b[0mencoded_data\u001b[0m\u001b[0;34m,\u001b[0m\u001b[0;34m(\u001b[0m\u001b[0;36m11994\u001b[0m\u001b[0;34m,\u001b[0m\u001b[0;36m64\u001b[0m\u001b[0;34m)\u001b[0m\u001b[0;34m)\u001b[0m\u001b[0;34m\u001b[0m\u001b[0;34m\u001b[0m\u001b[0m\n\u001b[0m",
      "\u001b[0;32m<__array_function__ internals>\u001b[0m in \u001b[0;36mreshape\u001b[0;34m(*args, **kwargs)\u001b[0m\n",
      "\u001b[0;32m/opt/conda/envs/rainbow/lib/python3.6/site-packages/numpy/core/fromnumeric.py\u001b[0m in \u001b[0;36mreshape\u001b[0;34m(a, newshape, order)\u001b[0m\n\u001b[1;32m    297\u001b[0m            [5, 6]])\n\u001b[1;32m    298\u001b[0m     \"\"\"\n\u001b[0;32m--> 299\u001b[0;31m     \u001b[0;32mreturn\u001b[0m \u001b[0m_wrapfunc\u001b[0m\u001b[0;34m(\u001b[0m\u001b[0ma\u001b[0m\u001b[0;34m,\u001b[0m \u001b[0;34m'reshape'\u001b[0m\u001b[0;34m,\u001b[0m \u001b[0mnewshape\u001b[0m\u001b[0;34m,\u001b[0m \u001b[0morder\u001b[0m\u001b[0;34m=\u001b[0m\u001b[0morder\u001b[0m\u001b[0;34m)\u001b[0m\u001b[0;34m\u001b[0m\u001b[0;34m\u001b[0m\u001b[0m\n\u001b[0m\u001b[1;32m    300\u001b[0m \u001b[0;34m\u001b[0m\u001b[0m\n\u001b[1;32m    301\u001b[0m \u001b[0;34m\u001b[0m\u001b[0m\n",
      "\u001b[0;32m/opt/conda/envs/rainbow/lib/python3.6/site-packages/numpy/core/fromnumeric.py\u001b[0m in \u001b[0;36m_wrapfunc\u001b[0;34m(obj, method, *args, **kwds)\u001b[0m\n\u001b[1;32m     56\u001b[0m \u001b[0;34m\u001b[0m\u001b[0m\n\u001b[1;32m     57\u001b[0m     \u001b[0;32mtry\u001b[0m\u001b[0;34m:\u001b[0m\u001b[0;34m\u001b[0m\u001b[0;34m\u001b[0m\u001b[0m\n\u001b[0;32m---> 58\u001b[0;31m         \u001b[0;32mreturn\u001b[0m \u001b[0mbound\u001b[0m\u001b[0;34m(\u001b[0m\u001b[0;34m*\u001b[0m\u001b[0margs\u001b[0m\u001b[0;34m,\u001b[0m \u001b[0;34m**\u001b[0m\u001b[0mkwds\u001b[0m\u001b[0;34m)\u001b[0m\u001b[0;34m\u001b[0m\u001b[0;34m\u001b[0m\u001b[0m\n\u001b[0m\u001b[1;32m     59\u001b[0m     \u001b[0;32mexcept\u001b[0m \u001b[0mTypeError\u001b[0m\u001b[0;34m:\u001b[0m\u001b[0;34m\u001b[0m\u001b[0;34m\u001b[0m\u001b[0m\n\u001b[1;32m     60\u001b[0m         \u001b[0;31m# A TypeError occurs if the object does have such a method in its\u001b[0m\u001b[0;34m\u001b[0m\u001b[0;34m\u001b[0m\u001b[0;34m\u001b[0m\u001b[0m\n",
      "\u001b[0;31mValueError\u001b[0m: cannot reshape array of size 1199400 into shape (11994,64)"
     ]
    }
   ],
   "source": [
    "np.reshape(encoded_data,(11994,64))"
   ]
  },
  {
   "cell_type": "code",
   "execution_count": 58,
   "metadata": {},
   "outputs": [],
   "source": [
    "from sklearn.cluster import KMeans"
   ]
  },
  {
   "cell_type": "code",
   "execution_count": 60,
   "metadata": {},
   "outputs": [],
   "source": [
    "clusterer = KMeans(n_clusters=3)"
   ]
  },
  {
   "cell_type": "code",
   "execution_count": null,
   "metadata": {},
   "outputs": [],
   "source": [
    "clusterer.fit(encoded_data)"
   ]
  }
 ],
 "metadata": {
  "kernelspec": {
   "display_name": "Python 3",
   "language": "python",
   "name": "python3"
  },
  "language_info": {
   "codemirror_mode": {
    "name": "ipython",
    "version": 3
   },
   "file_extension": ".py",
   "mimetype": "text/x-python",
   "name": "python",
   "nbconvert_exporter": "python",
   "pygments_lexer": "ipython3",
   "version": "3.6.11"
  }
 },
 "nbformat": 4,
 "nbformat_minor": 4
}
