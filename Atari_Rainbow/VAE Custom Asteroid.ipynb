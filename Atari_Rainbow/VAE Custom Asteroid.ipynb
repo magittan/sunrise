{
 "cells": [
  {
   "cell_type": "code",
   "execution_count": 1,
   "metadata": {},
   "outputs": [],
   "source": [
    "# -*- coding: utf-8 -*-\n",
    "from __future__ import division\n",
    "import argparse\n",
    "import bz2\n",
    "from datetime import datetime\n",
    "import os\n",
    "import pickle\n",
    "from logger import Logger\n",
    "\n",
    "import atari_py\n",
    "import numpy as np\n",
    "import torch\n",
    "from tqdm import trange\n",
    "\n",
    "from agent import Agent\n",
    "from env import Env\n",
    "from sunrise_memory import ReplayMemory\n",
    "from test import ensemble_test\n",
    "from tqdm import tqdm\n",
    "import matplotlib.pyplot as plt"
   ]
  },
  {
   "cell_type": "code",
   "execution_count": 2,
   "metadata": {},
   "outputs": [],
   "source": [
    "class DataObject:\n",
    "    def __init__(self):\n",
    "        self.seed = 123\n",
    "        self.game = 'asteroids'\n",
    "        self.T_max = 100000\n",
    "        self.num_ensemble = 5\n",
    "        self.beta_mean = 0.5\n",
    "        self.memory_capacity = 500000\n",
    "        self.id = 'vae_sunrise'\n",
    "        self.temperature = 10\n",
    "        self.learn_start = 1600\n",
    "        self.target_update = 2000\n",
    "        self.replay_frequency = 1\n",
    "        self.multi_step = 20\n",
    "        self.discount = 0.99\n",
    "        self.architecture = 'data-efficient'\n",
    "        self.max_episode_length = int(108e3)\n",
    "        self.history_length = 4\n",
    "        self.atoms = 51\n",
    "        self.V_min = -10\n",
    "        self.V_max = 10\n",
    "        self.batch_size = 32\n",
    "        self.model = None\n",
    "        self.hidden_size = 256\n",
    "        self.noisy_std = 0.1\n",
    "        self.evaluation_size = 12000\n",
    "        self.learning_rate = 0.0001\n",
    "        self.adam_eps = 1.5e-4\n",
    "        self.priority_weight = 0.4\n",
    "        self.priority_exponent = 0.5\n",
    "        \n",
    "        if torch.cuda.is_available():\n",
    "            self.device = torch.device('cuda')\n",
    "            torch.cuda.manual_seed(np.random.randint(1, 10000))\n",
    "            torch.backends.cudnn.enabled = True\n",
    "            torch.set_default_tensor_type('torch.FloatTensor')"
   ]
  },
  {
   "cell_type": "code",
   "execution_count": 3,
   "metadata": {},
   "outputs": [],
   "source": [
    "args = DataObject()"
   ]
  },
  {
   "cell_type": "code",
   "execution_count": 4,
   "metadata": {},
   "outputs": [
    {
     "name": "stderr",
     "output_type": "stream",
     "text": [
      "100%|██████████| 12000/12000 [00:36<00:00, 325.31it/s]\n"
     ]
    }
   ],
   "source": [
    "# Environment\n",
    "env = Env(args)\n",
    "env.train()\n",
    "action_space = env.action_space()\n",
    "\n",
    "# Agent\n",
    "dqn_list = []\n",
    "for _ in range(args.num_ensemble):\n",
    "    dqn = Agent(args, env)\n",
    "    dqn_list.append(dqn)\n",
    "\n",
    "# If a model is provided, and evaluate is fale, presumably we want to resume, so try to load memory\n",
    "if args.model is not None and not args.evaluate:\n",
    "    if not args.memory:\n",
    "        raise ValueError('Cannot resume training without memory save path. Aborting...')\n",
    "    elif not os.path.exists(args.memory):\n",
    "        raise ValueError('Could not find memory file at {path}. Aborting...'.format(path=args.memory))\n",
    "    mem = load_memory(args.memory, args.disable_bzip_memory)\n",
    "\n",
    "else:\n",
    "    mem = ReplayMemory(args, args.memory_capacity, args.beta_mean, args.num_ensemble)\n",
    "\n",
    "priority_weight_increase = (1 - args.priority_weight) / (args.T_max - args.learn_start)\n",
    "\n",
    "# Construct validation memory\n",
    "val_mem = ReplayMemory(args, args.evaluation_size, args.beta_mean, args.num_ensemble)\n",
    "T, done = 0, True\n",
    "state_list = []\n",
    "for i in tqdm(range(args.evaluation_size)):\n",
    "    if done:\n",
    "        state, done = env.reset(), False\n",
    "    if i>5:\n",
    "        next_state, _, done = env.step(np.random.randint(0, action_space))\n",
    "        val_mem.append(state, 0, 0, done)\n",
    "        state = next_state\n",
    "        state_list.append(state)\n",
    "        T += 1"
   ]
  },
  {
   "cell_type": "code",
   "execution_count": 8,
   "metadata": {},
   "outputs": [
    {
     "data": {
      "text/plain": [
       "Conv2d(6, 6, kernel_size=(2, 2), stride=(1, 1))"
      ]
     },
     "execution_count": 8,
     "metadata": {},
     "output_type": "execute_result"
    }
   ],
   "source": [
    "torch.nn.Conv2d(6, 6, 2, stride=1)"
   ]
  },
  {
   "cell_type": "code",
   "execution_count": 117,
   "metadata": {},
   "outputs": [
    {
     "name": "stderr",
     "output_type": "stream",
     "text": [
      "  0%|          | 1/1000 [00:01<21:06,  1.27s/it]"
     ]
    },
    {
     "name": "stdout",
     "output_type": "stream",
     "text": [
      "0 0.27090778946876526\n"
     ]
    },
    {
     "name": "stderr",
     "output_type": "stream",
     "text": [
      "\r",
      "  0%|          | 2/1000 [00:02<21:22,  1.29s/it]"
     ]
    },
    {
     "name": "stdout",
     "output_type": "stream",
     "text": [
      "1 0.2621576488018036\n"
     ]
    },
    {
     "name": "stderr",
     "output_type": "stream",
     "text": [
      "\r",
      "  0%|          | 3/1000 [00:03<21:18,  1.28s/it]"
     ]
    },
    {
     "name": "stdout",
     "output_type": "stream",
     "text": [
      "2 0.2483266144990921\n"
     ]
    },
    {
     "name": "stderr",
     "output_type": "stream",
     "text": [
      "\r",
      "  0%|          | 4/1000 [00:05<20:56,  1.26s/it]"
     ]
    },
    {
     "name": "stdout",
     "output_type": "stream",
     "text": [
      "3 0.23289690911769867\n"
     ]
    },
    {
     "name": "stderr",
     "output_type": "stream",
     "text": [
      "\r",
      "  0%|          | 5/1000 [00:06<20:26,  1.23s/it]"
     ]
    },
    {
     "name": "stdout",
     "output_type": "stream",
     "text": [
      "4 0.22158931195735931\n"
     ]
    },
    {
     "name": "stderr",
     "output_type": "stream",
     "text": [
      "\r",
      "  1%|          | 6/1000 [00:07<20:01,  1.21s/it]"
     ]
    },
    {
     "name": "stdout",
     "output_type": "stream",
     "text": [
      "5 0.2167484313249588\n"
     ]
    },
    {
     "name": "stderr",
     "output_type": "stream",
     "text": [
      "\r",
      "  1%|          | 7/1000 [00:08<19:59,  1.21s/it]"
     ]
    },
    {
     "name": "stdout",
     "output_type": "stream",
     "text": [
      "6 0.214602530002594\n"
     ]
    },
    {
     "name": "stderr",
     "output_type": "stream",
     "text": [
      "\r",
      "  1%|          | 8/1000 [00:09<20:41,  1.25s/it]"
     ]
    },
    {
     "name": "stdout",
     "output_type": "stream",
     "text": [
      "7 0.2108871340751648\n"
     ]
    },
    {
     "name": "stderr",
     "output_type": "stream",
     "text": [
      "\r",
      "  1%|          | 9/1000 [00:11<21:02,  1.27s/it]"
     ]
    },
    {
     "name": "stdout",
     "output_type": "stream",
     "text": [
      "8 0.2070579081773758\n"
     ]
    },
    {
     "name": "stderr",
     "output_type": "stream",
     "text": [
      "\r",
      "  1%|          | 10/1000 [00:12<21:08,  1.28s/it]"
     ]
    },
    {
     "name": "stdout",
     "output_type": "stream",
     "text": [
      "9 0.2011612206697464\n"
     ]
    },
    {
     "name": "stderr",
     "output_type": "stream",
     "text": [
      "\r",
      "  1%|          | 11/1000 [00:13<20:37,  1.25s/it]"
     ]
    },
    {
     "name": "stdout",
     "output_type": "stream",
     "text": [
      "10 0.20217183232307434\n"
     ]
    },
    {
     "name": "stderr",
     "output_type": "stream",
     "text": [
      "\r",
      "  1%|          | 12/1000 [00:14<20:14,  1.23s/it]"
     ]
    },
    {
     "name": "stdout",
     "output_type": "stream",
     "text": [
      "11 0.19872088730335236\n"
     ]
    },
    {
     "name": "stderr",
     "output_type": "stream",
     "text": [
      "\r",
      "  1%|▏         | 13/1000 [00:16<20:57,  1.27s/it]"
     ]
    },
    {
     "name": "stdout",
     "output_type": "stream",
     "text": [
      "12 0.1963682323694229\n"
     ]
    },
    {
     "name": "stderr",
     "output_type": "stream",
     "text": [
      "\r",
      "  1%|▏         | 14/1000 [00:17<21:22,  1.30s/it]"
     ]
    },
    {
     "name": "stdout",
     "output_type": "stream",
     "text": [
      "13 0.19527801871299744\n"
     ]
    },
    {
     "name": "stderr",
     "output_type": "stream",
     "text": [
      "\r",
      "  2%|▏         | 15/1000 [00:18<20:55,  1.27s/it]"
     ]
    },
    {
     "name": "stdout",
     "output_type": "stream",
     "text": [
      "14 0.1934392750263214\n"
     ]
    },
    {
     "name": "stderr",
     "output_type": "stream",
     "text": [
      "\r",
      "  2%|▏         | 16/1000 [00:20<20:19,  1.24s/it]"
     ]
    },
    {
     "name": "stdout",
     "output_type": "stream",
     "text": [
      "15 0.19337749481201172\n"
     ]
    },
    {
     "name": "stderr",
     "output_type": "stream",
     "text": [
      "\r",
      "  2%|▏         | 17/1000 [00:21<20:09,  1.23s/it]"
     ]
    },
    {
     "name": "stdout",
     "output_type": "stream",
     "text": [
      "16 0.18953414261341095\n"
     ]
    },
    {
     "name": "stderr",
     "output_type": "stream",
     "text": [
      "\r",
      "  2%|▏         | 18/1000 [00:22<20:29,  1.25s/it]"
     ]
    },
    {
     "name": "stdout",
     "output_type": "stream",
     "text": [
      "17 0.18665120005607605\n"
     ]
    },
    {
     "name": "stderr",
     "output_type": "stream",
     "text": [
      "\r",
      "  2%|▏         | 19/1000 [00:23<20:09,  1.23s/it]"
     ]
    },
    {
     "name": "stdout",
     "output_type": "stream",
     "text": [
      "18 0.18355858325958252\n"
     ]
    },
    {
     "name": "stderr",
     "output_type": "stream",
     "text": [
      "\r",
      "  2%|▏         | 20/1000 [00:24<19:45,  1.21s/it]"
     ]
    },
    {
     "name": "stdout",
     "output_type": "stream",
     "text": [
      "19 0.18195848166942596\n"
     ]
    },
    {
     "name": "stderr",
     "output_type": "stream",
     "text": [
      "\r",
      "  2%|▏         | 21/1000 [00:26<19:55,  1.22s/it]"
     ]
    },
    {
     "name": "stdout",
     "output_type": "stream",
     "text": [
      "20 0.18144166469573975\n"
     ]
    },
    {
     "name": "stderr",
     "output_type": "stream",
     "text": [
      "\r",
      "  2%|▏         | 22/1000 [00:27<19:54,  1.22s/it]"
     ]
    },
    {
     "name": "stdout",
     "output_type": "stream",
     "text": [
      "21 0.17967815697193146\n"
     ]
    },
    {
     "name": "stderr",
     "output_type": "stream",
     "text": [
      "\r",
      "  2%|▏         | 23/1000 [00:28<20:06,  1.23s/it]"
     ]
    },
    {
     "name": "stdout",
     "output_type": "stream",
     "text": [
      "22 0.17648105323314667\n"
     ]
    },
    {
     "name": "stderr",
     "output_type": "stream",
     "text": [
      "\r",
      "  2%|▏         | 24/1000 [00:29<19:55,  1.22s/it]"
     ]
    },
    {
     "name": "stdout",
     "output_type": "stream",
     "text": [
      "23 0.17707109451293945\n"
     ]
    },
    {
     "name": "stderr",
     "output_type": "stream",
     "text": [
      "\r",
      "  2%|▎         | 25/1000 [00:31<20:27,  1.26s/it]"
     ]
    },
    {
     "name": "stdout",
     "output_type": "stream",
     "text": [
      "24 0.17693984508514404\n"
     ]
    },
    {
     "name": "stderr",
     "output_type": "stream",
     "text": [
      "\r",
      "  3%|▎         | 26/1000 [00:32<20:40,  1.27s/it]"
     ]
    },
    {
     "name": "stdout",
     "output_type": "stream",
     "text": [
      "25 0.1762792468070984\n"
     ]
    },
    {
     "name": "stderr",
     "output_type": "stream",
     "text": [
      "\r",
      "  3%|▎         | 27/1000 [00:33<20:22,  1.26s/it]"
     ]
    },
    {
     "name": "stdout",
     "output_type": "stream",
     "text": [
      "26 0.1751604974269867\n"
     ]
    },
    {
     "name": "stderr",
     "output_type": "stream",
     "text": [
      "\r",
      "  3%|▎         | 28/1000 [00:34<20:27,  1.26s/it]"
     ]
    },
    {
     "name": "stdout",
     "output_type": "stream",
     "text": [
      "27 0.17444898188114166\n"
     ]
    },
    {
     "name": "stderr",
     "output_type": "stream",
     "text": [
      "\r",
      "  3%|▎         | 29/1000 [00:36<20:23,  1.26s/it]"
     ]
    },
    {
     "name": "stdout",
     "output_type": "stream",
     "text": [
      "28 0.17282642424106598\n"
     ]
    },
    {
     "name": "stderr",
     "output_type": "stream",
     "text": [
      "\r",
      "  3%|▎         | 30/1000 [00:37<19:48,  1.22s/it]"
     ]
    },
    {
     "name": "stdout",
     "output_type": "stream",
     "text": [
      "29 0.17251700162887573\n"
     ]
    },
    {
     "name": "stderr",
     "output_type": "stream",
     "text": [
      "\r",
      "  3%|▎         | 31/1000 [00:38<19:52,  1.23s/it]"
     ]
    },
    {
     "name": "stdout",
     "output_type": "stream",
     "text": [
      "30 0.17180344462394714\n"
     ]
    },
    {
     "name": "stderr",
     "output_type": "stream",
     "text": [
      "\r",
      "  3%|▎         | 32/1000 [00:39<19:52,  1.23s/it]"
     ]
    },
    {
     "name": "stdout",
     "output_type": "stream",
     "text": [
      "31 0.17143230140209198\n"
     ]
    },
    {
     "name": "stderr",
     "output_type": "stream",
     "text": [
      "\r",
      "  3%|▎         | 33/1000 [00:41<20:06,  1.25s/it]"
     ]
    },
    {
     "name": "stdout",
     "output_type": "stream",
     "text": [
      "32 0.1715976446866989\n"
     ]
    },
    {
     "name": "stderr",
     "output_type": "stream",
     "text": [
      "\r",
      "  3%|▎         | 34/1000 [00:42<20:10,  1.25s/it]"
     ]
    },
    {
     "name": "stdout",
     "output_type": "stream",
     "text": [
      "33 0.17078469693660736\n"
     ]
    },
    {
     "name": "stderr",
     "output_type": "stream",
     "text": [
      "\r",
      "  4%|▎         | 35/1000 [00:43<20:18,  1.26s/it]"
     ]
    },
    {
     "name": "stdout",
     "output_type": "stream",
     "text": [
      "34 0.17034612596035004\n"
     ]
    },
    {
     "name": "stderr",
     "output_type": "stream",
     "text": [
      "\r",
      "  4%|▎         | 36/1000 [00:44<19:55,  1.24s/it]"
     ]
    },
    {
     "name": "stdout",
     "output_type": "stream",
     "text": [
      "35 0.16960062086582184\n"
     ]
    },
    {
     "name": "stderr",
     "output_type": "stream",
     "text": [
      "\r",
      "  4%|▎         | 37/1000 [00:46<20:04,  1.25s/it]"
     ]
    },
    {
     "name": "stdout",
     "output_type": "stream",
     "text": [
      "36 0.16922453045845032\n"
     ]
    },
    {
     "name": "stderr",
     "output_type": "stream",
     "text": [
      "\r",
      "  4%|▍         | 38/1000 [00:47<20:07,  1.25s/it]"
     ]
    },
    {
     "name": "stdout",
     "output_type": "stream",
     "text": [
      "37 0.16873733699321747\n"
     ]
    },
    {
     "name": "stderr",
     "output_type": "stream",
     "text": [
      "\r",
      "  4%|▍         | 39/1000 [00:48<20:04,  1.25s/it]"
     ]
    },
    {
     "name": "stdout",
     "output_type": "stream",
     "text": [
      "38 0.168615460395813\n"
     ]
    },
    {
     "name": "stderr",
     "output_type": "stream",
     "text": [
      "\r",
      "  4%|▍         | 40/1000 [00:49<19:26,  1.21s/it]"
     ]
    },
    {
     "name": "stdout",
     "output_type": "stream",
     "text": [
      "39 0.16792672872543335\n"
     ]
    },
    {
     "name": "stderr",
     "output_type": "stream",
     "text": [
      "\r",
      "  4%|▍         | 41/1000 [00:50<18:48,  1.18s/it]"
     ]
    },
    {
     "name": "stdout",
     "output_type": "stream",
     "text": [
      "40 0.16765977442264557\n"
     ]
    },
    {
     "name": "stderr",
     "output_type": "stream",
     "text": [
      "\r",
      "  4%|▍         | 42/1000 [00:52<18:57,  1.19s/it]"
     ]
    },
    {
     "name": "stdout",
     "output_type": "stream",
     "text": [
      "41 0.16757196187973022\n"
     ]
    },
    {
     "name": "stderr",
     "output_type": "stream",
     "text": [
      "\r",
      "  4%|▍         | 43/1000 [00:53<19:03,  1.20s/it]"
     ]
    },
    {
     "name": "stdout",
     "output_type": "stream",
     "text": [
      "42 0.16655723750591278\n"
     ]
    },
    {
     "name": "stderr",
     "output_type": "stream",
     "text": [
      "\r",
      "  4%|▍         | 44/1000 [00:54<19:22,  1.22s/it]"
     ]
    },
    {
     "name": "stdout",
     "output_type": "stream",
     "text": [
      "43 0.16690897941589355\n"
     ]
    },
    {
     "name": "stderr",
     "output_type": "stream",
     "text": [
      "\r",
      "  4%|▍         | 45/1000 [00:55<19:11,  1.21s/it]"
     ]
    },
    {
     "name": "stdout",
     "output_type": "stream",
     "text": [
      "44 0.1664460003376007\n"
     ]
    },
    {
     "name": "stderr",
     "output_type": "stream",
     "text": [
      "\r",
      "  5%|▍         | 46/1000 [00:56<18:36,  1.17s/it]"
     ]
    },
    {
     "name": "stdout",
     "output_type": "stream",
     "text": [
      "45 0.1666816622018814\n"
     ]
    },
    {
     "name": "stderr",
     "output_type": "stream",
     "text": [
      "\r",
      "  5%|▍         | 47/1000 [00:57<18:26,  1.16s/it]"
     ]
    },
    {
     "name": "stdout",
     "output_type": "stream",
     "text": [
      "46 0.16616833209991455\n"
     ]
    },
    {
     "name": "stderr",
     "output_type": "stream",
     "text": [
      "\r",
      "  5%|▍         | 48/1000 [00:59<18:34,  1.17s/it]"
     ]
    },
    {
     "name": "stdout",
     "output_type": "stream",
     "text": [
      "47 0.16576124727725983\n"
     ]
    },
    {
     "name": "stderr",
     "output_type": "stream",
     "text": [
      "\r",
      "  5%|▍         | 49/1000 [01:00<18:05,  1.14s/it]"
     ]
    },
    {
     "name": "stdout",
     "output_type": "stream",
     "text": [
      "48 0.16593442857265472\n"
     ]
    },
    {
     "name": "stderr",
     "output_type": "stream",
     "text": [
      "\r",
      "  5%|▌         | 50/1000 [01:01<18:16,  1.15s/it]"
     ]
    },
    {
     "name": "stdout",
     "output_type": "stream",
     "text": [
      "49 0.1654030680656433\n"
     ]
    },
    {
     "name": "stderr",
     "output_type": "stream",
     "text": [
      "\r",
      "  5%|▌         | 51/1000 [01:02<18:38,  1.18s/it]"
     ]
    },
    {
     "name": "stdout",
     "output_type": "stream",
     "text": [
      "50 0.16577409207820892\n"
     ]
    },
    {
     "name": "stderr",
     "output_type": "stream",
     "text": [
      "\r",
      "  5%|▌         | 52/1000 [01:04<19:45,  1.25s/it]"
     ]
    },
    {
     "name": "stdout",
     "output_type": "stream",
     "text": [
      "51 0.16520138084888458\n"
     ]
    },
    {
     "name": "stderr",
     "output_type": "stream",
     "text": [
      "\r",
      "  5%|▌         | 53/1000 [01:05<19:35,  1.24s/it]"
     ]
    },
    {
     "name": "stdout",
     "output_type": "stream",
     "text": [
      "52 0.16533207893371582\n"
     ]
    },
    {
     "name": "stderr",
     "output_type": "stream",
     "text": [
      "\r",
      "  5%|▌         | 54/1000 [01:06<19:27,  1.23s/it]"
     ]
    },
    {
     "name": "stdout",
     "output_type": "stream",
     "text": [
      "53 0.16523849964141846\n"
     ]
    },
    {
     "name": "stderr",
     "output_type": "stream",
     "text": [
      "\r",
      "  6%|▌         | 55/1000 [01:07<19:54,  1.26s/it]"
     ]
    },
    {
     "name": "stdout",
     "output_type": "stream",
     "text": [
      "54 0.1652461141347885\n"
     ]
    },
    {
     "name": "stderr",
     "output_type": "stream",
     "text": [
      "\r",
      "  6%|▌         | 56/1000 [01:09<20:22,  1.29s/it]"
     ]
    },
    {
     "name": "stdout",
     "output_type": "stream",
     "text": [
      "55 0.1645394265651703\n"
     ]
    },
    {
     "name": "stderr",
     "output_type": "stream",
     "text": [
      "\r",
      "  6%|▌         | 57/1000 [01:10<19:52,  1.26s/it]"
     ]
    },
    {
     "name": "stdout",
     "output_type": "stream",
     "text": [
      "56 0.16416466236114502\n"
     ]
    },
    {
     "name": "stderr",
     "output_type": "stream",
     "text": [
      "\r",
      "  6%|▌         | 58/1000 [01:11<19:46,  1.26s/it]"
     ]
    },
    {
     "name": "stdout",
     "output_type": "stream",
     "text": [
      "57 0.1644783467054367\n"
     ]
    },
    {
     "name": "stderr",
     "output_type": "stream",
     "text": [
      "\r",
      "  6%|▌         | 59/1000 [01:12<19:56,  1.27s/it]"
     ]
    },
    {
     "name": "stdout",
     "output_type": "stream",
     "text": [
      "58 0.16437362134456635\n"
     ]
    },
    {
     "name": "stderr",
     "output_type": "stream",
     "text": [
      "\r",
      "  6%|▌         | 60/1000 [01:14<19:50,  1.27s/it]"
     ]
    },
    {
     "name": "stdout",
     "output_type": "stream",
     "text": [
      "59 0.16280041635036469\n"
     ]
    },
    {
     "name": "stderr",
     "output_type": "stream",
     "text": [
      "\r",
      "  6%|▌         | 61/1000 [01:15<19:28,  1.24s/it]"
     ]
    },
    {
     "name": "stdout",
     "output_type": "stream",
     "text": [
      "60 0.1647251546382904\n"
     ]
    },
    {
     "name": "stderr",
     "output_type": "stream",
     "text": [
      "\r",
      "  6%|▌         | 62/1000 [01:16<19:07,  1.22s/it]"
     ]
    },
    {
     "name": "stdout",
     "output_type": "stream",
     "text": [
      "61 0.16399718821048737\n"
     ]
    },
    {
     "name": "stderr",
     "output_type": "stream",
     "text": [
      "\r",
      "  6%|▋         | 63/1000 [01:17<18:39,  1.20s/it]"
     ]
    },
    {
     "name": "stdout",
     "output_type": "stream",
     "text": [
      "62 0.16425363719463348\n"
     ]
    },
    {
     "name": "stderr",
     "output_type": "stream",
     "text": [
      "\r",
      "  6%|▋         | 64/1000 [01:18<18:08,  1.16s/it]"
     ]
    },
    {
     "name": "stdout",
     "output_type": "stream",
     "text": [
      "63 0.16409046947956085\n"
     ]
    },
    {
     "name": "stderr",
     "output_type": "stream",
     "text": [
      "\r",
      "  6%|▋         | 65/1000 [01:19<18:14,  1.17s/it]"
     ]
    },
    {
     "name": "stdout",
     "output_type": "stream",
     "text": [
      "64 0.16408972442150116\n"
     ]
    },
    {
     "name": "stderr",
     "output_type": "stream",
     "text": [
      "\r",
      "  7%|▋         | 66/1000 [01:21<18:57,  1.22s/it]"
     ]
    },
    {
     "name": "stdout",
     "output_type": "stream",
     "text": [
      "65 0.16324947774410248\n"
     ]
    },
    {
     "name": "stderr",
     "output_type": "stream",
     "text": [
      "\r",
      "  7%|▋         | 67/1000 [01:22<18:34,  1.19s/it]"
     ]
    },
    {
     "name": "stdout",
     "output_type": "stream",
     "text": [
      "66 0.16401079297065735\n"
     ]
    },
    {
     "name": "stderr",
     "output_type": "stream",
     "text": [
      "\r",
      "  7%|▋         | 68/1000 [01:23<18:46,  1.21s/it]"
     ]
    },
    {
     "name": "stdout",
     "output_type": "stream",
     "text": [
      "67 0.16353419423103333\n"
     ]
    },
    {
     "name": "stderr",
     "output_type": "stream",
     "text": [
      "\r",
      "  7%|▋         | 69/1000 [01:25<19:22,  1.25s/it]"
     ]
    },
    {
     "name": "stdout",
     "output_type": "stream",
     "text": [
      "68 0.16378483176231384\n"
     ]
    },
    {
     "name": "stderr",
     "output_type": "stream",
     "text": [
      "\r",
      "  7%|▋         | 70/1000 [01:26<19:26,  1.25s/it]"
     ]
    },
    {
     "name": "stdout",
     "output_type": "stream",
     "text": [
      "69 0.16384141147136688\n"
     ]
    },
    {
     "name": "stderr",
     "output_type": "stream",
     "text": [
      "\r",
      "  7%|▋         | 71/1000 [01:27<18:53,  1.22s/it]"
     ]
    },
    {
     "name": "stdout",
     "output_type": "stream",
     "text": [
      "70 0.1630840003490448\n"
     ]
    },
    {
     "name": "stderr",
     "output_type": "stream",
     "text": [
      "\r",
      "  7%|▋         | 72/1000 [01:28<18:59,  1.23s/it]"
     ]
    },
    {
     "name": "stdout",
     "output_type": "stream",
     "text": [
      "71 0.16326160728931427\n"
     ]
    },
    {
     "name": "stderr",
     "output_type": "stream",
     "text": [
      "\r",
      "  7%|▋         | 73/1000 [01:29<18:50,  1.22s/it]"
     ]
    },
    {
     "name": "stdout",
     "output_type": "stream",
     "text": [
      "72 0.16344785690307617\n"
     ]
    },
    {
     "name": "stderr",
     "output_type": "stream",
     "text": [
      "\r",
      "  7%|▋         | 74/1000 [01:31<19:04,  1.24s/it]"
     ]
    },
    {
     "name": "stdout",
     "output_type": "stream",
     "text": [
      "73 0.16172824800014496\n"
     ]
    },
    {
     "name": "stderr",
     "output_type": "stream",
     "text": [
      "\r",
      "  8%|▊         | 75/1000 [01:32<19:08,  1.24s/it]"
     ]
    },
    {
     "name": "stdout",
     "output_type": "stream",
     "text": [
      "74 0.16308142244815826\n"
     ]
    },
    {
     "name": "stderr",
     "output_type": "stream",
     "text": [
      "\r",
      "  8%|▊         | 76/1000 [01:33<18:36,  1.21s/it]"
     ]
    },
    {
     "name": "stdout",
     "output_type": "stream",
     "text": [
      "75 0.16321143507957458\n"
     ]
    },
    {
     "name": "stderr",
     "output_type": "stream",
     "text": [
      "\r",
      "  8%|▊         | 77/1000 [01:34<17:27,  1.13s/it]"
     ]
    },
    {
     "name": "stdout",
     "output_type": "stream",
     "text": [
      "76 0.16325126588344574\n"
     ]
    },
    {
     "name": "stderr",
     "output_type": "stream",
     "text": [
      "\r",
      "  8%|▊         | 78/1000 [01:35<17:34,  1.14s/it]"
     ]
    },
    {
     "name": "stdout",
     "output_type": "stream",
     "text": [
      "77 0.16311602294445038\n"
     ]
    },
    {
     "name": "stderr",
     "output_type": "stream",
     "text": [
      "\r",
      "  8%|▊         | 79/1000 [01:36<17:49,  1.16s/it]"
     ]
    },
    {
     "name": "stdout",
     "output_type": "stream",
     "text": [
      "78 0.16344456374645233\n"
     ]
    },
    {
     "name": "stderr",
     "output_type": "stream",
     "text": [
      "\r",
      "  8%|▊         | 80/1000 [01:38<18:23,  1.20s/it]"
     ]
    },
    {
     "name": "stdout",
     "output_type": "stream",
     "text": [
      "79 0.16285103559494019\n"
     ]
    },
    {
     "name": "stderr",
     "output_type": "stream",
     "text": [
      "\r",
      "  8%|▊         | 81/1000 [01:39<18:07,  1.18s/it]"
     ]
    },
    {
     "name": "stdout",
     "output_type": "stream",
     "text": [
      "80 0.1630764901638031\n"
     ]
    },
    {
     "name": "stderr",
     "output_type": "stream",
     "text": [
      "\r",
      "  8%|▊         | 82/1000 [01:40<17:45,  1.16s/it]"
     ]
    },
    {
     "name": "stdout",
     "output_type": "stream",
     "text": [
      "81 0.1630237102508545\n"
     ]
    },
    {
     "name": "stderr",
     "output_type": "stream",
     "text": [
      "\r",
      "  8%|▊         | 83/1000 [01:41<16:39,  1.09s/it]"
     ]
    },
    {
     "name": "stdout",
     "output_type": "stream",
     "text": [
      "82 0.16255244612693787\n"
     ]
    },
    {
     "name": "stderr",
     "output_type": "stream",
     "text": [
      "  8%|▊         | 83/1000 [01:42<18:53,  1.24s/it]\n"
     ]
    },
    {
     "ename": "KeyboardInterrupt",
     "evalue": "",
     "output_type": "error",
     "traceback": [
      "\u001b[0;31m---------------------------------------------------------------------------\u001b[0m",
      "\u001b[0;31mKeyboardInterrupt\u001b[0m                         Traceback (most recent call last)",
      "\u001b[0;32m<ipython-input-117-db4a172aa1b9>\u001b[0m in \u001b[0;36m<module>\u001b[0;34m()\u001b[0m\n\u001b[1;32m     96\u001b[0m     \u001b[0mll\u001b[0m \u001b[0;34m=\u001b[0m \u001b[0mlatent_loss\u001b[0m\u001b[0;34m(\u001b[0m\u001b[0mvae\u001b[0m\u001b[0;34m.\u001b[0m\u001b[0mz_mean\u001b[0m\u001b[0;34m,\u001b[0m \u001b[0mvae\u001b[0m\u001b[0;34m.\u001b[0m\u001b[0mz_sigma\u001b[0m\u001b[0;34m)\u001b[0m\u001b[0;34m\u001b[0m\u001b[0;34m\u001b[0m\u001b[0m\n\u001b[1;32m     97\u001b[0m     \u001b[0mloss\u001b[0m \u001b[0;34m=\u001b[0m \u001b[0mcriterion\u001b[0m\u001b[0;34m(\u001b[0m\u001b[0mdec\u001b[0m\u001b[0;34m,\u001b[0m \u001b[0minputs\u001b[0m\u001b[0;34m)\u001b[0m \u001b[0;34m+\u001b[0m \u001b[0mll\u001b[0m\u001b[0;34m\u001b[0m\u001b[0;34m\u001b[0m\u001b[0m\n\u001b[0;32m---> 98\u001b[0;31m     \u001b[0mloss\u001b[0m\u001b[0;34m.\u001b[0m\u001b[0mbackward\u001b[0m\u001b[0;34m(\u001b[0m\u001b[0;34m)\u001b[0m\u001b[0;34m\u001b[0m\u001b[0;34m\u001b[0m\u001b[0m\n\u001b[0m\u001b[1;32m     99\u001b[0m     \u001b[0moptimizer\u001b[0m\u001b[0;34m.\u001b[0m\u001b[0mstep\u001b[0m\u001b[0;34m(\u001b[0m\u001b[0;34m)\u001b[0m\u001b[0;34m\u001b[0m\u001b[0;34m\u001b[0m\u001b[0m\n\u001b[1;32m    100\u001b[0m     \u001b[0ml\u001b[0m \u001b[0;34m=\u001b[0m \u001b[0mloss\u001b[0m\u001b[0;34m.\u001b[0m\u001b[0mitem\u001b[0m\u001b[0;34m(\u001b[0m\u001b[0;34m)\u001b[0m\u001b[0;34m\u001b[0m\u001b[0;34m\u001b[0m\u001b[0m\n",
      "\u001b[0;32m/opt/conda/envs/rainbow/lib/python3.6/site-packages/torch/tensor.py\u001b[0m in \u001b[0;36mbackward\u001b[0;34m(self, gradient, retain_graph, create_graph)\u001b[0m\n\u001b[1;32m    193\u001b[0m                 \u001b[0mproducts\u001b[0m\u001b[0;34m.\u001b[0m \u001b[0mDefaults\u001b[0m \u001b[0mto\u001b[0m\u001b[0;31m \u001b[0m\u001b[0;31m`\u001b[0m\u001b[0;31m`\u001b[0m\u001b[0;32mFalse\u001b[0m\u001b[0;31m`\u001b[0m\u001b[0;31m`\u001b[0m\u001b[0;34m.\u001b[0m\u001b[0;34m\u001b[0m\u001b[0;34m\u001b[0m\u001b[0m\n\u001b[1;32m    194\u001b[0m         \"\"\"\n\u001b[0;32m--> 195\u001b[0;31m         \u001b[0mtorch\u001b[0m\u001b[0;34m.\u001b[0m\u001b[0mautograd\u001b[0m\u001b[0;34m.\u001b[0m\u001b[0mbackward\u001b[0m\u001b[0;34m(\u001b[0m\u001b[0mself\u001b[0m\u001b[0;34m,\u001b[0m \u001b[0mgradient\u001b[0m\u001b[0;34m,\u001b[0m \u001b[0mretain_graph\u001b[0m\u001b[0;34m,\u001b[0m \u001b[0mcreate_graph\u001b[0m\u001b[0;34m)\u001b[0m\u001b[0;34m\u001b[0m\u001b[0;34m\u001b[0m\u001b[0m\n\u001b[0m\u001b[1;32m    196\u001b[0m \u001b[0;34m\u001b[0m\u001b[0m\n\u001b[1;32m    197\u001b[0m     \u001b[0;32mdef\u001b[0m \u001b[0mregister_hook\u001b[0m\u001b[0;34m(\u001b[0m\u001b[0mself\u001b[0m\u001b[0;34m,\u001b[0m \u001b[0mhook\u001b[0m\u001b[0;34m)\u001b[0m\u001b[0;34m:\u001b[0m\u001b[0;34m\u001b[0m\u001b[0;34m\u001b[0m\u001b[0m\n",
      "\u001b[0;32m/opt/conda/envs/rainbow/lib/python3.6/site-packages/torch/autograd/__init__.py\u001b[0m in \u001b[0;36mbackward\u001b[0;34m(tensors, grad_tensors, retain_graph, create_graph, grad_variables)\u001b[0m\n\u001b[1;32m     97\u001b[0m     Variable._execution_engine.run_backward(\n\u001b[1;32m     98\u001b[0m         \u001b[0mtensors\u001b[0m\u001b[0;34m,\u001b[0m \u001b[0mgrad_tensors\u001b[0m\u001b[0;34m,\u001b[0m \u001b[0mretain_graph\u001b[0m\u001b[0;34m,\u001b[0m \u001b[0mcreate_graph\u001b[0m\u001b[0;34m,\u001b[0m\u001b[0;34m\u001b[0m\u001b[0;34m\u001b[0m\u001b[0m\n\u001b[0;32m---> 99\u001b[0;31m         allow_unreachable=True)  # allow_unreachable flag\n\u001b[0m\u001b[1;32m    100\u001b[0m \u001b[0;34m\u001b[0m\u001b[0m\n\u001b[1;32m    101\u001b[0m \u001b[0;34m\u001b[0m\u001b[0m\n",
      "\u001b[0;31mKeyboardInterrupt\u001b[0m: "
     ]
    }
   ],
   "source": [
    "import torch\n",
    "from torch.autograd import Variable\n",
    "import numpy as np\n",
    "import torch.nn.functional as F\n",
    "import torchvision\n",
    "from torchvision import transforms\n",
    "import torch.optim as optim\n",
    "from torch import nn\n",
    "import matplotlib.pyplot as plt\n",
    "\n",
    "\n",
    "class Normal(object):\n",
    "    def __init__(self, mu, sigma, log_sigma, v=None, r=None):\n",
    "        self.mu = mu\n",
    "        self.sigma = sigma  # either stdev diagonal itself, or stdev diagonal from decomposition\n",
    "        self.logsigma = log_sigma\n",
    "        dim = mu.get_shape()\n",
    "        if v is None:\n",
    "            v = torch.FloatTensor(*dim)\n",
    "            if r is None:\n",
    "                r = torch.FloatTensor(*dim)\n",
    "                self.v = v\n",
    "                self.r = r\n",
    "                \n",
    "class Encoder(torch.nn.Module):\n",
    "    def __init__(self, H, D_out):\n",
    "        super(Encoder, self).__init__()\n",
    "        self.conv1 = torch.nn.Conv2d(1, 4, 3, stride=1)\n",
    "        self.linear1 = torch.nn.Linear(48, H)\n",
    "        self.linear2 = torch.nn.Linear(H, D_out)\n",
    "\n",
    "    def forward(self, x):\n",
    "        x = F.relu(self.conv1(x))\n",
    "        x = F.relu(self.linear1(x))\n",
    "        return F.relu(self.linear2(x))\n",
    "    \n",
    "    \n",
    "class Decoder(torch.nn.Module):\n",
    "    def __init__(self, D_in, H, D_out):\n",
    "        super(Decoder, self).__init__()\n",
    "        self.conv1 = torch.nn.ConvTranspose2d(4, 1, 3, stride=1)\n",
    "        self.linear1 = torch.nn.Linear(D_in, H)\n",
    "        self.linear2 = torch.nn.Linear(H, 48)\n",
    "    \n",
    "    def forward(self, x):\n",
    "        x = F.relu(self.linear1(x))\n",
    "        x = F.relu(self.linear2(x))\n",
    "        return F.relu(self.conv1(x))\n",
    "    \n",
    "class VAE(torch.nn.Module):\n",
    "    def __init__(self, encoder, decoder):\n",
    "        super(VAE, self).__init__()\n",
    "        self.latent_dim = 64\n",
    "        self.encoder = encoder\n",
    "        self.decoder = decoder\n",
    "        self._enc_mu = torch.nn.Linear(1000, self.latent_dim)\n",
    "        self._enc_log_sigma = torch.nn.Linear(1000, self.latent_dim)\n",
    "    \n",
    "    def _sample_latent(self, h_enc):\n",
    "        \"\"\"\n",
    "        Return the latent normal sample z ~ N(mu, sigma^2)\n",
    "        \"\"\"\n",
    "        mu = self._enc_mu(h_enc)\n",
    "        log_sigma = self._enc_log_sigma(h_enc)\n",
    "        sigma = torch.exp(log_sigma)\n",
    "        std_z = torch.from_numpy(np.random.normal(0, 1, size=sigma.size())).float()\n",
    "        \n",
    "        self.z_mean = mu\n",
    "        self.z_sigma = sigma\n",
    "        return mu + sigma * Variable(std_z, requires_grad=False)  # Reparameterization trick\n",
    "    \n",
    "    def forward(self, state):\n",
    "        h_enc = self.encoder(state)\n",
    "        z = self._sample_latent(h_enc)\n",
    "        return self.decoder(z)\n",
    "    \n",
    "def latent_loss(z_mean, z_stddev):\n",
    "    mean_sq = z_mean * z_mean\n",
    "    stddev_sq = z_stddev * z_stddev\n",
    "    return 0.5 * torch.mean(mean_sq + stddev_sq - torch.log(stddev_sq) - 1)\n",
    "\n",
    "# input_dim = 57 * 50\n",
    "batch_size = 32\n",
    "encoder = Encoder(1000, 1000)\n",
    "decoder = Decoder(64, 1000, input_dim)\n",
    "vae = VAE(encoder, decoder)\n",
    "criterion = nn.MSELoss()\n",
    "\n",
    "optimizer = optim.Adam(vae.parameters(), lr=0.001)\n",
    "l = None\n",
    "for epoch in tqdm(range(1000)):\n",
    "    idxs, states, actions, returns, next_states, nonterminals, weights, masks = val_mem.sample(32)\n",
    "    inputs =  Variable(states[:,0,14:-13,17:-17].reshape((32,1,57,50)).cpu())\n",
    "    optimizer.zero_grad()\n",
    "    dec = vae(inputs)\n",
    "    ll = latent_loss(vae.z_mean, vae.z_sigma)\n",
    "    loss = criterion(dec, inputs) + ll\n",
    "    loss.backward()\n",
    "    optimizer.step()\n",
    "    l = loss.item()\n",
    "    \n",
    "    print(epoch, l)\n",
    "    \n",
    "plt.imshow(vae(inputs).data[0].numpy().reshape(57, 50), cmap='gray')\n",
    "plt.show(block=True)"
   ]
  },
  {
   "cell_type": "code",
   "execution_count": 118,
   "metadata": {},
   "outputs": [
    {
     "data": {
      "text/plain": [
       "<matplotlib.colorbar.Colorbar at 0x7f9f623b3ef0>"
      ]
     },
     "execution_count": 118,
     "metadata": {},
     "output_type": "execute_result"
    },
    {
     "data": {
      "image/png": "[encoded data removed]",
      "text/plain": [
       "<Figure size 432x288 with 2 Axes>"
      ]
     },
     "metadata": {
      "needs_background": "light"
     },
     "output_type": "display_data"
    }
   ],
   "source": [
    "plt.imshow(vae(inputs).data[0].numpy().reshape(57, 50), cmap='gray')\n",
    "plt.colorbar()"
   ]
  },
  {
   "cell_type": "code",
   "execution_count": 115,
   "metadata": {},
   "outputs": [
    {
     "data": {
      "text/plain": [
       "<matplotlib.image.AxesImage at 0x7f9f60d45b38>"
      ]
     },
     "execution_count": 115,
     "metadata": {},
     "output_type": "execute_result"
    },
    {
     "data": {
      "image/png": "[encoded data removed]",
      "text/plain": [
       "<Figure size 432x288 with 1 Axes>"
      ]
     },
     "metadata": {
      "needs_background": "light"
     },
     "output_type": "display_data"
    }
   ],
   "source": [
    "plt.imshow(inputs.data[1].numpy().reshape(57,50))"
   ]
  },
  {
   "cell_type": "code",
   "execution_count": null,
   "metadata": {},
   "outputs": [],
   "source": [
    "plt.imshow(vae(inputs).data[15].numpy().reshape(57, 50), cmap='gray')\n",
    "plt.colorbar()"
   ]
  },
  {
   "cell_type": "code",
   "execution_count": null,
   "metadata": {},
   "outputs": [],
   "source": [
    "plt.imshow(inputs.data[15].numpy().reshape(57,50))"
   ]
  },
  {
   "cell_type": "code",
   "execution_count": null,
   "metadata": {},
   "outputs": [],
   "source": [
    "plt.imshow(inputs.data[20].numpy().reshape(57,50))"
   ]
  },
  {
   "cell_type": "code",
   "execution_count": null,
   "metadata": {},
   "outputs": [],
   "source": [
    "plt.plot(vae.encoder(inputs).data[30].numpy())"
   ]
  },
  {
   "cell_type": "code",
   "execution_count": null,
   "metadata": {},
   "outputs": [],
   "source": [
    "plt.imshow(inputs.data[10].numpy().reshape(57,50))"
   ]
  },
  {
   "cell_type": "code",
   "execution_count": null,
   "metadata": {},
   "outputs": [],
   "source": [
    "plt.plot(vae.encoder(inputs).data[10].numpy()-vae.encoder(inputs).data[30].numpy())"
   ]
  },
  {
   "cell_type": "code",
   "execution_count": null,
   "metadata": {},
   "outputs": [],
   "source": [
    "h_enc = vae.encoder(inputs)\n",
    "latent = vae._sample_latent(h_enc).cpu().detach().numpy()"
   ]
  },
  {
   "cell_type": "code",
   "execution_count": null,
   "metadata": {},
   "outputs": [],
   "source": [
    "from sklearn.manifold import TSNE"
   ]
  },
  {
   "cell_type": "code",
   "execution_count": null,
   "metadata": {},
   "outputs": [],
   "source": [
    "embed = TSNE(perplexity=5)\n",
    "tsne_embedding = embed.fit_transform(latent)\n",
    "plt.scatter(tsne_embedding[:,0], tsne_embedding[:,1])"
   ]
  },
  {
   "cell_type": "code",
   "execution_count": null,
   "metadata": {},
   "outputs": [],
   "source": [
    "points = tsne_embedding\n",
    "plt.figure(figsize=(10,10))\n",
    "\n",
    "for i in range(len(points)):\n",
    "    x = points[i][0]\n",
    "    y = points[i][1]\n",
    "    plt.plot(x, y, 'bo')\n",
    "    plt.text(x * (1 + 0.01), y * (1 + 0.01) , i, fontsize=12)"
   ]
  },
  {
   "cell_type": "code",
   "execution_count": null,
   "metadata": {},
   "outputs": [],
   "source": [
    "plt.imshow(inputs.data[16].numpy().reshape(57,50))"
   ]
  },
  {
   "cell_type": "code",
   "execution_count": null,
   "metadata": {},
   "outputs": [],
   "source": [
    "plt.imshow(inputs.data[14].numpy().reshape(57,50))"
   ]
  },
  {
   "cell_type": "code",
   "execution_count": null,
   "metadata": {},
   "outputs": [],
   "source": [
    "plt.imshow(inputs.data[5].numpy().reshape(57,50))"
   ]
  },
  {
   "cell_type": "markdown",
   "metadata": {},
   "source": [
    "# PCA Attempt"
   ]
  },
  {
   "cell_type": "code",
   "execution_count": 5,
   "metadata": {},
   "outputs": [],
   "source": [
    "total_dataset = []\n",
    "\n",
    "for state in state_list:\n",
    "    check = state.cpu().detach().numpy()\n",
    "    total_dataset.append(check)"
   ]
  },
  {
   "cell_type": "code",
   "execution_count": 6,
   "metadata": {},
   "outputs": [],
   "source": [
    "total_dataset = np.array(total_dataset)"
   ]
  },
  {
   "cell_type": "code",
   "execution_count": 7,
   "metadata": {},
   "outputs": [
    {
     "data": {
      "text/plain": [
       "(11994, 4, 84, 84)"
      ]
     },
     "execution_count": 7,
     "metadata": {},
     "output_type": "execute_result"
    }
   ],
   "source": [
    "total_dataset.shape"
   ]
  },
  {
   "cell_type": "code",
   "execution_count": 8,
   "metadata": {},
   "outputs": [],
   "source": [
    "reshaped_dataset = np.reshape(total_dataset[:6000,0,:,:],(6000,84*84))"
   ]
  },
  {
   "cell_type": "code",
   "execution_count": 9,
   "metadata": {},
   "outputs": [],
   "source": [
    "from sklearn.decomposition import PCA"
   ]
  },
  {
   "cell_type": "code",
   "execution_count": 10,
   "metadata": {},
   "outputs": [],
   "source": [
    "pca_embed = PCA()"
   ]
  },
  {
   "cell_type": "code",
   "execution_count": 11,
   "metadata": {},
   "outputs": [
    {
     "data": {
      "text/plain": [
       "array([[-0.01253174, -0.01253174, -0.01253174, ..., -0.01253174,\n",
       "        -0.01253174, -0.01253174],\n",
       "       [-0.01253174, -0.01253174, -0.01253174, ..., -0.01253174,\n",
       "        -0.01253174, -0.01253174],\n",
       "       [-0.01253174, -0.01253174, -0.01253174, ..., -0.01253174,\n",
       "        -0.01253174, -0.01253174],\n",
       "       ...,\n",
       "       [-0.01253174, -0.01253174, -0.01253174, ..., -0.01253174,\n",
       "        -0.01253174, -0.01253174],\n",
       "       [-0.01253174, -0.01253174, -0.01253174, ..., -0.01253174,\n",
       "        -0.01253174, -0.01253174],\n",
       "       [-0.01253174, -0.01253174, -0.01253174, ..., -0.01253174,\n",
       "        -0.01253174, -0.01253174]], dtype=float32)"
      ]
     },
     "execution_count": 11,
     "metadata": {},
     "output_type": "execute_result"
    }
   ],
   "source": [
    "reshaped_dataset - reshaped_dataset.mean()"
   ]
  },
  {
   "cell_type": "code",
   "execution_count": 12,
   "metadata": {},
   "outputs": [
    {
     "data": {
      "text/plain": [
       "PCA()"
      ]
     },
     "execution_count": 12,
     "metadata": {},
     "output_type": "execute_result"
    }
   ],
   "source": [
    "pca_embed.fit(reshaped_dataset)"
   ]
  },
  {
   "cell_type": "code",
   "execution_count": 13,
   "metadata": {},
   "outputs": [
    {
     "data": {
      "text/plain": [
       "[<matplotlib.lines.Line2D at 0x7f643cf328d0>]"
      ]
     },
     "execution_count": 13,
     "metadata": {},
     "output_type": "execute_result"
    },
    {
     "data": {
      "image/png": "[encoded data removed]",
      "text/plain": [
       "<Figure size 432x288 with 1 Axes>"
      ]
     },
     "metadata": {
      "needs_background": "light"
     },
     "output_type": "display_data"
    }
   ],
   "source": [
    "plt.plot(pca_embed.explained_variance_)"
   ]
  },
  {
   "cell_type": "code",
   "execution_count": 14,
   "metadata": {},
   "outputs": [
    {
     "data": {
      "text/plain": [
       "<matplotlib.image.AxesImage at 0x7f643ce2f8d0>"
      ]
     },
     "execution_count": 14,
     "metadata": {},
     "output_type": "execute_result"
    },
    {
     "data": {
      "image/png": "[encoded data removed]",
      "text/plain": [
       "<Figure size 432x288 with 1 Axes>"
      ]
     },
     "metadata": {
      "needs_background": "light"
     },
     "output_type": "display_data"
    }
   ],
   "source": [
    "plt.imshow(np.reshape(pca_embed.components_[10], (84,84)))"
   ]
  },
  {
   "cell_type": "code",
   "execution_count": 15,
   "metadata": {},
   "outputs": [
    {
     "data": {
      "text/plain": [
       "(11994, 4, 84, 84)"
      ]
     },
     "execution_count": 15,
     "metadata": {},
     "output_type": "execute_result"
    }
   ],
   "source": [
    "total_dataset.shape"
   ]
  },
  {
   "cell_type": "code",
   "execution_count": 16,
   "metadata": {},
   "outputs": [
    {
     "data": {
      "text/plain": [
       "<matplotlib.image.AxesImage at 0x7f643cdaaef0>"
      ]
     },
     "execution_count": 16,
     "metadata": {},
     "output_type": "execute_result"
    },
    {
     "data": {
      "image/png": "[encoded data removed]",
      "text/plain": [
       "<Figure size 432x288 with 1 Axes>"
      ]
     },
     "metadata": {
      "needs_background": "light"
     },
     "output_type": "display_data"
    }
   ],
   "source": [
    "plt.imshow(total_dataset[40,0])"
   ]
  },
  {
   "cell_type": "code",
   "execution_count": 17,
   "metadata": {},
   "outputs": [],
   "source": [
    "results = pca_embed.transform(reshaped_dataset)"
   ]
  },
  {
   "cell_type": "code",
   "execution_count": 18,
   "metadata": {},
   "outputs": [
    {
     "data": {
      "text/plain": [
       "(6000, 7056)"
      ]
     },
     "execution_count": 18,
     "metadata": {},
     "output_type": "execute_result"
    }
   ],
   "source": [
    "reshaped_dataset.shape"
   ]
  },
  {
   "cell_type": "code",
   "execution_count": 19,
   "metadata": {},
   "outputs": [
    {
     "data": {
      "text/plain": [
       "(6000, 6000)"
      ]
     },
     "execution_count": 19,
     "metadata": {},
     "output_type": "execute_result"
    }
   ],
   "source": [
    "results.shape"
   ]
  },
  {
   "cell_type": "code",
   "execution_count": 20,
   "metadata": {},
   "outputs": [],
   "source": [
    "reprojected_images = np.dot(results[:,2:100], pca_embed.components_[2:100])"
   ]
  },
  {
   "cell_type": "code",
   "execution_count": 119,
   "metadata": {},
   "outputs": [
    {
     "data": {
      "text/plain": [
       "<matplotlib.image.AxesImage at 0x7f63c6e3ecf8>"
      ]
     },
     "execution_count": 119,
     "metadata": {},
     "output_type": "execute_result"
    },
    {
     "data": {
      "image/png": "[encoded data removed]",
      "text/plain": [
       "<Figure size 432x288 with 1 Axes>"
      ]
     },
     "metadata": {
      "needs_background": "light"
     },
     "output_type": "display_data"
    }
   ],
   "source": [
    "plt.imshow(np.reshape(reprojected_images[0], (84,84)))"
   ]
  },
  {
   "cell_type": "code",
   "execution_count": 22,
   "metadata": {},
   "outputs": [
    {
     "data": {
      "text/plain": [
       "<matplotlib.image.AxesImage at 0x7f643c50a0b8>"
      ]
     },
     "execution_count": 22,
     "metadata": {},
     "output_type": "execute_result"
    },
    {
     "data": {
      "image/png": "[encoded data removed]",
      "text/plain": [
       "<Figure size 432x288 with 1 Axes>"
      ]
     },
     "metadata": {
      "needs_background": "light"
     },
     "output_type": "display_data"
    }
   ],
   "source": [
    "plt.imshow(total_dataset[20,0])"
   ]
  },
  {
   "cell_type": "code",
   "execution_count": 23,
   "metadata": {},
   "outputs": [],
   "source": [
    "from sklearn.manifold import TSNE"
   ]
  },
  {
   "cell_type": "code",
   "execution_count": 24,
   "metadata": {},
   "outputs": [],
   "source": [
    "embed = TSNE()"
   ]
  },
  {
   "cell_type": "code",
   "execution_count": 25,
   "metadata": {},
   "outputs": [],
   "source": [
    "tsne_embedding = embed.fit_transform(results[:300,:100])"
   ]
  },
  {
   "cell_type": "code",
   "execution_count": 26,
   "metadata": {},
   "outputs": [
    {
     "data": {
      "text/plain": [
       "<matplotlib.collections.PathCollection at 0x7f643c142b38>"
      ]
     },
     "execution_count": 26,
     "metadata": {},
     "output_type": "execute_result"
    },
    {
     "data": {
      "image/png": "[encoded data removed]",
      "text/plain": [
       "<Figure size 432x288 with 1 Axes>"
      ]
     },
     "metadata": {
      "needs_background": "light"
     },
     "output_type": "display_data"
    }
   ],
   "source": [
    "plt.scatter(tsne_embedding[:,0], tsne_embedding[:,1])"
   ]
  },
  {
   "cell_type": "code",
   "execution_count": 27,
   "metadata": {},
   "outputs": [],
   "source": [
    "mask = np.logical_and((tsne_embedding[:,0]<0),(tsne_embedding[:,1]>20))"
   ]
  },
  {
   "cell_type": "code",
   "execution_count": 28,
   "metadata": {},
   "outputs": [],
   "source": [
    "check = total_dataset[:300][mask]"
   ]
  },
  {
   "cell_type": "code",
   "execution_count": 29,
   "metadata": {},
   "outputs": [],
   "source": [
    "for im in check[:20,0,:,:]:\n",
    "    plt.figure()\n",
    "    plt.imshow(im)"
   ]
  },
  {
   "cell_type": "code",
   "execution_count": 120,
   "metadata": {},
   "outputs": [],
   "source": [
    "from sklearn.cluster import KMeans"
   ]
  },
  {
   "cell_type": "code",
   "execution_count": 149,
   "metadata": {},
   "outputs": [],
   "source": [
    "clusterer = KMeans(n_clusters=5)"
   ]
  },
  {
   "cell_type": "code",
   "execution_count": 150,
   "metadata": {},
   "outputs": [
    {
     "data": {
      "text/plain": [
       "KMeans(n_clusters=5)"
      ]
     },
     "execution_count": 150,
     "metadata": {},
     "output_type": "execute_result"
    }
   ],
   "source": [
    "clusterer.fit(results[:,:100])"
   ]
  },
  {
   "cell_type": "code",
   "execution_count": 152,
   "metadata": {},
   "outputs": [],
   "source": [
    "labels = clusterer.predict(results[:,:100])"
   ]
  },
  {
   "cell_type": "code",
   "execution_count": 155,
   "metadata": {},
   "outputs": [],
   "source": [
    "tsne_embedding = embed.fit_transform(results[:,:100])"
   ]
  },
  {
   "cell_type": "code",
   "execution_count": 156,
   "metadata": {},
   "outputs": [
    {
     "data": {
      "text/plain": [
       "<matplotlib.colorbar.Colorbar at 0x7f63c6bc0cc0>"
      ]
     },
     "execution_count": 156,
     "metadata": {},
     "output_type": "execute_result"
    },
    {
     "data": {
      "image/png": "[encoded data removed]",
      "text/plain": [
       "<Figure size 432x288 with 2 Axes>"
      ]
     },
     "metadata": {
      "needs_background": "light"
     },
     "output_type": "display_data"
    }
   ],
   "source": [
    "plt.title(\"TSNE Embedding of States colored by Cluster Label\")\n",
    "plt.scatter(tsne_embedding[:,0], tsne_embedding[:,1],c=labels)\n",
    "plt.colorbar()"
   ]
  },
  {
   "cell_type": "code",
   "execution_count": 157,
   "metadata": {},
   "outputs": [
    {
     "data": {
      "text/plain": [
       "609"
      ]
     },
     "execution_count": 157,
     "metadata": {},
     "output_type": "execute_result"
    }
   ],
   "source": [
    "np.sum(labels==0)"
   ]
  },
  {
   "cell_type": "code",
   "execution_count": 158,
   "metadata": {},
   "outputs": [
    {
     "data": {
      "text/plain": [
       "4855"
      ]
     },
     "execution_count": 158,
     "metadata": {},
     "output_type": "execute_result"
    }
   ],
   "source": [
    "np.sum(labels==1)"
   ]
  },
  {
   "cell_type": "code",
   "execution_count": 159,
   "metadata": {},
   "outputs": [
    {
     "data": {
      "text/plain": [
       "174"
      ]
     },
     "execution_count": 159,
     "metadata": {},
     "output_type": "execute_result"
    }
   ],
   "source": [
    "np.sum(labels==2)"
   ]
  },
  {
   "cell_type": "code",
   "execution_count": 160,
   "metadata": {},
   "outputs": [
    {
     "data": {
      "text/plain": [
       "176"
      ]
     },
     "execution_count": 160,
     "metadata": {},
     "output_type": "execute_result"
    }
   ],
   "source": [
    "np.sum(labels==3)"
   ]
  },
  {
   "cell_type": "code",
   "execution_count": 161,
   "metadata": {},
   "outputs": [
    {
     "data": {
      "text/plain": [
       "186"
      ]
     },
     "execution_count": 161,
     "metadata": {},
     "output_type": "execute_result"
    }
   ],
   "source": [
    "np.sum(labels==4)"
   ]
  },
  {
   "cell_type": "code",
   "execution_count": 131,
   "metadata": {},
   "outputs": [],
   "source": [
    "keep_mask = labels!=1"
   ]
  },
  {
   "cell_type": "code",
   "execution_count": 132,
   "metadata": {},
   "outputs": [
    {
     "data": {
      "text/plain": [
       "168"
      ]
     },
     "execution_count": 132,
     "metadata": {},
     "output_type": "execute_result"
    }
   ],
   "source": [
    "np.sum(labels==2)"
   ]
  },
  {
   "cell_type": "code",
   "execution_count": 106,
   "metadata": {},
   "outputs": [],
   "source": [
    "keep_mask = labels!=2"
   ]
  },
  {
   "cell_type": "code",
   "execution_count": 107,
   "metadata": {},
   "outputs": [
    {
     "data": {
      "text/plain": [
       "247"
      ]
     },
     "execution_count": 107,
     "metadata": {},
     "output_type": "execute_result"
    }
   ],
   "source": [
    "np.sum(labels==3)"
   ]
  },
  {
   "cell_type": "code",
   "execution_count": null,
   "metadata": {},
   "outputs": [],
   "source": [
    "for i in range(50):\n",
    "    if labels[i]==2:\n",
    "        plt.figure()\n",
    "        plt.imshow(total_dataset[i,0])\n",
    "        plt.colorbar()"
   ]
  },
  {
   "cell_type": "code",
   "execution_count": null,
   "metadata": {},
   "outputs": [],
   "source": [
    "for i in range(100):\n",
    "    if labels[i]==4:\n",
    "        plt.figure()\n",
    "        plt.imshow(total_dataset[i,0])"
   ]
  },
  {
   "cell_type": "code",
   "execution_count": 162,
   "metadata": {},
   "outputs": [],
   "source": [
    "centers = np.array(clusterer.cluster_centers_)"
   ]
  },
  {
   "cell_type": "markdown",
   "metadata": {},
   "source": [
    " ## Pickling"
   ]
  },
  {
   "cell_type": "code",
   "execution_count": 163,
   "metadata": {},
   "outputs": [],
   "source": [
    "import pickle as pk"
   ]
  },
  {
   "cell_type": "code",
   "execution_count": 164,
   "metadata": {},
   "outputs": [],
   "source": [
    "pk.dump(pca_embed, open(\"asteroid_pca.pkl\",'wb'))"
   ]
  },
  {
   "cell_type": "code",
   "execution_count": 165,
   "metadata": {},
   "outputs": [],
   "source": [
    "np.save('asteroid_centers',centers)"
   ]
  },
  {
   "cell_type": "markdown",
   "metadata": {},
   "source": [
    "# Open"
   ]
  },
  {
   "cell_type": "code",
   "execution_count": 166,
   "metadata": {},
   "outputs": [],
   "source": [
    "open_check = np.load('asteroid_centers.npy')"
   ]
  },
  {
   "cell_type": "code",
   "execution_count": 167,
   "metadata": {},
   "outputs": [
    {
     "data": {
      "text/plain": [
       "array([[ 1.89694631e+00,  2.73783827e+00,  6.44776642e-01,\n",
       "        -1.27750695e-01, -9.16097127e-03, -7.55506456e-02,\n",
       "         1.60227939e-01, -8.45870897e-02, -3.86857567e-03,\n",
       "         2.53876925e-01, -9.45066959e-02,  7.30414642e-03,\n",
       "        -2.84435432e-02,  6.08587861e-02,  8.78314674e-03,\n",
       "         3.39920670e-02,  2.50400990e-01, -3.67035829e-02,\n",
       "         5.91393281e-03,  7.21597821e-02,  1.24483779e-02,\n",
       "        -5.88255599e-02, -5.15788421e-02, -2.18850821e-02,\n",
       "        -2.31881700e-02, -1.66248176e-02,  6.88622817e-02,\n",
       "        -7.07954243e-02,  8.37790743e-02, -7.29119703e-02,\n",
       "         2.31634304e-02, -8.28836521e-04,  2.12310459e-02,\n",
       "         1.49587579e-02,  2.82639489e-02,  5.28898723e-02,\n",
       "        -1.36440024e-02, -4.80747260e-02,  5.82023412e-02,\n",
       "        -2.79918499e-02, -6.50757225e-03,  1.37559082e-02,\n",
       "        -1.79925133e-02,  5.52494898e-02,  3.33512062e-03,\n",
       "         7.78387720e-03, -5.47252176e-03, -2.20181141e-03,\n",
       "        -1.21971325e-03, -2.95788087e-02,  1.39612341e-02,\n",
       "         2.24531572e-02,  8.28797184e-03, -6.78771362e-03,\n",
       "        -2.42451038e-02,  2.74936599e-03,  6.96652988e-03,\n",
       "        -9.81356949e-03,  5.46987634e-03, -1.16914166e-02,\n",
       "        -1.26064820e-02,  7.48042716e-04,  6.34833844e-03,\n",
       "        -2.25060340e-03,  2.52877246e-04, -4.22651588e-04,\n",
       "         1.18361611e-03,  1.09483423e-02, -4.55885474e-03,\n",
       "        -9.93890781e-03,  9.42974351e-03, -1.55872479e-02,\n",
       "         3.81784840e-03,  5.71647251e-04,  1.39531372e-02,\n",
       "         2.59714155e-03,  8.92589614e-03,  7.41017796e-03,\n",
       "        -4.39504191e-04, -2.93906173e-03,  1.08692208e-02,\n",
       "         7.80606642e-03, -4.21586726e-03, -9.95546114e-04,\n",
       "         3.30397580e-03, -1.04874605e-03, -1.94162559e-02,\n",
       "         1.34838221e-03, -2.07728781e-02,  8.87710508e-03,\n",
       "        -2.78338208e-03, -3.36987711e-02,  2.03465042e-03,\n",
       "         1.68275032e-02, -1.07165584e-02,  1.64779392e-03,\n",
       "        -1.99863501e-03,  4.62634314e-04, -7.73011101e-03,\n",
       "         1.23528913e-02],\n",
       "       [-5.58475733e-01, -1.17086187e-01, -4.92678955e-02,\n",
       "        -5.62595390e-03,  5.87386591e-03,  1.07800914e-02,\n",
       "        -8.34011845e-03, -1.03742769e-02, -2.45637796e-03,\n",
       "         2.75657214e-02,  2.99851177e-03, -4.67194186e-04,\n",
       "         9.07391682e-03, -6.92394935e-03, -3.45809131e-05,\n",
       "        -2.11863057e-03, -9.31965001e-03,  2.58429861e-03,\n",
       "        -1.98994623e-03,  4.43955371e-03, -1.36606470e-02,\n",
       "        -4.59219981e-03, -2.22128583e-03,  3.84279934e-04,\n",
       "        -1.90854375e-03,  3.27807805e-03, -9.90596227e-03,\n",
       "         1.96092185e-02, -3.09695932e-03,  1.07923960e-02,\n",
       "        -1.28633855e-02,  3.13232699e-03,  1.45798260e-02,\n",
       "         9.38167050e-03, -1.20124659e-02, -6.36638887e-03,\n",
       "         1.92180485e-03, -2.37572449e-03, -8.62907059e-03,\n",
       "         5.44586778e-03,  1.40344643e-03, -4.95308824e-03,\n",
       "         2.42317794e-03, -6.28952868e-03,  2.12540315e-03,\n",
       "        -2.59727472e-03,  4.97791963e-03, -9.57252749e-04,\n",
       "         2.85247457e-03,  2.04775110e-03, -1.26713319e-04,\n",
       "        -1.92446006e-03, -1.07666408e-03,  2.43794173e-03,\n",
       "        -4.85090801e-04,  5.44999275e-05,  3.13532277e-04,\n",
       "         3.26633477e-03, -2.49036541e-03,  2.73401826e-03,\n",
       "         1.08072325e-03,  6.75284304e-04, -2.05848017e-03,\n",
       "         1.22584112e-03,  1.02890586e-03,  2.48486089e-04,\n",
       "        -5.29887679e-04, -3.13593820e-03,  1.10737584e-03,\n",
       "        -6.09326176e-04, -8.50837736e-04,  2.20211595e-03,\n",
       "         1.37383991e-03,  1.61135383e-03, -1.66881806e-03,\n",
       "        -1.19078264e-03, -1.01048127e-03, -3.25380662e-03,\n",
       "        -7.72722764e-04,  1.42333109e-03, -7.20730895e-05,\n",
       "        -2.86559021e-04,  1.99332321e-03,  1.05657952e-03,\n",
       "        -1.75448938e-03,  2.42412579e-03,  5.91460476e-03,\n",
       "         3.59149533e-03,  2.69537815e-03, -2.90272594e-03,\n",
       "        -2.76147341e-03,  4.13809204e-03, -5.86267910e-04,\n",
       "        -6.32662210e-04,  1.61443022e-03, -7.35302398e-04,\n",
       "        -3.32445575e-06,  4.50292078e-04,  1.97113768e-04,\n",
       "        -3.32260667e-03],\n",
       "       [ 3.12414289e+00, -2.47790289e+00, -1.27315116e+00,\n",
       "         4.01356727e-01,  7.00357199e-01, -1.65047228e+00,\n",
       "         2.64990592e+00, -2.55126983e-01, -7.80575871e-01,\n",
       "         1.85329512e-01,  2.59701401e-01, -1.53263673e-01,\n",
       "         8.75484943e-01, -3.11469972e-01, -1.99794456e-01,\n",
       "         5.21569431e-01, -3.32382858e-01,  1.18604349e-02,\n",
       "        -3.07590012e-02, -5.84517512e-03,  1.09553978e-01,\n",
       "        -1.45362765e-02,  3.19850519e-02,  5.76232448e-02,\n",
       "         1.75489262e-01, -1.49052382e-01,  6.22660853e-02,\n",
       "        -2.13386044e-01, -2.44645700e-02, -1.33983893e-02,\n",
       "         8.83206427e-02, -5.03649153e-02, -1.57243133e-01,\n",
       "        -1.54505491e-01, -1.23486938e-02,  6.22415878e-02,\n",
       "        -6.59368709e-02, -5.67612238e-02, -5.47510535e-02,\n",
       "        -6.76651075e-02, -5.50936908e-03, -1.58614404e-02,\n",
       "        -1.18280286e-02,  4.32578996e-02, -3.09655275e-02,\n",
       "         5.44478297e-02, -1.93206761e-02, -2.20224913e-02,\n",
       "         2.89391559e-02, -4.16788720e-02, -5.69654182e-02,\n",
       "         9.16873198e-03,  3.13883685e-02, -3.48309265e-03,\n",
       "         2.52959207e-02, -1.13517931e-02,  4.87482809e-02,\n",
       "        -1.89977586e-02,  3.90408188e-02,  1.09933913e-02,\n",
       "        -1.84764154e-02,  9.71958321e-03, -1.61336120e-02,\n",
       "        -2.26454660e-02, -3.50479819e-02,  2.39493567e-02,\n",
       "        -2.42503192e-02,  1.51937939e-02,  6.27139490e-03,\n",
       "        -4.33582887e-02, -1.43316425e-02,  4.05388810e-02,\n",
       "         3.33029144e-02, -1.74008366e-02,  2.67678946e-02,\n",
       "         3.03669814e-02,  5.34581859e-03,  8.60822666e-03,\n",
       "         4.43675704e-02, -1.55259687e-02,  6.49372861e-03,\n",
       "         1.92849024e-03, -2.63082497e-02, -2.86621158e-03,\n",
       "         3.02678999e-02, -4.68410887e-02, -3.03808302e-02,\n",
       "        -2.26771887e-02,  2.59304536e-03, -1.48548977e-02,\n",
       "         4.14245389e-02, -2.97886860e-02, -6.41069748e-03,\n",
       "        -3.63609269e-02, -1.77245159e-02,  3.78143676e-02,\n",
       "        -1.68619175e-02,  2.22478583e-02,  2.85991817e-03,\n",
       "         3.90178896e-02],\n",
       "       [ 2.85454559e+00, -1.81553110e-01, -3.14325309e+00,\n",
       "         7.35516310e-01, -4.50820774e-01,  8.50508869e-01,\n",
       "        -1.80852807e+00,  7.26547778e-01,  5.22334337e-01,\n",
       "        -1.53019595e+00,  2.24448368e-01,  1.40043050e-01,\n",
       "        -7.07071781e-01,  1.20996479e-02,  1.19713657e-01,\n",
       "        -1.94395706e-01, -4.64635283e-01,  9.37318355e-02,\n",
       "        -3.79509963e-02, -5.65344036e-01, -5.08517027e-02,\n",
       "         1.24361672e-01,  2.73844540e-01, -9.67379510e-02,\n",
       "        -7.94728473e-02, -1.50909657e-02, -6.05751537e-02,\n",
       "         4.09982074e-03, -1.67334199e-01,  5.86695187e-02,\n",
       "         1.13115318e-01, -5.22937402e-02, -6.81557581e-02,\n",
       "         6.96318895e-02,  2.66685076e-02,  5.34499809e-02,\n",
       "         1.36644514e-02,  1.70566052e-01, -3.11560836e-02,\n",
       "        -1.75805464e-02,  2.45255772e-02,  7.51221180e-02,\n",
       "        -1.71432421e-02,  3.21258567e-02,  5.15487716e-02,\n",
       "         2.95342263e-02, -7.96340480e-02,  2.29500094e-03,\n",
       "        -6.96142688e-02,  3.59729268e-02, -2.94720288e-02,\n",
       "        -6.88719898e-02, -5.56429438e-02, -4.79781553e-02,\n",
       "         6.93105534e-02, -2.13252511e-02, -2.63855290e-02,\n",
       "        -3.94888334e-02, -1.20185228e-04, -4.11244407e-02,\n",
       "         2.86803506e-02,  4.03787382e-03,  4.19200733e-02,\n",
       "         1.01509215e-02,  1.02653718e-02, -1.20080803e-02,\n",
       "         2.76740715e-02,  3.02809700e-02, -1.37960315e-02,\n",
       "         4.71621417e-02, -5.08993026e-03, -3.28535959e-02,\n",
       "        -8.26759487e-02,  1.89853273e-02, -1.59874558e-02,\n",
       "         5.25951153e-03,  2.75862496e-02,  2.67026164e-02,\n",
       "        -1.32296998e-02,  1.18186430e-03, -3.21882926e-02,\n",
       "         1.70052948e-03, -4.40467568e-03,  2.17455421e-02,\n",
       "         1.99933052e-02, -4.01313119e-02, -2.74897367e-02,\n",
       "        -2.69628242e-02,  2.48366315e-02,  3.84061523e-02,\n",
       "         1.93177704e-02,  2.26354077e-02,  2.00190190e-02,\n",
       "         2.70084590e-02,  5.07701859e-02, -3.03362356e-03,\n",
       "        -9.62190982e-03, -5.50276693e-03,  1.12418076e-02,\n",
       "        -5.19177597e-03],\n",
       "       [ 2.74271035e+00, -3.41816711e+00,  3.34010029e+00,\n",
       "        -5.06304264e-01, -3.51910979e-01,  7.05196381e-01,\n",
       "        -1.07455277e+00,  9.89183635e-02,  3.12739998e-01,\n",
       "        -2.76199996e-01, -2.24168450e-01, -8.56170896e-04,\n",
       "        -2.93656588e-01,  2.61381656e-01,  4.57789041e-02,\n",
       "        -3.59951705e-01,  1.74042627e-01, -4.70863022e-02,\n",
       "         9.72920209e-02,  1.88193932e-01,  2.61550307e-01,\n",
       "         2.08401337e-01, -6.21815175e-02,  9.92555022e-02,\n",
       "         3.67644951e-02,  1.22578800e-01,  3.21817286e-02,\n",
       "        -8.43126029e-02, -1.22504663e-02, -8.59559029e-02,\n",
       "         7.02651292e-02,  1.75534673e-02, -2.38480121e-01,\n",
       "        -2.15192616e-01,  2.07251906e-01, -1.15839124e-01,\n",
       "         4.32820283e-02,  1.11097991e-01,  1.15354650e-01,\n",
       "         2.94316113e-02, -3.33610848e-02,  2.79825851e-02,\n",
       "         2.29632854e-02, -8.76960158e-02, -8.62401873e-02,\n",
       "        -3.66032794e-02, -1.86001975e-02,  5.06656393e-02,\n",
       "        -3.16604488e-02,  4.83773798e-02,  3.87844481e-02,\n",
       "         3.32848020e-02,  2.42349729e-02,  7.23391259e-03,\n",
       "         2.79102917e-03,  2.03766637e-02, -5.16374484e-02,\n",
       "         1.97790051e-03,  1.06915543e-02, -4.44838172e-03,\n",
       "         3.20719392e-03, -3.30351554e-02,  8.37571267e-03,\n",
       "        -1.30468663e-02, -4.61637927e-03, -1.61434468e-02,\n",
       "         6.49705715e-03,  3.10530863e-03, -6.79788133e-03,\n",
       "         4.43929955e-02,  9.53899045e-03, -1.32740606e-02,\n",
       "        -1.24382589e-03, -4.55864184e-02, -1.20014325e-02,\n",
       "        -1.07929548e-02, -3.38967964e-02,  2.73399949e-02,\n",
       "        -7.40590086e-03, -1.40483892e-02, -9.40665137e-03,\n",
       "        -2.14600302e-02, -9.33938473e-03, -4.21016179e-02,\n",
       "        -1.21866977e-02,  2.19337195e-02, -3.63683142e-02,\n",
       "        -5.14368117e-02, -2.83550359e-02,  2.42515747e-02,\n",
       "         2.41457056e-02,  8.68719071e-03, -4.32048785e-03,\n",
       "        -3.01130377e-02, -3.84597965e-02, -1.86618883e-02,\n",
       "         3.15084122e-02, -2.89230458e-02,  6.88478956e-03,\n",
       "         1.47183109e-02]], dtype=float32)"
      ]
     },
     "execution_count": 167,
     "metadata": {},
     "output_type": "execute_result"
    }
   ],
   "source": [
    "open_check"
   ]
  },
  {
   "cell_type": "code",
   "execution_count": 168,
   "metadata": {},
   "outputs": [],
   "source": [
    "encoder = pk.load(open(\"asteroid_pca.pkl\",'rb'))"
   ]
  },
  {
   "cell_type": "code",
   "execution_count": 169,
   "metadata": {},
   "outputs": [
    {
     "data": {
      "text/plain": [
       "array([0., 0., 0., ..., 0., 0., 0.], dtype=float32)"
      ]
     },
     "execution_count": 169,
     "metadata": {},
     "output_type": "execute_result"
    }
   ],
   "source": [
    "state_list[0].cpu().detach().numpy().sum(axis=0).ravel()"
   ]
  },
  {
   "cell_type": "code",
   "execution_count": 170,
   "metadata": {},
   "outputs": [],
   "source": [
    "encoded_obs = encoder.transform(np.reshape(state_list[30].cpu().detach().numpy().sum(axis=0).ravel(),(1,84*84)))"
   ]
  },
  {
   "cell_type": "code",
   "execution_count": 171,
   "metadata": {},
   "outputs": [],
   "source": [
    "dists = np.array([np.linalg.norm(encoded_obs[0,:100] - cen) for cen in open_check])"
   ]
  },
  {
   "cell_type": "code",
   "execution_count": 172,
   "metadata": {},
   "outputs": [
    {
     "data": {
      "text/plain": [
       "array([ 0.9104042 ,  0.75222015, -0.3871765 ,  0.23118973, -1.5066376 ],\n",
       "      dtype=float32)"
      ]
     },
     "execution_count": 172,
     "metadata": {},
     "output_type": "execute_result"
    }
   ],
   "source": [
    "dists - dists.mean()"
   ]
  },
  {
   "cell_type": "code",
   "execution_count": 173,
   "metadata": {},
   "outputs": [],
   "source": [
    "from scipy.special import softmax"
   ]
  },
  {
   "cell_type": "code",
   "execution_count": 174,
   "metadata": {},
   "outputs": [
    {
     "data": {
      "text/plain": [
       "array([0.3672306 , 0.31350207, 0.10032443, 0.18619145, 0.03275148],\n",
       "      dtype=float32)"
      ]
     },
     "execution_count": 174,
     "metadata": {},
     "output_type": "execute_result"
    }
   ],
   "source": [
    "softmax(dists - dists.mean())"
   ]
  },
  {
   "cell_type": "markdown",
   "metadata": {},
   "source": [
    "# CNN + VAE"
   ]
  },
  {
   "cell_type": "code",
   "execution_count": null,
   "metadata": {},
   "outputs": [],
   "source": [
    "import torch\n",
    "from torch.autograd import Variable\n",
    "import numpy as np\n",
    "import torch.nn.functional as F\n",
    "import torchvision\n",
    "from torchvision import transforms\n",
    "import torch.optim as optim\n",
    "from torch import nn\n",
    "import matplotlib.pyplot as plt\n",
    "\n",
    "\n",
    "class Normal(object):\n",
    "    def __init__(self, mu, sigma, log_sigma, v=None, r=None):\n",
    "        self.mu = mu\n",
    "        self.sigma = sigma  # either stdev diagonal itself, or stdev diagonal from decomposition\n",
    "        self.logsigma = log_sigma\n",
    "        dim = mu.get_shape()\n",
    "        if v is None:\n",
    "            v = torch.FloatTensor(*dim)\n",
    "            if r is None:\n",
    "                r = torch.FloatTensor(*dim)\n",
    "                self.v = v\n",
    "                self.r = r\n",
    "                \n",
    "                \n",
    "class Encoder(torch.nn.Module):\n",
    "    def __init__(self, D_in, H, D_out):\n",
    "        super(Encoder, self).__init__()\n",
    "        self.linear1 = torch.nn.Linear(D_in, H)\n",
    "        self.linear2 = torch.nn.Linear(H, D_out)\n",
    "\n",
    "    def forward(self, x):\n",
    "        x = F.relu(self.linear1(x))\n",
    "        return F.relu(self.linear2(x))\n",
    "    \n",
    "    \n",
    "class Decoder(torch.nn.Module):\n",
    "    def __init__(self, D_in, H, D_out):\n",
    "        super(Decoder, self).__init__()\n",
    "        self.linear1 = torch.nn.Linear(D_in, H)\n",
    "        self.linear2 = torch.nn.Linear(H, D_out)\n",
    "    \n",
    "    def forward(self, x):\n",
    "        x = F.relu(self.linear1(x))\n",
    "        return F.relu(self.linear2(x))\n",
    "    \n",
    "class VAE(torch.nn.Module):\n",
    "    def __init__(self, encoder, decoder):\n",
    "        super(VAE, self).__init__()\n",
    "        self.latent_dim = 64\n",
    "        self.encoder = encoder\n",
    "        self.decoder = decoder\n",
    "        self._enc_mu = torch.nn.Linear(1000, self.latent_dim)\n",
    "        self._enc_log_sigma = torch.nn.Linear(1000, self.latent_dim)\n",
    "    \n",
    "    def _sample_latent(self, h_enc):\n",
    "        \"\"\"\n",
    "        Return the latent normal sample z ~ N(mu, sigma^2)\n",
    "        \"\"\"\n",
    "        mu = self._enc_mu(h_enc)\n",
    "        log_sigma = self._enc_log_sigma(h_enc)\n",
    "        sigma = torch.exp(log_sigma)\n",
    "        std_z = torch.from_numpy(np.random.normal(0, 1, size=sigma.size())).float()\n",
    "        \n",
    "        self.z_mean = mu\n",
    "        self.z_sigma = sigma\n",
    "        return mu + sigma * Variable(std_z, requires_grad=False)  # Reparameterization trick\n",
    "    \n",
    "    def forward(self, state):\n",
    "        h_enc = self.encoder(state)\n",
    "        z = self._sample_latent(h_enc)\n",
    "        return self.decoder(z)\n",
    "    \n",
    "    def latent_loss(z_mean, z_stddev):\n",
    "        mean_sq = z_mean * z_mean\n",
    "        stddev_sq = z_stddev * z_stddev\n",
    "        return 0.5 * torch.mean(mean_sq + stddev_sq - torch.log(stddev_sq) - 1)\n",
    "\n",
    "input_dim = 57 * 50\n",
    "batch_size = 32\n",
    "encoder = Encoder(input_dim, 1000, 1000)\n",
    "decoder = Decoder(64, 1000, input_dim)\n",
    "vae = VAE(encoder, decoder)\n",
    "criterion = nn.MSELoss()\n",
    "\n",
    "optimizer = optim.Adam(vae.parameters(), lr=0.001)\n",
    "l = None\n",
    "for epoch in tqdm(range(6000)):\n",
    "    idxs, states, actions, returns, next_states, nonterminals, weights, masks = val_mem.sample(32)\n",
    "    inputs =  Variable(states[:,:,14:-13,17:-17].reshape((32*4,57*50)).cpu())\n",
    "    optimizer.zero_grad()\n",
    "    dec = vae(inputs)\n",
    "    ll = latent_loss(vae.z_mean, vae.z_sigma)\n",
    "    loss = criterion(dec, inputs) + ll\n",
    "    loss.backward()\n",
    "    optimizer.step()\n",
    "    l = loss.item()\n",
    "    \n",
    "    print(epoch, l)\n",
    "    \n",
    "plt.imshow(vae(inputs).data[0].numpy().reshape(57, 50), cmap='gray')\n",
    "plt.show(block=True)"
   ]
  }
 ],
 "metadata": {
  "kernelspec": {
   "display_name": "Python 3",
   "language": "python",
   "name": "python3"
  },
  "language_info": {
   "codemirror_mode": {
    "name": "ipython",
    "version": 3
   },
   "file_extension": ".py",
   "mimetype": "text/x-python",
   "name": "python",
   "nbconvert_exporter": "python",
   "pygments_lexer": "ipython3",
   "version": "3.6.11"
  }
 },
 "nbformat": 4,
 "nbformat_minor": 4
}
